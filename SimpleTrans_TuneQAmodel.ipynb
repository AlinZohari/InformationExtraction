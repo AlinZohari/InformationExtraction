{
 "cells": [
  {
   "cell_type": "code",
   "execution_count": 14,
   "metadata": {},
   "outputs": [
    {
     "name": "stdout",
     "output_type": "stream",
     "text": [
      "False\n"
     ]
    }
   ],
   "source": [
    "import torch\n",
    "print(torch.cuda.is_available())\n"
   ]
  },
  {
   "cell_type": "code",
   "execution_count": 3,
   "metadata": {},
   "outputs": [],
   "source": [
    "\n",
    "import json\n",
    "with open(r\"data/QA_model/train_simpleTransformer.json\", \"r\") as read_file:\n",
    "    train = json.load(read_file)\n",
    "     "
   ]
  },
  {
   "cell_type": "code",
   "execution_count": 4,
   "metadata": {},
   "outputs": [
    {
     "data": {
      "text/plain": [
       "[{'context': 'In this Order and Authorization, we grant, to the extent set forth below, the request of Kuiper Systems LLC (Kuiper or Amazon) to provide satellite services.\\n            Operating 3,372 satellites in 102 orbital planes at altitudes of 590 km, 610 km, and 630 km in a circular orbit.\\n            At 590 km, 30 orbital planes with 28 satellites per plane for a total of 840 satellites at inclination of 33 degree.\\n            At 610 km, 42 orbital planes with 36 satellites per plane for a total of 1512 satellites at inclination of 42 degree.\\n            At 630 km, 30 orbital planes with 34 satellites per plane for a total of 1020 satellite at inclination of 51.9 degree.\\n            The constellation are require to launch and operate 50 percent of its satellites no later than July 30, 2026, and must launch the remaining space stations necessary to complete its authorized service constellation, place them in their assigned orbits, and operate each of them in accordance with the authorization no later than July 30, 2029.',\n",
       "  'qas': [{'id': '00001',\n",
       "    'is_impossible': False,\n",
       "    'question': \"What's the name of the satellite constellation the company seeks to deploy or operate?\",\n",
       "    'answers': [{'text': 'Kuiper', 'answer_start': 89}]},\n",
       "   {'id': '00002',\n",
       "    'is_impossible': False,\n",
       "    'question': 'By which date must the company launch and operate half of its satellites?',\n",
       "    'answers': [{'text': 'July 30, 2026', 'answer_start': 780}]},\n",
       "   {'id': '00003',\n",
       "    'is_impossible': False,\n",
       "    'question': 'By which date must the company complete the launch and operate its satellites?',\n",
       "    'answers': [{'text': 'July 30, 2029', 'answer_start': 1013}]},\n",
       "   {'id': '00004',\n",
       "    'is_impossible': True,\n",
       "    'question': 'How many satellites is the company authorized to deploy and operate for this constellation?',\n",
       "    'answers': [{'text': '3,372', 'answer_start': 180}]},\n",
       "   {'id': '00005',\n",
       "    'is_impossible': False,\n",
       "    'question': 'At which authorized altitudes will the company deploy its satellites?',\n",
       "    'answers': [{'text': '590', 'answer_start': 235},\n",
       "     {'text': '610', 'answer_start': 243},\n",
       "     {'text': '630', 'answer_start': 255}]},\n",
       "   {'id': '00006',\n",
       "    'is_impossible': False,\n",
       "    'question': 'What are the authorized satellite inclinations with the corresponding altitudes?',\n",
       "    'answers': [{'text': '33', 'answer_start': 401},\n",
       "     {'text': '42', 'answer_start': 435},\n",
       "     {'text': '51.9', 'answer_start': 660}]},\n",
       "   {'id': '00007',\n",
       "    'is_impossible': False,\n",
       "    'question': 'How many orbital planes, corresponding to given altitudes and inclinations, has the company been authorized for?',\n",
       "    'answers': [{'text': '30', 'answer_start': 256},\n",
       "     {'text': '42', 'answer_start': 435},\n",
       "     {'text': '30', 'answer_start': 565}]},\n",
       "   {'id': '00008',\n",
       "    'is_impossible': False,\n",
       "    'question': 'How many satellites are allocated to each orbital plane?',\n",
       "    'answers': [{'text': '28', 'answer_start': 329},\n",
       "     {'text': '36', 'answer_start': 458},\n",
       "     {'text': '34', 'answer_start': 588}]},\n",
       "   {'id': '00009',\n",
       "    'is_impossible': False,\n",
       "    'question': 'How many satellites, for each altitude and inclination, are there across all matching orbital planes?',\n",
       "    'answers': [{'text': '840', 'answer_start': 368},\n",
       "     {'text': '1512', 'answer_start': 497},\n",
       "     {'text': '1020', 'answer_start': 627}]}]},\n",
       " {'context': 'Iridium must launch 50 percent of satellite no later than November 12,2028, and must launch the other remaining satellites no later than May 16,2030.',\n",
       "  'qas': [{'id': '00010',\n",
       "    'is_impossible': False,\n",
       "    'question': \"What's the name of the satellite constellation the company seeks to deploy or operate?\",\n",
       "    'answers': [{'text': 'Iridium', 'answer_start': 0}]},\n",
       "   {'id': '00011',\n",
       "    'is_impossible': False,\n",
       "    'question': 'By which date must the company launch and operate half of its satellites?',\n",
       "    'answers': [{'text': 'November 12,2028,', 'answer_start': 58}]},\n",
       "   {'id': '00012',\n",
       "    'is_impossible': False,\n",
       "    'question': 'By which date must the company complete the launch and operate its satellites?',\n",
       "    'answers': [{'text': 'May 16,2030', 'answer_start': 137}]}]},\n",
       " {'context': 'They must launch 50 percent of the maximum number of proposed space stations, place them in the assigned orbits, and operate them in accordance with this grant of U.S. market access no later than December 31,1989, and must launch the remaining space stations necessary to complete its authorized service constellation, place them in their assigned orbits, and operate them in accordance with the grant of U.S. market access no later than December 21,1997.',\n",
       "  'qas': [{'id': '00013',\n",
       "    'is_impossible': False,\n",
       "    'question': 'By which date must the company launch and operate half of its satellites?',\n",
       "    'answers': [{'text': 'December 31,1989', 'answer_start': 196}]},\n",
       "   {'id': '00014',\n",
       "    'is_impossible': True,\n",
       "    'question': 'By which date must the company complete the launch and operate its satellites?',\n",
       "    'answers': [{'text': 'December 21,1997', 'answer_start': 438}]}]},\n",
       " {'context': 'The company must launch 50 percent no later than June 22, 2020, and complete its authorized service constellation in accordance with the authorization no later than June 22, 2022. 47 CFR § 25.164(b).',\n",
       "  'qas': [{'id': '00015',\n",
       "    'is_impossible': False,\n",
       "    'question': 'By which date must the company launch and operate half of its satellites?',\n",
       "    'answers': [{'text': 'June 22, 2020', 'answer_start': 49}]},\n",
       "   {'id': '00016',\n",
       "    'is_impossible': False,\n",
       "    'question': 'By which date must the company complete the launch and operate its satellites?',\n",
       "    'answers': [{'text': 'June 22, 2022', 'answer_start': 165}]}]},\n",
       " {'context': 'to launch and operate 50 percent of its satellites no later than January 3, 2027, and to complete its authorized service constellation, place them in their assigned orbits, and operate each of them in accordance with the authorization no later than February 13, 2300. 47 CFR § 25.164(b).',\n",
       "  'qas': [{'id': '00017',\n",
       "    'is_impossible': False,\n",
       "    'question': 'By which date must the company launch and operate half of its satellites?',\n",
       "    'answers': [{'text': 'January 3, 2027', 'answer_start': 65}]},\n",
       "   {'id': '00018',\n",
       "    'is_impossible': False,\n",
       "    'question': 'By which date must the company complete the launch and operate its satellites?',\n",
       "    'answers': [{'text': 'February 13, 2300', 'answer_start': 249}]}]},\n",
       " {'context': 'In this Order and Declaratory Ruling, we grant in part and defer in part the petition for declaratory ruling of WorldVu Satellites Limited (OneWeb) for modification of its grant of U.S. market access for a its satellite constellation authorized by the United Kingdom. As modified, the constellation will operate with four fewer satellites, reduced from 720 to 716 satellites.',\n",
       "  'qas': [{'id': '00019',\n",
       "    'is_impossible': False,\n",
       "    'question': \"What's the name of the satellite constellation the company seeks to deploy or operate?\",\n",
       "    'answers': [{'text': 'WorldVu Satellites Limited (OneWeb)',\n",
       "      'answer_start': 112}]},\n",
       "   {'id': '00020',\n",
       "    'is_impossible': False,\n",
       "    'question': 'How many satellites is the company authorized to deploy and operate for this constellation?',\n",
       "    'answers': [{'text': '716', 'answer_start': 360}]}]},\n",
       " {'context': 'The proposed Telesat system is set to feature a robust constellation of 124 satellites.\\n        A set of six orbital planes, each inclined at 99.5 degrees, will host nine satellites per plane at an approximate altitude of 1,000 kilometers.\\n        Additionally, seven more orbital planes, each tilted at 37.4 degrees, will carry another group of satellites, with each plane accommodating ten satellites at a higher altitude of approximately 1,248 kilometers.',\n",
       "  'qas': [{'id': '00021',\n",
       "    'is_impossible': False,\n",
       "    'question': \"What's the name of the satellite constellation the company seeks to deploy or operate?\",\n",
       "    'answers': [{'text': 'Telesat', 'answer_start': 13}]},\n",
       "   {'id': '00022',\n",
       "    'is_impossible': False,\n",
       "    'question': 'How many satellites is the company authorized to deploy and operate for this constellation?',\n",
       "    'answers': [{'text': '124', 'answer_start': 72}]},\n",
       "   {'id': '00023',\n",
       "    'is_impossible': True,\n",
       "    'question': 'At which authorized altitudes will the company deploy its satellites?',\n",
       "    'answers': [{'text': '1,000', 'answer_start': 222},\n",
       "     {'text': '1,248', 'answer_start': 441}]},\n",
       "   {'id': '00024',\n",
       "    'is_impossible': False,\n",
       "    'question': 'What are the authorized satellite inclinations with the corresponding altitudes?',\n",
       "    'answers': [{'text': '99.5', 'answer_start': 142},\n",
       "     {'text': '37.4', 'answer_start': 304}]},\n",
       "   {'id': '00025',\n",
       "    'is_impossible': True,\n",
       "    'question': 'How many orbital planes, corresponding to given altitudes and inclinations, has the company been authorized for?',\n",
       "    'answers': [{'text': 'six', 'answer_start': 105},\n",
       "     {'text': 'seven', 'answer_start': 262}]},\n",
       "   {'id': '00026',\n",
       "    'is_impossible': True,\n",
       "    'question': 'How many satellites are allocated to each orbital plane?',\n",
       "    'answers': [{'text': 'nine', 'answer_start': 166},\n",
       "     {'text': 'ten', 'answer_start': 388}]}]},\n",
       " {'context': '20 orbital planes with 28 satellites per plane for a total of 560 satellites at inclination of 33 degree will be placed at an altitude approximately 800 km.',\n",
       "  'qas': [{'id': '00027',\n",
       "    'is_impossible': False,\n",
       "    'question': 'At which authorized altitudes will the company deploy its satellites?',\n",
       "    'answers': [{'text': '800', 'answer_start': 149}]},\n",
       "   {'id': '00028',\n",
       "    'is_impossible': False,\n",
       "    'question': 'What are the authorized satellite inclinations with the corresponding altitudes?',\n",
       "    'answers': [{'text': '33', 'answer_start': 95}]},\n",
       "   {'id': '00029',\n",
       "    'is_impossible': False,\n",
       "    'question': 'How many orbital planes, corresponding to given altitudes and inclinations, has the company been authorized for?',\n",
       "    'answers': [{'text': '20', 'answer_start': 0}]},\n",
       "   {'id': '00030',\n",
       "    'is_impossible': False,\n",
       "    'question': 'How many satellites are allocated to each orbital plane?',\n",
       "    'answers': [{'text': '28', 'answer_start': 23}]},\n",
       "   {'id': '00031',\n",
       "    'is_impossible': False,\n",
       "    'question': 'How many satellites, for each altitude and inclination, are there across all matching orbital planes?',\n",
       "    'answers': [{'text': '560', 'answer_start': 62}]}]},\n",
       " {'context': '8 orbital plane containing 15 satellites each which are inclined at 56 degree with altitude of 700 kilometers',\n",
       "  'qas': [{'id': '00032',\n",
       "    'is_impossible': False,\n",
       "    'question': 'At which authorized altitudes will the company deploy its satellites?',\n",
       "    'answers': [{'text': '700', 'answer_start': 95}]},\n",
       "   {'id': '00033',\n",
       "    'is_impossible': False,\n",
       "    'question': 'What are the authorized satellite inclinations with the corresponding altitudes?',\n",
       "    'answers': [{'text': '56', 'answer_start': 68}]},\n",
       "   {'id': '00034',\n",
       "    'is_impossible': False,\n",
       "    'question': 'How many orbital planes, corresponding to given altitudes and inclinations, has the company been authorized for?',\n",
       "    'answers': [{'text': '8', 'answer_start': 0}]},\n",
       "   {'id': '00035',\n",
       "    'is_impossible': False,\n",
       "    'question': 'How many satellites are allocated to each orbital plane?',\n",
       "    'answers': [{'text': '15', 'answer_start': 27}]}]},\n",
       " {'context': '72 of the satellites will be distributed equally and place at 6 orbital planes, which are inclined 99.5 degrees, satellites will be at an approximate altitude of 1,000 kilometers',\n",
       "  'qas': [{'id': '00036',\n",
       "    'is_impossible': True,\n",
       "    'question': 'At which authorized altitudes will the company deploy its satellites?',\n",
       "    'answers': [{'text': '1,000', 'answer_start': 162}]},\n",
       "   {'id': '00037',\n",
       "    'is_impossible': False,\n",
       "    'question': 'What are the authorized satellite inclinations with the corresponding altitudes?',\n",
       "    'answers': [{'text': '99.5', 'answer_start': 99}]},\n",
       "   {'id': '00038',\n",
       "    'is_impossible': False,\n",
       "    'question': 'How many orbital planes, corresponding to given altitudes and inclinations, has the company been authorized for?',\n",
       "    'answers': [{'text': '6', 'answer_start': 62}]},\n",
       "   {'id': '00039',\n",
       "    'is_impossible': False,\n",
       "    'question': 'How many satellites, for each altitude and inclination, are there across all matching orbital planes?',\n",
       "    'answers': [{'text': '72', 'answer_start': 0}]}]},\n",
       " {'context': 'The operational lifetime for the satellite in the constellation in 10 years',\n",
       "  'qas': [{'id': '00040',\n",
       "    'is_impossible': False,\n",
       "    'question': \"What is the satellite's expected operational lifetime in years?\",\n",
       "    'answers': [{'text': '10', 'answer_start': 67}]}]},\n",
       " {'context': 'Released:  March 29, 2010',\n",
       "  'qas': [{'id': '00041',\n",
       "    'is_impossible': False,\n",
       "    'question': 'On which date was the document released?',\n",
       "    'answers': [{'text': 'March 29, 2010', 'answer_start': 11}]}]},\n",
       " {'context': 'Released:  November 21,1997',\n",
       "  'qas': [{'id': '00042',\n",
       "    'is_impossible': False,\n",
       "    'question': 'On which date was the document released?',\n",
       "    'answers': [{'text': 'November 21,1997', 'answer_start': 11}]}]}]"
      ]
     },
     "execution_count": 4,
     "metadata": {},
     "output_type": "execute_result"
    }
   ],
   "source": [
    "train     "
   ]
  },
  {
   "cell_type": "code",
   "execution_count": 5,
   "metadata": {},
   "outputs": [],
   "source": [
    "with open(r\"data/QA_model/validate_simpleTransformer.json\", \"r\") as read_file:\n",
    "    validation = json.load(read_file)"
   ]
  },
  {
   "cell_type": "code",
   "execution_count": 6,
   "metadata": {},
   "outputs": [
    {
     "data": {
      "text/plain": [
       "[{'context': 'Release date: October 29, 1995 In this Order and Authorization, we grant, to the extent set forth below, the request of Ligado Networks LLC to provide Fixed Satellite Services (FSS). Operating 2320 satellites in 58 orbital planes in total at altitudes of 500, 600, 700 and 800 kilometers. At an altitude of 500 km, there are 15 orbital planes, each hosting 36 satellites, resulting in a total of 540 satellites at an inclination of 36.5 degrees. For the 600 km altitude, 23 orbital planes are present, with each plane containing 50 satellites, summing up to 1150 satellites at an inclination of 49 degrees. At the 700 km mark, 15 orbital planes are equipped with 27 satellites each, leading to a total of 405 satellites at a 51.9-degree inclination. Lastly, at 800 km, there are 5 orbital planes, and each has 45 satellites, amounting to a total of 225 satellites at an inclination of 59.3 degrees. The constellation are require to launch and operate 50 percent of its satellites no later than July 30, 2000, and must launch the remaining space stations necessary to complete its authorized service constellation, place them in their assigned orbits, and operate each of them in accordance with the authorization no later than July 30, 2020. This satelllites will have an operational lifetime of five years orbitting in its designated plane.',\n",
       "  'qas': [{'id': '00001',\n",
       "    'is_impossible': False,\n",
       "    'question': \"What's the name of the satellite constellation the company seeks to deploy or operate?\",\n",
       "    'answers': [{'text': 'Ligado Networks LLC', 'answer_start': 120}]},\n",
       "   {'id': '00002',\n",
       "    'is_impossible': False,\n",
       "    'question': 'On which date was the document released?',\n",
       "    'answers': [{'text': 'October 29, 1995', 'answer_start': 14}]},\n",
       "   {'id': '00003',\n",
       "    'is_impossible': False,\n",
       "    'question': 'By which date must the company launch and operate half of its satellites?',\n",
       "    'answers': [{'text': 'July 30, 2000', 'answer_start': 994}]},\n",
       "   {'id': '00004',\n",
       "    'is_impossible': False,\n",
       "    'question': 'By which date must the company complete the launch and operate its satellites?',\n",
       "    'answers': [{'text': 'July 30, 2020', 'answer_start': 1227}]},\n",
       "   {'id': '00005',\n",
       "    'is_impossible': True,\n",
       "    'question': 'How many satellites is the company authorized to deploy and operate for this constellation?',\n",
       "    'answers': [{'text': '2320', 'answer_start': 193}]},\n",
       "   {'id': '00006',\n",
       "    'is_impossible': False,\n",
       "    'question': 'At which authorized altitudes will the company deploy its satellites?',\n",
       "    'answers': [{'text': '500', 'answer_start': 225},\n",
       "     {'text': '600', 'answer_start': 260},\n",
       "     {'text': '700', 'answer_start': 265},\n",
       "     {'text': '800', 'answer_start': 273}]},\n",
       "   {'id': '00007',\n",
       "    'is_impossible': False,\n",
       "    'question': 'What are the authorized satellite inclinations with the corresponding altitudes?',\n",
       "    'answers': [{'text': '36.5', 'answer_start': 432},\n",
       "     {'text': '49', 'answer_start': 595},\n",
       "     {'text': '51.9', 'answer_start': 725},\n",
       "     {'text': '59.3', 'answer_start': 885}]},\n",
       "   {'id': '00008',\n",
       "    'is_impossible': False,\n",
       "    'question': 'How many orbital planes, corresponding to given altitudes and inclinations, has the company been authorized for?',\n",
       "    'answers': [{'text': '15', 'answer_start': 325},\n",
       "     {'text': '23', 'answer_start': 471},\n",
       "     {'text': '15', 'answer_start': 627},\n",
       "     {'text': '5', 'answer_start': 779}]},\n",
       "   {'id': '00009',\n",
       "    'is_impossible': False,\n",
       "    'question': 'How many satellites are allocated to each orbital plane?',\n",
       "    'answers': [{'text': '36', 'answer_start': 357},\n",
       "     {'text': '50', 'answer_start': 255},\n",
       "     {'text': '27', 'answer_start': 663},\n",
       "     {'text': '45', 'answer_start': 810}]},\n",
       "   {'id': '00010',\n",
       "    'is_impossible': False,\n",
       "    'question': 'How many satellites, for each altitude and inclination, are there across all matching orbital planes?',\n",
       "    'answers': [{'text': '540', 'answer_start': 396},\n",
       "     {'text': '1150', 'answer_start': 558},\n",
       "     {'text': '405', 'answer_start': 705},\n",
       "     {'text': '225', 'answer_start': 849}]},\n",
       "   {'id': '00011',\n",
       "    'is_impossible': False,\n",
       "    'question': \"What is the satellite's expected operational lifetime in years?\",\n",
       "    'answers': [{'text': 'five', 'answer_start': 1296}]}]}]"
      ]
     },
     "execution_count": 6,
     "metadata": {},
     "output_type": "execute_result"
    }
   ],
   "source": [
    "\n",
    "validation"
   ]
  },
  {
   "cell_type": "code",
   "execution_count": 7,
   "metadata": {},
   "outputs": [],
   "source": [
    "import logging\n",
    "\n",
    "from simpletransformers.question_answering import QuestionAnsweringModel, QuestionAnsweringArgs\n",
    "     "
   ]
  },
  {
   "cell_type": "code",
   "execution_count": 8,
   "metadata": {},
   "outputs": [],
   "source": [
    "\n",
    "model_type=\"bert\"\n",
    "model_name= \"bert-base-cased\"\n",
    "\n",
    "if model_type == \"bert\":\n",
    "    model_name = \"bert-base-cased\"\n",
    "\n",
    "elif model_type == \"roberta\":\n",
    "    model_name = \"roberta-base\"\n",
    "\n",
    "elif model_type == \"distilbert\":\n",
    "    model_name = \"distilbert-base-cased\"\n",
    "\n",
    "elif model_type == \"distilroberta\":\n",
    "    model_type = \"roberta\"\n",
    "    model_name = \"distilroberta-base\"\n",
    "\n",
    "elif model_type == \"electra-base\":\n",
    "    model_type = \"electra\"\n",
    "    model_name = \"google/electra-base-discriminator\"\n",
    "\n",
    "elif model_type == \"electra-small\":\n",
    "    model_type = \"electra\"\n",
    "    model_name = \"google/electra-small-discriminator\"\n",
    "\n",
    "elif model_type == \"xlnet\":\n",
    "    model_name = \"xlnet-base-cased\""
   ]
  },
  {
   "cell_type": "code",
   "execution_count": 12,
   "metadata": {},
   "outputs": [],
   "source": [
    "\n",
    "### Advanced Methodology\n",
    "train_args = {\n",
    "    \"reprocess_input_data\": True,\n",
    "    \"overwrite_output_dir\": True,\n",
    "    \"use_cached_eval_features\": True,\n",
    "    \"output_dir\": f\"outputs/{model_type}\",\n",
    "    \"best_model_dir\": f\"outputs/{model_type}/best_model\",\n",
    "    \"evaluate_during_training\": True,\n",
    "    \"max_seq_length\": 128,\n",
    "    \"num_train_epochs\": 5,\n",
    "    \"evaluate_during_training_steps\": 1000,\n",
    "    \"wandb_project\": \"Question Answer Application\",\n",
    "    \"wandb_kwargs\": {\"name\": model_name},\n",
    "    \"save_model_every_epoch\": False,\n",
    "    \"save_eval_checkpoints\": False,\n",
    "    \"n_best_size\":3,\n",
    "    # \"use_early_stopping\": True,\n",
    "    # \"early_stopping_metric\": \"mcc\",\n",
    "    # \"n_gpu\": 2,\n",
    "    # \"manual_seed\": 4,\n",
    "    # \"use_multiprocessing\": False,\n",
    "    \"train_batch_size\": 128,\n",
    "    \"eval_batch_size\": 64,\n",
    "    # \"config\": {\n",
    "    #     \"output_hidden_states\": True\n",
    "    # }\n",
    "}"
   ]
  },
  {
   "cell_type": "code",
   "execution_count": 13,
   "metadata": {},
   "outputs": [
    {
     "data": {
      "application/vnd.jupyter.widget-view+json": {
       "model_id": "cd98461705b84d5d8b16ee5875adc5d2",
       "version_major": 2,
       "version_minor": 0
      },
      "text/plain": [
       "Downloading (…)lve/main/config.json:   0%|          | 0.00/570 [00:00<?, ?B/s]"
      ]
     },
     "metadata": {},
     "output_type": "display_data"
    },
    {
     "name": "stderr",
     "output_type": "stream",
     "text": [
      "c:\\Users\\zohar\\.conda\\envs\\nlp\\lib\\site-packages\\huggingface_hub\\file_download.py:133: UserWarning: `huggingface_hub` cache-system uses symlinks by default to efficiently store duplicated files but your machine does not support them in C:\\Users\\zohar\\.cache\\huggingface\\hub. Caching files will still work but in a degraded version that might require more space on your disk. This warning can be disabled by setting the `HF_HUB_DISABLE_SYMLINKS_WARNING` environment variable. For more details, see https://huggingface.co/docs/huggingface_hub/how-to-cache#limitations.\n",
      "To support symlinks on Windows, you either need to activate Developer Mode or to run Python as an administrator. In order to see activate developer mode, see this article: https://docs.microsoft.com/en-us/windows/apps/get-started/enable-your-device-for-development\n",
      "  warnings.warn(message)\n"
     ]
    },
    {
     "data": {
      "application/vnd.jupyter.widget-view+json": {
       "model_id": "5e4808e72fed4d9595ca3791424ea055",
       "version_major": 2,
       "version_minor": 0
      },
      "text/plain": [
       "Downloading model.safetensors:   0%|          | 0.00/436M [00:00<?, ?B/s]"
      ]
     },
     "metadata": {},
     "output_type": "display_data"
    },
    {
     "name": "stderr",
     "output_type": "stream",
     "text": [
      "Some weights of BertForQuestionAnswering were not initialized from the model checkpoint at bert-base-cased and are newly initialized: ['qa_outputs.weight', 'qa_outputs.bias']\n",
      "You should probably TRAIN this model on a down-stream task to be able to use it for predictions and inference.\n"
     ]
    },
    {
     "ename": "ValueError",
     "evalue": "'use_cuda' set to True when cuda is unavailable. Make sure CUDA is available or set use_cuda=False.",
     "output_type": "error",
     "traceback": [
      "\u001b[1;31m---------------------------------------------------------------------------\u001b[0m",
      "\u001b[1;31mValueError\u001b[0m                                Traceback (most recent call last)",
      "Cell \u001b[1;32mIn[13], line 1\u001b[0m\n\u001b[1;32m----> 1\u001b[0m model \u001b[39m=\u001b[39m QuestionAnsweringModel(\n\u001b[0;32m      2\u001b[0m     model_type,model_name, args\u001b[39m=\u001b[39;49mtrain_args\n\u001b[0;32m      3\u001b[0m )\n",
      "File \u001b[1;32mc:\\Users\\zohar\\.conda\\envs\\nlp\\lib\\site-packages\\simpletransformers\\question_answering\\question_answering_model.py:231\u001b[0m, in \u001b[0;36mQuestionAnsweringModel.__init__\u001b[1;34m(self, model_type, model_name, args, use_cuda, cuda_device, **kwargs)\u001b[0m\n\u001b[0;32m    229\u001b[0m             \u001b[39mself\u001b[39m\u001b[39m.\u001b[39mdevice \u001b[39m=\u001b[39m torch\u001b[39m.\u001b[39mdevice(\u001b[39mf\u001b[39m\u001b[39m\"\u001b[39m\u001b[39mcuda:\u001b[39m\u001b[39m{\u001b[39;00mcuda_device\u001b[39m}\u001b[39;00m\u001b[39m\"\u001b[39m)\n\u001b[0;32m    230\u001b[0m     \u001b[39melse\u001b[39;00m:\n\u001b[1;32m--> 231\u001b[0m         \u001b[39mraise\u001b[39;00m \u001b[39mValueError\u001b[39;00m(\n\u001b[0;32m    232\u001b[0m             \u001b[39m\"\u001b[39m\u001b[39m'\u001b[39m\u001b[39muse_cuda\u001b[39m\u001b[39m'\u001b[39m\u001b[39m set to True when cuda is unavailable.\u001b[39m\u001b[39m\"\u001b[39m\n\u001b[0;32m    233\u001b[0m             \u001b[39m\"\u001b[39m\u001b[39m Make sure CUDA is available or set use_cuda=False.\u001b[39m\u001b[39m\"\u001b[39m\n\u001b[0;32m    234\u001b[0m         )\n\u001b[0;32m    235\u001b[0m \u001b[39melse\u001b[39;00m:\n\u001b[0;32m    236\u001b[0m     \u001b[39mself\u001b[39m\u001b[39m.\u001b[39mdevice \u001b[39m=\u001b[39m \u001b[39m\"\u001b[39m\u001b[39mcpu\u001b[39m\u001b[39m\"\u001b[39m\n",
      "\u001b[1;31mValueError\u001b[0m: 'use_cuda' set to True when cuda is unavailable. Make sure CUDA is available or set use_cuda=False."
     ]
    }
   ],
   "source": [
    "model = QuestionAnsweringModel(\n",
    "    model_type,model_name, args=train_args\n",
    ")"
   ]
  },
  {
   "cell_type": "code",
   "execution_count": null,
   "metadata": {},
   "outputs": [],
   "source": [
    "\n",
    "### Remove output folder\n",
    "!rm -rf outputs"
   ]
  },
  {
   "cell_type": "code",
   "execution_count": null,
   "metadata": {},
   "outputs": [],
   "source": [
    "\n",
    "# Train the model\n",
    "model.train_model(train, eval_data=validation)"
   ]
  },
  {
   "cell_type": "code",
   "execution_count": null,
   "metadata": {},
   "outputs": [],
   "source": [
    "# Evaluate the model\n",
    "result, texts = model.eval_model(validation)"
   ]
  },
  {
   "cell_type": "code",
   "execution_count": null,
   "metadata": {},
   "outputs": [],
   "source": [
    "# 1. Load the .txt file as the context\n",
    "with open('data/authorize_doc/StarlinkGen2_FCC-22-91A1.txttxt', 'r') as file:\n",
    "    context = file.read()"
   ]
  },
  {
   "cell_type": "code",
   "execution_count": null,
   "metadata": {},
   "outputs": [],
   "source": [
    "# 2. Define your list of questions\n",
    "questions = [\n",
    "    {\n",
    "        \"question\": \"What's the name of the satellite constellation the company seeks to deploy or operate?\",\n",
    "        \"id\": \"const_name\"\n",
    "    },\n",
    "    {\n",
    "        \"question\": \"On which date was the document released?\",\n",
    "        \"id\": \"date_release\"\n",
    "    },\n",
    "    {\n",
    "        \"question\": \"By which date must the company launch and operate half of its satellites?\",\n",
    "        \"id\": \"date_50\"\n",
    "    },\n",
    "    {\n",
    "        \"question\": \"By which date is the company expected to have all its satellites operational?\",\n",
    "        \"id\": \"date_100\"\n",
    "    },\n",
    "    {\n",
    "        \"question\": \"How many satellites is the company authorized to deploy and operate for this constellation?\",\n",
    "        \"id\": \"total_sat_const\"\n",
    "    },\n",
    "    {\n",
    "        \"question\": \"At which authorized altitudes will the company deploy its satellites?\",\n",
    "        \"id\": \"altitude\"\n",
    "    },\n",
    "    {\n",
    "        \"question\": \"What are the authorized satellite inclinations within the corresponding altitudes?\",\n",
    "        \"id\": \"inclination\"\n",
    "    },\n",
    "    {\n",
    "        \"question\": \"How many orbital planes, corresponding to given altitudes and inclinations, has the company been authorized for?\",\n",
    "        \"id\": \"number_orb_plane\"\n",
    "    },\n",
    "    {\n",
    "        \"question\": \"How many satellites are allocated to each orbital plane?\",\n",
    "        \"id\": \"total_sat_per_orb_plane\"\n",
    "    },\n",
    "    {\n",
    "        \"question\": \"How many satellites, for each altitude and inclination, are there across all matching orbital planes?\",\n",
    "        \"id\": \"total_sat_per_alt_incl\"\n",
    "    },\n",
    "    {\n",
    "        \"question\": \"What is the satellite's expected operational lifetime in years?\",\n",
    "        \"id\": \"operational_lifetime\"\n",
    "    }\n",
    "]"
   ]
  },
  {
   "cell_type": "code",
   "execution_count": null,
   "metadata": {},
   "outputs": [],
   "source": [
    "to_predict = [\n",
    "    {\n",
    "        \"context\": context,\n",
    "        \"qas\": questions\n",
    "    }\n",
    "]"
   ]
  },
  {
   "cell_type": "code",
   "execution_count": null,
   "metadata": {},
   "outputs": [],
   "source": [
    "\n",
    "answers, probabilities = model.predict(to_predict)\n",
    "\n",
    "print(answers)"
   ]
  }
 ],
 "metadata": {
  "kernelspec": {
   "display_name": "nlp",
   "language": "python",
   "name": "python3"
  },
  "language_info": {
   "codemirror_mode": {
    "name": "ipython",
    "version": 3
   },
   "file_extension": ".py",
   "mimetype": "text/x-python",
   "name": "python",
   "nbconvert_exporter": "python",
   "pygments_lexer": "ipython3",
   "version": "3.9.17"
  },
  "orig_nbformat": 4
 },
 "nbformat": 4,
 "nbformat_minor": 2
}

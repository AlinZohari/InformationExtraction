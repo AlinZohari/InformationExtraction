{
  "cells": [
    {
      "cell_type": "markdown",
      "metadata": {
        "id": "view-in-github",
        "colab_type": "text"
      },
      "source": [
        "<a href=\"https://colab.research.google.com/github/AlinZohari/InformationExtraction/blob/main/003_SQuAD_TuneQAmodel.ipynb\" target=\"_parent\"><img src=\"https://colab.research.google.com/assets/colab-badge.svg\" alt=\"Open In Colab\"/></a>"
      ]
    },
    {
      "cell_type": "markdown",
      "metadata": {
        "id": "7ha78KH0frS0"
      },
      "source": [
        "# Fine-Tuning QA model"
      ]
    },
    {
      "cell_type": "markdown",
      "metadata": {
        "id": "Hg2fF-z4AVgI"
      },
      "source": [
        "This notebook are run in Google Colab to leverage its GPU capability"
      ]
    },
    {
      "cell_type": "markdown",
      "metadata": {
        "id": "ss08hKKUfrS1"
      },
      "source": [
        "Reference:\n",
        "1. Hugging Face -  [Question and Answering Task Guide](https://huggingface.co/docs/transformers/tasks/question_answering)\n",
        "2. Hugging face [notebook](https://colab.research.google.com/github/huggingface/notebooks/blob/main/examples/question_answering-tf.ipynb) on Question Answering on SQUAD\n",
        "2. Creating Train and Validation Datasets - https://simpletransformers.ai/docs/qa-data-formats/"
      ]
    },
    {
      "cell_type": "markdown",
      "metadata": {
        "id": "T-6JjBOICsey"
      },
      "source": [
        "## Preparation GPU in Google Colab"
      ]
    },
    {
      "cell_type": "code",
      "execution_count": 1,
      "metadata": {
        "colab": {
          "base_uri": "https://localhost:8080/"
        },
        "id": "i9OAMAN7Qf0r",
        "outputId": "fd4598a1-b1d4-4aed-909f-e29dd083c5d5"
      },
      "outputs": [
        {
          "output_type": "stream",
          "name": "stdout",
          "text": [
            "Wed Aug 30 08:14:04 2023       \n",
            "+-----------------------------------------------------------------------------+\n",
            "| NVIDIA-SMI 525.105.17   Driver Version: 525.105.17   CUDA Version: 12.0     |\n",
            "|-------------------------------+----------------------+----------------------+\n",
            "| GPU  Name        Persistence-M| Bus-Id        Disp.A | Volatile Uncorr. ECC |\n",
            "| Fan  Temp  Perf  Pwr:Usage/Cap|         Memory-Usage | GPU-Util  Compute M. |\n",
            "|                               |                      |               MIG M. |\n",
            "|===============================+======================+======================|\n",
            "|   0  Tesla T4            Off  | 00000000:00:04.0 Off |                    0 |\n",
            "| N/A   47C    P8    10W /  70W |      0MiB / 15360MiB |      0%      Default |\n",
            "|                               |                      |                  N/A |\n",
            "+-------------------------------+----------------------+----------------------+\n",
            "                                                                               \n",
            "+-----------------------------------------------------------------------------+\n",
            "| Processes:                                                                  |\n",
            "|  GPU   GI   CI        PID   Type   Process name                  GPU Memory |\n",
            "|        ID   ID                                                   Usage      |\n",
            "|=============================================================================|\n",
            "|  No running processes found                                                 |\n",
            "+-----------------------------------------------------------------------------+\n"
          ]
        }
      ],
      "source": [
        "gpu_info = !nvidia-smi\n",
        "gpu_info = '\\n'.join(gpu_info)\n",
        "if gpu_info.find('failed') >= 0:\n",
        "  print('Not connected to a GPU')\n",
        "else:\n",
        "  print(gpu_info)"
      ]
    },
    {
      "cell_type": "code",
      "execution_count": 2,
      "metadata": {
        "colab": {
          "base_uri": "https://localhost:8080/"
        },
        "id": "39dkGpjcQfn4",
        "outputId": "3525c139-2818-4ff2-a685-38d130627d4a"
      },
      "outputs": [
        {
          "output_type": "stream",
          "name": "stdout",
          "text": [
            "Your runtime has 54.8 gigabytes of available RAM\n",
            "\n",
            "You are using a high-RAM runtime!\n"
          ]
        }
      ],
      "source": [
        "from psutil import virtual_memory\n",
        "ram_gb = virtual_memory().total / 1e9\n",
        "print('Your runtime has {:.1f} gigabytes of available RAM\\n'.format(ram_gb))\n",
        "\n",
        "if ram_gb < 20:\n",
        "  print('Not using a high-RAM runtime')\n",
        "else:\n",
        "  print('You are using a high-RAM runtime!')"
      ]
    },
    {
      "cell_type": "code",
      "execution_count": 3,
      "metadata": {
        "id": "PNDA2y8dqyJc"
      },
      "outputs": [],
      "source": [
        "import os\n",
        "os.environ['CUDA_LAUNCH_BLOCKING'] = '1'"
      ]
    },
    {
      "cell_type": "markdown",
      "metadata": {
        "id": "Y_SRPedNAVgN"
      },
      "source": [
        "Setting CUDA_LAUNCH_BLOCKING=1 makes all CUDA operations synchronous, which means the CPU will wait for the GPU to finish before executing the next line of code. This makes it easier to identify and debug errors, because the stack trace will show exactly where the error occurred.However, this will make the code run slower"
      ]
    },
    {
      "cell_type": "code",
      "execution_count": 4,
      "metadata": {
        "colab": {
          "base_uri": "https://localhost:8080/"
        },
        "id": "cO6fnBssfrS1",
        "outputId": "922ee97e-f359-4245-85bb-df3d183e247c"
      },
      "outputs": [
        {
          "output_type": "stream",
          "name": "stdout",
          "text": [
            "Collecting transformers[torch]\n",
            "  Downloading transformers-4.32.1-py3-none-any.whl (7.5 MB)\n",
            "\u001b[2K     \u001b[90m━━━━━━━━━━━━━━━━━━━━━━━━━━━━━━━━━━━━━━━━\u001b[0m \u001b[32m7.5/7.5 MB\u001b[0m \u001b[31m16.8 MB/s\u001b[0m eta \u001b[36m0:00:00\u001b[0m\n",
            "\u001b[?25hRequirement already satisfied: filelock in /usr/local/lib/python3.10/dist-packages (from transformers[torch]) (3.12.2)\n",
            "Collecting huggingface-hub<1.0,>=0.15.1 (from transformers[torch])\n",
            "  Downloading huggingface_hub-0.16.4-py3-none-any.whl (268 kB)\n",
            "\u001b[2K     \u001b[90m━━━━━━━━━━━━━━━━━━━━━━━━━━━━━━━━━━━━━━\u001b[0m \u001b[32m268.8/268.8 kB\u001b[0m \u001b[31m26.9 MB/s\u001b[0m eta \u001b[36m0:00:00\u001b[0m\n",
            "\u001b[?25hRequirement already satisfied: numpy>=1.17 in /usr/local/lib/python3.10/dist-packages (from transformers[torch]) (1.23.5)\n",
            "Requirement already satisfied: packaging>=20.0 in /usr/local/lib/python3.10/dist-packages (from transformers[torch]) (23.1)\n",
            "Requirement already satisfied: pyyaml>=5.1 in /usr/local/lib/python3.10/dist-packages (from transformers[torch]) (6.0.1)\n",
            "Requirement already satisfied: regex!=2019.12.17 in /usr/local/lib/python3.10/dist-packages (from transformers[torch]) (2023.6.3)\n",
            "Requirement already satisfied: requests in /usr/local/lib/python3.10/dist-packages (from transformers[torch]) (2.31.0)\n",
            "Collecting tokenizers!=0.11.3,<0.14,>=0.11.1 (from transformers[torch])\n",
            "  Downloading tokenizers-0.13.3-cp310-cp310-manylinux_2_17_x86_64.manylinux2014_x86_64.whl (7.8 MB)\n",
            "\u001b[2K     \u001b[90m━━━━━━━━━━━━━━━━━━━━━━━━━━━━━━━━━━━━━━━━\u001b[0m \u001b[32m7.8/7.8 MB\u001b[0m \u001b[31m42.2 MB/s\u001b[0m eta \u001b[36m0:00:00\u001b[0m\n",
            "\u001b[?25hCollecting safetensors>=0.3.1 (from transformers[torch])\n",
            "  Downloading safetensors-0.3.3-cp310-cp310-manylinux_2_17_x86_64.manylinux2014_x86_64.whl (1.3 MB)\n",
            "\u001b[2K     \u001b[90m━━━━━━━━━━━━━━━━━━━━━━━━━━━━━━━━━━━━━━━━\u001b[0m \u001b[32m1.3/1.3 MB\u001b[0m \u001b[31m46.7 MB/s\u001b[0m eta \u001b[36m0:00:00\u001b[0m\n",
            "\u001b[?25hRequirement already satisfied: tqdm>=4.27 in /usr/local/lib/python3.10/dist-packages (from transformers[torch]) (4.66.1)\n",
            "Requirement already satisfied: torch!=1.12.0,>=1.9 in /usr/local/lib/python3.10/dist-packages (from transformers[torch]) (2.0.1+cu118)\n",
            "Collecting accelerate>=0.20.3 (from transformers[torch])\n",
            "  Downloading accelerate-0.22.0-py3-none-any.whl (251 kB)\n",
            "\u001b[2K     \u001b[90m━━━━━━━━━━━━━━━━━━━━━━━━━━━━━━━━━━━━━━\u001b[0m \u001b[32m251.2/251.2 kB\u001b[0m \u001b[31m27.9 MB/s\u001b[0m eta \u001b[36m0:00:00\u001b[0m\n",
            "\u001b[?25hRequirement already satisfied: psutil in /usr/local/lib/python3.10/dist-packages (from accelerate>=0.20.3->transformers[torch]) (5.9.5)\n",
            "Requirement already satisfied: fsspec in /usr/local/lib/python3.10/dist-packages (from huggingface-hub<1.0,>=0.15.1->transformers[torch]) (2023.6.0)\n",
            "Requirement already satisfied: typing-extensions>=3.7.4.3 in /usr/local/lib/python3.10/dist-packages (from huggingface-hub<1.0,>=0.15.1->transformers[torch]) (4.7.1)\n",
            "Requirement already satisfied: sympy in /usr/local/lib/python3.10/dist-packages (from torch!=1.12.0,>=1.9->transformers[torch]) (1.12)\n",
            "Requirement already satisfied: networkx in /usr/local/lib/python3.10/dist-packages (from torch!=1.12.0,>=1.9->transformers[torch]) (3.1)\n",
            "Requirement already satisfied: jinja2 in /usr/local/lib/python3.10/dist-packages (from torch!=1.12.0,>=1.9->transformers[torch]) (3.1.2)\n",
            "Requirement already satisfied: triton==2.0.0 in /usr/local/lib/python3.10/dist-packages (from torch!=1.12.0,>=1.9->transformers[torch]) (2.0.0)\n",
            "Requirement already satisfied: cmake in /usr/local/lib/python3.10/dist-packages (from triton==2.0.0->torch!=1.12.0,>=1.9->transformers[torch]) (3.27.2)\n",
            "Requirement already satisfied: lit in /usr/local/lib/python3.10/dist-packages (from triton==2.0.0->torch!=1.12.0,>=1.9->transformers[torch]) (16.0.6)\n",
            "Requirement already satisfied: charset-normalizer<4,>=2 in /usr/local/lib/python3.10/dist-packages (from requests->transformers[torch]) (3.2.0)\n",
            "Requirement already satisfied: idna<4,>=2.5 in /usr/local/lib/python3.10/dist-packages (from requests->transformers[torch]) (3.4)\n",
            "Requirement already satisfied: urllib3<3,>=1.21.1 in /usr/local/lib/python3.10/dist-packages (from requests->transformers[torch]) (2.0.4)\n",
            "Requirement already satisfied: certifi>=2017.4.17 in /usr/local/lib/python3.10/dist-packages (from requests->transformers[torch]) (2023.7.22)\n",
            "Requirement already satisfied: MarkupSafe>=2.0 in /usr/local/lib/python3.10/dist-packages (from jinja2->torch!=1.12.0,>=1.9->transformers[torch]) (2.1.3)\n",
            "Requirement already satisfied: mpmath>=0.19 in /usr/local/lib/python3.10/dist-packages (from sympy->torch!=1.12.0,>=1.9->transformers[torch]) (1.3.0)\n",
            "Installing collected packages: tokenizers, safetensors, huggingface-hub, transformers, accelerate\n",
            "Successfully installed accelerate-0.22.0 huggingface-hub-0.16.4 safetensors-0.3.3 tokenizers-0.13.3 transformers-4.32.1\n"
          ]
        }
      ],
      "source": [
        "!pip install transformers[torch]"
      ]
    },
    {
      "cell_type": "code",
      "execution_count": 5,
      "metadata": {
        "colab": {
          "base_uri": "https://localhost:8080/"
        },
        "id": "XRJ6UjpMQTDv",
        "outputId": "ebb725f9-85bb-41cf-f3cb-0f2263e108c5"
      },
      "outputs": [
        {
          "output_type": "stream",
          "name": "stdout",
          "text": [
            "Requirement already satisfied: accelerate in /usr/local/lib/python3.10/dist-packages (0.22.0)\n",
            "Requirement already satisfied: numpy>=1.17 in /usr/local/lib/python3.10/dist-packages (from accelerate) (1.23.5)\n",
            "Requirement already satisfied: packaging>=20.0 in /usr/local/lib/python3.10/dist-packages (from accelerate) (23.1)\n",
            "Requirement already satisfied: psutil in /usr/local/lib/python3.10/dist-packages (from accelerate) (5.9.5)\n",
            "Requirement already satisfied: pyyaml in /usr/local/lib/python3.10/dist-packages (from accelerate) (6.0.1)\n",
            "Requirement already satisfied: torch>=1.10.0 in /usr/local/lib/python3.10/dist-packages (from accelerate) (2.0.1+cu118)\n",
            "Requirement already satisfied: filelock in /usr/local/lib/python3.10/dist-packages (from torch>=1.10.0->accelerate) (3.12.2)\n",
            "Requirement already satisfied: typing-extensions in /usr/local/lib/python3.10/dist-packages (from torch>=1.10.0->accelerate) (4.7.1)\n",
            "Requirement already satisfied: sympy in /usr/local/lib/python3.10/dist-packages (from torch>=1.10.0->accelerate) (1.12)\n",
            "Requirement already satisfied: networkx in /usr/local/lib/python3.10/dist-packages (from torch>=1.10.0->accelerate) (3.1)\n",
            "Requirement already satisfied: jinja2 in /usr/local/lib/python3.10/dist-packages (from torch>=1.10.0->accelerate) (3.1.2)\n",
            "Requirement already satisfied: triton==2.0.0 in /usr/local/lib/python3.10/dist-packages (from torch>=1.10.0->accelerate) (2.0.0)\n",
            "Requirement already satisfied: cmake in /usr/local/lib/python3.10/dist-packages (from triton==2.0.0->torch>=1.10.0->accelerate) (3.27.2)\n",
            "Requirement already satisfied: lit in /usr/local/lib/python3.10/dist-packages (from triton==2.0.0->torch>=1.10.0->accelerate) (16.0.6)\n",
            "Requirement already satisfied: MarkupSafe>=2.0 in /usr/local/lib/python3.10/dist-packages (from jinja2->torch>=1.10.0->accelerate) (2.1.3)\n",
            "Requirement already satisfied: mpmath>=0.19 in /usr/local/lib/python3.10/dist-packages (from sympy->torch>=1.10.0->accelerate) (1.3.0)\n"
          ]
        }
      ],
      "source": [
        "!pip install accelerate -U"
      ]
    },
    {
      "cell_type": "code",
      "execution_count": 6,
      "metadata": {
        "colab": {
          "base_uri": "https://localhost:8080/"
        },
        "id": "B8SFujquQTDw",
        "outputId": "275c69ac-9e84-4e6e-8710-1554f80e16f3"
      },
      "outputs": [
        {
          "output_type": "stream",
          "name": "stdout",
          "text": [
            "Name: accelerate\n",
            "Version: 0.22.0\n",
            "Summary: Accelerate\n",
            "Home-page: https://github.com/huggingface/accelerate\n",
            "Author: The HuggingFace team\n",
            "Author-email: sylvain@huggingface.co\n",
            "License: Apache\n",
            "Location: /usr/local/lib/python3.10/dist-packages\n",
            "Requires: numpy, packaging, psutil, pyyaml, torch\n",
            "Required-by: \n"
          ]
        }
      ],
      "source": [
        "!pip show accelerate"
      ]
    },
    {
      "cell_type": "code",
      "execution_count": 7,
      "metadata": {
        "colab": {
          "base_uri": "https://localhost:8080/"
        },
        "id": "-knfpWYLQTDx",
        "outputId": "0c857d77-64eb-46eb-9238-58abf45e1b8c"
      },
      "outputs": [
        {
          "output_type": "execute_result",
          "data": {
            "text/plain": [
              "True"
            ]
          },
          "metadata": {},
          "execution_count": 7
        }
      ],
      "source": [
        "import torch\n",
        "torch.cuda.is_available()"
      ]
    },
    {
      "cell_type": "markdown",
      "metadata": {
        "id": "yYzVPh-bAVgS"
      },
      "source": [
        "## Pretrained model capabilities"
      ]
    },
    {
      "cell_type": "markdown",
      "metadata": {
        "id": "u03rN-SyQTDy"
      },
      "source": [
        "let us see first the capability of the pretrained deepset/roberta-base-squad2 model on our questions"
      ]
    },
    {
      "cell_type": "code",
      "execution_count": 8,
      "metadata": {
        "colab": {
          "base_uri": "https://localhost:8080/",
          "height": 993,
          "referenced_widgets": [
            "286c560d899b4c0191467379bae91939",
            "e600a10a068f42119a1a4da0412a1b86",
            "e366d448bf4a4ed384262d1da26c8e4a",
            "fe25f040d0634f16b2a7da58af1cb5a3",
            "b8ba3ad3bd484d7aa34b074af0dd281e",
            "98abf94ee8294527be8c78bcb9ced817",
            "4fef068d1b3d4f0e911a5cc1a16ba2b3",
            "e50880d7c6fa493a8f6ed3381cb58f07",
            "cf04bc44fba6464a97c0f76f702de289",
            "2ff96bcd6de7472e9416ae9e24c527d4",
            "3ad9ee4392ea40468cb6d013739e2b2b",
            "80eece663dc34200bb3b18dfdd9017e2",
            "26e008c218744041a87b4f11fe682992",
            "da9f9466513b4c8393f9b474062e29b1",
            "2932027d183d4eaca11cfeda06b467a5",
            "c49adda182f145d094ff37e0bd15b9cb",
            "2076ef5788674bfd8f07577881b5792d",
            "a775528317834fe8867d7abd8dfcfc20",
            "392997f307f04097b5b007480223b827",
            "c3e20d1df05b41c08081abf8e8c027af",
            "adf3fe9a89784f9283bb3bbc9da490e9",
            "542f5ab2f5fe4ca5ac1ac4aec057bdd8",
            "d5a0f704886c4359bc32cecfb5221e47",
            "e038ba5ea3be4c44a18e38b35449456a",
            "7c3ab54a00414f5faded3a5a9e398c96",
            "39051e9c29534ae99139987cb0c89da5",
            "505daf0254bf4c95aed5995f4620e9f3",
            "148caa68e7ee4aea8ab63cc5b57bb71a",
            "a10e0787be5041dd8aa70f3eac394147",
            "cd182783d987430694a7bd8910c3a2c9",
            "a9f011bb41694571b052a69dc5b6db54",
            "578a0a1132d945fca2bb01f7ae41a6df",
            "ec06b18ee6b54bf78fccb594acb2630e",
            "ce23bd6348784c5eb13858eec88663e7",
            "7e8c565be8064d38a685f8bc9e60a91c",
            "fc04bece11bb40cb98d553ea1efbaf9e",
            "fe26562a86584236bef65a9991a21d87",
            "bd277e735d794c9da589206c4830614b",
            "7e3de83d6c754d29b30a355b7efdb1eb",
            "38b21fb72ecd4500999f1251a678039a",
            "57cfe4caeac3488cb23abff3968209df",
            "248d04b80ca5428ba88f8e18c6c0d62c",
            "7e61bc175dd5415095a67d39c81ecb13",
            "ed7e34101b04429ebaa9b62087cbbbc2",
            "95f420b8d74a4379b11db6232bedf91f",
            "59478aedcffc4a2a83b6dec1b41e8c4f",
            "a23455f5be254c73a39536b4e6084e0b",
            "e3c4e261a76a425994d4420319c17f09",
            "2476a341b63547ceabeba915008e8d23",
            "9a9a99003fd040e5aefcf4068780ed3d",
            "fcadf4600f974bbf95012b2c3bb3c481",
            "342075cef21d4ab8b915cc8e7b1a85f0",
            "8cac8c14fc2447a2adf6aab5c6ca20d8",
            "cac37ae8754f4b6580c234eebd3d3335",
            "02601bc717cb41ecacec4a56a1fb75db",
            "429ddab1d22f443d9a9684b362b35a6e",
            "5cea868c31d24e3fb17c9e0511efb8bc",
            "8b574fa316a14f73af6eefedd034926b",
            "da5d8a870eb44db390311ebda7e31f80",
            "c7f42348bbb34cef8c8db0c5cb8643c5",
            "82e5c1724e10488fb4384c0eef23edea",
            "0c8225ed1c824b04b77397a9dd2c4414",
            "448c85c521b24826a7fd71b15cb21295",
            "8e57692dccab4c82bf028a1bbe855f1e",
            "402b49e90cee4fb0b13df5486e901a9b",
            "1da75c04806348fdb5bae5481c68b0e3"
          ]
        },
        "id": "6Hif7qErQTDz",
        "outputId": "16b4ff3e-d700-4b78-b702-2340e0cbb45a"
      },
      "outputs": [
        {
          "output_type": "display_data",
          "data": {
            "text/plain": [
              "Downloading (…)olve/main/vocab.json:   0%|          | 0.00/899k [00:00<?, ?B/s]"
            ],
            "application/vnd.jupyter.widget-view+json": {
              "version_major": 2,
              "version_minor": 0,
              "model_id": "286c560d899b4c0191467379bae91939"
            }
          },
          "metadata": {}
        },
        {
          "output_type": "display_data",
          "data": {
            "text/plain": [
              "Downloading (…)olve/main/merges.txt:   0%|          | 0.00/456k [00:00<?, ?B/s]"
            ],
            "application/vnd.jupyter.widget-view+json": {
              "version_major": 2,
              "version_minor": 0,
              "model_id": "80eece663dc34200bb3b18dfdd9017e2"
            }
          },
          "metadata": {}
        },
        {
          "output_type": "display_data",
          "data": {
            "text/plain": [
              "Downloading (…)cial_tokens_map.json:   0%|          | 0.00/772 [00:00<?, ?B/s]"
            ],
            "application/vnd.jupyter.widget-view+json": {
              "version_major": 2,
              "version_minor": 0,
              "model_id": "d5a0f704886c4359bc32cecfb5221e47"
            }
          },
          "metadata": {}
        },
        {
          "output_type": "display_data",
          "data": {
            "text/plain": [
              "Downloading (…)okenizer_config.json:   0%|          | 0.00/79.0 [00:00<?, ?B/s]"
            ],
            "application/vnd.jupyter.widget-view+json": {
              "version_major": 2,
              "version_minor": 0,
              "model_id": "ce23bd6348784c5eb13858eec88663e7"
            }
          },
          "metadata": {}
        },
        {
          "output_type": "display_data",
          "data": {
            "text/plain": [
              "Downloading (…)lve/main/config.json:   0%|          | 0.00/571 [00:00<?, ?B/s]"
            ],
            "application/vnd.jupyter.widget-view+json": {
              "version_major": 2,
              "version_minor": 0,
              "model_id": "95f420b8d74a4379b11db6232bedf91f"
            }
          },
          "metadata": {}
        },
        {
          "output_type": "display_data",
          "data": {
            "text/plain": [
              "Downloading model.safetensors:   0%|          | 0.00/496M [00:00<?, ?B/s]"
            ],
            "application/vnd.jupyter.widget-view+json": {
              "version_major": 2,
              "version_minor": 0,
              "model_id": "429ddab1d22f443d9a9684b362b35a6e"
            }
          },
          "metadata": {}
        },
        {
          "output_type": "stream",
          "name": "stderr",
          "text": [
            "Be aware, overflowing tokens are not returned for the setting you have chosen, i.e. sequence pairs with the 'longest_first' truncation strategy. So the returned list will always be empty even if some tokens have been removed.\n",
            "Be aware, overflowing tokens are not returned for the setting you have chosen, i.e. sequence pairs with the 'longest_first' truncation strategy. So the returned list will always be empty even if some tokens have been removed.\n"
          ]
        },
        {
          "output_type": "stream",
          "name": "stdout",
          "text": [
            "Question: What's the name of the satellite constellation the company seeks to deploy or operate?\n",
            "Answer:  NGSO FSS\n",
            "\n"
          ]
        },
        {
          "output_type": "stream",
          "name": "stderr",
          "text": [
            "Be aware, overflowing tokens are not returned for the setting you have chosen, i.e. sequence pairs with the 'longest_first' truncation strategy. So the returned list will always be empty even if some tokens have been removed.\n"
          ]
        },
        {
          "output_type": "stream",
          "name": "stdout",
          "text": [
            "Question: On which date was the document released?\n",
            "Answer:  July 30, 2020\n",
            "\n"
          ]
        },
        {
          "output_type": "stream",
          "name": "stderr",
          "text": [
            "Be aware, overflowing tokens are not returned for the setting you have chosen, i.e. sequence pairs with the 'longest_first' truncation strategy. So the returned list will always be empty even if some tokens have been removed.\n"
          ]
        },
        {
          "output_type": "stream",
          "name": "stdout",
          "text": [
            "Question: By which date must the company launch and operate half of its satellites?\n",
            "Answer: <s>\n",
            "\n"
          ]
        },
        {
          "output_type": "stream",
          "name": "stderr",
          "text": [
            "Be aware, overflowing tokens are not returned for the setting you have chosen, i.e. sequence pairs with the 'longest_first' truncation strategy. So the returned list will always be empty even if some tokens have been removed.\n"
          ]
        },
        {
          "output_type": "stream",
          "name": "stdout",
          "text": [
            "Question: By which date is the company expected to have all its satellites operational?\n",
            "Answer: <s>\n",
            "\n"
          ]
        },
        {
          "output_type": "stream",
          "name": "stderr",
          "text": [
            "Be aware, overflowing tokens are not returned for the setting you have chosen, i.e. sequence pairs with the 'longest_first' truncation strategy. So the returned list will always be empty even if some tokens have been removed.\n"
          ]
        },
        {
          "output_type": "stream",
          "name": "stdout",
          "text": [
            "Question: How many satellites is the company authorized to deploy and operate for this constellation?\n",
            "Answer: <s>\n",
            "\n"
          ]
        },
        {
          "output_type": "stream",
          "name": "stderr",
          "text": [
            "Be aware, overflowing tokens are not returned for the setting you have chosen, i.e. sequence pairs with the 'longest_first' truncation strategy. So the returned list will always be empty even if some tokens have been removed.\n"
          ]
        },
        {
          "output_type": "stream",
          "name": "stdout",
          "text": [
            "Question: At which authorized altitudes will the company deploy its satellites?\n",
            "Answer:  17.7-17.8 GHz, 17.8-18.6 GHz, 18.8-19.3 GHz, 19.3-19.7 GHz, 19.7-20.2 GHz, 27.5-28.6 GHz, 28.6-29.1 GHz, 29.1-29.5 GHz, and 29.5-30.0 GHz bands\n",
            "\n"
          ]
        },
        {
          "output_type": "stream",
          "name": "stderr",
          "text": [
            "Be aware, overflowing tokens are not returned for the setting you have chosen, i.e. sequence pairs with the 'longest_first' truncation strategy. So the returned list will always be empty even if some tokens have been removed.\n"
          ]
        },
        {
          "output_type": "stream",
          "name": "stdout",
          "text": [
            "Question: What are the authorized satellite inclinations within the corresponding altitudes?\n",
            "Answer: <s>\n",
            "\n"
          ]
        },
        {
          "output_type": "stream",
          "name": "stderr",
          "text": [
            "Be aware, overflowing tokens are not returned for the setting you have chosen, i.e. sequence pairs with the 'longest_first' truncation strategy. So the returned list will always be empty even if some tokens have been removed.\n"
          ]
        },
        {
          "output_type": "stream",
          "name": "stdout",
          "text": [
            "Question: How many orbital planes, corresponding to given altitudes and inclinations, has the company been authorized for?\n",
            "Answer: <s>\n",
            "\n"
          ]
        },
        {
          "output_type": "stream",
          "name": "stderr",
          "text": [
            "Be aware, overflowing tokens are not returned for the setting you have chosen, i.e. sequence pairs with the 'longest_first' truncation strategy. So the returned list will always be empty even if some tokens have been removed.\n"
          ]
        },
        {
          "output_type": "stream",
          "name": "stdout",
          "text": [
            "Question: How many satellites are allocated to each orbital plane?\n",
            "Answer: <s>\n",
            "\n"
          ]
        },
        {
          "output_type": "stream",
          "name": "stderr",
          "text": [
            "Be aware, overflowing tokens are not returned for the setting you have chosen, i.e. sequence pairs with the 'longest_first' truncation strategy. So the returned list will always be empty even if some tokens have been removed.\n"
          ]
        },
        {
          "output_type": "stream",
          "name": "stdout",
          "text": [
            "Question: How many satellites, for each altitude and inclination, are there across all matching orbital planes?\n",
            "Answer: <s>\n",
            "\n",
            "Question: What is the satellite's expected operational lifetime in years?\n",
            "Answer: <s>\n",
            "\n"
          ]
        }
      ],
      "source": [
        "import torch\n",
        "from transformers import RobertaTokenizer, RobertaForQuestionAnswering\n",
        "\n",
        "\n",
        "# Load the tokenizer and model\n",
        "tokenizer = RobertaTokenizer.from_pretrained(\"deepset/roberta-base-squad2\")\n",
        "model = RobertaForQuestionAnswering.from_pretrained(\"deepset/roberta-base-squad2\")\n",
        "\n",
        "# Read context from a .txt file\n",
        "import requests\n",
        "\n",
        "url = \"https://raw.githubusercontent.com/AlinZohari/InformationExtraction/main/data/authorize_doc/Kuiper_FCC-20-102A1.txt\"\n",
        "response = requests.get(url)\n",
        "context = response.text\n",
        "\n",
        "# Dictionary of questions\n",
        "questions = {\n",
        "    \"const_name\": \"What's the name of the satellite constellation the company seeks to deploy or operate?\",\n",
        "    \"date_release\": \"On which date was the document released?\",\n",
        "    \"date_50\": \"By which date must the company launch and operate half of its satellites?\",\n",
        "    \"date_100\": \"By which date is the company expected to have all its satellites operational?\",\n",
        "    \"total_sat_const\": \"How many satellites is the company authorized to deploy and operate for this constellation?\",\n",
        "    \"altitude\": \"At which authorized altitudes will the company deploy its satellites?\",\n",
        "    \"inclination\": \"What are the authorized satellite inclinations within the corresponding altitudes?\",\n",
        "    \"number_orb_plane\": \"How many orbital planes, corresponding to given altitudes and inclinations, has the company been authorized for?\",\n",
        "    \"total_sat_per_orb_plane\": \"How many satellites are allocated to each orbital plane?\",\n",
        "    \"total_sat_per_alt_incl\": \"How many satellites, for each altitude and inclination, are there across all matching orbital planes?\",\n",
        "    \"operational_lifetime\": \"What is the satellite's expected operational lifetime in years?\"\n",
        "}\n",
        "\n",
        "# Loop through each question\n",
        "for key, question in questions.items():\n",
        "    # Prepare the input\n",
        "    inputs = tokenizer.encode_plus(question, context, return_tensors=\"pt\", max_length=512, truncation=True)\n",
        "\n",
        "\n",
        "    # Get the model's prediction\n",
        "    input_ids = inputs[\"input_ids\"]\n",
        "    attention_mask = inputs[\"attention_mask\"]\n",
        "    output = model(input_ids, attention_mask=attention_mask)\n",
        "\n",
        "    answer_start_scores = output.start_logits\n",
        "    answer_end_scores = output.end_logits\n",
        "\n",
        "    answer_start = torch.argmax(answer_start_scores)\n",
        "    answer_end = torch.argmax(answer_end_scores)\n",
        "    answer = tokenizer.decode(input_ids[0][answer_start:answer_end + 1])\n",
        "\n",
        "    print(f\"Question: {question}\")\n",
        "    print(f\"Answer: {answer}\")\n",
        "    print()\n"
      ]
    },
    {
      "cell_type": "markdown",
      "metadata": {
        "id": "Z_RmyiZiQTD0"
      },
      "source": [
        "The warning message you are seeing is due to the truncation strategy used by the tokenizer. The 'longest_first' truncation strategy truncates tokens from the longest of the two sequences (question or context) until they fit within the specified max_length. The warning is informing you that the overflowing tokens, which are the tokens removed during truncation, are not being returned in the inputs. This is expected behavior, as we are not using the overflowing tokens in this case.\n",
        "\n",
        "The answers that are just indicate that the model is not able to find a suitable answer in the context for the given question. This could be because the answer is not present in the context, or because the context is too large and the relevant portion was truncated.\n",
        "\n",
        "Because of this let us fine tune this model to fit our purpose."
      ]
    },
    {
      "cell_type": "markdown",
      "metadata": {
        "id": "cWcQQAvpAVgT"
      },
      "source": [
        "## Lets now Fine-Tuned the model"
      ]
    },
    {
      "cell_type": "markdown",
      "metadata": {
        "id": "wgacgFFyAVgT"
      },
      "source": [
        "We are using deepset/roberta-base-squad2 model which is used for question answering taks. It is based oon RoBERTa model which ia a variant of BERT (Bidirectional Encoder Representations from Transformers) model. BERT and RoBERTa are models designed to understand the context and relationships among words.\n",
        "- RoBERTa: RoBERTa stands for \"A Robustly Optimized BERT Pretraining Approach\". It is an optimized version of BERT, which means it is trained on more data and for more iterations than BERT. RoBERTa modifies key hyperparameters in BERT, including removing the next-sentence pretraining objective, and training with much larger mini-batches and learning rates.\n",
        "- squad2: SQuAD stands for Stanford Question Answering Dataset version 2.0 an extension of SQuAD 1.1 which includes unanswerable questions. This means that the model trained on this dataset not only needs to answer questions but also has to determine if a question is answerable or not based on the provided context."
      ]
    },
    {
      "cell_type": "code",
      "execution_count": 9,
      "metadata": {
        "id": "KaW5Ky5gfrS2"
      },
      "outputs": [],
      "source": [
        "from transformers import AutoModelForQuestionAnswering, AutoTokenizer, pipeline\n",
        "from transformers import RobertaTokenizerFast\n",
        "\n",
        "#Reference: https://huggingface.co/deepset/roberta-base-squad2\n",
        "\n",
        "model_name = \"deepset/roberta-base-squad2\"\n",
        "\n",
        "#Load model & tokenizer\n",
        "#model = AutoModelForQuestionAnswering.from_pretrained(model_name)\n",
        "#tokenizer = AutoTokenizer.from_pretrained(model_name)\n",
        "model = AutoModelForQuestionAnswering.from_pretrained(model_name)\n",
        "tokenizer = RobertaTokenizerFast.from_pretrained(model_name)\n",
        "\n",
        "#using AutoModelForQuestionAnswering automatically infer the correct model and tokenizer classes to use based on the model name. This makes the code more flexible as it can work with any model architecture\n",
        "#using RobertaTokenizerFast which is a fast tokenizer for RoBERTa models. The \"fast\" tokenizers are implemented in Rust and are more performant compared to the standard Python tokenizers. They also provide additional functionalities like alignment between the original and tokenized text."
      ]
    },
    {
      "cell_type": "code",
      "execution_count": 10,
      "metadata": {
        "colab": {
          "base_uri": "https://localhost:8080/"
        },
        "id": "Iap32VtEfrS2",
        "outputId": "bb2a9608-eae4-4cbb-fcc6-ce9a38f58b86"
      },
      "outputs": [
        {
          "output_type": "execute_result",
          "data": {
            "text/plain": [
              "RobertaForQuestionAnswering(\n",
              "  (roberta): RobertaModel(\n",
              "    (embeddings): RobertaEmbeddings(\n",
              "      (word_embeddings): Embedding(50265, 768, padding_idx=1)\n",
              "      (position_embeddings): Embedding(514, 768, padding_idx=1)\n",
              "      (token_type_embeddings): Embedding(1, 768)\n",
              "      (LayerNorm): LayerNorm((768,), eps=1e-05, elementwise_affine=True)\n",
              "      (dropout): Dropout(p=0.1, inplace=False)\n",
              "    )\n",
              "    (encoder): RobertaEncoder(\n",
              "      (layer): ModuleList(\n",
              "        (0-11): 12 x RobertaLayer(\n",
              "          (attention): RobertaAttention(\n",
              "            (self): RobertaSelfAttention(\n",
              "              (query): Linear(in_features=768, out_features=768, bias=True)\n",
              "              (key): Linear(in_features=768, out_features=768, bias=True)\n",
              "              (value): Linear(in_features=768, out_features=768, bias=True)\n",
              "              (dropout): Dropout(p=0.1, inplace=False)\n",
              "            )\n",
              "            (output): RobertaSelfOutput(\n",
              "              (dense): Linear(in_features=768, out_features=768, bias=True)\n",
              "              (LayerNorm): LayerNorm((768,), eps=1e-05, elementwise_affine=True)\n",
              "              (dropout): Dropout(p=0.1, inplace=False)\n",
              "            )\n",
              "          )\n",
              "          (intermediate): RobertaIntermediate(\n",
              "            (dense): Linear(in_features=768, out_features=3072, bias=True)\n",
              "            (intermediate_act_fn): GELUActivation()\n",
              "          )\n",
              "          (output): RobertaOutput(\n",
              "            (dense): Linear(in_features=3072, out_features=768, bias=True)\n",
              "            (LayerNorm): LayerNorm((768,), eps=1e-05, elementwise_affine=True)\n",
              "            (dropout): Dropout(p=0.1, inplace=False)\n",
              "          )\n",
              "        )\n",
              "      )\n",
              "    )\n",
              "  )\n",
              "  (qa_outputs): Linear(in_features=768, out_features=2, bias=True)\n",
              ")"
            ]
          },
          "metadata": {},
          "execution_count": 10
        }
      ],
      "source": [
        "#looking at RoBerta Question Answering\n",
        "model"
      ]
    },
    {
      "cell_type": "markdown",
      "metadata": {
        "id": "82U5kIUNfrS3"
      },
      "source": [
        "How to fine-tune a QA model\n",
        "- we need GPU\n",
        "- building a training script\n"
      ]
    },
    {
      "cell_type": "code",
      "execution_count": 11,
      "metadata": {
        "id": "IJnj5WCtfrS3"
      },
      "outputs": [],
      "source": [
        "#getting our own build training datasets\n",
        "import requests\n",
        "import json\n",
        "\n",
        "url = \"https://raw.githubusercontent.com/AlinZohari/InformationExtraction/main/data/QA_model/train.json\"\n",
        "response = requests.get(url)\n",
        "train = response.json()"
      ]
    },
    {
      "cell_type": "code",
      "execution_count": 12,
      "metadata": {
        "colab": {
          "base_uri": "https://localhost:8080/"
        },
        "id": "7L3zc7epfrS3",
        "outputId": "bb4dc296-f8e6-47df-f13e-2232780f1f79"
      },
      "outputs": [
        {
          "output_type": "execute_result",
          "data": {
            "text/plain": [
              "[{'context': 'In this Order and Authorization, we grant, to the extent set forth below, the request of Kuiper Systems LLC (Kuiper or Amazon) to provide satellite services.\\n            Operating 3,372 satellites in 102 orbital planes at altitudes of 590 km, 610 km, and 630 km in a circular orbit.\\n            At 590 km, 30 orbital planes with 28 satellites per plane for a total of 840 satellites at inclination of 33 degree.\\n            At 610 km, 42 orbital planes with 36 satellites per plane for a total of 1512 satellites at inclination of 42 degree.\\n            At 630 km, 30 orbital planes with 34 satellites per plane for a total of 1020 satellite at inclination of 51.9 degree.\\n            The constellation are require to launch and operate 50 percent of its satellites no later than July 30, 2026, and must launch the remaining space stations necessary to complete its authorized service constellation, place them in their assigned orbits, and operate each of them in accordance with the authorization no later than July 30, 2029.',\n",
              "  'qas': [{'id': '00001',\n",
              "    'is_impossible': False,\n",
              "    'question': \"What's the name of the satellite constellation the company seeks to deploy or operate?\",\n",
              "    'answers': [{'text': 'Kuiper', 'answer_start': 89}]},\n",
              "   {'id': '00002',\n",
              "    'is_impossible': False,\n",
              "    'question': 'By which date must the company launch and operate half of its satellites?',\n",
              "    'answers': [{'text': 'July 30, 2026', 'answer_start': 780}]},\n",
              "   {'id': '00003',\n",
              "    'is_impossible': False,\n",
              "    'question': 'By which date must the company complete the launch and operate its satellites?',\n",
              "    'answers': [{'text': 'July 30, 2029', 'answer_start': 1013}]},\n",
              "   {'id': '00004',\n",
              "    'is_impossible': True,\n",
              "    'question': 'How many satellites is the company authorized to deploy and operate for this constellation?',\n",
              "    'answers': [{'text': '3,372', 'answer_start': 180}]},\n",
              "   {'id': '00005',\n",
              "    'is_impossible': False,\n",
              "    'question': 'At which authorized altitudes will the company deploy its satellites?',\n",
              "    'answers': [{'text': '590', 'answer_start': 235},\n",
              "     {'text': '610', 'answer_start': 243},\n",
              "     {'text': '630', 'answer_start': 255}]},\n",
              "   {'id': '00006',\n",
              "    'is_impossible': False,\n",
              "    'question': 'What are the authorized satellite inclinations with the corresponding altitudes?',\n",
              "    'answers': [{'text': '33', 'answer_start': 401},\n",
              "     {'text': '42', 'answer_start': 435},\n",
              "     {'text': '51.9', 'answer_start': 660}]},\n",
              "   {'id': '00007',\n",
              "    'is_impossible': False,\n",
              "    'question': 'How many orbital planes, corresponding to given altitudes and inclinations, has the company been authorized for?',\n",
              "    'answers': [{'text': '30', 'answer_start': 256},\n",
              "     {'text': '42', 'answer_start': 435},\n",
              "     {'text': '30', 'answer_start': 565}]},\n",
              "   {'id': '00008',\n",
              "    'is_impossible': False,\n",
              "    'question': 'How many satellites are allocated to each orbital plane?',\n",
              "    'answers': [{'text': '28', 'answer_start': 329},\n",
              "     {'text': '36', 'answer_start': 458},\n",
              "     {'text': '34', 'answer_start': 588}]},\n",
              "   {'id': '00009',\n",
              "    'is_impossible': False,\n",
              "    'question': 'How many satellites, for each altitude and inclination, are there across all matching orbital planes?',\n",
              "    'answers': [{'text': '840', 'answer_start': 368},\n",
              "     {'text': '1512', 'answer_start': 497},\n",
              "     {'text': '1020', 'answer_start': 627}]}]},\n",
              " {'context': 'Iridium must launch 50 percent of satellite no later than November 12,2028, and must launch the other remaining satellites no later than May 16,2030.',\n",
              "  'qas': [{'id': '00010',\n",
              "    'is_impossible': False,\n",
              "    'question': \"What's the name of the satellite constellation the company seeks to deploy or operate?\",\n",
              "    'answers': [{'text': 'Iridium', 'answer_start': 0}]},\n",
              "   {'id': '00011',\n",
              "    'is_impossible': False,\n",
              "    'question': 'By which date must the company launch and operate half of its satellites?',\n",
              "    'answers': [{'text': 'November 12,2028,', 'answer_start': 58}]},\n",
              "   {'id': '00012',\n",
              "    'is_impossible': False,\n",
              "    'question': 'By which date must the company complete the launch and operate its satellites?',\n",
              "    'answers': [{'text': 'May 16,2030', 'answer_start': 137}]}]},\n",
              " {'context': 'They must launch 50 percent of the maximum number of proposed space stations, place them in the assigned orbits, and operate them in accordance with this grant of U.S. market access no later than December 31,1989, and must launch the remaining space stations necessary to complete its authorized service constellation, place them in their assigned orbits, and operate them in accordance with the grant of U.S. market access no later than December 21,1997.',\n",
              "  'qas': [{'id': '00013',\n",
              "    'is_impossible': False,\n",
              "    'question': 'By which date must the company launch and operate half of its satellites?',\n",
              "    'answers': [{'text': 'December 31,1989', 'answer_start': 196}]},\n",
              "   {'id': '00014',\n",
              "    'is_impossible': True,\n",
              "    'question': 'By which date must the company complete the launch and operate its satellites?',\n",
              "    'answers': [{'text': 'December 21,1997', 'answer_start': 438}]}]},\n",
              " {'context': 'The company must launch 50 percent no later than June 22, 2020, and complete its authorized service constellation in accordance with the authorization no later than June 22, 2022. 47 CFR § 25.164(b).',\n",
              "  'qas': [{'id': '00015',\n",
              "    'is_impossible': False,\n",
              "    'question': 'By which date must the company launch and operate half of its satellites?',\n",
              "    'answers': [{'text': 'June 22, 2020', 'answer_start': 49}]},\n",
              "   {'id': '00016',\n",
              "    'is_impossible': False,\n",
              "    'question': 'By which date must the company complete the launch and operate its satellites?',\n",
              "    'answers': [{'text': 'June 22, 2022', 'answer_start': 165}]}]},\n",
              " {'context': 'to launch and operate 50 percent of its satellites no later than January 3, 2027, and to complete its authorized service constellation, place them in their assigned orbits, and operate each of them in accordance with the authorization no later than February 13, 2300. 47 CFR § 25.164(b).',\n",
              "  'qas': [{'id': '00017',\n",
              "    'is_impossible': False,\n",
              "    'question': 'By which date must the company launch and operate half of its satellites?',\n",
              "    'answers': [{'text': 'January 3, 2027', 'answer_start': 65}]},\n",
              "   {'id': '00018',\n",
              "    'is_impossible': False,\n",
              "    'question': 'By which date must the company complete the launch and operate its satellites?',\n",
              "    'answers': [{'text': 'February 13, 2300', 'answer_start': 249}]}]},\n",
              " {'context': 'In this Order and Declaratory Ruling, we grant in part and defer in part the petition for declaratory ruling of WorldVu Satellites Limited (OneWeb) for modification of its grant of U.S. market access for a its satellite constellation authorized by the United Kingdom. As modified, the constellation will operate with four fewer satellites, reduced from 720 to 716 satellites.',\n",
              "  'qas': [{'id': '00019',\n",
              "    'is_impossible': False,\n",
              "    'question': \"What's the name of the satellite constellation the company seeks to deploy or operate?\",\n",
              "    'answers': [{'text': 'WorldVu Satellites Limited (OneWeb)',\n",
              "      'answer_start': 112}]},\n",
              "   {'id': '00020',\n",
              "    'is_impossible': False,\n",
              "    'question': 'How many satellites is the company authorized to deploy and operate for this constellation?',\n",
              "    'answers': [{'text': '716', 'answer_start': 360}]}]},\n",
              " {'context': 'The proposed Telesat system is set to feature a robust constellation of 124 satellites.\\n        A set of six orbital planes, each inclined at 99.5 degrees, will host nine satellites per plane at an approximate altitude of 1,000 kilometers.\\n        Additionally, seven more orbital planes, each tilted at 37.4 degrees, will carry another group of satellites, with each plane accommodating ten satellites at a higher altitude of approximately 1,248 kilometers.',\n",
              "  'qas': [{'id': '00021',\n",
              "    'is_impossible': False,\n",
              "    'question': \"What's the name of the satellite constellation the company seeks to deploy or operate?\",\n",
              "    'answers': [{'text': 'Telesat', 'answer_start': 13}]},\n",
              "   {'id': '00022',\n",
              "    'is_impossible': False,\n",
              "    'question': 'How many satellites is the company authorized to deploy and operate for this constellation?',\n",
              "    'answers': [{'text': '124', 'answer_start': 72}]},\n",
              "   {'id': '00023',\n",
              "    'is_impossible': True,\n",
              "    'question': 'At which authorized altitudes will the company deploy its satellites?',\n",
              "    'answers': [{'text': '1,000', 'answer_start': 222},\n",
              "     {'text': '1,248', 'answer_start': 441}]},\n",
              "   {'id': '00024',\n",
              "    'is_impossible': False,\n",
              "    'question': 'What are the authorized satellite inclinations with the corresponding altitudes?',\n",
              "    'answers': [{'text': '99.5', 'answer_start': 142},\n",
              "     {'text': '37.4', 'answer_start': 304}]},\n",
              "   {'id': '00025',\n",
              "    'is_impossible': True,\n",
              "    'question': 'How many orbital planes, corresponding to given altitudes and inclinations, has the company been authorized for?',\n",
              "    'answers': [{'text': 'six', 'answer_start': 105},\n",
              "     {'text': 'seven', 'answer_start': 262}]},\n",
              "   {'id': '00026',\n",
              "    'is_impossible': True,\n",
              "    'question': 'How many satellites are allocated to each orbital plane?',\n",
              "    'answers': [{'text': 'nine', 'answer_start': 166},\n",
              "     {'text': 'ten', 'answer_start': 388}]}]},\n",
              " {'context': '20 orbital planes with 28 satellites per plane for a total of 560 satellites at inclination of 33 degree will be placed at an altitude approximately 800 km.',\n",
              "  'qas': [{'id': '00027',\n",
              "    'is_impossible': False,\n",
              "    'question': 'At which authorized altitudes will the company deploy its satellites?',\n",
              "    'answers': [{'text': '800', 'answer_start': 149}]},\n",
              "   {'id': '00028',\n",
              "    'is_impossible': False,\n",
              "    'question': 'What are the authorized satellite inclinations with the corresponding altitudes?',\n",
              "    'answers': [{'text': '33', 'answer_start': 95}]},\n",
              "   {'id': '00029',\n",
              "    'is_impossible': False,\n",
              "    'question': 'How many orbital planes, corresponding to given altitudes and inclinations, has the company been authorized for?',\n",
              "    'answers': [{'text': '20', 'answer_start': 0}]},\n",
              "   {'id': '00030',\n",
              "    'is_impossible': False,\n",
              "    'question': 'How many satellites are allocated to each orbital plane?',\n",
              "    'answers': [{'text': '28', 'answer_start': 23}]},\n",
              "   {'id': '00031',\n",
              "    'is_impossible': False,\n",
              "    'question': 'How many satellites, for each altitude and inclination, are there across all matching orbital planes?',\n",
              "    'answers': [{'text': '560', 'answer_start': 62}]}]},\n",
              " {'context': '8 orbital plane containing 15 satellites each which are inclined at 56 degree with altitude of 700 kilometers',\n",
              "  'qas': [{'id': '00032',\n",
              "    'is_impossible': False,\n",
              "    'question': 'At which authorized altitudes will the company deploy its satellites?',\n",
              "    'answers': [{'text': '700', 'answer_start': 95}]},\n",
              "   {'id': '00033',\n",
              "    'is_impossible': False,\n",
              "    'question': 'What are the authorized satellite inclinations with the corresponding altitudes?',\n",
              "    'answers': [{'text': '56', 'answer_start': 68}]},\n",
              "   {'id': '00034',\n",
              "    'is_impossible': False,\n",
              "    'question': 'How many orbital planes, corresponding to given altitudes and inclinations, has the company been authorized for?',\n",
              "    'answers': [{'text': '8', 'answer_start': 0}]},\n",
              "   {'id': '00035',\n",
              "    'is_impossible': False,\n",
              "    'question': 'How many satellites are allocated to each orbital plane?',\n",
              "    'answers': [{'text': '15', 'answer_start': 27}]}]},\n",
              " {'context': '72 of the satellites will be distributed equally and place at 6 orbital planes, which are inclined 99.5 degrees, satellites will be at an approximate altitude of 1,000 kilometers',\n",
              "  'qas': [{'id': '00036',\n",
              "    'is_impossible': True,\n",
              "    'question': 'At which authorized altitudes will the company deploy its satellites?',\n",
              "    'answers': [{'text': '1,000', 'answer_start': 162}]},\n",
              "   {'id': '00037',\n",
              "    'is_impossible': False,\n",
              "    'question': 'What are the authorized satellite inclinations with the corresponding altitudes?',\n",
              "    'answers': [{'text': '99.5', 'answer_start': 99}]},\n",
              "   {'id': '00038',\n",
              "    'is_impossible': False,\n",
              "    'question': 'How many orbital planes, corresponding to given altitudes and inclinations, has the company been authorized for?',\n",
              "    'answers': [{'text': '6', 'answer_start': 62}]},\n",
              "   {'id': '00039',\n",
              "    'is_impossible': False,\n",
              "    'question': 'How many satellites, for each altitude and inclination, are there across all matching orbital planes?',\n",
              "    'answers': [{'text': '72', 'answer_start': 0}]}]},\n",
              " {'context': 'The operational lifetime for the satellite in the constellation in 10 years',\n",
              "  'qas': [{'id': '00040',\n",
              "    'is_impossible': False,\n",
              "    'question': \"What is the satellite's expected operational lifetime in years?\",\n",
              "    'answers': [{'text': '10', 'answer_start': 67}]}]},\n",
              " {'context': 'Released:  March 29, 2010',\n",
              "  'qas': [{'id': '00041',\n",
              "    'is_impossible': False,\n",
              "    'question': 'On which date was the document released?',\n",
              "    'answers': [{'text': 'March 29, 2010', 'answer_start': 11}]}]},\n",
              " {'context': 'Released:  November 21,1997',\n",
              "  'qas': [{'id': '00042',\n",
              "    'is_impossible': False,\n",
              "    'question': 'On which date was the document released?',\n",
              "    'answers': [{'text': 'November 21,1997', 'answer_start': 11}]}]}]"
            ]
          },
          "metadata": {},
          "execution_count": 12
        }
      ],
      "source": [
        "#looking at the train dataset\n",
        "train"
      ]
    },
    {
      "cell_type": "code",
      "execution_count": 13,
      "metadata": {
        "id": "tff-Cb8QgfHF"
      },
      "outputs": [],
      "source": [
        "##etting our own build validation datasets\n",
        "import requests\n",
        "import json\n",
        "\n",
        "url = \"https://raw.githubusercontent.com/AlinZohari/InformationExtraction/main/data/QA_model/validation.json\"\n",
        "response = requests.get(url)\n",
        "validation = response.json()"
      ]
    },
    {
      "cell_type": "code",
      "execution_count": 14,
      "metadata": {
        "colab": {
          "base_uri": "https://localhost:8080/"
        },
        "id": "alciwDQ-giqR",
        "outputId": "0f3b53e1-6a34-4a82-df6a-28c90c26fa5e"
      },
      "outputs": [
        {
          "output_type": "execute_result",
          "data": {
            "text/plain": [
              "[{'context': 'Release date: October 29, 1995 In this Order and Authorization, we grant, to the extent set forth below, the request of Ligado Networks LLC to provide Fixed Satellite Services (FSS). Operating 2320 satellites in 58 orbital planes in total at altitudes of 500, 600, 700 and 800 kilometers. At an altitude of 500 km, there are 15 orbital planes, each hosting 36 satellites, resulting in a total of 540 satellites at an inclination of 36.5 degrees. For the 600 km altitude, 23 orbital planes are present, with each plane containing 50 satellites, summing up to 1150 satellites at an inclination of 49 degrees. At the 700 km mark, 15 orbital planes are equipped with 27 satellites each, leading to a total of 405 satellites at a 51.9-degree inclination. Lastly, at 800 km, there are 5 orbital planes, and each has 45 satellites, amounting to a total of 225 satellites at an inclination of 59.3 degrees. The constellation are require to launch and operate 50 percent of its satellites no later than July 30, 2000, and must launch the remaining space stations necessary to complete its authorized service constellation, place them in their assigned orbits, and operate each of them in accordance with the authorization no later than July 30, 2020. This satelllites will have an operational lifetime of five years orbitting in its designated plane.',\n",
              "  'qas': [{'id': '00001',\n",
              "    'is_impossible': False,\n",
              "    'question': \"What's the name of the satellite constellation the company seeks to deploy or operate?\",\n",
              "    'answers': [{'text': 'Ligado Networks LLC', 'answer_start': 120}]},\n",
              "   {'id': '00002',\n",
              "    'is_impossible': False,\n",
              "    'question': 'On which date was the document released?',\n",
              "    'answers': [{'text': 'October 29, 1995', 'answer_start': 14}]},\n",
              "   {'id': '00003',\n",
              "    'is_impossible': False,\n",
              "    'question': 'By which date must the company launch and operate half of its satellites?',\n",
              "    'answers': [{'text': 'July 30, 2000', 'answer_start': 994}]},\n",
              "   {'id': '00004',\n",
              "    'is_impossible': False,\n",
              "    'question': 'By which date must the company complete the launch and operate its satellites?',\n",
              "    'answers': [{'text': 'July 30, 2020', 'answer_start': 1227}]},\n",
              "   {'id': '00005',\n",
              "    'is_impossible': True,\n",
              "    'question': 'How many satellites is the company authorized to deploy and operate for this constellation?',\n",
              "    'answers': [{'text': '2320', 'answer_start': 193}]},\n",
              "   {'id': '00006',\n",
              "    'is_impossible': False,\n",
              "    'question': 'At which authorized altitudes will the company deploy its satellites?',\n",
              "    'answers': [{'text': '500', 'answer_start': 225},\n",
              "     {'text': '600', 'answer_start': 260},\n",
              "     {'text': '700', 'answer_start': 265},\n",
              "     {'text': '800', 'answer_start': 273}]},\n",
              "   {'id': '00007',\n",
              "    'is_impossible': False,\n",
              "    'question': 'What are the authorized satellite inclinations with the corresponding altitudes?',\n",
              "    'answers': [{'text': '36.5', 'answer_start': 432},\n",
              "     {'text': '49', 'answer_start': 595},\n",
              "     {'text': '51.9', 'answer_start': 725},\n",
              "     {'text': '59.3', 'answer_start': 885}]},\n",
              "   {'id': '00008',\n",
              "    'is_impossible': False,\n",
              "    'question': 'How many orbital planes, corresponding to given altitudes and inclinations, has the company been authorized for?',\n",
              "    'answers': [{'text': '15', 'answer_start': 325},\n",
              "     {'text': '23', 'answer_start': 471},\n",
              "     {'text': '15', 'answer_start': 627},\n",
              "     {'text': '5', 'answer_start': 779}]},\n",
              "   {'id': '00009',\n",
              "    'is_impossible': False,\n",
              "    'question': 'How many satellites are allocated to each orbital plane?',\n",
              "    'answers': [{'text': '36', 'answer_start': 357},\n",
              "     {'text': '50', 'answer_start': 255},\n",
              "     {'text': '27', 'answer_start': 663},\n",
              "     {'text': '45', 'answer_start': 810}]},\n",
              "   {'id': '00010',\n",
              "    'is_impossible': False,\n",
              "    'question': 'How many satellites, for each altitude and inclination, are there across all matching orbital planes?',\n",
              "    'answers': [{'text': '540', 'answer_start': 396},\n",
              "     {'text': '1150', 'answer_start': 558},\n",
              "     {'text': '405', 'answer_start': 705},\n",
              "     {'text': '225', 'answer_start': 849}]},\n",
              "   {'id': '00011',\n",
              "    'is_impossible': False,\n",
              "    'question': \"What is the satellite's expected operational lifetime in years?\",\n",
              "    'answers': [{'text': 'five', 'answer_start': 1296}]}]}]"
            ]
          },
          "metadata": {},
          "execution_count": 14
        }
      ],
      "source": [
        "#looking atthe validation dataset\n",
        "validation"
      ]
    },
    {
      "cell_type": "markdown",
      "metadata": {
        "id": "ToeQAFFFQTD4"
      },
      "source": [
        "## Preprocess the data"
      ]
    },
    {
      "cell_type": "markdown",
      "metadata": {
        "id": "Y6fbXtQQDBfl"
      },
      "source": [
        "Here we want to preprocess our data so that it will fit the BERT/RoBERTa model by tokenizing our train data. The tokenizer we use will be the same as above RobertaTokenizerFast"
      ]
    },
    {
      "cell_type": "code",
      "execution_count": 15,
      "metadata": {
        "colab": {
          "base_uri": "https://localhost:8080/"
        },
        "id": "xwgN7dj8YVAy",
        "outputId": "78497376-6bed-49ee-9e71-8adf20844857"
      },
      "outputs": [
        {
          "output_type": "stream",
          "name": "stdout",
          "text": [
            "Collecting datasets\n",
            "  Downloading datasets-2.14.4-py3-none-any.whl (519 kB)\n",
            "\u001b[2K     \u001b[90m━━━━━━━━━━━━━━━━━━━━━━━━━━━━━━━━━━━━━━━\u001b[0m \u001b[32m519.3/519.3 kB\u001b[0m \u001b[31m6.2 MB/s\u001b[0m eta \u001b[36m0:00:00\u001b[0m\n",
            "\u001b[?25hRequirement already satisfied: numpy>=1.17 in /usr/local/lib/python3.10/dist-packages (from datasets) (1.23.5)\n",
            "Requirement already satisfied: pyarrow>=8.0.0 in /usr/local/lib/python3.10/dist-packages (from datasets) (9.0.0)\n",
            "Collecting dill<0.3.8,>=0.3.0 (from datasets)\n",
            "  Downloading dill-0.3.7-py3-none-any.whl (115 kB)\n",
            "\u001b[2K     \u001b[90m━━━━━━━━━━━━━━━━━━━━━━━━━━━━━━━━━━━━━━━\u001b[0m \u001b[32m115.3/115.3 kB\u001b[0m \u001b[31m9.3 MB/s\u001b[0m eta \u001b[36m0:00:00\u001b[0m\n",
            "\u001b[?25hRequirement already satisfied: pandas in /usr/local/lib/python3.10/dist-packages (from datasets) (1.5.3)\n",
            "Requirement already satisfied: requests>=2.19.0 in /usr/local/lib/python3.10/dist-packages (from datasets) (2.31.0)\n",
            "Requirement already satisfied: tqdm>=4.62.1 in /usr/local/lib/python3.10/dist-packages (from datasets) (4.66.1)\n",
            "Collecting xxhash (from datasets)\n",
            "  Downloading xxhash-3.3.0-cp310-cp310-manylinux_2_17_x86_64.manylinux2014_x86_64.whl (194 kB)\n",
            "\u001b[2K     \u001b[90m━━━━━━━━━━━━━━━━━━━━━━━━━━━━━━━━━━━━━━━\u001b[0m \u001b[32m194.1/194.1 kB\u001b[0m \u001b[31m8.7 MB/s\u001b[0m eta \u001b[36m0:00:00\u001b[0m\n",
            "\u001b[?25hCollecting multiprocess (from datasets)\n",
            "  Downloading multiprocess-0.70.15-py310-none-any.whl (134 kB)\n",
            "\u001b[2K     \u001b[90m━━━━━━━━━━━━━━━━━━━━━━━━━━━━━━━━━━━━━━\u001b[0m \u001b[32m134.8/134.8 kB\u001b[0m \u001b[31m10.5 MB/s\u001b[0m eta \u001b[36m0:00:00\u001b[0m\n",
            "\u001b[?25hRequirement already satisfied: fsspec[http]>=2021.11.1 in /usr/local/lib/python3.10/dist-packages (from datasets) (2023.6.0)\n",
            "Requirement already satisfied: aiohttp in /usr/local/lib/python3.10/dist-packages (from datasets) (3.8.5)\n",
            "Requirement already satisfied: huggingface-hub<1.0.0,>=0.14.0 in /usr/local/lib/python3.10/dist-packages (from datasets) (0.16.4)\n",
            "Requirement already satisfied: packaging in /usr/local/lib/python3.10/dist-packages (from datasets) (23.1)\n",
            "Requirement already satisfied: pyyaml>=5.1 in /usr/local/lib/python3.10/dist-packages (from datasets) (6.0.1)\n",
            "Requirement already satisfied: attrs>=17.3.0 in /usr/local/lib/python3.10/dist-packages (from aiohttp->datasets) (23.1.0)\n",
            "Requirement already satisfied: charset-normalizer<4.0,>=2.0 in /usr/local/lib/python3.10/dist-packages (from aiohttp->datasets) (3.2.0)\n",
            "Requirement already satisfied: multidict<7.0,>=4.5 in /usr/local/lib/python3.10/dist-packages (from aiohttp->datasets) (6.0.4)\n",
            "Requirement already satisfied: async-timeout<5.0,>=4.0.0a3 in /usr/local/lib/python3.10/dist-packages (from aiohttp->datasets) (4.0.3)\n",
            "Requirement already satisfied: yarl<2.0,>=1.0 in /usr/local/lib/python3.10/dist-packages (from aiohttp->datasets) (1.9.2)\n",
            "Requirement already satisfied: frozenlist>=1.1.1 in /usr/local/lib/python3.10/dist-packages (from aiohttp->datasets) (1.4.0)\n",
            "Requirement already satisfied: aiosignal>=1.1.2 in /usr/local/lib/python3.10/dist-packages (from aiohttp->datasets) (1.3.1)\n",
            "Requirement already satisfied: filelock in /usr/local/lib/python3.10/dist-packages (from huggingface-hub<1.0.0,>=0.14.0->datasets) (3.12.2)\n",
            "Requirement already satisfied: typing-extensions>=3.7.4.3 in /usr/local/lib/python3.10/dist-packages (from huggingface-hub<1.0.0,>=0.14.0->datasets) (4.7.1)\n",
            "Requirement already satisfied: idna<4,>=2.5 in /usr/local/lib/python3.10/dist-packages (from requests>=2.19.0->datasets) (3.4)\n",
            "Requirement already satisfied: urllib3<3,>=1.21.1 in /usr/local/lib/python3.10/dist-packages (from requests>=2.19.0->datasets) (2.0.4)\n",
            "Requirement already satisfied: certifi>=2017.4.17 in /usr/local/lib/python3.10/dist-packages (from requests>=2.19.0->datasets) (2023.7.22)\n",
            "Requirement already satisfied: python-dateutil>=2.8.1 in /usr/local/lib/python3.10/dist-packages (from pandas->datasets) (2.8.2)\n",
            "Requirement already satisfied: pytz>=2020.1 in /usr/local/lib/python3.10/dist-packages (from pandas->datasets) (2023.3)\n",
            "Requirement already satisfied: six>=1.5 in /usr/local/lib/python3.10/dist-packages (from python-dateutil>=2.8.1->pandas->datasets) (1.16.0)\n",
            "Installing collected packages: xxhash, dill, multiprocess, datasets\n",
            "Successfully installed datasets-2.14.4 dill-0.3.7 multiprocess-0.70.15 xxhash-3.3.0\n"
          ]
        }
      ],
      "source": [
        "!pip install datasets"
      ]
    },
    {
      "cell_type": "code",
      "execution_count": 16,
      "metadata": {
        "id": "yF4JPX4_qFKj"
      },
      "outputs": [],
      "source": [
        "#we need to defined the tokenizer\n",
        "#from transformers import RobertaTokenizerFast\n",
        "#tokenizer = RobertaTokenizerFast.from_pretrained(model_name)\n",
        "# needed to use BertTokenizerFast/ RobertaTokenizerFast return_offset_mapping feature is not available when using Python tokenizers."
      ]
    },
    {
      "cell_type": "code",
      "execution_count": 113,
      "metadata": {
        "colab": {
          "base_uri": "https://localhost:8080/",
          "height": 81,
          "referenced_widgets": [
            "492c0b9ae997400a97493c6ec0edaaf6",
            "989d2ad9061b424c964cee0e15da4066",
            "99815c29b1a2432ea4c47a133fd68139",
            "dbc71e5ad92f431c9ead8395a826cf42",
            "048dff7bf9ba49f6b4ab7dec38a85d7b",
            "f97f03b8b0f74ece827ca8cddfb55e87",
            "61d3641fd55348e3bfe347c7d311be02",
            "f76dc1234ed24bfe8b5eda0f2e5e84a6",
            "86db2267f51e48df839a007315f2d107",
            "9c02414d282c4ef9b0e859a375b627a9",
            "6163fadc51004629b91ba2661bed5a17",
            "2b30c9e5e0d94495bd4acdae97a7b039",
            "9a4b271fd94e4addb3253ee9b2fa9e72",
            "33ec3e824b6146bca7c5c1ca663951bf",
            "1ad1274c630a45baae1cc41552f3c1e7",
            "c5ab8416242f43d9a56fa10ee2d6d895",
            "24e8a09776314a82936e899c94b20614",
            "e1c9943f98b64701a15e87a7feac0a2a",
            "c866491966944a9f866e63f15025d2c7",
            "04d31fbf9d164311ab3dc2905cab565c",
            "470019f6660741e6afaa782ccf5e72cf",
            "9c3b8682830c476d9371c4526d60f663"
          ]
        },
        "id": "23GIl1VwQTD4",
        "outputId": "2851206a-f78a-4d94-9753-11634201bbf1"
      },
      "outputs": [
        {
          "output_type": "display_data",
          "data": {
            "text/plain": [
              "Map:   0%|          | 0/13 [00:00<?, ? examples/s]"
            ],
            "application/vnd.jupyter.widget-view+json": {
              "version_major": 2,
              "version_minor": 0,
              "model_id": "492c0b9ae997400a97493c6ec0edaaf6"
            }
          },
          "metadata": {}
        },
        {
          "output_type": "display_data",
          "data": {
            "text/plain": [
              "Map:   0%|          | 0/1 [00:00<?, ? examples/s]"
            ],
            "application/vnd.jupyter.widget-view+json": {
              "version_major": 2,
              "version_minor": 0,
              "model_id": "2b30c9e5e0d94495bd4acdae97a7b039"
            }
          },
          "metadata": {}
        }
      ],
      "source": [
        "import pandas as pd\n",
        "from datasets import Dataset\n",
        "\n",
        "def preprocess_function(examples):\n",
        "    questions = []\n",
        "    contexts = []\n",
        "    answers = []\n",
        "    ids = []\n",
        "\n",
        "    for i in range(len(examples['context'])):\n",
        "        context = examples['context'][i]\n",
        "        qas = examples['qas'][i]\n",
        "\n",
        "        for qa in qas:\n",
        "            questions.append(qa['question'].strip())\n",
        "            contexts.append(context)\n",
        "            ids.append(qa['id'])\n",
        "            if not qa['is_impossible']:\n",
        "                ans = qa['answers'][0]\n",
        "                answer_text = ans['text'] if ans['text'] else \"\"\n",
        "                answers.append({'answer_start': [ans['answer_start']], 'text': [answer_text]})\n",
        "            else:\n",
        "                answers.append({'answer_start': [None], 'text': [\"\"]})\n",
        "\n",
        "    inputs = tokenizer(\n",
        "        questions,\n",
        "        contexts,\n",
        "        max_length=384,\n",
        "        truncation=\"only_second\",\n",
        "        return_offsets_mapping=True,\n",
        "        padding=\"max_length\",\n",
        "    )\n",
        "\n",
        "    offset_mapping = inputs.pop(\"offset_mapping\")\n",
        "\n",
        "    start_positions = []\n",
        "    end_positions = []\n",
        "\n",
        "    for i, offset in enumerate(offset_mapping):\n",
        "        answer = answers[i]\n",
        "        start_char = answer['answer_start'][0]\n",
        "        end_char = start_char + len(answer['text'][0]) if answer['text'][0] else None\n",
        "        sequence_ids = inputs.sequence_ids(i)\n",
        "\n",
        "        if start_char is None or end_char is None:\n",
        "            start_positions.append(0)\n",
        "            end_positions.append(0)\n",
        "        else:\n",
        "            idx = 0\n",
        "            while sequence_ids[idx] != 1:\n",
        "                idx += 1\n",
        "            context_start = idx\n",
        "            while sequence_ids[idx] == 1:\n",
        "                idx += 1\n",
        "            context_end = idx - 1\n",
        "\n",
        "            if offset[context_start][0] > end_char or offset[context_end][1] < start_char:\n",
        "                start_positions.append(0)\n",
        "                end_positions.append(0)\n",
        "            else:\n",
        "                idx = context_start\n",
        "                while idx <= context_end and offset[idx][0] <= start_char:\n",
        "                    idx += 1\n",
        "                start_positions.append(idx - 1)\n",
        "\n",
        "                idx = context_end\n",
        "                while idx >= context_start and offset[idx][1] >= end_char:\n",
        "                    idx -= 1\n",
        "                end_positions.append(idx + 1)\n",
        "\n",
        "    inputs[\"start_positions\"] = start_positions\n",
        "    inputs[\"end_positions\"] = end_positions\n",
        "    inputs[\"answers\"] = answers\n",
        "    inputs[\"id\"] = ids\n",
        "\n",
        "    return inputs\n",
        "\n",
        "# Convert lists to Dataset objects\n",
        "train_dataset = Dataset.from_pandas(pd.DataFrame(train))\n",
        "validation_dataset = Dataset.from_pandas(pd.DataFrame(validation))\n",
        "\n",
        "# Apply preprocess_function\n",
        "tokenized_train = train_dataset.map(preprocess_function, batched=True, remove_columns=train_dataset.column_names)\n",
        "tokenized_validation = validation_dataset.map(preprocess_function, batched=True, remove_columns=validation_dataset.column_names)\n",
        "\n",
        "\n"
      ]
    },
    {
      "cell_type": "code",
      "execution_count": 114,
      "metadata": {
        "colab": {
          "base_uri": "https://localhost:8080/"
        },
        "id": "KYCmaOz4ojpU",
        "outputId": "df7d24bb-3e4e-458c-f0ba-2968a806fb40"
      },
      "outputs": [
        {
          "output_type": "execute_result",
          "data": {
            "text/plain": [
              "Dataset({\n",
              "    features: ['input_ids', 'attention_mask', 'start_positions', 'end_positions', 'answers', 'id'],\n",
              "    num_rows: 42\n",
              "})"
            ]
          },
          "metadata": {},
          "execution_count": 114
        }
      ],
      "source": [
        "tokenized_train"
      ]
    },
    {
      "cell_type": "code",
      "execution_count": 115,
      "metadata": {
        "colab": {
          "base_uri": "https://localhost:8080/"
        },
        "id": "2OBWD7eaopKk",
        "outputId": "f3bc6d70-9c28-441a-d6c8-41ca7fc1181a"
      },
      "outputs": [
        {
          "output_type": "execute_result",
          "data": {
            "text/plain": [
              "Dataset({\n",
              "    features: ['context', 'qas'],\n",
              "    num_rows: 13\n",
              "})"
            ]
          },
          "metadata": {},
          "execution_count": 115
        }
      ],
      "source": [
        "train_dataset"
      ]
    },
    {
      "cell_type": "markdown",
      "metadata": {
        "id": "AZYcbJZnZHAV"
      },
      "source": [
        "The DefaultDataCollator is a class from the transformers library that is used to collate samples into batches for training or evaluation. When you train a model, you usually don't pass the entire dataset at once, but rather use mini-batches of data. The data_collator is responsible for taking the individual samples and combining them into these mini-batches.\n",
        "\n",
        "The DefaultDataCollator will:\n",
        "\n",
        "Handle the padding of the input data (if necessary) to ensure that all samples in the batch have the same length.\n",
        "Convert the batch into PyTorch tensors."
      ]
    },
    {
      "cell_type": "code",
      "execution_count": 116,
      "metadata": {
        "id": "qfacp8LHfrS4"
      },
      "outputs": [],
      "source": [
        "from transformers import DefaultDataCollator\n",
        "\n",
        "data_collator = DefaultDataCollator()"
      ]
    },
    {
      "cell_type": "markdown",
      "metadata": {
        "id": "s_PFghoLfrS4"
      },
      "source": [
        "## Fine-tune the model"
      ]
    },
    {
      "cell_type": "code",
      "execution_count": 117,
      "metadata": {
        "id": "xSvspLvFfrS4"
      },
      "outputs": [],
      "source": [
        "from transformers import TrainingArguments, Trainer\n",
        "model = AutoModelForQuestionAnswering.from_pretrained(model_name)"
      ]
    },
    {
      "cell_type": "markdown",
      "metadata": {
        "id": "SNAQ5ldHm88T"
      },
      "source": [
        "metric = load_metric(\"squad\") loads the SQuAD (Stanford Question Answering Dataset) evaluation metric. This metric computes the Exact Match (EM) and F1 score, which are commonly used for evaluating question answering models.\n",
        "\n",
        "Exact Match (EM): This is the simplest metric. It measures the percentage of predictions that match any one of the ground truth answers exactly.\n",
        "F1 Score: This is a more complex metric that considers the overlap between the prediction and ground truth answer. It is the harmonic mean of precision and recall."
      ]
    },
    {
      "cell_type": "code",
      "execution_count": 118,
      "metadata": {
        "id": "ZAZoA65GfrS4"
      },
      "outputs": [],
      "source": [
        "#defining training argument\n",
        "training_args = TrainingArguments(\n",
        "    output_dir='./results',\n",
        "    num_train_epochs=2,\n",
        "    per_device_train_batch_size=8,\n",
        "    per_device_eval_batch_size=8,\n",
        "    warmup_steps=500,\n",
        "    weight_decay=0.01,\n",
        "    logging_dir='./logs',\n",
        ")\n"
      ]
    },
    {
      "cell_type": "code",
      "execution_count": 119,
      "metadata": {
        "colab": {
          "base_uri": "https://localhost:8080/",
          "height": 110
        },
        "id": "hfZ3oP87nNkB",
        "outputId": "28930d91-273b-4684-d244-e8fee03b7bf7"
      },
      "outputs": [
        {
          "output_type": "display_data",
          "data": {
            "text/plain": [
              "<IPython.core.display.HTML object>"
            ],
            "text/html": [
              "\n",
              "    <div>\n",
              "      \n",
              "      <progress value='12' max='12' style='width:300px; height:20px; vertical-align: middle;'></progress>\n",
              "      [12/12 00:06, Epoch 2/2]\n",
              "    </div>\n",
              "    <table border=\"1\" class=\"dataframe\">\n",
              "  <thead>\n",
              " <tr style=\"text-align: left;\">\n",
              "      <th>Step</th>\n",
              "      <th>Training Loss</th>\n",
              "    </tr>\n",
              "  </thead>\n",
              "  <tbody>\n",
              "  </tbody>\n",
              "</table><p>"
            ]
          },
          "metadata": {}
        },
        {
          "output_type": "execute_result",
          "data": {
            "text/plain": [
              "TrainOutput(global_step=12, training_loss=1.8592246373494465, metrics={'train_runtime': 6.9607, 'train_samples_per_second': 12.068, 'train_steps_per_second': 1.724, 'total_flos': 16461695674368.0, 'train_loss': 1.8592246373494465, 'epoch': 2.0})"
            ]
          },
          "metadata": {},
          "execution_count": 119
        }
      ],
      "source": [
        "from datasets import load_metric #from datasets in huggging face\n",
        "import numpy as np\n",
        "from transformers import EvalPrediction\n",
        "from typing import Dict\n",
        "\n",
        "metric = load_metric(\"squad\")\n",
        "\n",
        "def compute_metrics(p):\n",
        "    start_preds, end_preds = p.predictions\n",
        "    ids = tokenized_validation['id']\n",
        "    input_ids = tokenized_validation['input_ids']\n",
        "\n",
        "    # convert scores to actual positions\n",
        "    start_positions = np.argmax(start_preds, axis=1)\n",
        "    end_positions = np.argmax(end_preds, axis=1)\n",
        "\n",
        "    predictions = []\n",
        "    for id, input_id, start, end in zip(ids, input_ids, start_positions, end_positions):\n",
        "        prediction_text = tokenizer.decode(input_id[start:end+1], skip_special_tokens=True)\n",
        "        if not prediction_text:\n",
        "            prediction_text = \"\"\n",
        "        predictions.append({'id': id, 'prediction_text': prediction_text})\n",
        "\n",
        "    references = [{'id': id, 'answers': {'answer_start': [answer['answer_start'][0]], 'text': [answer['text'][0] if answer['text'][0] else \"\"]}} for id, answer in zip(ids, tokenized_validation['answers'])]\n",
        "    result = metric.compute(predictions=predictions, references=references)\n",
        "    return result\n",
        "\n",
        "\n",
        "\n",
        "trainer = Trainer(\n",
        "    model=model,\n",
        "    args=training_args,\n",
        "    train_dataset=tokenized_train,\n",
        "    eval_dataset=tokenized_validation,\n",
        "    compute_metrics=compute_metrics,\n",
        ")\n",
        "\n",
        "trainer.train()\n"
      ]
    },
    {
      "cell_type": "markdown",
      "metadata": {
        "id": "5k2177J8awbN"
      },
      "source": [
        "The TrainOutput object contains some information about the training process:\n"
      ]
    },
    {
      "cell_type": "markdown",
      "metadata": {
        "id": "qv6VWl8vGeiD"
      },
      "source": [
        "### Evaluation of the tuned model"
      ]
    },
    {
      "cell_type": "code",
      "execution_count": 120,
      "metadata": {
        "colab": {
          "base_uri": "https://localhost:8080/",
          "height": 74
        },
        "id": "Hp-FLBMsn2lP",
        "outputId": "54a3d85e-1143-4b87-f65f-b509dd9386e4"
      },
      "outputs": [
        {
          "output_type": "display_data",
          "data": {
            "text/plain": [
              "<IPython.core.display.HTML object>"
            ],
            "text/html": [
              "\n",
              "    <div>\n",
              "      \n",
              "      <progress value='2' max='2' style='width:300px; height:20px; vertical-align: middle;'></progress>\n",
              "      [2/2 00:00]\n",
              "    </div>\n",
              "    "
            ]
          },
          "metadata": {}
        },
        {
          "output_type": "stream",
          "name": "stdout",
          "text": [
            "{'eval_loss': 2.7754781246185303, 'eval_exact_match': 27.272727272727273, 'eval_f1': 29.87012987012987, 'eval_runtime': 1.3779, 'eval_samples_per_second': 7.983, 'eval_steps_per_second': 1.451, 'epoch': 2.0}\n"
          ]
        }
      ],
      "source": [
        "# Evaluate the model\n",
        "results = trainer.evaluate()\n",
        "\n",
        "print(results)"
      ]
    },
    {
      "cell_type": "code",
      "execution_count": 122,
      "metadata": {
        "colab": {
          "base_uri": "https://localhost:8080/"
        },
        "id": "W1RIOow1a3aF",
        "outputId": "2b9b8d95-e886-487e-b1fe-57a0cc4cbd31"
      },
      "outputs": [
        {
          "output_type": "stream",
          "name": "stdout",
          "text": [
            "Mounted at /content/gdrive\n"
          ]
        },
        {
          "output_type": "execute_result",
          "data": {
            "text/plain": [
              "('/content/gdrive/MyDrive/tuned_model/tokenizer_config.json',\n",
              " '/content/gdrive/MyDrive/tuned_model/special_tokens_map.json',\n",
              " '/content/gdrive/MyDrive/tuned_model/vocab.json',\n",
              " '/content/gdrive/MyDrive/tuned_model/merges.txt',\n",
              " '/content/gdrive/MyDrive/tuned_model/added_tokens.json',\n",
              " '/content/gdrive/MyDrive/tuned_model/tokenizer.json')"
            ]
          },
          "metadata": {},
          "execution_count": 122
        }
      ],
      "source": [
        "# Mount Google Drive\n",
        "from google.colab import drive\n",
        "drive.mount('/content/gdrive')\n",
        "\n",
        "\n",
        "# Save model and tokenizer\n",
        "model.save_pretrained(\"/content/gdrive/MyDrive/tuned_model\")\n",
        "tokenizer.save_pretrained(\"/content/gdrive/MyDrive/tuned_model\")\n",
        "\n"
      ]
    },
    {
      "cell_type": "markdown",
      "metadata": {
        "id": "lV3jVGbAbsDN"
      },
      "source": [
        "## Using the tuned model"
      ]
    },
    {
      "cell_type": "code",
      "execution_count": 123,
      "metadata": {
        "colab": {
          "base_uri": "https://localhost:8080/"
        },
        "id": "8Ju2zkd9dgym",
        "outputId": "5d607f61-5820-49c8-f30f-041b7a7ffb8e"
      },
      "outputs": [
        {
          "output_type": "execute_result",
          "data": {
            "text/plain": [
              "['training_args.bin',\n",
              " 'config.json',\n",
              " 'pytorch_model.bin',\n",
              " 'vocab.json',\n",
              " 'special_tokens_map.json',\n",
              " 'tokenizer_config.json',\n",
              " 'merges.txt',\n",
              " 'tokenizer.json']"
            ]
          },
          "metadata": {},
          "execution_count": 123
        }
      ],
      "source": [
        "import os\n",
        "\n",
        "# List the contents of the directory\n",
        "os.listdir('/content/gdrive/MyDrive/tuned_model')\n"
      ]
    },
    {
      "cell_type": "code",
      "execution_count": 124,
      "metadata": {
        "colab": {
          "base_uri": "https://localhost:8080/"
        },
        "id": "2a-Wmm7Zdn9Y",
        "outputId": "413939e2-17af-4cb5-db1a-cc44f0d3943f"
      },
      "outputs": [
        {
          "output_type": "stream",
          "name": "stdout",
          "text": [
            "/content/gdrive/MyDrive/tuned_model\n"
          ]
        }
      ],
      "source": [
        "print(os.path.abspath('/content/gdrive/MyDrive/tuned_model'))\n"
      ]
    },
    {
      "cell_type": "code",
      "execution_count": 125,
      "metadata": {
        "colab": {
          "base_uri": "https://localhost:8080/"
        },
        "id": "wQ_Tef9nbEwE",
        "outputId": "d7a1e28f-b935-4df6-8590-69bf08f0ae4b"
      },
      "outputs": [
        {
          "output_type": "stream",
          "name": "stdout",
          "text": [
            "Question: What's the name of the satellite constellation the company seeks to deploy or operate?\n",
            "Answer:  Non-Geostationary Satellite Orbit System  NGSO FSS  NGSO FSS  NGSO FSS <s> <s>  <s> <s>  Kuiper <s> <s> <s> <s>  Kuiper SpaceX  <s> <s> <s>  <s> <s>  NGSO  Kuiper  NGSO <s> <s> <s> <s> <s> <s> <s> <s> <s> <s> <s> <s> <s> <s> <s> <s> <s>  MSS space stations  O3b  NGSO MSS  NGSO MSS  Mobile-Satellite Service  Kuiper <s> <s> <s> <s> <s>  FSS <s>  NGSO MSS <s> <s> <s> <s>  NGSO <s>  Iridium <s> <s> <s>  <s> <s> <s> <s>  SpaceX NGSO Satellite System <s>  NGSO <s>   <s> <s> <s>  <s>What's the name of the satellite constellation the company seeks to deploy or operate?</s></s>ablished by NASA.  Kuiper <s> <s> <s>What's the name of the satellite constellation the company seeks to deploy or operate?</s></s>icants to file a modification application including updated orbital debris mitigation information in some instances.  See SpaceX Order, at 33 FCC Rcd. 3391, 3398, para. 15 (2018 LeoSat MA Inc., Order and Declaratory Ruling, 33 FCC Rcd 11486, 11491, para. 12 (2018); Viasat, Inc. Petition for Declaratory Ruling Granting Access for a Non-U.S. Licensed Non-Geostationary Orbit Satellite Network <s> <s>  Kuiper <s>  <s>  NGSO <s> <s> <s>What's the name of the satellite constellation the company seeks to deploy or operate?</s></s>nd 25.155(b) because of the Kuiper System <s>What's the name of the satellite constellation the company seeks to deploy or operate?</s></s>tions 25.155(b) and 25.157(c) of the Commission’s processing round rules would serve the public interest in this particular case.  Accordingly, Kuiper <s> <s>  NGSO   Non-Geostationary Satellite Orbit  Non-Geostationary Satellite Orbit  Non-Geostationary Satellite Orbit   NGSO FSS <s> <s> <s> <s> <s> <s>  LeoSat <s> <s> <s> <s> <s>  <s> <s> <s> <s> <s>What's the name of the satellite constellation the company seeks to deploy or operate?</s></s>ng rule “simply creates the sharing framework for authorized NGSO <s> <s> <s> <s>  NGSO FSS <s> <s> <s> <s> <s> <s> <s> <s> <s>  Kuiper System <s> <s>  Swarm Technologies  Lower Earth Orbit Satellite System <s> <s> <s>  <s> <s> <s> <s>  Ka-band NGSO <s> <s>What's the name of the satellite constellation the company seeks to deploy or operate?</s></s> waiver request of our processing round rules and include Kuiper <s> <s> <s> <s>   SpaceX NGSO Satellite System  NGSO Constellation <s> <s> <s>  LeoSat <s> <s> <s>  NGSO FSS  Kuiper <s>  NGSO <s> <s> <s>  <s> <s> <s> <s> <s> <s>  Arctic Satellite Broadband Mission <s> <s>What's the name of the satellite constellation the company seeks to deploy or operate?</s></s>its proposed MSS feeder link operations because the Kuiper <s> <s>  Kuiper <s> <s> <s> <s> <s> <s> <s>What's the name of the satellite constellation the company seeks to deploy or operate?</s></s> or granted U.S. market access in the NGSO FSS processing rounds referred to in Public Notices DA 16-804, 31 FCC Rcd 7666 (IB 2016) and DA 17-524, 32 FCC Rcd 4180 (IB 2017).  \n",
            "b) Kuiper’s operations must comply with spectrum sharing procedures among NGSO FSS  NGSO <s> <s>  NGSO FSS  GSO FSS <s> <s> <s> <s> <s> <s> <s> <s> <s> <s> <s> <s>What's the name of the satellite constellation the company seeks to deploy or operate?</s></s>ble of Frequency Allocations <s> <s>  authorized service constellation <s> <s> <s> <s>\n",
            "Score: 0.9468480129209951\n",
            "\n",
            "Question: On which date was the document released?\n",
            "Answer:  July 30, 2020 <s> <s> Mar. 24, 2020 <s> <s>  July 4, 2019 <s> <s> <s> <s> <s> <s> <s> Sept. 27, 2019 Sept. 27, 2019 <s> <s> <s> <s> <s> <s>  Jul. 15, 2016 <s> <s> <s> <s> 2017 <s> <s> <s> <s> <s> <s> <s> <s> <s> <s> <s> <s> <s> <s> <s> <s> <s> <s> <s> <s> <s> <s> <s> <s> <s> <s> <s> <s> <s> <s>  <s> <s> <s> <s> <s> <s> <s> <s> <s> <s>  Jan. 14, 2020 <s> <s> <s> <s> <s> <s> <s> <s> <s> <s> <s>  Sept. 18, 2019 <s> <s> <s> <s> April 22, 2020 <s> <s>  <s> <s> <s> <s> <s> <s> <s> <s> <s> 2003 <s> 2003 <s> 2002 <s> <s> <s> <s> <s> <s> <s>  Jan. 27, 2020 <s> <s> <s> <s> <s> <s> <s> <s> <s> <s> <s> <s> <s> <s> <s> <s> <s> <s> <s> <s> <s> <s> <s> <s> <s> <s> <s> <s> <s> <s>  2019  2005 <s> <s> <s> <s> <s> <s> <s> <s> <s> <s> <s> <s> <s> <s> <s> <s> <s> <s> <s> <s> <s> <s> <s> <s>  61 <s> <s> <s> <s> <s> <s> 2018 <s> May 14, 2020 <s> <s> <s>  Jan. 22, 2015 2017 <s> <s> <s> <s> <s> <s> <s> <s> <s> <s> <s> <s> <s> <s> <s> <s> <s> <s> <s> <s> <s> <s> <s> <s> <s> <s> <s> <s> <s> <s> <s> <s> <s> <s> <s> <s>\n",
            "Score: 0.9961363473405349\n",
            "\n",
            "Question: By which date must the company launch and operate half of its satellites?\n",
            "Answer: <s> <s> <s> <s> <s> <s> <s> <s> <s> <s> <s> <s> <s> <s> <s> <s> <s> <s> <s> <s> <s> <s> <s> <s> <s> <s> <s> <s> <s> <s> <s> <s> <s> <s> <s> <s> <s> <s> <s> <s> <s> <s> <s> <s> <s> <s> <s> <s> <s> <s> <s> <s> <s> <s> <s> <s> <s> <s> <s> <s> <s> <s> <s> <s> <s> <s> <s> <s> <s> <s> <s> <s> <s> <s> <s> <s> <s> <s> <s> <s> <s> <s> <s> <s> <s> <s> <s> <s> <s> <s> <s> <s> <s> <s> <s> <s> <s> <s> <s> <s> <s> <s> <s> <s> <s> <s> <s> <s> <s> <s> <s> <s> <s> <s> <s> <s> <s> <s> <s> <s> <s> <s> <s> <s> <s> <s> <s> <s> <s> <s> <s> <s> <s> <s> <s> <s> <s> <s> <s> <s> <s> <s> <s> <s> <s> <s> <s> <s> <s> <s> <s> <s> <s> <s> <s> <s> <s> <s> <s> <s> <s> <s> <s> <s> <s> <s> <s>  <s> <s> <s> <s> <s> <s> <s> <s> <s> <s> <s> <s> <s> <s> <s> <s> <s> <s> <s> <s> <s> <s> <s> <s> <s> <s> <s> <s> <s> <s> <s> <s> <s> <s> <s> <s> <s> <s> <s> <s> <s> <s> <s> <s> <s> <s>  July 30, 2026 <s> <s> <s> <s>\n",
            "Score: 0.994417308832034\n",
            "\n",
            "Question: By which date is the company expected to have all its satellites operational?\n",
            "Answer: <s> <s> <s> <s> <s> <s> <s> <s> <s>  once the first 578 satellites are launched <s> <s> <s> <s> <s> <s> <s> <s> <s> <s> <s> <s> <s> <s> <s> <s> <s> <s> <s> <s> <s> <s> <s> <s> <s> <s> <s> <s> <s> <s> <s> <s> <s> <s> <s> <s> <s> <s> <s> <s> <s> <s> <s> <s> <s> <s> <s> <s> <s> <s> <s> <s> <s> <s> <s> <s> <s> <s> <s> <s> <s> <s> <s> <s> <s> <s> <s> <s> <s> <s> <s> <s> <s> <s> <s> <s> <s> <s> <s> <s> <s> <s> <s> <s> <s> <s> <s> <s> <s> <s> <s> <s> <s> <s> <s> <s> <s> <s> <s> <s> <s> <s> <s> <s> <s> <s> <s> <s> <s> <s> <s> <s> <s> <s> <s> <s> <s> <s> <s> <s> <s> <s> <s> <s> <s> <s> <s> <s> <s> <s> <s> <s> <s> <s> <s> <s> <s> <s> <s> <s> <s> <s> <s> <s> <s> <s> <s> <s> <s> <s> <s> <s> <s> <s> <s> <s> <s>  <s> <s> <s> <s> <s> <s> <s> <s> <s> <s> <s> <s> <s> <s> <s> <s> <s> <s> <s> <s> <s> <s> <s> <s> <s> <s> <s> <s> <s> <s> <s> <s> <s> <s> <s> <s> <s>  <s> <s> <s> <s> <s> <s> <s> <s>  July 30, 2026  July 30, 2029 <s> <s> <s>\n",
            "Score: 0.9912560893585969\n",
            "\n",
            "Question: How many satellites is the company authorized to deploy and operate for this constellation?\n",
            "Answer: <s>   17.7-17.8 GHz <s> <s> <s>  3,236 <s> <s>How many satellites is the company authorized to deploy and operate for this constellation?</s></s>o include gateway earth stations, customer terminals, “software-defined network” and satellite control functionality, satellite operations centers, telemetry, tracking, and command (TT&C) earth stations, and other technologies, Id. at 5  578 <s> <s> <s> <s> <s> <s> <s> <s> <s> <s> <s> <s> <s> <s> <s> <s> <s> <s> <s> <s> <s> <s> <s> <s> <s> <s> <s> <s> <s> <s> <s> <s> <s> <s> <s> <s> <s>  <s> <s> <s> <s> <s> <s> <s> <s> <s> <s> <s> <s> <s> <s> <s> <s> <s> <s> <s> <s>  2 <s> <s> <s> <s> <s> <s> <s> <s>  32 <s> <s> <s>  <s> <s> <s> <s>  24 <s> <s> <s> <s> <s> <s> <s> <s> <s> <s> <s> <s> <s> <s> <s> <s> <s> <s> <s> <s> <s> <s> <s> <s> <s> <s> <s> <s> <s> <s> <s> <s> <s> <s> <s> <s> <s> <s> <s> <s> <s> <s> <s> <s> <s> <s> <s> <s> <s> <s> <s> <s> <s> <s>   20  one  150 <s> <s> <s> <s> <s> <s> <s> <s> <s> <s> <s> <s> <s> <s>  SpaceX NGSO Satellite System <s> <s> <s> <s> <s> <s>  3,236 <s> <s> <s> <s> <s> <s> <s> <s> <s> <s> <s> <s> <s> <s> <s> <s> <s> <s> <s> <s> <s> <s> <s> <s> <s> <s> <s> <s> <s> <s> <s> <s>  <s> <s> <s> <s> <s> <s> <s> <s> <s> <s> <s> <s> <s> <s>  50 percent <s> <s> <s> <s>\n",
            "Score: 0.9508447105366429\n",
            "\n",
            "Question: At which authorized altitudes will the company deploy its satellites?\n",
            "Answer: <s>  17.7-17.8 GHz, 17.8-18  <s> <s> <s>  590 km, 610 km, and 630 km  590 km  56°N and 56°  56°N and 56° <s>At which authorized altitudes will the company deploy its satellites?</s></s>llites are launched.”  Id.\n",
            "  Kuiper plans to use the following frequencies: 17.7-18.6 GHz (space-to-Earth), 18.8-20.2 GHz (space-to-Earth), and 27.5-30.0 GHz <s> <s>At which authorized altitudes will the company deploy its satellites?</s></s> operations, in addition to FSS, in the 19.7- 20.2 GHz and 29.5-30.0 GHz <s> <s> <s> <s> <s> <s> <s>  10.7-12.7 GHz, 12.75-13.25 GHz, 13.8-14.5 GHz, 17.7-18.6 GHz, 18.8-20.2 GHz, and 27.5-30 GHz <s>  10.7-12.7 GHz, 14.0-14.5 GHz, 17.8-18.6 GHz, 18.8-19.3 GHz, 27.5-28.35 GHz, 28.35-29.1 GHz, and 29.5-30.0 GHz  12.75-13.25 GHz, 13.85-14.0 GHz, 18.6-18.8 GHz, 19.3-20.2 GHz, and 29.1-29.5 GHz <s> <s> <s> <s> <s> <s>  3-4.\n",
            "  <s> <s> <s>  <s> <s> <s> <s>  <s> <s> <s> <s>  <s>  2.\n",
            " <s> <s>  32.\n",
            "\n",
            "21  <s> <s> <s> <s> <s> <s> <s>  <s> <s> <s> <s> <s> <s> <s> <s> <s> <s> <s> <s>  <s> <s>  <s> <s> <s> <s> <s>  2.\n",
            " <s> <s> <s> <s>  24 FCC Rcd 2230, 2263-64 <s> <s> <s> <s> <s> <s> <s> <s> <s> <s> <s> <s> <s> <s> <s> <s> <s> <s> <s> <s> <s> <s> <s> <s> <s> <s> <s> <s> <s> <s> <s> <s> <s> <s> <s> <s> <s> <s> <s> <s> <s> <s> <s> <s> <s> <s> <s> <s> <s> <s> <s> <s> <s> <s> <s>  133°  133° <s> <s> <s> <s> <s> <s> <s> <s> <s> <s> <s> <s> <s> <s> <s> <s> <s> <s> <s> <s> <s> <s> <s> <s> <s> <s> <s> <s> <s> <s> <s> <s> <s> <s>  18.8-19.3 GHz and 28.6-29.1 GHz  56°N and 56° <s>  32 FC <s> <s> <s> <s> <s> <s> <s> <s> <s>  17.7-18.6 GHz and 18.8-20.2 GHz <s>  17.8-18.6 GHz and 18.8-20.2 GHz and 27.5-30 GHz <s> <s> <s>  19.7-20.2 GHz and 29.5-30 GHz   19.3-19.4 GHz and 19.6-19.7 GHz <s> <s> <s> <s> <s>  17.8-18.6 GHz, 18.8-19.3 GHz, and 19.7-20.2 GHz <s> <s> <s> <s> <s> <s> <s> <s>  assigned orbits <s>At which authorized altitudes will the company deploy its satellites?</s></s>its authorized service constellation, place them in their assigned orbits <s> <s> <s>\n",
            "Score: 0.97899278586166\n",
            "\n",
            "Question: What are the authorized satellite inclinations within the corresponding altitudes?\n",
            "Answer: <s> <s> <s> <s> <s> <s> <s> <s>  56°N and 56° <s> <s> <s>  19.7- 20.2 GHz and 29.5-30.0 GHz <s> <s> <s> <s> <s> <s> <s>  10.7-12.7 GHz, 12.75-13.25 GHz, 13.8-14.5 GHz, 17.7-18.6 GHz, 18.8-20.2 GHz, and 27.5-30 GHz <s>   <s> <s> <s> <s> <s> <s> <s> <s> <s> <s> <s> <s> <s> <s> <s> <s> <s> <s> <s> <s> <s>  19.7-20 GHz and 29.5-30.0 GHz  19.4-19.6 GHz, 29.1-29.25 GHz, and 29.25-29.5 GHz <s>  FSS, not MSS terminals <s> <s> <s> <s> <s> <s> <s> <s> <s> <s>  19.7-20.2 GHz and 29.5-30.0 GHz <s> <s> <s> <s> <s>  19.3-19.7 GHz and 29.1-29.5 GHz bands <s> <s> <s> <s> <s> <s> <s> <s> <s> <s> <s> <s> <s> <s> <s> <s> <s> <s> <s> <s> <s> <s> <s> <s> <s> <s> <s> <s> <s> <s> <s> <s> <s> <s> <s> <s> <s> <s> <s> <s> <s> <s> <s> <s> <s> <s> <s> <s> <s> <s> <s> <s> <s> <s> <s> <s> <s> <s> <s> <s> <s> <s> <s> <s> <s> <s> <s> <s> <s> <s> <s> <s> <s> <s> <s> <s> <s> <s> <s> <s> <s> <s> <s> <s> <s> <s> <s> <s> <s> <s> <s> <s> <s> <s> <s> <s> <s> <s> <s> <s> <s> <s> <s> <s> <s> <s> <s> <s> <s> <s> <s> <s> <s> <s>What are the authorized satellite inclinations within the corresponding altitudes?</s></s>osed system is capable of providing FSS on a continuous basis throughout the fifty states, Puerto Rico, and the U.S. Virgin Islands. Kuiper Application, Legal Narrative at 27-28.  47 CFR 25.146(b).\n",
            "  Kuiper states that the design of its system can meet the requirements of section 25.146(b) except as it applies to coverage for the majority of Alaska. Kuiper’s system will cover areas between 56°N and 56° <s> <s> <s> <s> <s> <s> <s> <s> <s> <s> <s>  17.7-18.6 GHz and 18.8-20.2 GHz <s>  <s> <s> <s> <s> <s> <s> <s> <s> <s> <s> <s> <s> <s> <s> <s> <s> <s> <s> <s> <s> <s> <s> <s> <s> <s>\n",
            "Score: 0.9665799839893268\n",
            "\n",
            "Question: How many orbital planes, corresponding to given altitudes and inclinations, has the company been authorized for?\n",
            "Answer: <s> <s> <s> <s> <s> <s>  28 <s> <s> <s> <s> <s> <s> <s> <s> <s> <s> <s> <s> <s> <s> <s> <s> <s> <s> <s> <s> <s> <s> <s> <s> <s> <s> <s> <s> <s> <s> <s> <s> <s> <s> <s> <s> <s> <s> <s> <s> <s> <s> <s> <s> <s> <s> <s> <s> <s> <s> <s> <s> <s> <s> <s> <s> <s> <s> <s> <s> <s> <s> <s> <s> <s> <s> <s> <s> <s> <s> <s> <s> <s> <s> <s> <s> <s> <s> <s> <s> <s> <s> <s> <s> <s> <s> <s> <s> <s> <s> <s> <s> <s> <s> <s> <s> <s> <s> <s> <s> <s> <s> <s> <s> <s> <s> <s> <s> <s> <s> <s> <s> <s> <s> <s> <s> <s> <s> <s> <s> <s> <s> <s> <s> <s> <s> <s> <s> <s> <s> <s> <s> <s> <s> <s> <s> <s> <s> <s> <s> <s> <s> <s> <s> <s> <s> <s> <s> <s> <s> <s> <s> <s> <s> <s> <s> <s> <s> <s> <s> <s> <s> <s> <s> <s> <s> <s> <s> <s> <s> <s> <s> <s> <s> <s> <s> <s> <s> <s> <s> <s> <s> <s> <s> <s> <s> <s> <s> <s> <s> <s> <s> <s> <s> <s> <s> <s> <s> <s> <s> <s> <s> <s> <s> <s> <s> <s> <s> <s> <s> <s> <s>\n",
            "Score: 0.9906467507787724\n",
            "\n",
            "Question: How many satellites are allocated to each orbital plane?\n",
            "Answer: <s> <s> <s> <s> <s> <s>   28 <s> <s> <s> <s> <s> <s> <s> <s> <s> <s> <s> <s> <s> <s> <s> <s> <s> <s> <s> <s> <s> <s> <s> <s> <s> <s> <s> <s> <s> <s> <s> <s> <s> <s> <s> <s> <s> <s> <s> <s> <s> <s> <s> <s> <s> <s> <s> <s> <s> <s> <s> <s> <s> <s> <s> <s> <s> <s> <s> <s> <s> <s> <s> <s> <s> <s> <s> <s> <s> <s> <s> <s> <s> <s> <s> <s> <s> <s> <s> <s> <s> <s> <s> <s> <s> <s> <s> <s> <s> <s> <s> <s> <s> <s> <s> <s> <s> <s> <s> <s> <s> <s> <s> <s> <s> <s> <s> <s> <s> <s> <s> <s> <s> <s> <s> <s> <s> <s> <s> <s> <s> <s> <s> <s> <s> <s> <s> <s> <s> <s> <s> <s> <s> <s> <s> <s> <s> <s> <s> <s> <s> <s> <s> <s> <s> <s> <s> <s> <s> <s> <s> <s> <s> <s> <s> <s> <s> <s> <s> <s> <s> <s> <s> <s> <s> <s> <s> <s> <s> <s> <s> <s> <s> <s> <s> <s> <s> <s> <s> <s> <s> <s> <s> <s> <s> <s> <s> <s> <s> <s> <s> <s> <s> <s> <s> <s> <s> <s> <s> <s> <s> <s> <s> <s> <s> <s> <s> <s> <s> <s> <s>\n",
            "Score: 0.995106536295765\n",
            "\n",
            "Question: How many satellites, for each altitude and inclination, are there across all matching orbital planes?\n",
            "Answer: <s> <s> <s> <s> <s> <s> <s> <s> <s> <s> <s> <s> <s> <s> <s> <s> <s> <s> <s> <s> <s> <s> <s> <s> <s> <s> <s> <s> <s> <s> <s> <s> <s> <s> <s> <s> <s> <s> <s> <s> <s> <s> <s> <s> <s> <s> <s> <s> <s> <s> <s> <s> <s> <s> <s> <s> <s> <s> <s> <s> <s> <s> <s> <s> <s> <s> <s> <s> <s> <s> <s> <s> <s> <s> <s> <s> <s> <s> <s> <s> <s> <s> <s> <s> <s> <s> <s> <s> <s> <s> <s> <s> <s> <s> <s> <s> <s> <s> <s> <s> <s> <s> <s> <s> <s> <s> <s> <s> <s> <s> <s> <s> <s> <s> <s> <s> <s> <s> <s> <s> <s> <s> <s> <s> <s> <s> <s> <s> <s> <s> <s> <s> <s> <s> <s> <s> <s> <s> <s> <s> <s> <s> <s> <s> <s> <s> <s> <s> <s> <s> <s> <s> <s> <s> <s> <s> <s> <s> <s> <s> <s> <s> <s> <s> <s> <s> <s> <s> <s> <s> <s> <s> <s> <s> <s> <s> <s> <s> <s> <s> <s> <s> <s> <s> <s> <s> <s> <s> <s> <s> <s> <s> <s> <s> <s> <s> <s> <s> <s> <s> <s> <s> <s> <s> <s> <s> <s> <s> <s> <s> <s> <s> <s> <s> <s> <s> <s> <s> <s>\n",
            "Score: 0.9944039326921725\n",
            "\n",
            "Question: What is the satellite's expected operational lifetime in years?\n",
            "Answer: <s> <s> <s> <s> <s> <s> <s> <s> <s> <s> <s> <s> <s> <s> <s> <s> <s> <s> <s> <s> <s> <s> <s> <s> <s> <s> <s> <s> <s> <s> <s> <s> <s> <s> <s> <s> <s> <s> <s> <s> <s> <s> <s> <s> <s> <s> <s> <s> <s> <s> <s> <s> <s> <s> <s> <s> <s> <s> <s> <s> <s> <s> <s> <s> <s> <s> <s> <s> <s> <s> <s> <s> <s> <s> <s> <s> <s> <s> <s> <s> <s>  25 <s> <s> <s> <s> <s> <s> <s> <s> <s> <s> <s> <s> <s> <s> <s> <s> <s> <s> <s> <s> <s> <s> <s> <s> <s> <s> <s> <s> <s> <s> <s> <s> <s> <s> <s> <s> <s> <s> <s> <s> <s> <s> <s> <s> <s> <s> <s> <s> <s> <s> <s> <s> <s> <s> <s> <s> <s> <s> <s> <s> <s> <s> <s> <s> <s> <s> <s> <s> <s> <s> <s> <s> <s> <s> <s> <s> <s> <s> <s> <s> <s>  three years <s> <s> <s> <s> <s> <s> <s> <s> <s> <s> <s> <s> <s> <s> <s> <s> <s> <s> <s> <s> <s> <s> <s> <s> <s> <s> <s> <s> <s> <s> <s> <s> <s> <s> <s> <s> <s> <s> <s> <s> <s> <s> <s> <s> <s> <s> <s> <s> <s> <s> <s> <s> <s> <s> <s>\n",
            "Score: 0.9817368926527514\n",
            "\n"
          ]
        }
      ],
      "source": [
        "from transformers import RobertaTokenizer, RobertaTokenizerFast, RobertaForQuestionAnswering, AutoModelForQuestionAnswering\n",
        "import torch\n",
        "import requests\n",
        "import torch.nn.functional as F #to find the score of the answer\n",
        "\n",
        "# Load the saved model and tokenizer\n",
        "model = AutoModelForQuestionAnswering.from_pretrained(\"/content/gdrive/MyDrive/tuned_model\")\n",
        "tokenizer = RobertaTokenizerFast.from_pretrained(\"/content/gdrive/MyDrive/tuned_model\")\n",
        "\n",
        "# Read context from a .txt file\n",
        "url = \"https://raw.githubusercontent.com/AlinZohari/InformationExtraction/main/data/authorize_doc/Kuiper_FCC-20-102A1.txt\"\n",
        "response = requests.get(url)\n",
        "context = response.text\n",
        "\n",
        "#define the questions\n",
        "questions = [\n",
        "    \"What's the name of the satellite constellation the company seeks to deploy or operate?\",\n",
        "    \"On which date was the document released?\",\n",
        "    \"By which date must the company launch and operate half of its satellites?\",\n",
        "    \"By which date is the company expected to have all its satellites operational?\",\n",
        "    \"How many satellites is the company authorized to deploy and operate for this constellation?\",\n",
        "    \"At which authorized altitudes will the company deploy its satellites?\",\n",
        "    \"What are the authorized satellite inclinations within the corresponding altitudes?\",\n",
        "    \"How many orbital planes, corresponding to given altitudes and inclinations, has the company been authorized for?\",\n",
        "    \"How many satellites are allocated to each orbital plane?\",\n",
        "    \"How many satellites, for each altitude and inclination, are there across all matching orbital planes?\",\n",
        "    \"What is the satellite's expected operational lifetime in years?\"\n",
        "]\n",
        "# Function to ask a single question\n",
        "def ask_question(question, context):\n",
        "    # Split the context into chunks of 512 tokens with an overlap of 100 tokens\n",
        "    chunk_size = 512 - tokenizer.num_special_tokens_to_add(pair=True)\n",
        "    overlap = 100\n",
        "    context_chunks = [context[i:i+chunk_size] for i in range(0, len(context), chunk_size - overlap)]\n",
        "\n",
        "    answers = []\n",
        "\n",
        "    for context_chunk in context_chunks:\n",
        "        inputs = tokenizer(question, context_chunk, return_tensors='pt')\n",
        "        outputs = model(**inputs)\n",
        "        start_logits = F.softmax(outputs.start_logits, dim=-1)\n",
        "        end_logits = F.softmax(outputs.end_logits, dim=-1)\n",
        "        answer_start = torch.argmax(start_logits)\n",
        "        answer_end = torch.argmax(end_logits)\n",
        "        answer_score = start_logits[0, answer_start].item() * end_logits[0, answer_end].item()\n",
        "        answer = tokenizer.convert_tokens_to_string(tokenizer.convert_ids_to_tokens(inputs['input_ids'][0][answer_start:answer_end+1]))\n",
        "        answers.append((answer, answer_score))\n",
        "\n",
        "    # Combine the answers from each chunk\n",
        "    full_answers = [answer for answer, _ in answers]\n",
        "    full_answer = ' '.join(full_answers)\n",
        "    # Combine the scores from each chunk\n",
        "    full_scores = [score for _, score in answers]\n",
        "    max_score = max(full_scores)\n",
        "    return full_answer, max_score\n",
        "\n",
        "# Ask each question\n",
        "answers_and_scores = [ask_question(question, context) for question in questions]\n",
        "\n",
        "# Print the answers and scores\n",
        "for question, (answer, score) in zip(questions, answers_and_scores):\n",
        "    print(f'Question: {question}')\n",
        "    print(f'Answer: {answer}')\n",
        "    print(f'Score: {score}\\n')\n"
      ]
    }
  ],
  "metadata": {
    "accelerator": "GPU",
    "colab": {
      "gpuType": "T4",
      "machine_shape": "hm",
      "provenance": [],
      "include_colab_link": true
    },
    "kernelspec": {
      "display_name": "Python 3",
      "name": "python3"
    },
    "language_info": {
      "codemirror_mode": {
        "name": "ipython",
        "version": 3
      },
      "file_extension": ".py",
      "mimetype": "text/x-python",
      "name": "python",
      "nbconvert_exporter": "python",
      "pygments_lexer": "ipython3",
      "version": "3.9.17"
    },
    "orig_nbformat": 4,
    "widgets": {
      "application/vnd.jupyter.widget-state+json": {
        "286c560d899b4c0191467379bae91939": {
          "model_module": "@jupyter-widgets/controls",
          "model_name": "HBoxModel",
          "model_module_version": "1.5.0",
          "state": {
            "_dom_classes": [],
            "_model_module": "@jupyter-widgets/controls",
            "_model_module_version": "1.5.0",
            "_model_name": "HBoxModel",
            "_view_count": null,
            "_view_module": "@jupyter-widgets/controls",
            "_view_module_version": "1.5.0",
            "_view_name": "HBoxView",
            "box_style": "",
            "children": [
              "IPY_MODEL_e600a10a068f42119a1a4da0412a1b86",
              "IPY_MODEL_e366d448bf4a4ed384262d1da26c8e4a",
              "IPY_MODEL_fe25f040d0634f16b2a7da58af1cb5a3"
            ],
            "layout": "IPY_MODEL_b8ba3ad3bd484d7aa34b074af0dd281e"
          }
        },
        "e600a10a068f42119a1a4da0412a1b86": {
          "model_module": "@jupyter-widgets/controls",
          "model_name": "HTMLModel",
          "model_module_version": "1.5.0",
          "state": {
            "_dom_classes": [],
            "_model_module": "@jupyter-widgets/controls",
            "_model_module_version": "1.5.0",
            "_model_name": "HTMLModel",
            "_view_count": null,
            "_view_module": "@jupyter-widgets/controls",
            "_view_module_version": "1.5.0",
            "_view_name": "HTMLView",
            "description": "",
            "description_tooltip": null,
            "layout": "IPY_MODEL_98abf94ee8294527be8c78bcb9ced817",
            "placeholder": "​",
            "style": "IPY_MODEL_4fef068d1b3d4f0e911a5cc1a16ba2b3",
            "value": "Downloading (…)olve/main/vocab.json: 100%"
          }
        },
        "e366d448bf4a4ed384262d1da26c8e4a": {
          "model_module": "@jupyter-widgets/controls",
          "model_name": "FloatProgressModel",
          "model_module_version": "1.5.0",
          "state": {
            "_dom_classes": [],
            "_model_module": "@jupyter-widgets/controls",
            "_model_module_version": "1.5.0",
            "_model_name": "FloatProgressModel",
            "_view_count": null,
            "_view_module": "@jupyter-widgets/controls",
            "_view_module_version": "1.5.0",
            "_view_name": "ProgressView",
            "bar_style": "success",
            "description": "",
            "description_tooltip": null,
            "layout": "IPY_MODEL_e50880d7c6fa493a8f6ed3381cb58f07",
            "max": 898822,
            "min": 0,
            "orientation": "horizontal",
            "style": "IPY_MODEL_cf04bc44fba6464a97c0f76f702de289",
            "value": 898822
          }
        },
        "fe25f040d0634f16b2a7da58af1cb5a3": {
          "model_module": "@jupyter-widgets/controls",
          "model_name": "HTMLModel",
          "model_module_version": "1.5.0",
          "state": {
            "_dom_classes": [],
            "_model_module": "@jupyter-widgets/controls",
            "_model_module_version": "1.5.0",
            "_model_name": "HTMLModel",
            "_view_count": null,
            "_view_module": "@jupyter-widgets/controls",
            "_view_module_version": "1.5.0",
            "_view_name": "HTMLView",
            "description": "",
            "description_tooltip": null,
            "layout": "IPY_MODEL_2ff96bcd6de7472e9416ae9e24c527d4",
            "placeholder": "​",
            "style": "IPY_MODEL_3ad9ee4392ea40468cb6d013739e2b2b",
            "value": " 899k/899k [00:00&lt;00:00, 8.01MB/s]"
          }
        },
        "b8ba3ad3bd484d7aa34b074af0dd281e": {
          "model_module": "@jupyter-widgets/base",
          "model_name": "LayoutModel",
          "model_module_version": "1.2.0",
          "state": {
            "_model_module": "@jupyter-widgets/base",
            "_model_module_version": "1.2.0",
            "_model_name": "LayoutModel",
            "_view_count": null,
            "_view_module": "@jupyter-widgets/base",
            "_view_module_version": "1.2.0",
            "_view_name": "LayoutView",
            "align_content": null,
            "align_items": null,
            "align_self": null,
            "border": null,
            "bottom": null,
            "display": null,
            "flex": null,
            "flex_flow": null,
            "grid_area": null,
            "grid_auto_columns": null,
            "grid_auto_flow": null,
            "grid_auto_rows": null,
            "grid_column": null,
            "grid_gap": null,
            "grid_row": null,
            "grid_template_areas": null,
            "grid_template_columns": null,
            "grid_template_rows": null,
            "height": null,
            "justify_content": null,
            "justify_items": null,
            "left": null,
            "margin": null,
            "max_height": null,
            "max_width": null,
            "min_height": null,
            "min_width": null,
            "object_fit": null,
            "object_position": null,
            "order": null,
            "overflow": null,
            "overflow_x": null,
            "overflow_y": null,
            "padding": null,
            "right": null,
            "top": null,
            "visibility": null,
            "width": null
          }
        },
        "98abf94ee8294527be8c78bcb9ced817": {
          "model_module": "@jupyter-widgets/base",
          "model_name": "LayoutModel",
          "model_module_version": "1.2.0",
          "state": {
            "_model_module": "@jupyter-widgets/base",
            "_model_module_version": "1.2.0",
            "_model_name": "LayoutModel",
            "_view_count": null,
            "_view_module": "@jupyter-widgets/base",
            "_view_module_version": "1.2.0",
            "_view_name": "LayoutView",
            "align_content": null,
            "align_items": null,
            "align_self": null,
            "border": null,
            "bottom": null,
            "display": null,
            "flex": null,
            "flex_flow": null,
            "grid_area": null,
            "grid_auto_columns": null,
            "grid_auto_flow": null,
            "grid_auto_rows": null,
            "grid_column": null,
            "grid_gap": null,
            "grid_row": null,
            "grid_template_areas": null,
            "grid_template_columns": null,
            "grid_template_rows": null,
            "height": null,
            "justify_content": null,
            "justify_items": null,
            "left": null,
            "margin": null,
            "max_height": null,
            "max_width": null,
            "min_height": null,
            "min_width": null,
            "object_fit": null,
            "object_position": null,
            "order": null,
            "overflow": null,
            "overflow_x": null,
            "overflow_y": null,
            "padding": null,
            "right": null,
            "top": null,
            "visibility": null,
            "width": null
          }
        },
        "4fef068d1b3d4f0e911a5cc1a16ba2b3": {
          "model_module": "@jupyter-widgets/controls",
          "model_name": "DescriptionStyleModel",
          "model_module_version": "1.5.0",
          "state": {
            "_model_module": "@jupyter-widgets/controls",
            "_model_module_version": "1.5.0",
            "_model_name": "DescriptionStyleModel",
            "_view_count": null,
            "_view_module": "@jupyter-widgets/base",
            "_view_module_version": "1.2.0",
            "_view_name": "StyleView",
            "description_width": ""
          }
        },
        "e50880d7c6fa493a8f6ed3381cb58f07": {
          "model_module": "@jupyter-widgets/base",
          "model_name": "LayoutModel",
          "model_module_version": "1.2.0",
          "state": {
            "_model_module": "@jupyter-widgets/base",
            "_model_module_version": "1.2.0",
            "_model_name": "LayoutModel",
            "_view_count": null,
            "_view_module": "@jupyter-widgets/base",
            "_view_module_version": "1.2.0",
            "_view_name": "LayoutView",
            "align_content": null,
            "align_items": null,
            "align_self": null,
            "border": null,
            "bottom": null,
            "display": null,
            "flex": null,
            "flex_flow": null,
            "grid_area": null,
            "grid_auto_columns": null,
            "grid_auto_flow": null,
            "grid_auto_rows": null,
            "grid_column": null,
            "grid_gap": null,
            "grid_row": null,
            "grid_template_areas": null,
            "grid_template_columns": null,
            "grid_template_rows": null,
            "height": null,
            "justify_content": null,
            "justify_items": null,
            "left": null,
            "margin": null,
            "max_height": null,
            "max_width": null,
            "min_height": null,
            "min_width": null,
            "object_fit": null,
            "object_position": null,
            "order": null,
            "overflow": null,
            "overflow_x": null,
            "overflow_y": null,
            "padding": null,
            "right": null,
            "top": null,
            "visibility": null,
            "width": null
          }
        },
        "cf04bc44fba6464a97c0f76f702de289": {
          "model_module": "@jupyter-widgets/controls",
          "model_name": "ProgressStyleModel",
          "model_module_version": "1.5.0",
          "state": {
            "_model_module": "@jupyter-widgets/controls",
            "_model_module_version": "1.5.0",
            "_model_name": "ProgressStyleModel",
            "_view_count": null,
            "_view_module": "@jupyter-widgets/base",
            "_view_module_version": "1.2.0",
            "_view_name": "StyleView",
            "bar_color": null,
            "description_width": ""
          }
        },
        "2ff96bcd6de7472e9416ae9e24c527d4": {
          "model_module": "@jupyter-widgets/base",
          "model_name": "LayoutModel",
          "model_module_version": "1.2.0",
          "state": {
            "_model_module": "@jupyter-widgets/base",
            "_model_module_version": "1.2.0",
            "_model_name": "LayoutModel",
            "_view_count": null,
            "_view_module": "@jupyter-widgets/base",
            "_view_module_version": "1.2.0",
            "_view_name": "LayoutView",
            "align_content": null,
            "align_items": null,
            "align_self": null,
            "border": null,
            "bottom": null,
            "display": null,
            "flex": null,
            "flex_flow": null,
            "grid_area": null,
            "grid_auto_columns": null,
            "grid_auto_flow": null,
            "grid_auto_rows": null,
            "grid_column": null,
            "grid_gap": null,
            "grid_row": null,
            "grid_template_areas": null,
            "grid_template_columns": null,
            "grid_template_rows": null,
            "height": null,
            "justify_content": null,
            "justify_items": null,
            "left": null,
            "margin": null,
            "max_height": null,
            "max_width": null,
            "min_height": null,
            "min_width": null,
            "object_fit": null,
            "object_position": null,
            "order": null,
            "overflow": null,
            "overflow_x": null,
            "overflow_y": null,
            "padding": null,
            "right": null,
            "top": null,
            "visibility": null,
            "width": null
          }
        },
        "3ad9ee4392ea40468cb6d013739e2b2b": {
          "model_module": "@jupyter-widgets/controls",
          "model_name": "DescriptionStyleModel",
          "model_module_version": "1.5.0",
          "state": {
            "_model_module": "@jupyter-widgets/controls",
            "_model_module_version": "1.5.0",
            "_model_name": "DescriptionStyleModel",
            "_view_count": null,
            "_view_module": "@jupyter-widgets/base",
            "_view_module_version": "1.2.0",
            "_view_name": "StyleView",
            "description_width": ""
          }
        },
        "80eece663dc34200bb3b18dfdd9017e2": {
          "model_module": "@jupyter-widgets/controls",
          "model_name": "HBoxModel",
          "model_module_version": "1.5.0",
          "state": {
            "_dom_classes": [],
            "_model_module": "@jupyter-widgets/controls",
            "_model_module_version": "1.5.0",
            "_model_name": "HBoxModel",
            "_view_count": null,
            "_view_module": "@jupyter-widgets/controls",
            "_view_module_version": "1.5.0",
            "_view_name": "HBoxView",
            "box_style": "",
            "children": [
              "IPY_MODEL_26e008c218744041a87b4f11fe682992",
              "IPY_MODEL_da9f9466513b4c8393f9b474062e29b1",
              "IPY_MODEL_2932027d183d4eaca11cfeda06b467a5"
            ],
            "layout": "IPY_MODEL_c49adda182f145d094ff37e0bd15b9cb"
          }
        },
        "26e008c218744041a87b4f11fe682992": {
          "model_module": "@jupyter-widgets/controls",
          "model_name": "HTMLModel",
          "model_module_version": "1.5.0",
          "state": {
            "_dom_classes": [],
            "_model_module": "@jupyter-widgets/controls",
            "_model_module_version": "1.5.0",
            "_model_name": "HTMLModel",
            "_view_count": null,
            "_view_module": "@jupyter-widgets/controls",
            "_view_module_version": "1.5.0",
            "_view_name": "HTMLView",
            "description": "",
            "description_tooltip": null,
            "layout": "IPY_MODEL_2076ef5788674bfd8f07577881b5792d",
            "placeholder": "​",
            "style": "IPY_MODEL_a775528317834fe8867d7abd8dfcfc20",
            "value": "Downloading (…)olve/main/merges.txt: 100%"
          }
        },
        "da9f9466513b4c8393f9b474062e29b1": {
          "model_module": "@jupyter-widgets/controls",
          "model_name": "FloatProgressModel",
          "model_module_version": "1.5.0",
          "state": {
            "_dom_classes": [],
            "_model_module": "@jupyter-widgets/controls",
            "_model_module_version": "1.5.0",
            "_model_name": "FloatProgressModel",
            "_view_count": null,
            "_view_module": "@jupyter-widgets/controls",
            "_view_module_version": "1.5.0",
            "_view_name": "ProgressView",
            "bar_style": "success",
            "description": "",
            "description_tooltip": null,
            "layout": "IPY_MODEL_392997f307f04097b5b007480223b827",
            "max": 456318,
            "min": 0,
            "orientation": "horizontal",
            "style": "IPY_MODEL_c3e20d1df05b41c08081abf8e8c027af",
            "value": 456318
          }
        },
        "2932027d183d4eaca11cfeda06b467a5": {
          "model_module": "@jupyter-widgets/controls",
          "model_name": "HTMLModel",
          "model_module_version": "1.5.0",
          "state": {
            "_dom_classes": [],
            "_model_module": "@jupyter-widgets/controls",
            "_model_module_version": "1.5.0",
            "_model_name": "HTMLModel",
            "_view_count": null,
            "_view_module": "@jupyter-widgets/controls",
            "_view_module_version": "1.5.0",
            "_view_name": "HTMLView",
            "description": "",
            "description_tooltip": null,
            "layout": "IPY_MODEL_adf3fe9a89784f9283bb3bbc9da490e9",
            "placeholder": "​",
            "style": "IPY_MODEL_542f5ab2f5fe4ca5ac1ac4aec057bdd8",
            "value": " 456k/456k [00:00&lt;00:00, 5.87MB/s]"
          }
        },
        "c49adda182f145d094ff37e0bd15b9cb": {
          "model_module": "@jupyter-widgets/base",
          "model_name": "LayoutModel",
          "model_module_version": "1.2.0",
          "state": {
            "_model_module": "@jupyter-widgets/base",
            "_model_module_version": "1.2.0",
            "_model_name": "LayoutModel",
            "_view_count": null,
            "_view_module": "@jupyter-widgets/base",
            "_view_module_version": "1.2.0",
            "_view_name": "LayoutView",
            "align_content": null,
            "align_items": null,
            "align_self": null,
            "border": null,
            "bottom": null,
            "display": null,
            "flex": null,
            "flex_flow": null,
            "grid_area": null,
            "grid_auto_columns": null,
            "grid_auto_flow": null,
            "grid_auto_rows": null,
            "grid_column": null,
            "grid_gap": null,
            "grid_row": null,
            "grid_template_areas": null,
            "grid_template_columns": null,
            "grid_template_rows": null,
            "height": null,
            "justify_content": null,
            "justify_items": null,
            "left": null,
            "margin": null,
            "max_height": null,
            "max_width": null,
            "min_height": null,
            "min_width": null,
            "object_fit": null,
            "object_position": null,
            "order": null,
            "overflow": null,
            "overflow_x": null,
            "overflow_y": null,
            "padding": null,
            "right": null,
            "top": null,
            "visibility": null,
            "width": null
          }
        },
        "2076ef5788674bfd8f07577881b5792d": {
          "model_module": "@jupyter-widgets/base",
          "model_name": "LayoutModel",
          "model_module_version": "1.2.0",
          "state": {
            "_model_module": "@jupyter-widgets/base",
            "_model_module_version": "1.2.0",
            "_model_name": "LayoutModel",
            "_view_count": null,
            "_view_module": "@jupyter-widgets/base",
            "_view_module_version": "1.2.0",
            "_view_name": "LayoutView",
            "align_content": null,
            "align_items": null,
            "align_self": null,
            "border": null,
            "bottom": null,
            "display": null,
            "flex": null,
            "flex_flow": null,
            "grid_area": null,
            "grid_auto_columns": null,
            "grid_auto_flow": null,
            "grid_auto_rows": null,
            "grid_column": null,
            "grid_gap": null,
            "grid_row": null,
            "grid_template_areas": null,
            "grid_template_columns": null,
            "grid_template_rows": null,
            "height": null,
            "justify_content": null,
            "justify_items": null,
            "left": null,
            "margin": null,
            "max_height": null,
            "max_width": null,
            "min_height": null,
            "min_width": null,
            "object_fit": null,
            "object_position": null,
            "order": null,
            "overflow": null,
            "overflow_x": null,
            "overflow_y": null,
            "padding": null,
            "right": null,
            "top": null,
            "visibility": null,
            "width": null
          }
        },
        "a775528317834fe8867d7abd8dfcfc20": {
          "model_module": "@jupyter-widgets/controls",
          "model_name": "DescriptionStyleModel",
          "model_module_version": "1.5.0",
          "state": {
            "_model_module": "@jupyter-widgets/controls",
            "_model_module_version": "1.5.0",
            "_model_name": "DescriptionStyleModel",
            "_view_count": null,
            "_view_module": "@jupyter-widgets/base",
            "_view_module_version": "1.2.0",
            "_view_name": "StyleView",
            "description_width": ""
          }
        },
        "392997f307f04097b5b007480223b827": {
          "model_module": "@jupyter-widgets/base",
          "model_name": "LayoutModel",
          "model_module_version": "1.2.0",
          "state": {
            "_model_module": "@jupyter-widgets/base",
            "_model_module_version": "1.2.0",
            "_model_name": "LayoutModel",
            "_view_count": null,
            "_view_module": "@jupyter-widgets/base",
            "_view_module_version": "1.2.0",
            "_view_name": "LayoutView",
            "align_content": null,
            "align_items": null,
            "align_self": null,
            "border": null,
            "bottom": null,
            "display": null,
            "flex": null,
            "flex_flow": null,
            "grid_area": null,
            "grid_auto_columns": null,
            "grid_auto_flow": null,
            "grid_auto_rows": null,
            "grid_column": null,
            "grid_gap": null,
            "grid_row": null,
            "grid_template_areas": null,
            "grid_template_columns": null,
            "grid_template_rows": null,
            "height": null,
            "justify_content": null,
            "justify_items": null,
            "left": null,
            "margin": null,
            "max_height": null,
            "max_width": null,
            "min_height": null,
            "min_width": null,
            "object_fit": null,
            "object_position": null,
            "order": null,
            "overflow": null,
            "overflow_x": null,
            "overflow_y": null,
            "padding": null,
            "right": null,
            "top": null,
            "visibility": null,
            "width": null
          }
        },
        "c3e20d1df05b41c08081abf8e8c027af": {
          "model_module": "@jupyter-widgets/controls",
          "model_name": "ProgressStyleModel",
          "model_module_version": "1.5.0",
          "state": {
            "_model_module": "@jupyter-widgets/controls",
            "_model_module_version": "1.5.0",
            "_model_name": "ProgressStyleModel",
            "_view_count": null,
            "_view_module": "@jupyter-widgets/base",
            "_view_module_version": "1.2.0",
            "_view_name": "StyleView",
            "bar_color": null,
            "description_width": ""
          }
        },
        "adf3fe9a89784f9283bb3bbc9da490e9": {
          "model_module": "@jupyter-widgets/base",
          "model_name": "LayoutModel",
          "model_module_version": "1.2.0",
          "state": {
            "_model_module": "@jupyter-widgets/base",
            "_model_module_version": "1.2.0",
            "_model_name": "LayoutModel",
            "_view_count": null,
            "_view_module": "@jupyter-widgets/base",
            "_view_module_version": "1.2.0",
            "_view_name": "LayoutView",
            "align_content": null,
            "align_items": null,
            "align_self": null,
            "border": null,
            "bottom": null,
            "display": null,
            "flex": null,
            "flex_flow": null,
            "grid_area": null,
            "grid_auto_columns": null,
            "grid_auto_flow": null,
            "grid_auto_rows": null,
            "grid_column": null,
            "grid_gap": null,
            "grid_row": null,
            "grid_template_areas": null,
            "grid_template_columns": null,
            "grid_template_rows": null,
            "height": null,
            "justify_content": null,
            "justify_items": null,
            "left": null,
            "margin": null,
            "max_height": null,
            "max_width": null,
            "min_height": null,
            "min_width": null,
            "object_fit": null,
            "object_position": null,
            "order": null,
            "overflow": null,
            "overflow_x": null,
            "overflow_y": null,
            "padding": null,
            "right": null,
            "top": null,
            "visibility": null,
            "width": null
          }
        },
        "542f5ab2f5fe4ca5ac1ac4aec057bdd8": {
          "model_module": "@jupyter-widgets/controls",
          "model_name": "DescriptionStyleModel",
          "model_module_version": "1.5.0",
          "state": {
            "_model_module": "@jupyter-widgets/controls",
            "_model_module_version": "1.5.0",
            "_model_name": "DescriptionStyleModel",
            "_view_count": null,
            "_view_module": "@jupyter-widgets/base",
            "_view_module_version": "1.2.0",
            "_view_name": "StyleView",
            "description_width": ""
          }
        },
        "d5a0f704886c4359bc32cecfb5221e47": {
          "model_module": "@jupyter-widgets/controls",
          "model_name": "HBoxModel",
          "model_module_version": "1.5.0",
          "state": {
            "_dom_classes": [],
            "_model_module": "@jupyter-widgets/controls",
            "_model_module_version": "1.5.0",
            "_model_name": "HBoxModel",
            "_view_count": null,
            "_view_module": "@jupyter-widgets/controls",
            "_view_module_version": "1.5.0",
            "_view_name": "HBoxView",
            "box_style": "",
            "children": [
              "IPY_MODEL_e038ba5ea3be4c44a18e38b35449456a",
              "IPY_MODEL_7c3ab54a00414f5faded3a5a9e398c96",
              "IPY_MODEL_39051e9c29534ae99139987cb0c89da5"
            ],
            "layout": "IPY_MODEL_505daf0254bf4c95aed5995f4620e9f3"
          }
        },
        "e038ba5ea3be4c44a18e38b35449456a": {
          "model_module": "@jupyter-widgets/controls",
          "model_name": "HTMLModel",
          "model_module_version": "1.5.0",
          "state": {
            "_dom_classes": [],
            "_model_module": "@jupyter-widgets/controls",
            "_model_module_version": "1.5.0",
            "_model_name": "HTMLModel",
            "_view_count": null,
            "_view_module": "@jupyter-widgets/controls",
            "_view_module_version": "1.5.0",
            "_view_name": "HTMLView",
            "description": "",
            "description_tooltip": null,
            "layout": "IPY_MODEL_148caa68e7ee4aea8ab63cc5b57bb71a",
            "placeholder": "​",
            "style": "IPY_MODEL_a10e0787be5041dd8aa70f3eac394147",
            "value": "Downloading (…)cial_tokens_map.json: 100%"
          }
        },
        "7c3ab54a00414f5faded3a5a9e398c96": {
          "model_module": "@jupyter-widgets/controls",
          "model_name": "FloatProgressModel",
          "model_module_version": "1.5.0",
          "state": {
            "_dom_classes": [],
            "_model_module": "@jupyter-widgets/controls",
            "_model_module_version": "1.5.0",
            "_model_name": "FloatProgressModel",
            "_view_count": null,
            "_view_module": "@jupyter-widgets/controls",
            "_view_module_version": "1.5.0",
            "_view_name": "ProgressView",
            "bar_style": "success",
            "description": "",
            "description_tooltip": null,
            "layout": "IPY_MODEL_cd182783d987430694a7bd8910c3a2c9",
            "max": 772,
            "min": 0,
            "orientation": "horizontal",
            "style": "IPY_MODEL_a9f011bb41694571b052a69dc5b6db54",
            "value": 772
          }
        },
        "39051e9c29534ae99139987cb0c89da5": {
          "model_module": "@jupyter-widgets/controls",
          "model_name": "HTMLModel",
          "model_module_version": "1.5.0",
          "state": {
            "_dom_classes": [],
            "_model_module": "@jupyter-widgets/controls",
            "_model_module_version": "1.5.0",
            "_model_name": "HTMLModel",
            "_view_count": null,
            "_view_module": "@jupyter-widgets/controls",
            "_view_module_version": "1.5.0",
            "_view_name": "HTMLView",
            "description": "",
            "description_tooltip": null,
            "layout": "IPY_MODEL_578a0a1132d945fca2bb01f7ae41a6df",
            "placeholder": "​",
            "style": "IPY_MODEL_ec06b18ee6b54bf78fccb594acb2630e",
            "value": " 772/772 [00:00&lt;00:00, 43.7kB/s]"
          }
        },
        "505daf0254bf4c95aed5995f4620e9f3": {
          "model_module": "@jupyter-widgets/base",
          "model_name": "LayoutModel",
          "model_module_version": "1.2.0",
          "state": {
            "_model_module": "@jupyter-widgets/base",
            "_model_module_version": "1.2.0",
            "_model_name": "LayoutModel",
            "_view_count": null,
            "_view_module": "@jupyter-widgets/base",
            "_view_module_version": "1.2.0",
            "_view_name": "LayoutView",
            "align_content": null,
            "align_items": null,
            "align_self": null,
            "border": null,
            "bottom": null,
            "display": null,
            "flex": null,
            "flex_flow": null,
            "grid_area": null,
            "grid_auto_columns": null,
            "grid_auto_flow": null,
            "grid_auto_rows": null,
            "grid_column": null,
            "grid_gap": null,
            "grid_row": null,
            "grid_template_areas": null,
            "grid_template_columns": null,
            "grid_template_rows": null,
            "height": null,
            "justify_content": null,
            "justify_items": null,
            "left": null,
            "margin": null,
            "max_height": null,
            "max_width": null,
            "min_height": null,
            "min_width": null,
            "object_fit": null,
            "object_position": null,
            "order": null,
            "overflow": null,
            "overflow_x": null,
            "overflow_y": null,
            "padding": null,
            "right": null,
            "top": null,
            "visibility": null,
            "width": null
          }
        },
        "148caa68e7ee4aea8ab63cc5b57bb71a": {
          "model_module": "@jupyter-widgets/base",
          "model_name": "LayoutModel",
          "model_module_version": "1.2.0",
          "state": {
            "_model_module": "@jupyter-widgets/base",
            "_model_module_version": "1.2.0",
            "_model_name": "LayoutModel",
            "_view_count": null,
            "_view_module": "@jupyter-widgets/base",
            "_view_module_version": "1.2.0",
            "_view_name": "LayoutView",
            "align_content": null,
            "align_items": null,
            "align_self": null,
            "border": null,
            "bottom": null,
            "display": null,
            "flex": null,
            "flex_flow": null,
            "grid_area": null,
            "grid_auto_columns": null,
            "grid_auto_flow": null,
            "grid_auto_rows": null,
            "grid_column": null,
            "grid_gap": null,
            "grid_row": null,
            "grid_template_areas": null,
            "grid_template_columns": null,
            "grid_template_rows": null,
            "height": null,
            "justify_content": null,
            "justify_items": null,
            "left": null,
            "margin": null,
            "max_height": null,
            "max_width": null,
            "min_height": null,
            "min_width": null,
            "object_fit": null,
            "object_position": null,
            "order": null,
            "overflow": null,
            "overflow_x": null,
            "overflow_y": null,
            "padding": null,
            "right": null,
            "top": null,
            "visibility": null,
            "width": null
          }
        },
        "a10e0787be5041dd8aa70f3eac394147": {
          "model_module": "@jupyter-widgets/controls",
          "model_name": "DescriptionStyleModel",
          "model_module_version": "1.5.0",
          "state": {
            "_model_module": "@jupyter-widgets/controls",
            "_model_module_version": "1.5.0",
            "_model_name": "DescriptionStyleModel",
            "_view_count": null,
            "_view_module": "@jupyter-widgets/base",
            "_view_module_version": "1.2.0",
            "_view_name": "StyleView",
            "description_width": ""
          }
        },
        "cd182783d987430694a7bd8910c3a2c9": {
          "model_module": "@jupyter-widgets/base",
          "model_name": "LayoutModel",
          "model_module_version": "1.2.0",
          "state": {
            "_model_module": "@jupyter-widgets/base",
            "_model_module_version": "1.2.0",
            "_model_name": "LayoutModel",
            "_view_count": null,
            "_view_module": "@jupyter-widgets/base",
            "_view_module_version": "1.2.0",
            "_view_name": "LayoutView",
            "align_content": null,
            "align_items": null,
            "align_self": null,
            "border": null,
            "bottom": null,
            "display": null,
            "flex": null,
            "flex_flow": null,
            "grid_area": null,
            "grid_auto_columns": null,
            "grid_auto_flow": null,
            "grid_auto_rows": null,
            "grid_column": null,
            "grid_gap": null,
            "grid_row": null,
            "grid_template_areas": null,
            "grid_template_columns": null,
            "grid_template_rows": null,
            "height": null,
            "justify_content": null,
            "justify_items": null,
            "left": null,
            "margin": null,
            "max_height": null,
            "max_width": null,
            "min_height": null,
            "min_width": null,
            "object_fit": null,
            "object_position": null,
            "order": null,
            "overflow": null,
            "overflow_x": null,
            "overflow_y": null,
            "padding": null,
            "right": null,
            "top": null,
            "visibility": null,
            "width": null
          }
        },
        "a9f011bb41694571b052a69dc5b6db54": {
          "model_module": "@jupyter-widgets/controls",
          "model_name": "ProgressStyleModel",
          "model_module_version": "1.5.0",
          "state": {
            "_model_module": "@jupyter-widgets/controls",
            "_model_module_version": "1.5.0",
            "_model_name": "ProgressStyleModel",
            "_view_count": null,
            "_view_module": "@jupyter-widgets/base",
            "_view_module_version": "1.2.0",
            "_view_name": "StyleView",
            "bar_color": null,
            "description_width": ""
          }
        },
        "578a0a1132d945fca2bb01f7ae41a6df": {
          "model_module": "@jupyter-widgets/base",
          "model_name": "LayoutModel",
          "model_module_version": "1.2.0",
          "state": {
            "_model_module": "@jupyter-widgets/base",
            "_model_module_version": "1.2.0",
            "_model_name": "LayoutModel",
            "_view_count": null,
            "_view_module": "@jupyter-widgets/base",
            "_view_module_version": "1.2.0",
            "_view_name": "LayoutView",
            "align_content": null,
            "align_items": null,
            "align_self": null,
            "border": null,
            "bottom": null,
            "display": null,
            "flex": null,
            "flex_flow": null,
            "grid_area": null,
            "grid_auto_columns": null,
            "grid_auto_flow": null,
            "grid_auto_rows": null,
            "grid_column": null,
            "grid_gap": null,
            "grid_row": null,
            "grid_template_areas": null,
            "grid_template_columns": null,
            "grid_template_rows": null,
            "height": null,
            "justify_content": null,
            "justify_items": null,
            "left": null,
            "margin": null,
            "max_height": null,
            "max_width": null,
            "min_height": null,
            "min_width": null,
            "object_fit": null,
            "object_position": null,
            "order": null,
            "overflow": null,
            "overflow_x": null,
            "overflow_y": null,
            "padding": null,
            "right": null,
            "top": null,
            "visibility": null,
            "width": null
          }
        },
        "ec06b18ee6b54bf78fccb594acb2630e": {
          "model_module": "@jupyter-widgets/controls",
          "model_name": "DescriptionStyleModel",
          "model_module_version": "1.5.0",
          "state": {
            "_model_module": "@jupyter-widgets/controls",
            "_model_module_version": "1.5.0",
            "_model_name": "DescriptionStyleModel",
            "_view_count": null,
            "_view_module": "@jupyter-widgets/base",
            "_view_module_version": "1.2.0",
            "_view_name": "StyleView",
            "description_width": ""
          }
        },
        "ce23bd6348784c5eb13858eec88663e7": {
          "model_module": "@jupyter-widgets/controls",
          "model_name": "HBoxModel",
          "model_module_version": "1.5.0",
          "state": {
            "_dom_classes": [],
            "_model_module": "@jupyter-widgets/controls",
            "_model_module_version": "1.5.0",
            "_model_name": "HBoxModel",
            "_view_count": null,
            "_view_module": "@jupyter-widgets/controls",
            "_view_module_version": "1.5.0",
            "_view_name": "HBoxView",
            "box_style": "",
            "children": [
              "IPY_MODEL_7e8c565be8064d38a685f8bc9e60a91c",
              "IPY_MODEL_fc04bece11bb40cb98d553ea1efbaf9e",
              "IPY_MODEL_fe26562a86584236bef65a9991a21d87"
            ],
            "layout": "IPY_MODEL_bd277e735d794c9da589206c4830614b"
          }
        },
        "7e8c565be8064d38a685f8bc9e60a91c": {
          "model_module": "@jupyter-widgets/controls",
          "model_name": "HTMLModel",
          "model_module_version": "1.5.0",
          "state": {
            "_dom_classes": [],
            "_model_module": "@jupyter-widgets/controls",
            "_model_module_version": "1.5.0",
            "_model_name": "HTMLModel",
            "_view_count": null,
            "_view_module": "@jupyter-widgets/controls",
            "_view_module_version": "1.5.0",
            "_view_name": "HTMLView",
            "description": "",
            "description_tooltip": null,
            "layout": "IPY_MODEL_7e3de83d6c754d29b30a355b7efdb1eb",
            "placeholder": "​",
            "style": "IPY_MODEL_38b21fb72ecd4500999f1251a678039a",
            "value": "Downloading (…)okenizer_config.json: 100%"
          }
        },
        "fc04bece11bb40cb98d553ea1efbaf9e": {
          "model_module": "@jupyter-widgets/controls",
          "model_name": "FloatProgressModel",
          "model_module_version": "1.5.0",
          "state": {
            "_dom_classes": [],
            "_model_module": "@jupyter-widgets/controls",
            "_model_module_version": "1.5.0",
            "_model_name": "FloatProgressModel",
            "_view_count": null,
            "_view_module": "@jupyter-widgets/controls",
            "_view_module_version": "1.5.0",
            "_view_name": "ProgressView",
            "bar_style": "success",
            "description": "",
            "description_tooltip": null,
            "layout": "IPY_MODEL_57cfe4caeac3488cb23abff3968209df",
            "max": 79,
            "min": 0,
            "orientation": "horizontal",
            "style": "IPY_MODEL_248d04b80ca5428ba88f8e18c6c0d62c",
            "value": 79
          }
        },
        "fe26562a86584236bef65a9991a21d87": {
          "model_module": "@jupyter-widgets/controls",
          "model_name": "HTMLModel",
          "model_module_version": "1.5.0",
          "state": {
            "_dom_classes": [],
            "_model_module": "@jupyter-widgets/controls",
            "_model_module_version": "1.5.0",
            "_model_name": "HTMLModel",
            "_view_count": null,
            "_view_module": "@jupyter-widgets/controls",
            "_view_module_version": "1.5.0",
            "_view_name": "HTMLView",
            "description": "",
            "description_tooltip": null,
            "layout": "IPY_MODEL_7e61bc175dd5415095a67d39c81ecb13",
            "placeholder": "​",
            "style": "IPY_MODEL_ed7e34101b04429ebaa9b62087cbbbc2",
            "value": " 79.0/79.0 [00:00&lt;00:00, 6.39kB/s]"
          }
        },
        "bd277e735d794c9da589206c4830614b": {
          "model_module": "@jupyter-widgets/base",
          "model_name": "LayoutModel",
          "model_module_version": "1.2.0",
          "state": {
            "_model_module": "@jupyter-widgets/base",
            "_model_module_version": "1.2.0",
            "_model_name": "LayoutModel",
            "_view_count": null,
            "_view_module": "@jupyter-widgets/base",
            "_view_module_version": "1.2.0",
            "_view_name": "LayoutView",
            "align_content": null,
            "align_items": null,
            "align_self": null,
            "border": null,
            "bottom": null,
            "display": null,
            "flex": null,
            "flex_flow": null,
            "grid_area": null,
            "grid_auto_columns": null,
            "grid_auto_flow": null,
            "grid_auto_rows": null,
            "grid_column": null,
            "grid_gap": null,
            "grid_row": null,
            "grid_template_areas": null,
            "grid_template_columns": null,
            "grid_template_rows": null,
            "height": null,
            "justify_content": null,
            "justify_items": null,
            "left": null,
            "margin": null,
            "max_height": null,
            "max_width": null,
            "min_height": null,
            "min_width": null,
            "object_fit": null,
            "object_position": null,
            "order": null,
            "overflow": null,
            "overflow_x": null,
            "overflow_y": null,
            "padding": null,
            "right": null,
            "top": null,
            "visibility": null,
            "width": null
          }
        },
        "7e3de83d6c754d29b30a355b7efdb1eb": {
          "model_module": "@jupyter-widgets/base",
          "model_name": "LayoutModel",
          "model_module_version": "1.2.0",
          "state": {
            "_model_module": "@jupyter-widgets/base",
            "_model_module_version": "1.2.0",
            "_model_name": "LayoutModel",
            "_view_count": null,
            "_view_module": "@jupyter-widgets/base",
            "_view_module_version": "1.2.0",
            "_view_name": "LayoutView",
            "align_content": null,
            "align_items": null,
            "align_self": null,
            "border": null,
            "bottom": null,
            "display": null,
            "flex": null,
            "flex_flow": null,
            "grid_area": null,
            "grid_auto_columns": null,
            "grid_auto_flow": null,
            "grid_auto_rows": null,
            "grid_column": null,
            "grid_gap": null,
            "grid_row": null,
            "grid_template_areas": null,
            "grid_template_columns": null,
            "grid_template_rows": null,
            "height": null,
            "justify_content": null,
            "justify_items": null,
            "left": null,
            "margin": null,
            "max_height": null,
            "max_width": null,
            "min_height": null,
            "min_width": null,
            "object_fit": null,
            "object_position": null,
            "order": null,
            "overflow": null,
            "overflow_x": null,
            "overflow_y": null,
            "padding": null,
            "right": null,
            "top": null,
            "visibility": null,
            "width": null
          }
        },
        "38b21fb72ecd4500999f1251a678039a": {
          "model_module": "@jupyter-widgets/controls",
          "model_name": "DescriptionStyleModel",
          "model_module_version": "1.5.0",
          "state": {
            "_model_module": "@jupyter-widgets/controls",
            "_model_module_version": "1.5.0",
            "_model_name": "DescriptionStyleModel",
            "_view_count": null,
            "_view_module": "@jupyter-widgets/base",
            "_view_module_version": "1.2.0",
            "_view_name": "StyleView",
            "description_width": ""
          }
        },
        "57cfe4caeac3488cb23abff3968209df": {
          "model_module": "@jupyter-widgets/base",
          "model_name": "LayoutModel",
          "model_module_version": "1.2.0",
          "state": {
            "_model_module": "@jupyter-widgets/base",
            "_model_module_version": "1.2.0",
            "_model_name": "LayoutModel",
            "_view_count": null,
            "_view_module": "@jupyter-widgets/base",
            "_view_module_version": "1.2.0",
            "_view_name": "LayoutView",
            "align_content": null,
            "align_items": null,
            "align_self": null,
            "border": null,
            "bottom": null,
            "display": null,
            "flex": null,
            "flex_flow": null,
            "grid_area": null,
            "grid_auto_columns": null,
            "grid_auto_flow": null,
            "grid_auto_rows": null,
            "grid_column": null,
            "grid_gap": null,
            "grid_row": null,
            "grid_template_areas": null,
            "grid_template_columns": null,
            "grid_template_rows": null,
            "height": null,
            "justify_content": null,
            "justify_items": null,
            "left": null,
            "margin": null,
            "max_height": null,
            "max_width": null,
            "min_height": null,
            "min_width": null,
            "object_fit": null,
            "object_position": null,
            "order": null,
            "overflow": null,
            "overflow_x": null,
            "overflow_y": null,
            "padding": null,
            "right": null,
            "top": null,
            "visibility": null,
            "width": null
          }
        },
        "248d04b80ca5428ba88f8e18c6c0d62c": {
          "model_module": "@jupyter-widgets/controls",
          "model_name": "ProgressStyleModel",
          "model_module_version": "1.5.0",
          "state": {
            "_model_module": "@jupyter-widgets/controls",
            "_model_module_version": "1.5.0",
            "_model_name": "ProgressStyleModel",
            "_view_count": null,
            "_view_module": "@jupyter-widgets/base",
            "_view_module_version": "1.2.0",
            "_view_name": "StyleView",
            "bar_color": null,
            "description_width": ""
          }
        },
        "7e61bc175dd5415095a67d39c81ecb13": {
          "model_module": "@jupyter-widgets/base",
          "model_name": "LayoutModel",
          "model_module_version": "1.2.0",
          "state": {
            "_model_module": "@jupyter-widgets/base",
            "_model_module_version": "1.2.0",
            "_model_name": "LayoutModel",
            "_view_count": null,
            "_view_module": "@jupyter-widgets/base",
            "_view_module_version": "1.2.0",
            "_view_name": "LayoutView",
            "align_content": null,
            "align_items": null,
            "align_self": null,
            "border": null,
            "bottom": null,
            "display": null,
            "flex": null,
            "flex_flow": null,
            "grid_area": null,
            "grid_auto_columns": null,
            "grid_auto_flow": null,
            "grid_auto_rows": null,
            "grid_column": null,
            "grid_gap": null,
            "grid_row": null,
            "grid_template_areas": null,
            "grid_template_columns": null,
            "grid_template_rows": null,
            "height": null,
            "justify_content": null,
            "justify_items": null,
            "left": null,
            "margin": null,
            "max_height": null,
            "max_width": null,
            "min_height": null,
            "min_width": null,
            "object_fit": null,
            "object_position": null,
            "order": null,
            "overflow": null,
            "overflow_x": null,
            "overflow_y": null,
            "padding": null,
            "right": null,
            "top": null,
            "visibility": null,
            "width": null
          }
        },
        "ed7e34101b04429ebaa9b62087cbbbc2": {
          "model_module": "@jupyter-widgets/controls",
          "model_name": "DescriptionStyleModel",
          "model_module_version": "1.5.0",
          "state": {
            "_model_module": "@jupyter-widgets/controls",
            "_model_module_version": "1.5.0",
            "_model_name": "DescriptionStyleModel",
            "_view_count": null,
            "_view_module": "@jupyter-widgets/base",
            "_view_module_version": "1.2.0",
            "_view_name": "StyleView",
            "description_width": ""
          }
        },
        "95f420b8d74a4379b11db6232bedf91f": {
          "model_module": "@jupyter-widgets/controls",
          "model_name": "HBoxModel",
          "model_module_version": "1.5.0",
          "state": {
            "_dom_classes": [],
            "_model_module": "@jupyter-widgets/controls",
            "_model_module_version": "1.5.0",
            "_model_name": "HBoxModel",
            "_view_count": null,
            "_view_module": "@jupyter-widgets/controls",
            "_view_module_version": "1.5.0",
            "_view_name": "HBoxView",
            "box_style": "",
            "children": [
              "IPY_MODEL_59478aedcffc4a2a83b6dec1b41e8c4f",
              "IPY_MODEL_a23455f5be254c73a39536b4e6084e0b",
              "IPY_MODEL_e3c4e261a76a425994d4420319c17f09"
            ],
            "layout": "IPY_MODEL_2476a341b63547ceabeba915008e8d23"
          }
        },
        "59478aedcffc4a2a83b6dec1b41e8c4f": {
          "model_module": "@jupyter-widgets/controls",
          "model_name": "HTMLModel",
          "model_module_version": "1.5.0",
          "state": {
            "_dom_classes": [],
            "_model_module": "@jupyter-widgets/controls",
            "_model_module_version": "1.5.0",
            "_model_name": "HTMLModel",
            "_view_count": null,
            "_view_module": "@jupyter-widgets/controls",
            "_view_module_version": "1.5.0",
            "_view_name": "HTMLView",
            "description": "",
            "description_tooltip": null,
            "layout": "IPY_MODEL_9a9a99003fd040e5aefcf4068780ed3d",
            "placeholder": "​",
            "style": "IPY_MODEL_fcadf4600f974bbf95012b2c3bb3c481",
            "value": "Downloading (…)lve/main/config.json: 100%"
          }
        },
        "a23455f5be254c73a39536b4e6084e0b": {
          "model_module": "@jupyter-widgets/controls",
          "model_name": "FloatProgressModel",
          "model_module_version": "1.5.0",
          "state": {
            "_dom_classes": [],
            "_model_module": "@jupyter-widgets/controls",
            "_model_module_version": "1.5.0",
            "_model_name": "FloatProgressModel",
            "_view_count": null,
            "_view_module": "@jupyter-widgets/controls",
            "_view_module_version": "1.5.0",
            "_view_name": "ProgressView",
            "bar_style": "success",
            "description": "",
            "description_tooltip": null,
            "layout": "IPY_MODEL_342075cef21d4ab8b915cc8e7b1a85f0",
            "max": 571,
            "min": 0,
            "orientation": "horizontal",
            "style": "IPY_MODEL_8cac8c14fc2447a2adf6aab5c6ca20d8",
            "value": 571
          }
        },
        "e3c4e261a76a425994d4420319c17f09": {
          "model_module": "@jupyter-widgets/controls",
          "model_name": "HTMLModel",
          "model_module_version": "1.5.0",
          "state": {
            "_dom_classes": [],
            "_model_module": "@jupyter-widgets/controls",
            "_model_module_version": "1.5.0",
            "_model_name": "HTMLModel",
            "_view_count": null,
            "_view_module": "@jupyter-widgets/controls",
            "_view_module_version": "1.5.0",
            "_view_name": "HTMLView",
            "description": "",
            "description_tooltip": null,
            "layout": "IPY_MODEL_cac37ae8754f4b6580c234eebd3d3335",
            "placeholder": "​",
            "style": "IPY_MODEL_02601bc717cb41ecacec4a56a1fb75db",
            "value": " 571/571 [00:00&lt;00:00, 45.7kB/s]"
          }
        },
        "2476a341b63547ceabeba915008e8d23": {
          "model_module": "@jupyter-widgets/base",
          "model_name": "LayoutModel",
          "model_module_version": "1.2.0",
          "state": {
            "_model_module": "@jupyter-widgets/base",
            "_model_module_version": "1.2.0",
            "_model_name": "LayoutModel",
            "_view_count": null,
            "_view_module": "@jupyter-widgets/base",
            "_view_module_version": "1.2.0",
            "_view_name": "LayoutView",
            "align_content": null,
            "align_items": null,
            "align_self": null,
            "border": null,
            "bottom": null,
            "display": null,
            "flex": null,
            "flex_flow": null,
            "grid_area": null,
            "grid_auto_columns": null,
            "grid_auto_flow": null,
            "grid_auto_rows": null,
            "grid_column": null,
            "grid_gap": null,
            "grid_row": null,
            "grid_template_areas": null,
            "grid_template_columns": null,
            "grid_template_rows": null,
            "height": null,
            "justify_content": null,
            "justify_items": null,
            "left": null,
            "margin": null,
            "max_height": null,
            "max_width": null,
            "min_height": null,
            "min_width": null,
            "object_fit": null,
            "object_position": null,
            "order": null,
            "overflow": null,
            "overflow_x": null,
            "overflow_y": null,
            "padding": null,
            "right": null,
            "top": null,
            "visibility": null,
            "width": null
          }
        },
        "9a9a99003fd040e5aefcf4068780ed3d": {
          "model_module": "@jupyter-widgets/base",
          "model_name": "LayoutModel",
          "model_module_version": "1.2.0",
          "state": {
            "_model_module": "@jupyter-widgets/base",
            "_model_module_version": "1.2.0",
            "_model_name": "LayoutModel",
            "_view_count": null,
            "_view_module": "@jupyter-widgets/base",
            "_view_module_version": "1.2.0",
            "_view_name": "LayoutView",
            "align_content": null,
            "align_items": null,
            "align_self": null,
            "border": null,
            "bottom": null,
            "display": null,
            "flex": null,
            "flex_flow": null,
            "grid_area": null,
            "grid_auto_columns": null,
            "grid_auto_flow": null,
            "grid_auto_rows": null,
            "grid_column": null,
            "grid_gap": null,
            "grid_row": null,
            "grid_template_areas": null,
            "grid_template_columns": null,
            "grid_template_rows": null,
            "height": null,
            "justify_content": null,
            "justify_items": null,
            "left": null,
            "margin": null,
            "max_height": null,
            "max_width": null,
            "min_height": null,
            "min_width": null,
            "object_fit": null,
            "object_position": null,
            "order": null,
            "overflow": null,
            "overflow_x": null,
            "overflow_y": null,
            "padding": null,
            "right": null,
            "top": null,
            "visibility": null,
            "width": null
          }
        },
        "fcadf4600f974bbf95012b2c3bb3c481": {
          "model_module": "@jupyter-widgets/controls",
          "model_name": "DescriptionStyleModel",
          "model_module_version": "1.5.0",
          "state": {
            "_model_module": "@jupyter-widgets/controls",
            "_model_module_version": "1.5.0",
            "_model_name": "DescriptionStyleModel",
            "_view_count": null,
            "_view_module": "@jupyter-widgets/base",
            "_view_module_version": "1.2.0",
            "_view_name": "StyleView",
            "description_width": ""
          }
        },
        "342075cef21d4ab8b915cc8e7b1a85f0": {
          "model_module": "@jupyter-widgets/base",
          "model_name": "LayoutModel",
          "model_module_version": "1.2.0",
          "state": {
            "_model_module": "@jupyter-widgets/base",
            "_model_module_version": "1.2.0",
            "_model_name": "LayoutModel",
            "_view_count": null,
            "_view_module": "@jupyter-widgets/base",
            "_view_module_version": "1.2.0",
            "_view_name": "LayoutView",
            "align_content": null,
            "align_items": null,
            "align_self": null,
            "border": null,
            "bottom": null,
            "display": null,
            "flex": null,
            "flex_flow": null,
            "grid_area": null,
            "grid_auto_columns": null,
            "grid_auto_flow": null,
            "grid_auto_rows": null,
            "grid_column": null,
            "grid_gap": null,
            "grid_row": null,
            "grid_template_areas": null,
            "grid_template_columns": null,
            "grid_template_rows": null,
            "height": null,
            "justify_content": null,
            "justify_items": null,
            "left": null,
            "margin": null,
            "max_height": null,
            "max_width": null,
            "min_height": null,
            "min_width": null,
            "object_fit": null,
            "object_position": null,
            "order": null,
            "overflow": null,
            "overflow_x": null,
            "overflow_y": null,
            "padding": null,
            "right": null,
            "top": null,
            "visibility": null,
            "width": null
          }
        },
        "8cac8c14fc2447a2adf6aab5c6ca20d8": {
          "model_module": "@jupyter-widgets/controls",
          "model_name": "ProgressStyleModel",
          "model_module_version": "1.5.0",
          "state": {
            "_model_module": "@jupyter-widgets/controls",
            "_model_module_version": "1.5.0",
            "_model_name": "ProgressStyleModel",
            "_view_count": null,
            "_view_module": "@jupyter-widgets/base",
            "_view_module_version": "1.2.0",
            "_view_name": "StyleView",
            "bar_color": null,
            "description_width": ""
          }
        },
        "cac37ae8754f4b6580c234eebd3d3335": {
          "model_module": "@jupyter-widgets/base",
          "model_name": "LayoutModel",
          "model_module_version": "1.2.0",
          "state": {
            "_model_module": "@jupyter-widgets/base",
            "_model_module_version": "1.2.0",
            "_model_name": "LayoutModel",
            "_view_count": null,
            "_view_module": "@jupyter-widgets/base",
            "_view_module_version": "1.2.0",
            "_view_name": "LayoutView",
            "align_content": null,
            "align_items": null,
            "align_self": null,
            "border": null,
            "bottom": null,
            "display": null,
            "flex": null,
            "flex_flow": null,
            "grid_area": null,
            "grid_auto_columns": null,
            "grid_auto_flow": null,
            "grid_auto_rows": null,
            "grid_column": null,
            "grid_gap": null,
            "grid_row": null,
            "grid_template_areas": null,
            "grid_template_columns": null,
            "grid_template_rows": null,
            "height": null,
            "justify_content": null,
            "justify_items": null,
            "left": null,
            "margin": null,
            "max_height": null,
            "max_width": null,
            "min_height": null,
            "min_width": null,
            "object_fit": null,
            "object_position": null,
            "order": null,
            "overflow": null,
            "overflow_x": null,
            "overflow_y": null,
            "padding": null,
            "right": null,
            "top": null,
            "visibility": null,
            "width": null
          }
        },
        "02601bc717cb41ecacec4a56a1fb75db": {
          "model_module": "@jupyter-widgets/controls",
          "model_name": "DescriptionStyleModel",
          "model_module_version": "1.5.0",
          "state": {
            "_model_module": "@jupyter-widgets/controls",
            "_model_module_version": "1.5.0",
            "_model_name": "DescriptionStyleModel",
            "_view_count": null,
            "_view_module": "@jupyter-widgets/base",
            "_view_module_version": "1.2.0",
            "_view_name": "StyleView",
            "description_width": ""
          }
        },
        "429ddab1d22f443d9a9684b362b35a6e": {
          "model_module": "@jupyter-widgets/controls",
          "model_name": "HBoxModel",
          "model_module_version": "1.5.0",
          "state": {
            "_dom_classes": [],
            "_model_module": "@jupyter-widgets/controls",
            "_model_module_version": "1.5.0",
            "_model_name": "HBoxModel",
            "_view_count": null,
            "_view_module": "@jupyter-widgets/controls",
            "_view_module_version": "1.5.0",
            "_view_name": "HBoxView",
            "box_style": "",
            "children": [
              "IPY_MODEL_5cea868c31d24e3fb17c9e0511efb8bc",
              "IPY_MODEL_8b574fa316a14f73af6eefedd034926b",
              "IPY_MODEL_da5d8a870eb44db390311ebda7e31f80"
            ],
            "layout": "IPY_MODEL_c7f42348bbb34cef8c8db0c5cb8643c5"
          }
        },
        "5cea868c31d24e3fb17c9e0511efb8bc": {
          "model_module": "@jupyter-widgets/controls",
          "model_name": "HTMLModel",
          "model_module_version": "1.5.0",
          "state": {
            "_dom_classes": [],
            "_model_module": "@jupyter-widgets/controls",
            "_model_module_version": "1.5.0",
            "_model_name": "HTMLModel",
            "_view_count": null,
            "_view_module": "@jupyter-widgets/controls",
            "_view_module_version": "1.5.0",
            "_view_name": "HTMLView",
            "description": "",
            "description_tooltip": null,
            "layout": "IPY_MODEL_82e5c1724e10488fb4384c0eef23edea",
            "placeholder": "​",
            "style": "IPY_MODEL_0c8225ed1c824b04b77397a9dd2c4414",
            "value": "Downloading model.safetensors: 100%"
          }
        },
        "8b574fa316a14f73af6eefedd034926b": {
          "model_module": "@jupyter-widgets/controls",
          "model_name": "FloatProgressModel",
          "model_module_version": "1.5.0",
          "state": {
            "_dom_classes": [],
            "_model_module": "@jupyter-widgets/controls",
            "_model_module_version": "1.5.0",
            "_model_name": "FloatProgressModel",
            "_view_count": null,
            "_view_module": "@jupyter-widgets/controls",
            "_view_module_version": "1.5.0",
            "_view_name": "ProgressView",
            "bar_style": "success",
            "description": "",
            "description_tooltip": null,
            "layout": "IPY_MODEL_448c85c521b24826a7fd71b15cb21295",
            "max": 496254442,
            "min": 0,
            "orientation": "horizontal",
            "style": "IPY_MODEL_8e57692dccab4c82bf028a1bbe855f1e",
            "value": 496254442
          }
        },
        "da5d8a870eb44db390311ebda7e31f80": {
          "model_module": "@jupyter-widgets/controls",
          "model_name": "HTMLModel",
          "model_module_version": "1.5.0",
          "state": {
            "_dom_classes": [],
            "_model_module": "@jupyter-widgets/controls",
            "_model_module_version": "1.5.0",
            "_model_name": "HTMLModel",
            "_view_count": null,
            "_view_module": "@jupyter-widgets/controls",
            "_view_module_version": "1.5.0",
            "_view_name": "HTMLView",
            "description": "",
            "description_tooltip": null,
            "layout": "IPY_MODEL_402b49e90cee4fb0b13df5486e901a9b",
            "placeholder": "​",
            "style": "IPY_MODEL_1da75c04806348fdb5bae5481c68b0e3",
            "value": " 496M/496M [00:03&lt;00:00, 143MB/s]"
          }
        },
        "c7f42348bbb34cef8c8db0c5cb8643c5": {
          "model_module": "@jupyter-widgets/base",
          "model_name": "LayoutModel",
          "model_module_version": "1.2.0",
          "state": {
            "_model_module": "@jupyter-widgets/base",
            "_model_module_version": "1.2.0",
            "_model_name": "LayoutModel",
            "_view_count": null,
            "_view_module": "@jupyter-widgets/base",
            "_view_module_version": "1.2.0",
            "_view_name": "LayoutView",
            "align_content": null,
            "align_items": null,
            "align_self": null,
            "border": null,
            "bottom": null,
            "display": null,
            "flex": null,
            "flex_flow": null,
            "grid_area": null,
            "grid_auto_columns": null,
            "grid_auto_flow": null,
            "grid_auto_rows": null,
            "grid_column": null,
            "grid_gap": null,
            "grid_row": null,
            "grid_template_areas": null,
            "grid_template_columns": null,
            "grid_template_rows": null,
            "height": null,
            "justify_content": null,
            "justify_items": null,
            "left": null,
            "margin": null,
            "max_height": null,
            "max_width": null,
            "min_height": null,
            "min_width": null,
            "object_fit": null,
            "object_position": null,
            "order": null,
            "overflow": null,
            "overflow_x": null,
            "overflow_y": null,
            "padding": null,
            "right": null,
            "top": null,
            "visibility": null,
            "width": null
          }
        },
        "82e5c1724e10488fb4384c0eef23edea": {
          "model_module": "@jupyter-widgets/base",
          "model_name": "LayoutModel",
          "model_module_version": "1.2.0",
          "state": {
            "_model_module": "@jupyter-widgets/base",
            "_model_module_version": "1.2.0",
            "_model_name": "LayoutModel",
            "_view_count": null,
            "_view_module": "@jupyter-widgets/base",
            "_view_module_version": "1.2.0",
            "_view_name": "LayoutView",
            "align_content": null,
            "align_items": null,
            "align_self": null,
            "border": null,
            "bottom": null,
            "display": null,
            "flex": null,
            "flex_flow": null,
            "grid_area": null,
            "grid_auto_columns": null,
            "grid_auto_flow": null,
            "grid_auto_rows": null,
            "grid_column": null,
            "grid_gap": null,
            "grid_row": null,
            "grid_template_areas": null,
            "grid_template_columns": null,
            "grid_template_rows": null,
            "height": null,
            "justify_content": null,
            "justify_items": null,
            "left": null,
            "margin": null,
            "max_height": null,
            "max_width": null,
            "min_height": null,
            "min_width": null,
            "object_fit": null,
            "object_position": null,
            "order": null,
            "overflow": null,
            "overflow_x": null,
            "overflow_y": null,
            "padding": null,
            "right": null,
            "top": null,
            "visibility": null,
            "width": null
          }
        },
        "0c8225ed1c824b04b77397a9dd2c4414": {
          "model_module": "@jupyter-widgets/controls",
          "model_name": "DescriptionStyleModel",
          "model_module_version": "1.5.0",
          "state": {
            "_model_module": "@jupyter-widgets/controls",
            "_model_module_version": "1.5.0",
            "_model_name": "DescriptionStyleModel",
            "_view_count": null,
            "_view_module": "@jupyter-widgets/base",
            "_view_module_version": "1.2.0",
            "_view_name": "StyleView",
            "description_width": ""
          }
        },
        "448c85c521b24826a7fd71b15cb21295": {
          "model_module": "@jupyter-widgets/base",
          "model_name": "LayoutModel",
          "model_module_version": "1.2.0",
          "state": {
            "_model_module": "@jupyter-widgets/base",
            "_model_module_version": "1.2.0",
            "_model_name": "LayoutModel",
            "_view_count": null,
            "_view_module": "@jupyter-widgets/base",
            "_view_module_version": "1.2.0",
            "_view_name": "LayoutView",
            "align_content": null,
            "align_items": null,
            "align_self": null,
            "border": null,
            "bottom": null,
            "display": null,
            "flex": null,
            "flex_flow": null,
            "grid_area": null,
            "grid_auto_columns": null,
            "grid_auto_flow": null,
            "grid_auto_rows": null,
            "grid_column": null,
            "grid_gap": null,
            "grid_row": null,
            "grid_template_areas": null,
            "grid_template_columns": null,
            "grid_template_rows": null,
            "height": null,
            "justify_content": null,
            "justify_items": null,
            "left": null,
            "margin": null,
            "max_height": null,
            "max_width": null,
            "min_height": null,
            "min_width": null,
            "object_fit": null,
            "object_position": null,
            "order": null,
            "overflow": null,
            "overflow_x": null,
            "overflow_y": null,
            "padding": null,
            "right": null,
            "top": null,
            "visibility": null,
            "width": null
          }
        },
        "8e57692dccab4c82bf028a1bbe855f1e": {
          "model_module": "@jupyter-widgets/controls",
          "model_name": "ProgressStyleModel",
          "model_module_version": "1.5.0",
          "state": {
            "_model_module": "@jupyter-widgets/controls",
            "_model_module_version": "1.5.0",
            "_model_name": "ProgressStyleModel",
            "_view_count": null,
            "_view_module": "@jupyter-widgets/base",
            "_view_module_version": "1.2.0",
            "_view_name": "StyleView",
            "bar_color": null,
            "description_width": ""
          }
        },
        "402b49e90cee4fb0b13df5486e901a9b": {
          "model_module": "@jupyter-widgets/base",
          "model_name": "LayoutModel",
          "model_module_version": "1.2.0",
          "state": {
            "_model_module": "@jupyter-widgets/base",
            "_model_module_version": "1.2.0",
            "_model_name": "LayoutModel",
            "_view_count": null,
            "_view_module": "@jupyter-widgets/base",
            "_view_module_version": "1.2.0",
            "_view_name": "LayoutView",
            "align_content": null,
            "align_items": null,
            "align_self": null,
            "border": null,
            "bottom": null,
            "display": null,
            "flex": null,
            "flex_flow": null,
            "grid_area": null,
            "grid_auto_columns": null,
            "grid_auto_flow": null,
            "grid_auto_rows": null,
            "grid_column": null,
            "grid_gap": null,
            "grid_row": null,
            "grid_template_areas": null,
            "grid_template_columns": null,
            "grid_template_rows": null,
            "height": null,
            "justify_content": null,
            "justify_items": null,
            "left": null,
            "margin": null,
            "max_height": null,
            "max_width": null,
            "min_height": null,
            "min_width": null,
            "object_fit": null,
            "object_position": null,
            "order": null,
            "overflow": null,
            "overflow_x": null,
            "overflow_y": null,
            "padding": null,
            "right": null,
            "top": null,
            "visibility": null,
            "width": null
          }
        },
        "1da75c04806348fdb5bae5481c68b0e3": {
          "model_module": "@jupyter-widgets/controls",
          "model_name": "DescriptionStyleModel",
          "model_module_version": "1.5.0",
          "state": {
            "_model_module": "@jupyter-widgets/controls",
            "_model_module_version": "1.5.0",
            "_model_name": "DescriptionStyleModel",
            "_view_count": null,
            "_view_module": "@jupyter-widgets/base",
            "_view_module_version": "1.2.0",
            "_view_name": "StyleView",
            "description_width": ""
          }
        },
        "492c0b9ae997400a97493c6ec0edaaf6": {
          "model_module": "@jupyter-widgets/controls",
          "model_name": "HBoxModel",
          "model_module_version": "1.5.0",
          "state": {
            "_dom_classes": [],
            "_model_module": "@jupyter-widgets/controls",
            "_model_module_version": "1.5.0",
            "_model_name": "HBoxModel",
            "_view_count": null,
            "_view_module": "@jupyter-widgets/controls",
            "_view_module_version": "1.5.0",
            "_view_name": "HBoxView",
            "box_style": "",
            "children": [
              "IPY_MODEL_989d2ad9061b424c964cee0e15da4066",
              "IPY_MODEL_99815c29b1a2432ea4c47a133fd68139",
              "IPY_MODEL_dbc71e5ad92f431c9ead8395a826cf42"
            ],
            "layout": "IPY_MODEL_048dff7bf9ba49f6b4ab7dec38a85d7b"
          }
        },
        "989d2ad9061b424c964cee0e15da4066": {
          "model_module": "@jupyter-widgets/controls",
          "model_name": "HTMLModel",
          "model_module_version": "1.5.0",
          "state": {
            "_dom_classes": [],
            "_model_module": "@jupyter-widgets/controls",
            "_model_module_version": "1.5.0",
            "_model_name": "HTMLModel",
            "_view_count": null,
            "_view_module": "@jupyter-widgets/controls",
            "_view_module_version": "1.5.0",
            "_view_name": "HTMLView",
            "description": "",
            "description_tooltip": null,
            "layout": "IPY_MODEL_f97f03b8b0f74ece827ca8cddfb55e87",
            "placeholder": "​",
            "style": "IPY_MODEL_61d3641fd55348e3bfe347c7d311be02",
            "value": "Map: 100%"
          }
        },
        "99815c29b1a2432ea4c47a133fd68139": {
          "model_module": "@jupyter-widgets/controls",
          "model_name": "FloatProgressModel",
          "model_module_version": "1.5.0",
          "state": {
            "_dom_classes": [],
            "_model_module": "@jupyter-widgets/controls",
            "_model_module_version": "1.5.0",
            "_model_name": "FloatProgressModel",
            "_view_count": null,
            "_view_module": "@jupyter-widgets/controls",
            "_view_module_version": "1.5.0",
            "_view_name": "ProgressView",
            "bar_style": "success",
            "description": "",
            "description_tooltip": null,
            "layout": "IPY_MODEL_f76dc1234ed24bfe8b5eda0f2e5e84a6",
            "max": 13,
            "min": 0,
            "orientation": "horizontal",
            "style": "IPY_MODEL_86db2267f51e48df839a007315f2d107",
            "value": 13
          }
        },
        "dbc71e5ad92f431c9ead8395a826cf42": {
          "model_module": "@jupyter-widgets/controls",
          "model_name": "HTMLModel",
          "model_module_version": "1.5.0",
          "state": {
            "_dom_classes": [],
            "_model_module": "@jupyter-widgets/controls",
            "_model_module_version": "1.5.0",
            "_model_name": "HTMLModel",
            "_view_count": null,
            "_view_module": "@jupyter-widgets/controls",
            "_view_module_version": "1.5.0",
            "_view_name": "HTMLView",
            "description": "",
            "description_tooltip": null,
            "layout": "IPY_MODEL_9c02414d282c4ef9b0e859a375b627a9",
            "placeholder": "​",
            "style": "IPY_MODEL_6163fadc51004629b91ba2661bed5a17",
            "value": " 13/13 [00:00&lt;00:00, 335.38 examples/s]"
          }
        },
        "048dff7bf9ba49f6b4ab7dec38a85d7b": {
          "model_module": "@jupyter-widgets/base",
          "model_name": "LayoutModel",
          "model_module_version": "1.2.0",
          "state": {
            "_model_module": "@jupyter-widgets/base",
            "_model_module_version": "1.2.0",
            "_model_name": "LayoutModel",
            "_view_count": null,
            "_view_module": "@jupyter-widgets/base",
            "_view_module_version": "1.2.0",
            "_view_name": "LayoutView",
            "align_content": null,
            "align_items": null,
            "align_self": null,
            "border": null,
            "bottom": null,
            "display": null,
            "flex": null,
            "flex_flow": null,
            "grid_area": null,
            "grid_auto_columns": null,
            "grid_auto_flow": null,
            "grid_auto_rows": null,
            "grid_column": null,
            "grid_gap": null,
            "grid_row": null,
            "grid_template_areas": null,
            "grid_template_columns": null,
            "grid_template_rows": null,
            "height": null,
            "justify_content": null,
            "justify_items": null,
            "left": null,
            "margin": null,
            "max_height": null,
            "max_width": null,
            "min_height": null,
            "min_width": null,
            "object_fit": null,
            "object_position": null,
            "order": null,
            "overflow": null,
            "overflow_x": null,
            "overflow_y": null,
            "padding": null,
            "right": null,
            "top": null,
            "visibility": null,
            "width": null
          }
        },
        "f97f03b8b0f74ece827ca8cddfb55e87": {
          "model_module": "@jupyter-widgets/base",
          "model_name": "LayoutModel",
          "model_module_version": "1.2.0",
          "state": {
            "_model_module": "@jupyter-widgets/base",
            "_model_module_version": "1.2.0",
            "_model_name": "LayoutModel",
            "_view_count": null,
            "_view_module": "@jupyter-widgets/base",
            "_view_module_version": "1.2.0",
            "_view_name": "LayoutView",
            "align_content": null,
            "align_items": null,
            "align_self": null,
            "border": null,
            "bottom": null,
            "display": null,
            "flex": null,
            "flex_flow": null,
            "grid_area": null,
            "grid_auto_columns": null,
            "grid_auto_flow": null,
            "grid_auto_rows": null,
            "grid_column": null,
            "grid_gap": null,
            "grid_row": null,
            "grid_template_areas": null,
            "grid_template_columns": null,
            "grid_template_rows": null,
            "height": null,
            "justify_content": null,
            "justify_items": null,
            "left": null,
            "margin": null,
            "max_height": null,
            "max_width": null,
            "min_height": null,
            "min_width": null,
            "object_fit": null,
            "object_position": null,
            "order": null,
            "overflow": null,
            "overflow_x": null,
            "overflow_y": null,
            "padding": null,
            "right": null,
            "top": null,
            "visibility": null,
            "width": null
          }
        },
        "61d3641fd55348e3bfe347c7d311be02": {
          "model_module": "@jupyter-widgets/controls",
          "model_name": "DescriptionStyleModel",
          "model_module_version": "1.5.0",
          "state": {
            "_model_module": "@jupyter-widgets/controls",
            "_model_module_version": "1.5.0",
            "_model_name": "DescriptionStyleModel",
            "_view_count": null,
            "_view_module": "@jupyter-widgets/base",
            "_view_module_version": "1.2.0",
            "_view_name": "StyleView",
            "description_width": ""
          }
        },
        "f76dc1234ed24bfe8b5eda0f2e5e84a6": {
          "model_module": "@jupyter-widgets/base",
          "model_name": "LayoutModel",
          "model_module_version": "1.2.0",
          "state": {
            "_model_module": "@jupyter-widgets/base",
            "_model_module_version": "1.2.0",
            "_model_name": "LayoutModel",
            "_view_count": null,
            "_view_module": "@jupyter-widgets/base",
            "_view_module_version": "1.2.0",
            "_view_name": "LayoutView",
            "align_content": null,
            "align_items": null,
            "align_self": null,
            "border": null,
            "bottom": null,
            "display": null,
            "flex": null,
            "flex_flow": null,
            "grid_area": null,
            "grid_auto_columns": null,
            "grid_auto_flow": null,
            "grid_auto_rows": null,
            "grid_column": null,
            "grid_gap": null,
            "grid_row": null,
            "grid_template_areas": null,
            "grid_template_columns": null,
            "grid_template_rows": null,
            "height": null,
            "justify_content": null,
            "justify_items": null,
            "left": null,
            "margin": null,
            "max_height": null,
            "max_width": null,
            "min_height": null,
            "min_width": null,
            "object_fit": null,
            "object_position": null,
            "order": null,
            "overflow": null,
            "overflow_x": null,
            "overflow_y": null,
            "padding": null,
            "right": null,
            "top": null,
            "visibility": null,
            "width": null
          }
        },
        "86db2267f51e48df839a007315f2d107": {
          "model_module": "@jupyter-widgets/controls",
          "model_name": "ProgressStyleModel",
          "model_module_version": "1.5.0",
          "state": {
            "_model_module": "@jupyter-widgets/controls",
            "_model_module_version": "1.5.0",
            "_model_name": "ProgressStyleModel",
            "_view_count": null,
            "_view_module": "@jupyter-widgets/base",
            "_view_module_version": "1.2.0",
            "_view_name": "StyleView",
            "bar_color": null,
            "description_width": ""
          }
        },
        "9c02414d282c4ef9b0e859a375b627a9": {
          "model_module": "@jupyter-widgets/base",
          "model_name": "LayoutModel",
          "model_module_version": "1.2.0",
          "state": {
            "_model_module": "@jupyter-widgets/base",
            "_model_module_version": "1.2.0",
            "_model_name": "LayoutModel",
            "_view_count": null,
            "_view_module": "@jupyter-widgets/base",
            "_view_module_version": "1.2.0",
            "_view_name": "LayoutView",
            "align_content": null,
            "align_items": null,
            "align_self": null,
            "border": null,
            "bottom": null,
            "display": null,
            "flex": null,
            "flex_flow": null,
            "grid_area": null,
            "grid_auto_columns": null,
            "grid_auto_flow": null,
            "grid_auto_rows": null,
            "grid_column": null,
            "grid_gap": null,
            "grid_row": null,
            "grid_template_areas": null,
            "grid_template_columns": null,
            "grid_template_rows": null,
            "height": null,
            "justify_content": null,
            "justify_items": null,
            "left": null,
            "margin": null,
            "max_height": null,
            "max_width": null,
            "min_height": null,
            "min_width": null,
            "object_fit": null,
            "object_position": null,
            "order": null,
            "overflow": null,
            "overflow_x": null,
            "overflow_y": null,
            "padding": null,
            "right": null,
            "top": null,
            "visibility": null,
            "width": null
          }
        },
        "6163fadc51004629b91ba2661bed5a17": {
          "model_module": "@jupyter-widgets/controls",
          "model_name": "DescriptionStyleModel",
          "model_module_version": "1.5.0",
          "state": {
            "_model_module": "@jupyter-widgets/controls",
            "_model_module_version": "1.5.0",
            "_model_name": "DescriptionStyleModel",
            "_view_count": null,
            "_view_module": "@jupyter-widgets/base",
            "_view_module_version": "1.2.0",
            "_view_name": "StyleView",
            "description_width": ""
          }
        },
        "2b30c9e5e0d94495bd4acdae97a7b039": {
          "model_module": "@jupyter-widgets/controls",
          "model_name": "HBoxModel",
          "model_module_version": "1.5.0",
          "state": {
            "_dom_classes": [],
            "_model_module": "@jupyter-widgets/controls",
            "_model_module_version": "1.5.0",
            "_model_name": "HBoxModel",
            "_view_count": null,
            "_view_module": "@jupyter-widgets/controls",
            "_view_module_version": "1.5.0",
            "_view_name": "HBoxView",
            "box_style": "",
            "children": [
              "IPY_MODEL_9a4b271fd94e4addb3253ee9b2fa9e72",
              "IPY_MODEL_33ec3e824b6146bca7c5c1ca663951bf",
              "IPY_MODEL_1ad1274c630a45baae1cc41552f3c1e7"
            ],
            "layout": "IPY_MODEL_c5ab8416242f43d9a56fa10ee2d6d895"
          }
        },
        "9a4b271fd94e4addb3253ee9b2fa9e72": {
          "model_module": "@jupyter-widgets/controls",
          "model_name": "HTMLModel",
          "model_module_version": "1.5.0",
          "state": {
            "_dom_classes": [],
            "_model_module": "@jupyter-widgets/controls",
            "_model_module_version": "1.5.0",
            "_model_name": "HTMLModel",
            "_view_count": null,
            "_view_module": "@jupyter-widgets/controls",
            "_view_module_version": "1.5.0",
            "_view_name": "HTMLView",
            "description": "",
            "description_tooltip": null,
            "layout": "IPY_MODEL_24e8a09776314a82936e899c94b20614",
            "placeholder": "​",
            "style": "IPY_MODEL_e1c9943f98b64701a15e87a7feac0a2a",
            "value": "Map: 100%"
          }
        },
        "33ec3e824b6146bca7c5c1ca663951bf": {
          "model_module": "@jupyter-widgets/controls",
          "model_name": "FloatProgressModel",
          "model_module_version": "1.5.0",
          "state": {
            "_dom_classes": [],
            "_model_module": "@jupyter-widgets/controls",
            "_model_module_version": "1.5.0",
            "_model_name": "FloatProgressModel",
            "_view_count": null,
            "_view_module": "@jupyter-widgets/controls",
            "_view_module_version": "1.5.0",
            "_view_name": "ProgressView",
            "bar_style": "success",
            "description": "",
            "description_tooltip": null,
            "layout": "IPY_MODEL_c866491966944a9f866e63f15025d2c7",
            "max": 1,
            "min": 0,
            "orientation": "horizontal",
            "style": "IPY_MODEL_04d31fbf9d164311ab3dc2905cab565c",
            "value": 1
          }
        },
        "1ad1274c630a45baae1cc41552f3c1e7": {
          "model_module": "@jupyter-widgets/controls",
          "model_name": "HTMLModel",
          "model_module_version": "1.5.0",
          "state": {
            "_dom_classes": [],
            "_model_module": "@jupyter-widgets/controls",
            "_model_module_version": "1.5.0",
            "_model_name": "HTMLModel",
            "_view_count": null,
            "_view_module": "@jupyter-widgets/controls",
            "_view_module_version": "1.5.0",
            "_view_name": "HTMLView",
            "description": "",
            "description_tooltip": null,
            "layout": "IPY_MODEL_470019f6660741e6afaa782ccf5e72cf",
            "placeholder": "​",
            "style": "IPY_MODEL_9c3b8682830c476d9371c4526d60f663",
            "value": " 1/1 [00:00&lt;00:00, 37.32 examples/s]"
          }
        },
        "c5ab8416242f43d9a56fa10ee2d6d895": {
          "model_module": "@jupyter-widgets/base",
          "model_name": "LayoutModel",
          "model_module_version": "1.2.0",
          "state": {
            "_model_module": "@jupyter-widgets/base",
            "_model_module_version": "1.2.0",
            "_model_name": "LayoutModel",
            "_view_count": null,
            "_view_module": "@jupyter-widgets/base",
            "_view_module_version": "1.2.0",
            "_view_name": "LayoutView",
            "align_content": null,
            "align_items": null,
            "align_self": null,
            "border": null,
            "bottom": null,
            "display": null,
            "flex": null,
            "flex_flow": null,
            "grid_area": null,
            "grid_auto_columns": null,
            "grid_auto_flow": null,
            "grid_auto_rows": null,
            "grid_column": null,
            "grid_gap": null,
            "grid_row": null,
            "grid_template_areas": null,
            "grid_template_columns": null,
            "grid_template_rows": null,
            "height": null,
            "justify_content": null,
            "justify_items": null,
            "left": null,
            "margin": null,
            "max_height": null,
            "max_width": null,
            "min_height": null,
            "min_width": null,
            "object_fit": null,
            "object_position": null,
            "order": null,
            "overflow": null,
            "overflow_x": null,
            "overflow_y": null,
            "padding": null,
            "right": null,
            "top": null,
            "visibility": null,
            "width": null
          }
        },
        "24e8a09776314a82936e899c94b20614": {
          "model_module": "@jupyter-widgets/base",
          "model_name": "LayoutModel",
          "model_module_version": "1.2.0",
          "state": {
            "_model_module": "@jupyter-widgets/base",
            "_model_module_version": "1.2.0",
            "_model_name": "LayoutModel",
            "_view_count": null,
            "_view_module": "@jupyter-widgets/base",
            "_view_module_version": "1.2.0",
            "_view_name": "LayoutView",
            "align_content": null,
            "align_items": null,
            "align_self": null,
            "border": null,
            "bottom": null,
            "display": null,
            "flex": null,
            "flex_flow": null,
            "grid_area": null,
            "grid_auto_columns": null,
            "grid_auto_flow": null,
            "grid_auto_rows": null,
            "grid_column": null,
            "grid_gap": null,
            "grid_row": null,
            "grid_template_areas": null,
            "grid_template_columns": null,
            "grid_template_rows": null,
            "height": null,
            "justify_content": null,
            "justify_items": null,
            "left": null,
            "margin": null,
            "max_height": null,
            "max_width": null,
            "min_height": null,
            "min_width": null,
            "object_fit": null,
            "object_position": null,
            "order": null,
            "overflow": null,
            "overflow_x": null,
            "overflow_y": null,
            "padding": null,
            "right": null,
            "top": null,
            "visibility": null,
            "width": null
          }
        },
        "e1c9943f98b64701a15e87a7feac0a2a": {
          "model_module": "@jupyter-widgets/controls",
          "model_name": "DescriptionStyleModel",
          "model_module_version": "1.5.0",
          "state": {
            "_model_module": "@jupyter-widgets/controls",
            "_model_module_version": "1.5.0",
            "_model_name": "DescriptionStyleModel",
            "_view_count": null,
            "_view_module": "@jupyter-widgets/base",
            "_view_module_version": "1.2.0",
            "_view_name": "StyleView",
            "description_width": ""
          }
        },
        "c866491966944a9f866e63f15025d2c7": {
          "model_module": "@jupyter-widgets/base",
          "model_name": "LayoutModel",
          "model_module_version": "1.2.0",
          "state": {
            "_model_module": "@jupyter-widgets/base",
            "_model_module_version": "1.2.0",
            "_model_name": "LayoutModel",
            "_view_count": null,
            "_view_module": "@jupyter-widgets/base",
            "_view_module_version": "1.2.0",
            "_view_name": "LayoutView",
            "align_content": null,
            "align_items": null,
            "align_self": null,
            "border": null,
            "bottom": null,
            "display": null,
            "flex": null,
            "flex_flow": null,
            "grid_area": null,
            "grid_auto_columns": null,
            "grid_auto_flow": null,
            "grid_auto_rows": null,
            "grid_column": null,
            "grid_gap": null,
            "grid_row": null,
            "grid_template_areas": null,
            "grid_template_columns": null,
            "grid_template_rows": null,
            "height": null,
            "justify_content": null,
            "justify_items": null,
            "left": null,
            "margin": null,
            "max_height": null,
            "max_width": null,
            "min_height": null,
            "min_width": null,
            "object_fit": null,
            "object_position": null,
            "order": null,
            "overflow": null,
            "overflow_x": null,
            "overflow_y": null,
            "padding": null,
            "right": null,
            "top": null,
            "visibility": null,
            "width": null
          }
        },
        "04d31fbf9d164311ab3dc2905cab565c": {
          "model_module": "@jupyter-widgets/controls",
          "model_name": "ProgressStyleModel",
          "model_module_version": "1.5.0",
          "state": {
            "_model_module": "@jupyter-widgets/controls",
            "_model_module_version": "1.5.0",
            "_model_name": "ProgressStyleModel",
            "_view_count": null,
            "_view_module": "@jupyter-widgets/base",
            "_view_module_version": "1.2.0",
            "_view_name": "StyleView",
            "bar_color": null,
            "description_width": ""
          }
        },
        "470019f6660741e6afaa782ccf5e72cf": {
          "model_module": "@jupyter-widgets/base",
          "model_name": "LayoutModel",
          "model_module_version": "1.2.0",
          "state": {
            "_model_module": "@jupyter-widgets/base",
            "_model_module_version": "1.2.0",
            "_model_name": "LayoutModel",
            "_view_count": null,
            "_view_module": "@jupyter-widgets/base",
            "_view_module_version": "1.2.0",
            "_view_name": "LayoutView",
            "align_content": null,
            "align_items": null,
            "align_self": null,
            "border": null,
            "bottom": null,
            "display": null,
            "flex": null,
            "flex_flow": null,
            "grid_area": null,
            "grid_auto_columns": null,
            "grid_auto_flow": null,
            "grid_auto_rows": null,
            "grid_column": null,
            "grid_gap": null,
            "grid_row": null,
            "grid_template_areas": null,
            "grid_template_columns": null,
            "grid_template_rows": null,
            "height": null,
            "justify_content": null,
            "justify_items": null,
            "left": null,
            "margin": null,
            "max_height": null,
            "max_width": null,
            "min_height": null,
            "min_width": null,
            "object_fit": null,
            "object_position": null,
            "order": null,
            "overflow": null,
            "overflow_x": null,
            "overflow_y": null,
            "padding": null,
            "right": null,
            "top": null,
            "visibility": null,
            "width": null
          }
        },
        "9c3b8682830c476d9371c4526d60f663": {
          "model_module": "@jupyter-widgets/controls",
          "model_name": "DescriptionStyleModel",
          "model_module_version": "1.5.0",
          "state": {
            "_model_module": "@jupyter-widgets/controls",
            "_model_module_version": "1.5.0",
            "_model_name": "DescriptionStyleModel",
            "_view_count": null,
            "_view_module": "@jupyter-widgets/base",
            "_view_module_version": "1.2.0",
            "_view_name": "StyleView",
            "description_width": ""
          }
        }
      }
    }
  },
  "nbformat": 4,
  "nbformat_minor": 0
}
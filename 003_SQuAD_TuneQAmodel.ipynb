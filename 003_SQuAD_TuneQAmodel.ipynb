{
  "cells": [
    {
      "cell_type": "markdown",
      "metadata": {
        "id": "view-in-github",
        "colab_type": "text"
      },
      "source": [
        "<a href=\"https://colab.research.google.com/github/AlinZohari/InformationExtraction/blob/starlink_gen2/003_SQuAD_TuneQAmodel.ipynb\" target=\"_parent\"><img src=\"https://colab.research.google.com/assets/colab-badge.svg\" alt=\"Open In Colab\"/></a>"
      ]
    },
    {
      "cell_type": "markdown",
      "metadata": {
        "id": "7ha78KH0frS0"
      },
      "source": [
        "# Fine-Tuning QA model"
      ]
    },
    {
      "cell_type": "markdown",
      "metadata": {
        "id": "Hg2fF-z4AVgI"
      },
      "source": [
        "This notebook are run in Google Colab to leverage its GPU capability"
      ]
    },
    {
      "cell_type": "markdown",
      "metadata": {
        "id": "ss08hKKUfrS1"
      },
      "source": [
        "Reference:\n",
        "1. Hugging Face -  [Question and Answering Task Guide](https://huggingface.co/docs/transformers/tasks/question_answering)\n",
        "2. Hugging face [notebook](https://colab.research.google.com/github/huggingface/notebooks/blob/main/examples/question_answering-tf.ipynb) on Question Answering on SQUAD\n",
        "2. Creating Train and Validation Datasets - https://simpletransformers.ai/docs/qa-data-formats/"
      ]
    },
    {
      "cell_type": "markdown",
      "metadata": {
        "id": "T-6JjBOICsey"
      },
      "source": [
        "## Preparation GPU in Google Colab"
      ]
    },
    {
      "cell_type": "code",
      "execution_count": 1,
      "metadata": {
        "colab": {
          "base_uri": "https://localhost:8080/"
        },
        "id": "i9OAMAN7Qf0r",
        "outputId": "65ef8f4b-a5be-4df9-cd6a-a9fa972d09e2"
      },
      "outputs": [
        {
          "output_type": "stream",
          "name": "stdout",
          "text": [
            "Wed Aug 30 13:24:47 2023       \n",
            "+-----------------------------------------------------------------------------+\n",
            "| NVIDIA-SMI 525.105.17   Driver Version: 525.105.17   CUDA Version: 12.0     |\n",
            "|-------------------------------+----------------------+----------------------+\n",
            "| GPU  Name        Persistence-M| Bus-Id        Disp.A | Volatile Uncorr. ECC |\n",
            "| Fan  Temp  Perf  Pwr:Usage/Cap|         Memory-Usage | GPU-Util  Compute M. |\n",
            "|                               |                      |               MIG M. |\n",
            "|===============================+======================+======================|\n",
            "|   0  Tesla T4            Off  | 00000000:00:04.0 Off |                    0 |\n",
            "| N/A   35C    P8     9W /  70W |      0MiB / 15360MiB |      0%      Default |\n",
            "|                               |                      |                  N/A |\n",
            "+-------------------------------+----------------------+----------------------+\n",
            "                                                                               \n",
            "+-----------------------------------------------------------------------------+\n",
            "| Processes:                                                                  |\n",
            "|  GPU   GI   CI        PID   Type   Process name                  GPU Memory |\n",
            "|        ID   ID                                                   Usage      |\n",
            "|=============================================================================|\n",
            "|  No running processes found                                                 |\n",
            "+-----------------------------------------------------------------------------+\n"
          ]
        }
      ],
      "source": [
        "gpu_info = !nvidia-smi\n",
        "gpu_info = '\\n'.join(gpu_info)\n",
        "if gpu_info.find('failed') >= 0:\n",
        "  print('Not connected to a GPU')\n",
        "else:\n",
        "  print(gpu_info)"
      ]
    },
    {
      "cell_type": "code",
      "execution_count": 2,
      "metadata": {
        "colab": {
          "base_uri": "https://localhost:8080/"
        },
        "id": "39dkGpjcQfn4",
        "outputId": "f8df4e86-9b89-42aa-ef6d-b80903c1aa46"
      },
      "outputs": [
        {
          "output_type": "stream",
          "name": "stdout",
          "text": [
            "Your runtime has 54.8 gigabytes of available RAM\n",
            "\n",
            "You are using a high-RAM runtime!\n"
          ]
        }
      ],
      "source": [
        "from psutil import virtual_memory\n",
        "ram_gb = virtual_memory().total / 1e9\n",
        "print('Your runtime has {:.1f} gigabytes of available RAM\\n'.format(ram_gb))\n",
        "\n",
        "if ram_gb < 20:\n",
        "  print('Not using a high-RAM runtime')\n",
        "else:\n",
        "  print('You are using a high-RAM runtime!')"
      ]
    },
    {
      "cell_type": "code",
      "execution_count": 3,
      "metadata": {
        "id": "PNDA2y8dqyJc"
      },
      "outputs": [],
      "source": [
        "import os\n",
        "os.environ['CUDA_LAUNCH_BLOCKING'] = '1'"
      ]
    },
    {
      "cell_type": "markdown",
      "metadata": {
        "id": "Y_SRPedNAVgN"
      },
      "source": [
        "Setting CUDA_LAUNCH_BLOCKING=1 makes all CUDA operations synchronous, which means the CPU will wait for the GPU to finish before executing the next line of code. This makes it easier to identify and debug errors, because the stack trace will show exactly where the error occurred.However, this will make the code run slower"
      ]
    },
    {
      "cell_type": "code",
      "execution_count": 4,
      "metadata": {
        "colab": {
          "base_uri": "https://localhost:8080/"
        },
        "id": "cO6fnBssfrS1",
        "outputId": "2aecf9a4-1473-4b6c-b0f5-6b3ca17d2b20"
      },
      "outputs": [
        {
          "output_type": "stream",
          "name": "stdout",
          "text": [
            "Requirement already satisfied: transformers[torch] in /usr/local/lib/python3.10/dist-packages (4.32.1)\n",
            "Requirement already satisfied: filelock in /usr/local/lib/python3.10/dist-packages (from transformers[torch]) (3.12.2)\n",
            "Requirement already satisfied: huggingface-hub<1.0,>=0.15.1 in /usr/local/lib/python3.10/dist-packages (from transformers[torch]) (0.16.4)\n",
            "Requirement already satisfied: numpy>=1.17 in /usr/local/lib/python3.10/dist-packages (from transformers[torch]) (1.23.5)\n",
            "Requirement already satisfied: packaging>=20.0 in /usr/local/lib/python3.10/dist-packages (from transformers[torch]) (23.1)\n",
            "Requirement already satisfied: pyyaml>=5.1 in /usr/local/lib/python3.10/dist-packages (from transformers[torch]) (6.0.1)\n",
            "Requirement already satisfied: regex!=2019.12.17 in /usr/local/lib/python3.10/dist-packages (from transformers[torch]) (2023.6.3)\n",
            "Requirement already satisfied: requests in /usr/local/lib/python3.10/dist-packages (from transformers[torch]) (2.31.0)\n",
            "Requirement already satisfied: tokenizers!=0.11.3,<0.14,>=0.11.1 in /usr/local/lib/python3.10/dist-packages (from transformers[torch]) (0.13.3)\n",
            "Requirement already satisfied: safetensors>=0.3.1 in /usr/local/lib/python3.10/dist-packages (from transformers[torch]) (0.3.3)\n",
            "Requirement already satisfied: tqdm>=4.27 in /usr/local/lib/python3.10/dist-packages (from transformers[torch]) (4.66.1)\n",
            "Requirement already satisfied: torch!=1.12.0,>=1.9 in /usr/local/lib/python3.10/dist-packages (from transformers[torch]) (2.0.1+cu118)\n",
            "Requirement already satisfied: accelerate>=0.20.3 in /usr/local/lib/python3.10/dist-packages (from transformers[torch]) (0.22.0)\n",
            "Requirement already satisfied: psutil in /usr/local/lib/python3.10/dist-packages (from accelerate>=0.20.3->transformers[torch]) (5.9.5)\n",
            "Requirement already satisfied: fsspec in /usr/local/lib/python3.10/dist-packages (from huggingface-hub<1.0,>=0.15.1->transformers[torch]) (2023.6.0)\n",
            "Requirement already satisfied: typing-extensions>=3.7.4.3 in /usr/local/lib/python3.10/dist-packages (from huggingface-hub<1.0,>=0.15.1->transformers[torch]) (4.7.1)\n",
            "Requirement already satisfied: sympy in /usr/local/lib/python3.10/dist-packages (from torch!=1.12.0,>=1.9->transformers[torch]) (1.12)\n",
            "Requirement already satisfied: networkx in /usr/local/lib/python3.10/dist-packages (from torch!=1.12.0,>=1.9->transformers[torch]) (3.1)\n",
            "Requirement already satisfied: jinja2 in /usr/local/lib/python3.10/dist-packages (from torch!=1.12.0,>=1.9->transformers[torch]) (3.1.2)\n",
            "Requirement already satisfied: triton==2.0.0 in /usr/local/lib/python3.10/dist-packages (from torch!=1.12.0,>=1.9->transformers[torch]) (2.0.0)\n",
            "Requirement already satisfied: cmake in /usr/local/lib/python3.10/dist-packages (from triton==2.0.0->torch!=1.12.0,>=1.9->transformers[torch]) (3.27.2)\n",
            "Requirement already satisfied: lit in /usr/local/lib/python3.10/dist-packages (from triton==2.0.0->torch!=1.12.0,>=1.9->transformers[torch]) (16.0.6)\n",
            "Requirement already satisfied: charset-normalizer<4,>=2 in /usr/local/lib/python3.10/dist-packages (from requests->transformers[torch]) (3.2.0)\n",
            "Requirement already satisfied: idna<4,>=2.5 in /usr/local/lib/python3.10/dist-packages (from requests->transformers[torch]) (3.4)\n",
            "Requirement already satisfied: urllib3<3,>=1.21.1 in /usr/local/lib/python3.10/dist-packages (from requests->transformers[torch]) (2.0.4)\n",
            "Requirement already satisfied: certifi>=2017.4.17 in /usr/local/lib/python3.10/dist-packages (from requests->transformers[torch]) (2023.7.22)\n",
            "Requirement already satisfied: MarkupSafe>=2.0 in /usr/local/lib/python3.10/dist-packages (from jinja2->torch!=1.12.0,>=1.9->transformers[torch]) (2.1.3)\n",
            "Requirement already satisfied: mpmath>=0.19 in /usr/local/lib/python3.10/dist-packages (from sympy->torch!=1.12.0,>=1.9->transformers[torch]) (1.3.0)\n"
          ]
        }
      ],
      "source": [
        "!pip install transformers[torch]"
      ]
    },
    {
      "cell_type": "code",
      "execution_count": 5,
      "metadata": {
        "colab": {
          "base_uri": "https://localhost:8080/"
        },
        "id": "XRJ6UjpMQTDv",
        "outputId": "c231f7e8-578b-4e08-91fa-40eab1c28868"
      },
      "outputs": [
        {
          "output_type": "stream",
          "name": "stdout",
          "text": [
            "Requirement already satisfied: accelerate in /usr/local/lib/python3.10/dist-packages (0.22.0)\n",
            "Requirement already satisfied: numpy>=1.17 in /usr/local/lib/python3.10/dist-packages (from accelerate) (1.23.5)\n",
            "Requirement already satisfied: packaging>=20.0 in /usr/local/lib/python3.10/dist-packages (from accelerate) (23.1)\n",
            "Requirement already satisfied: psutil in /usr/local/lib/python3.10/dist-packages (from accelerate) (5.9.5)\n",
            "Requirement already satisfied: pyyaml in /usr/local/lib/python3.10/dist-packages (from accelerate) (6.0.1)\n",
            "Requirement already satisfied: torch>=1.10.0 in /usr/local/lib/python3.10/dist-packages (from accelerate) (2.0.1+cu118)\n",
            "Requirement already satisfied: filelock in /usr/local/lib/python3.10/dist-packages (from torch>=1.10.0->accelerate) (3.12.2)\n",
            "Requirement already satisfied: typing-extensions in /usr/local/lib/python3.10/dist-packages (from torch>=1.10.0->accelerate) (4.7.1)\n",
            "Requirement already satisfied: sympy in /usr/local/lib/python3.10/dist-packages (from torch>=1.10.0->accelerate) (1.12)\n",
            "Requirement already satisfied: networkx in /usr/local/lib/python3.10/dist-packages (from torch>=1.10.0->accelerate) (3.1)\n",
            "Requirement already satisfied: jinja2 in /usr/local/lib/python3.10/dist-packages (from torch>=1.10.0->accelerate) (3.1.2)\n",
            "Requirement already satisfied: triton==2.0.0 in /usr/local/lib/python3.10/dist-packages (from torch>=1.10.0->accelerate) (2.0.0)\n",
            "Requirement already satisfied: cmake in /usr/local/lib/python3.10/dist-packages (from triton==2.0.0->torch>=1.10.0->accelerate) (3.27.2)\n",
            "Requirement already satisfied: lit in /usr/local/lib/python3.10/dist-packages (from triton==2.0.0->torch>=1.10.0->accelerate) (16.0.6)\n",
            "Requirement already satisfied: MarkupSafe>=2.0 in /usr/local/lib/python3.10/dist-packages (from jinja2->torch>=1.10.0->accelerate) (2.1.3)\n",
            "Requirement already satisfied: mpmath>=0.19 in /usr/local/lib/python3.10/dist-packages (from sympy->torch>=1.10.0->accelerate) (1.3.0)\n"
          ]
        }
      ],
      "source": [
        "!pip install accelerate -U"
      ]
    },
    {
      "cell_type": "code",
      "execution_count": 6,
      "metadata": {
        "colab": {
          "base_uri": "https://localhost:8080/"
        },
        "id": "B8SFujquQTDw",
        "outputId": "71afcc53-c635-4826-cd66-d305c34eec53"
      },
      "outputs": [
        {
          "output_type": "stream",
          "name": "stdout",
          "text": [
            "Name: accelerate\n",
            "Version: 0.22.0\n",
            "Summary: Accelerate\n",
            "Home-page: https://github.com/huggingface/accelerate\n",
            "Author: The HuggingFace team\n",
            "Author-email: sylvain@huggingface.co\n",
            "License: Apache\n",
            "Location: /usr/local/lib/python3.10/dist-packages\n",
            "Requires: numpy, packaging, psutil, pyyaml, torch\n",
            "Required-by: \n"
          ]
        }
      ],
      "source": [
        "!pip show accelerate"
      ]
    },
    {
      "cell_type": "code",
      "execution_count": 7,
      "metadata": {
        "colab": {
          "base_uri": "https://localhost:8080/"
        },
        "id": "-knfpWYLQTDx",
        "outputId": "098bdc3a-22b0-4045-c7b3-e4ef94b7c3de"
      },
      "outputs": [
        {
          "output_type": "execute_result",
          "data": {
            "text/plain": [
              "True"
            ]
          },
          "metadata": {},
          "execution_count": 7
        }
      ],
      "source": [
        "import torch\n",
        "torch.cuda.is_available()"
      ]
    },
    {
      "cell_type": "markdown",
      "metadata": {
        "id": "yYzVPh-bAVgS"
      },
      "source": [
        "## Pretrained model capabilities"
      ]
    },
    {
      "cell_type": "markdown",
      "metadata": {
        "id": "u03rN-SyQTDy"
      },
      "source": [
        "let us see first the capability of the pretrained deepset/roberta-base-squad2 model on our questions"
      ]
    },
    {
      "cell_type": "code",
      "execution_count": 8,
      "metadata": {
        "colab": {
          "base_uri": "https://localhost:8080/"
        },
        "id": "6Hif7qErQTDz",
        "outputId": "9d0e66cc-1ef4-4ca5-955a-339a59308524"
      },
      "outputs": [
        {
          "output_type": "stream",
          "name": "stderr",
          "text": [
            "Be aware, overflowing tokens are not returned for the setting you have chosen, i.e. sequence pairs with the 'longest_first' truncation strategy. So the returned list will always be empty even if some tokens have been removed.\n"
          ]
        },
        {
          "output_type": "stream",
          "name": "stdout",
          "text": [
            "Question: What's the name of the satellite constellation the company seeks to deploy or operate?\n",
            "Answer: <s>\n",
            "\n"
          ]
        },
        {
          "output_type": "stream",
          "name": "stderr",
          "text": [
            "Be aware, overflowing tokens are not returned for the setting you have chosen, i.e. sequence pairs with the 'longest_first' truncation strategy. So the returned list will always be empty even if some tokens have been removed.\n"
          ]
        },
        {
          "output_type": "stream",
          "name": "stdout",
          "text": [
            "Question: On which date was the document released?\n",
            "Answer:  December 1, 2022\n",
            "\n"
          ]
        },
        {
          "output_type": "stream",
          "name": "stderr",
          "text": [
            "Be aware, overflowing tokens are not returned for the setting you have chosen, i.e. sequence pairs with the 'longest_first' truncation strategy. So the returned list will always be empty even if some tokens have been removed.\n"
          ]
        },
        {
          "output_type": "stream",
          "name": "stdout",
          "text": [
            "Question: By which date must the company launch and operate half of its satellites?\n",
            "Answer: <s>\n",
            "\n"
          ]
        },
        {
          "output_type": "stream",
          "name": "stderr",
          "text": [
            "Be aware, overflowing tokens are not returned for the setting you have chosen, i.e. sequence pairs with the 'longest_first' truncation strategy. So the returned list will always be empty even if some tokens have been removed.\n"
          ]
        },
        {
          "output_type": "stream",
          "name": "stdout",
          "text": [
            "Question: By which date is the company expected to have all its satellites operational?\n",
            "Answer: <s>\n",
            "\n"
          ]
        },
        {
          "output_type": "stream",
          "name": "stderr",
          "text": [
            "Be aware, overflowing tokens are not returned for the setting you have chosen, i.e. sequence pairs with the 'longest_first' truncation strategy. So the returned list will always be empty even if some tokens have been removed.\n"
          ]
        },
        {
          "output_type": "stream",
          "name": "stdout",
          "text": [
            "Question: How many satellites is the company authorized to deploy and operate for this constellation?\n",
            "Answer: <s>\n",
            "\n"
          ]
        },
        {
          "output_type": "stream",
          "name": "stderr",
          "text": [
            "Be aware, overflowing tokens are not returned for the setting you have chosen, i.e. sequence pairs with the 'longest_first' truncation strategy. So the returned list will always be empty even if some tokens have been removed.\n"
          ]
        },
        {
          "output_type": "stream",
          "name": "stdout",
          "text": [
            "Question: At which authorized altitudes will the company deploy its satellites?\n",
            "Answer: <s>\n",
            "\n"
          ]
        },
        {
          "output_type": "stream",
          "name": "stderr",
          "text": [
            "Be aware, overflowing tokens are not returned for the setting you have chosen, i.e. sequence pairs with the 'longest_first' truncation strategy. So the returned list will always be empty even if some tokens have been removed.\n"
          ]
        },
        {
          "output_type": "stream",
          "name": "stdout",
          "text": [
            "Question: What are the authorized satellite inclinations within the corresponding altitudes?\n",
            "Answer: <s>\n",
            "\n"
          ]
        },
        {
          "output_type": "stream",
          "name": "stderr",
          "text": [
            "Be aware, overflowing tokens are not returned for the setting you have chosen, i.e. sequence pairs with the 'longest_first' truncation strategy. So the returned list will always be empty even if some tokens have been removed.\n"
          ]
        },
        {
          "output_type": "stream",
          "name": "stdout",
          "text": [
            "Question: How many orbital planes, corresponding to given altitudes and inclinations, has the company been authorized for?\n",
            "Answer: <s>\n",
            "\n"
          ]
        },
        {
          "output_type": "stream",
          "name": "stderr",
          "text": [
            "Be aware, overflowing tokens are not returned for the setting you have chosen, i.e. sequence pairs with the 'longest_first' truncation strategy. So the returned list will always be empty even if some tokens have been removed.\n"
          ]
        },
        {
          "output_type": "stream",
          "name": "stdout",
          "text": [
            "Question: How many satellites are allocated to each orbital plane?\n",
            "Answer: <s>\n",
            "\n"
          ]
        },
        {
          "output_type": "stream",
          "name": "stderr",
          "text": [
            "Be aware, overflowing tokens are not returned for the setting you have chosen, i.e. sequence pairs with the 'longest_first' truncation strategy. So the returned list will always be empty even if some tokens have been removed.\n"
          ]
        },
        {
          "output_type": "stream",
          "name": "stdout",
          "text": [
            "Question: How many satellites, for each altitude and inclination, are there across all matching orbital planes?\n",
            "Answer: <s>\n",
            "\n"
          ]
        },
        {
          "output_type": "stream",
          "name": "stderr",
          "text": [
            "Be aware, overflowing tokens are not returned for the setting you have chosen, i.e. sequence pairs with the 'longest_first' truncation strategy. So the returned list will always be empty even if some tokens have been removed.\n"
          ]
        },
        {
          "output_type": "stream",
          "name": "stdout",
          "text": [
            "Question: What is the satellite's expected operational lifetime in years?\n",
            "Answer: <s>\n",
            "\n"
          ]
        }
      ],
      "source": [
        "import torch\n",
        "from transformers import RobertaTokenizer, RobertaForQuestionAnswering\n",
        "\n",
        "\n",
        "# Load the tokenizer and model\n",
        "tokenizer = RobertaTokenizer.from_pretrained(\"deepset/roberta-base-squad2\")\n",
        "model = RobertaForQuestionAnswering.from_pretrained(\"deepset/roberta-base-squad2\")\n",
        "\n",
        "# Read context from a .txt file\n",
        "import requests\n",
        "\n",
        "url = \"https://raw.githubusercontent.com/AlinZohari/InformationExtraction/starlink_gen2/data/authorize_doc/StarlinkGen2_FCC-22-91A1.txt\"\n",
        "response = requests.get(url)\n",
        "context = response.text\n",
        "\n",
        "# Dictionary of questions\n",
        "questions = {\n",
        "    \"const_name\": \"What's the name of the satellite constellation the company seeks to deploy or operate?\",\n",
        "    \"date_release\": \"On which date was the document released?\",\n",
        "    \"date_50\": \"By which date must the company launch and operate half of its satellites?\",\n",
        "    \"date_100\": \"By which date is the company expected to have all its satellites operational?\",\n",
        "    \"total_sat_const\": \"How many satellites is the company authorized to deploy and operate for this constellation?\",\n",
        "    \"altitude\": \"At which authorized altitudes will the company deploy its satellites?\",\n",
        "    \"inclination\": \"What are the authorized satellite inclinations within the corresponding altitudes?\",\n",
        "    \"number_orb_plane\": \"How many orbital planes, corresponding to given altitudes and inclinations, has the company been authorized for?\",\n",
        "    \"total_sat_per_orb_plane\": \"How many satellites are allocated to each orbital plane?\",\n",
        "    \"total_sat_per_alt_incl\": \"How many satellites, for each altitude and inclination, are there across all matching orbital planes?\",\n",
        "    \"operational_lifetime\": \"What is the satellite's expected operational lifetime in years?\"\n",
        "}\n",
        "\n",
        "# Loop through each question\n",
        "for key, question in questions.items():\n",
        "    # Prepare the input\n",
        "    inputs = tokenizer.encode_plus(question, context, return_tensors=\"pt\", max_length=512, truncation=True)\n",
        "\n",
        "\n",
        "    # Get the model's prediction\n",
        "    input_ids = inputs[\"input_ids\"]\n",
        "    attention_mask = inputs[\"attention_mask\"]\n",
        "    output = model(input_ids, attention_mask=attention_mask)\n",
        "\n",
        "    answer_start_scores = output.start_logits\n",
        "    answer_end_scores = output.end_logits\n",
        "\n",
        "    answer_start = torch.argmax(answer_start_scores)\n",
        "    answer_end = torch.argmax(answer_end_scores)\n",
        "    answer = tokenizer.decode(input_ids[0][answer_start:answer_end + 1])\n",
        "\n",
        "    print(f\"Question: {question}\")\n",
        "    print(f\"Answer: {answer}\")\n",
        "    print()\n"
      ]
    },
    {
      "cell_type": "markdown",
      "metadata": {
        "id": "Z_RmyiZiQTD0"
      },
      "source": [
        "The warning message you are seeing is due to the truncation strategy used by the tokenizer. The 'longest_first' truncation strategy truncates tokens from the longest of the two sequences (question or context) until they fit within the specified max_length. The warning is informing you that the overflowing tokens, which are the tokens removed during truncation, are not being returned in the inputs. This is expected behavior, as we are not using the overflowing tokens in this case.\n",
        "\n",
        "The answers that are just indicate that the model is not able to find a suitable answer in the context for the given question. This could be because the answer is not present in the context, or because the context is too large and the relevant portion was truncated.\n",
        "\n",
        "Because of this let us fine tune this model to fit our purpose."
      ]
    },
    {
      "cell_type": "markdown",
      "metadata": {
        "id": "cWcQQAvpAVgT"
      },
      "source": [
        "## Lets now Fine-Tuned the model"
      ]
    },
    {
      "cell_type": "markdown",
      "metadata": {
        "id": "wgacgFFyAVgT"
      },
      "source": [
        "We are using deepset/roberta-base-squad2 model which is used for question answering taks. It is based oon RoBERTa model which ia a variant of BERT (Bidirectional Encoder Representations from Transformers) model. BERT and RoBERTa are models designed to understand the context and relationships among words.\n",
        "- RoBERTa: RoBERTa stands for \"A Robustly Optimized BERT Pretraining Approach\". It is an optimized version of BERT, which means it is trained on more data and for more iterations than BERT. RoBERTa modifies key hyperparameters in BERT, including removing the next-sentence pretraining objective, and training with much larger mini-batches and learning rates.\n",
        "- squad2: SQuAD stands for Stanford Question Answering Dataset version 2.0 an extension of SQuAD 1.1 which includes unanswerable questions. This means that the model trained on this dataset not only needs to answer questions but also has to determine if a question is answerable or not based on the provided context."
      ]
    },
    {
      "cell_type": "code",
      "execution_count": 9,
      "metadata": {
        "id": "KaW5Ky5gfrS2"
      },
      "outputs": [],
      "source": [
        "from transformers import AutoModelForQuestionAnswering, AutoTokenizer, pipeline\n",
        "from transformers import RobertaTokenizerFast\n",
        "\n",
        "#Reference: https://huggingface.co/deepset/roberta-base-squad2\n",
        "\n",
        "model_name = \"deepset/roberta-base-squad2\"\n",
        "\n",
        "#Load model & tokenizer\n",
        "#model = AutoModelForQuestionAnswering.from_pretrained(model_name)\n",
        "#tokenizer = AutoTokenizer.from_pretrained(model_name)\n",
        "model = AutoModelForQuestionAnswering.from_pretrained(model_name)\n",
        "tokenizer = RobertaTokenizerFast.from_pretrained(model_name)\n",
        "\n",
        "#using AutoModelForQuestionAnswering automatically infer the correct model and tokenizer classes to use based on the model name. This makes the code more flexible as it can work with any model architecture\n",
        "#using RobertaTokenizerFast which is a fast tokenizer for RoBERTa models. The \"fast\" tokenizers are implemented in Rust and are more performant compared to the standard Python tokenizers. They also provide additional functionalities like alignment between the original and tokenized text."
      ]
    },
    {
      "cell_type": "code",
      "execution_count": 10,
      "metadata": {
        "colab": {
          "base_uri": "https://localhost:8080/"
        },
        "id": "Iap32VtEfrS2",
        "outputId": "d931d402-3685-483e-aff5-fcc35e293484"
      },
      "outputs": [
        {
          "output_type": "execute_result",
          "data": {
            "text/plain": [
              "RobertaForQuestionAnswering(\n",
              "  (roberta): RobertaModel(\n",
              "    (embeddings): RobertaEmbeddings(\n",
              "      (word_embeddings): Embedding(50265, 768, padding_idx=1)\n",
              "      (position_embeddings): Embedding(514, 768, padding_idx=1)\n",
              "      (token_type_embeddings): Embedding(1, 768)\n",
              "      (LayerNorm): LayerNorm((768,), eps=1e-05, elementwise_affine=True)\n",
              "      (dropout): Dropout(p=0.1, inplace=False)\n",
              "    )\n",
              "    (encoder): RobertaEncoder(\n",
              "      (layer): ModuleList(\n",
              "        (0-11): 12 x RobertaLayer(\n",
              "          (attention): RobertaAttention(\n",
              "            (self): RobertaSelfAttention(\n",
              "              (query): Linear(in_features=768, out_features=768, bias=True)\n",
              "              (key): Linear(in_features=768, out_features=768, bias=True)\n",
              "              (value): Linear(in_features=768, out_features=768, bias=True)\n",
              "              (dropout): Dropout(p=0.1, inplace=False)\n",
              "            )\n",
              "            (output): RobertaSelfOutput(\n",
              "              (dense): Linear(in_features=768, out_features=768, bias=True)\n",
              "              (LayerNorm): LayerNorm((768,), eps=1e-05, elementwise_affine=True)\n",
              "              (dropout): Dropout(p=0.1, inplace=False)\n",
              "            )\n",
              "          )\n",
              "          (intermediate): RobertaIntermediate(\n",
              "            (dense): Linear(in_features=768, out_features=3072, bias=True)\n",
              "            (intermediate_act_fn): GELUActivation()\n",
              "          )\n",
              "          (output): RobertaOutput(\n",
              "            (dense): Linear(in_features=3072, out_features=768, bias=True)\n",
              "            (LayerNorm): LayerNorm((768,), eps=1e-05, elementwise_affine=True)\n",
              "            (dropout): Dropout(p=0.1, inplace=False)\n",
              "          )\n",
              "        )\n",
              "      )\n",
              "    )\n",
              "  )\n",
              "  (qa_outputs): Linear(in_features=768, out_features=2, bias=True)\n",
              ")"
            ]
          },
          "metadata": {},
          "execution_count": 10
        }
      ],
      "source": [
        "#looking at RoBerta Question Answering\n",
        "model"
      ]
    },
    {
      "cell_type": "markdown",
      "metadata": {
        "id": "82U5kIUNfrS3"
      },
      "source": [
        "How to fine-tune a QA model\n",
        "- we need GPU\n",
        "- building a training script\n"
      ]
    },
    {
      "cell_type": "code",
      "execution_count": 11,
      "metadata": {
        "id": "IJnj5WCtfrS3"
      },
      "outputs": [],
      "source": [
        "#getting our own build training datasets\n",
        "import requests\n",
        "import json\n",
        "\n",
        "url = \"https://raw.githubusercontent.com/AlinZohari/InformationExtraction/main/data/QA_model/train.json\"\n",
        "response = requests.get(url)\n",
        "train = response.json()"
      ]
    },
    {
      "cell_type": "code",
      "execution_count": 12,
      "metadata": {
        "colab": {
          "base_uri": "https://localhost:8080/"
        },
        "id": "7L3zc7epfrS3",
        "outputId": "8fe0e32c-509b-46fe-8a18-5344c0f49a73"
      },
      "outputs": [
        {
          "output_type": "execute_result",
          "data": {
            "text/plain": [
              "[{'context': 'In this Order and Authorization, we grant, to the extent set forth below, the request of Kuiper Systems LLC (Kuiper or Amazon) to provide satellite services.\\n            Operating 3,372 satellites in 102 orbital planes at altitudes of 590 km, 610 km, and 630 km in a circular orbit.\\n            At 590 km, 30 orbital planes with 28 satellites per plane for a total of 840 satellites at inclination of 33 degree.\\n            At 610 km, 42 orbital planes with 36 satellites per plane for a total of 1512 satellites at inclination of 42 degree.\\n            At 630 km, 30 orbital planes with 34 satellites per plane for a total of 1020 satellite at inclination of 51.9 degree.\\n            The constellation are require to launch and operate 50 percent of its satellites no later than July 30, 2026, and must launch the remaining space stations necessary to complete its authorized service constellation, place them in their assigned orbits, and operate each of them in accordance with the authorization no later than July 30, 2029.',\n",
              "  'qas': [{'id': '00001',\n",
              "    'is_impossible': False,\n",
              "    'question': \"What's the name of the satellite constellation the company seeks to deploy or operate?\",\n",
              "    'answers': [{'text': 'Kuiper', 'answer_start': 89}]},\n",
              "   {'id': '00002',\n",
              "    'is_impossible': False,\n",
              "    'question': 'By which date must the company launch and operate half of its satellites?',\n",
              "    'answers': [{'text': 'July 30, 2026', 'answer_start': 780}]},\n",
              "   {'id': '00003',\n",
              "    'is_impossible': False,\n",
              "    'question': 'By which date must the company complete the launch and operate its satellites?',\n",
              "    'answers': [{'text': 'July 30, 2029', 'answer_start': 1013}]},\n",
              "   {'id': '00004',\n",
              "    'is_impossible': True,\n",
              "    'question': 'How many satellites is the company authorized to deploy and operate for this constellation?',\n",
              "    'answers': [{'text': '3,372', 'answer_start': 180}]},\n",
              "   {'id': '00005',\n",
              "    'is_impossible': False,\n",
              "    'question': 'At which authorized altitudes will the company deploy its satellites?',\n",
              "    'answers': [{'text': '590', 'answer_start': 235},\n",
              "     {'text': '610', 'answer_start': 243},\n",
              "     {'text': '630', 'answer_start': 255}]},\n",
              "   {'id': '00006',\n",
              "    'is_impossible': False,\n",
              "    'question': 'What are the authorized satellite inclinations with the corresponding altitudes?',\n",
              "    'answers': [{'text': '33', 'answer_start': 401},\n",
              "     {'text': '42', 'answer_start': 435},\n",
              "     {'text': '51.9', 'answer_start': 660}]},\n",
              "   {'id': '00007',\n",
              "    'is_impossible': False,\n",
              "    'question': 'How many orbital planes, corresponding to given altitudes and inclinations, has the company been authorized for?',\n",
              "    'answers': [{'text': '30', 'answer_start': 256},\n",
              "     {'text': '42', 'answer_start': 435},\n",
              "     {'text': '30', 'answer_start': 565}]},\n",
              "   {'id': '00008',\n",
              "    'is_impossible': False,\n",
              "    'question': 'How many satellites are allocated to each orbital plane?',\n",
              "    'answers': [{'text': '28', 'answer_start': 329},\n",
              "     {'text': '36', 'answer_start': 458},\n",
              "     {'text': '34', 'answer_start': 588}]},\n",
              "   {'id': '00009',\n",
              "    'is_impossible': False,\n",
              "    'question': 'How many satellites, for each altitude and inclination, are there across all matching orbital planes?',\n",
              "    'answers': [{'text': '840', 'answer_start': 368},\n",
              "     {'text': '1512', 'answer_start': 497},\n",
              "     {'text': '1020', 'answer_start': 627}]}]},\n",
              " {'context': 'Iridium must launch 50 percent of satellite no later than November 12,2028, and must launch the other remaining satellites no later than May 16,2030.',\n",
              "  'qas': [{'id': '00010',\n",
              "    'is_impossible': False,\n",
              "    'question': \"What's the name of the satellite constellation the company seeks to deploy or operate?\",\n",
              "    'answers': [{'text': 'Iridium', 'answer_start': 0}]},\n",
              "   {'id': '00011',\n",
              "    'is_impossible': False,\n",
              "    'question': 'By which date must the company launch and operate half of its satellites?',\n",
              "    'answers': [{'text': 'November 12,2028,', 'answer_start': 58}]},\n",
              "   {'id': '00012',\n",
              "    'is_impossible': False,\n",
              "    'question': 'By which date must the company complete the launch and operate its satellites?',\n",
              "    'answers': [{'text': 'May 16,2030', 'answer_start': 137}]}]},\n",
              " {'context': 'They must launch 50 percent of the maximum number of proposed space stations, place them in the assigned orbits, and operate them in accordance with this grant of U.S. market access no later than December 31,1989, and must launch the remaining space stations necessary to complete its authorized service constellation, place them in their assigned orbits, and operate them in accordance with the grant of U.S. market access no later than December 21,1997.',\n",
              "  'qas': [{'id': '00013',\n",
              "    'is_impossible': False,\n",
              "    'question': 'By which date must the company launch and operate half of its satellites?',\n",
              "    'answers': [{'text': 'December 31,1989', 'answer_start': 196}]},\n",
              "   {'id': '00014',\n",
              "    'is_impossible': True,\n",
              "    'question': 'By which date must the company complete the launch and operate its satellites?',\n",
              "    'answers': [{'text': 'December 21,1997', 'answer_start': 438}]}]},\n",
              " {'context': 'The company must launch 50 percent no later than June 22, 2020, and complete its authorized service constellation in accordance with the authorization no later than June 22, 2022. 47 CFR § 25.164(b).',\n",
              "  'qas': [{'id': '00015',\n",
              "    'is_impossible': False,\n",
              "    'question': 'By which date must the company launch and operate half of its satellites?',\n",
              "    'answers': [{'text': 'June 22, 2020', 'answer_start': 49}]},\n",
              "   {'id': '00016',\n",
              "    'is_impossible': False,\n",
              "    'question': 'By which date must the company complete the launch and operate its satellites?',\n",
              "    'answers': [{'text': 'June 22, 2022', 'answer_start': 165}]}]},\n",
              " {'context': 'to launch and operate 50 percent of its satellites no later than January 3, 2027, and to complete its authorized service constellation, place them in their assigned orbits, and operate each of them in accordance with the authorization no later than February 13, 2300. 47 CFR § 25.164(b).',\n",
              "  'qas': [{'id': '00017',\n",
              "    'is_impossible': False,\n",
              "    'question': 'By which date must the company launch and operate half of its satellites?',\n",
              "    'answers': [{'text': 'January 3, 2027', 'answer_start': 65}]},\n",
              "   {'id': '00018',\n",
              "    'is_impossible': False,\n",
              "    'question': 'By which date must the company complete the launch and operate its satellites?',\n",
              "    'answers': [{'text': 'February 13, 2300', 'answer_start': 249}]}]},\n",
              " {'context': 'In this Order and Declaratory Ruling, we grant in part and defer in part the petition for declaratory ruling of WorldVu Satellites Limited (OneWeb) for modification of its grant of U.S. market access for a its satellite constellation authorized by the United Kingdom. As modified, the constellation will operate with four fewer satellites, reduced from 720 to 716 satellites.',\n",
              "  'qas': [{'id': '00019',\n",
              "    'is_impossible': False,\n",
              "    'question': \"What's the name of the satellite constellation the company seeks to deploy or operate?\",\n",
              "    'answers': [{'text': 'WorldVu Satellites Limited (OneWeb)',\n",
              "      'answer_start': 112}]},\n",
              "   {'id': '00020',\n",
              "    'is_impossible': False,\n",
              "    'question': 'How many satellites is the company authorized to deploy and operate for this constellation?',\n",
              "    'answers': [{'text': '716', 'answer_start': 360}]}]},\n",
              " {'context': 'The proposed Telesat system is set to feature a robust constellation of 124 satellites.\\n        A set of six orbital planes, each inclined at 99.5 degrees, will host nine satellites per plane at an approximate altitude of 1,000 kilometers.\\n        Additionally, seven more orbital planes, each tilted at 37.4 degrees, will carry another group of satellites, with each plane accommodating ten satellites at a higher altitude of approximately 1,248 kilometers.',\n",
              "  'qas': [{'id': '00021',\n",
              "    'is_impossible': False,\n",
              "    'question': \"What's the name of the satellite constellation the company seeks to deploy or operate?\",\n",
              "    'answers': [{'text': 'Telesat', 'answer_start': 13}]},\n",
              "   {'id': '00022',\n",
              "    'is_impossible': False,\n",
              "    'question': 'How many satellites is the company authorized to deploy and operate for this constellation?',\n",
              "    'answers': [{'text': '124', 'answer_start': 72}]},\n",
              "   {'id': '00023',\n",
              "    'is_impossible': True,\n",
              "    'question': 'At which authorized altitudes will the company deploy its satellites?',\n",
              "    'answers': [{'text': '1,000', 'answer_start': 222},\n",
              "     {'text': '1,248', 'answer_start': 441}]},\n",
              "   {'id': '00024',\n",
              "    'is_impossible': False,\n",
              "    'question': 'What are the authorized satellite inclinations with the corresponding altitudes?',\n",
              "    'answers': [{'text': '99.5', 'answer_start': 142},\n",
              "     {'text': '37.4', 'answer_start': 304}]},\n",
              "   {'id': '00025',\n",
              "    'is_impossible': True,\n",
              "    'question': 'How many orbital planes, corresponding to given altitudes and inclinations, has the company been authorized for?',\n",
              "    'answers': [{'text': 'six', 'answer_start': 105},\n",
              "     {'text': 'seven', 'answer_start': 262}]},\n",
              "   {'id': '00026',\n",
              "    'is_impossible': True,\n",
              "    'question': 'How many satellites are allocated to each orbital plane?',\n",
              "    'answers': [{'text': 'nine', 'answer_start': 166},\n",
              "     {'text': 'ten', 'answer_start': 388}]}]},\n",
              " {'context': '20 orbital planes with 28 satellites per plane for a total of 560 satellites at inclination of 33 degree will be placed at an altitude approximately 800 km.',\n",
              "  'qas': [{'id': '00027',\n",
              "    'is_impossible': False,\n",
              "    'question': 'At which authorized altitudes will the company deploy its satellites?',\n",
              "    'answers': [{'text': '800', 'answer_start': 149}]},\n",
              "   {'id': '00028',\n",
              "    'is_impossible': False,\n",
              "    'question': 'What are the authorized satellite inclinations with the corresponding altitudes?',\n",
              "    'answers': [{'text': '33', 'answer_start': 95}]},\n",
              "   {'id': '00029',\n",
              "    'is_impossible': False,\n",
              "    'question': 'How many orbital planes, corresponding to given altitudes and inclinations, has the company been authorized for?',\n",
              "    'answers': [{'text': '20', 'answer_start': 0}]},\n",
              "   {'id': '00030',\n",
              "    'is_impossible': False,\n",
              "    'question': 'How many satellites are allocated to each orbital plane?',\n",
              "    'answers': [{'text': '28', 'answer_start': 23}]},\n",
              "   {'id': '00031',\n",
              "    'is_impossible': False,\n",
              "    'question': 'How many satellites, for each altitude and inclination, are there across all matching orbital planes?',\n",
              "    'answers': [{'text': '560', 'answer_start': 62}]}]},\n",
              " {'context': '8 orbital plane containing 15 satellites each which are inclined at 56 degree with altitude of 700 kilometers',\n",
              "  'qas': [{'id': '00032',\n",
              "    'is_impossible': False,\n",
              "    'question': 'At which authorized altitudes will the company deploy its satellites?',\n",
              "    'answers': [{'text': '700', 'answer_start': 95}]},\n",
              "   {'id': '00033',\n",
              "    'is_impossible': False,\n",
              "    'question': 'What are the authorized satellite inclinations with the corresponding altitudes?',\n",
              "    'answers': [{'text': '56', 'answer_start': 68}]},\n",
              "   {'id': '00034',\n",
              "    'is_impossible': False,\n",
              "    'question': 'How many orbital planes, corresponding to given altitudes and inclinations, has the company been authorized for?',\n",
              "    'answers': [{'text': '8', 'answer_start': 0}]},\n",
              "   {'id': '00035',\n",
              "    'is_impossible': False,\n",
              "    'question': 'How many satellites are allocated to each orbital plane?',\n",
              "    'answers': [{'text': '15', 'answer_start': 27}]}]},\n",
              " {'context': '72 of the satellites will be distributed equally and place at 6 orbital planes, which are inclined 99.5 degrees, satellites will be at an approximate altitude of 1,000 kilometers',\n",
              "  'qas': [{'id': '00036',\n",
              "    'is_impossible': True,\n",
              "    'question': 'At which authorized altitudes will the company deploy its satellites?',\n",
              "    'answers': [{'text': '1,000', 'answer_start': 162}]},\n",
              "   {'id': '00037',\n",
              "    'is_impossible': False,\n",
              "    'question': 'What are the authorized satellite inclinations with the corresponding altitudes?',\n",
              "    'answers': [{'text': '99.5', 'answer_start': 99}]},\n",
              "   {'id': '00038',\n",
              "    'is_impossible': False,\n",
              "    'question': 'How many orbital planes, corresponding to given altitudes and inclinations, has the company been authorized for?',\n",
              "    'answers': [{'text': '6', 'answer_start': 62}]},\n",
              "   {'id': '00039',\n",
              "    'is_impossible': False,\n",
              "    'question': 'How many satellites, for each altitude and inclination, are there across all matching orbital planes?',\n",
              "    'answers': [{'text': '72', 'answer_start': 0}]}]},\n",
              " {'context': 'The operational lifetime for the satellite in the constellation in 10 years',\n",
              "  'qas': [{'id': '00040',\n",
              "    'is_impossible': False,\n",
              "    'question': \"What is the satellite's expected operational lifetime in years?\",\n",
              "    'answers': [{'text': '10', 'answer_start': 67}]}]},\n",
              " {'context': 'Released:  March 29, 2010',\n",
              "  'qas': [{'id': '00041',\n",
              "    'is_impossible': False,\n",
              "    'question': 'On which date was the document released?',\n",
              "    'answers': [{'text': 'March 29, 2010', 'answer_start': 11}]}]},\n",
              " {'context': 'Released:  November 21,1997',\n",
              "  'qas': [{'id': '00042',\n",
              "    'is_impossible': False,\n",
              "    'question': 'On which date was the document released?',\n",
              "    'answers': [{'text': 'November 21,1997', 'answer_start': 11}]}]}]"
            ]
          },
          "metadata": {},
          "execution_count": 12
        }
      ],
      "source": [
        "#looking at the train dataset\n",
        "train"
      ]
    },
    {
      "cell_type": "code",
      "execution_count": 13,
      "metadata": {
        "id": "tff-Cb8QgfHF"
      },
      "outputs": [],
      "source": [
        "##etting our own build validation datasets\n",
        "import requests\n",
        "import json\n",
        "\n",
        "url = \"https://raw.githubusercontent.com/AlinZohari/InformationExtraction/main/data/QA_model/validation.json\"\n",
        "response = requests.get(url)\n",
        "validation = response.json()"
      ]
    },
    {
      "cell_type": "code",
      "execution_count": 14,
      "metadata": {
        "colab": {
          "base_uri": "https://localhost:8080/"
        },
        "id": "alciwDQ-giqR",
        "outputId": "4074b585-6a06-4010-aaea-7ca6d10bf346"
      },
      "outputs": [
        {
          "output_type": "execute_result",
          "data": {
            "text/plain": [
              "[{'context': 'Release date: October 29, 1995 In this Order and Authorization, we grant, to the extent set forth below, the request of Ligado Networks LLC to provide Fixed Satellite Services (FSS). Operating 2320 satellites in 58 orbital planes in total at altitudes of 500, 600, 700 and 800 kilometers. At an altitude of 500 km, there are 15 orbital planes, each hosting 36 satellites, resulting in a total of 540 satellites at an inclination of 36.5 degrees. For the 600 km altitude, 23 orbital planes are present, with each plane containing 50 satellites, summing up to 1150 satellites at an inclination of 49 degrees. At the 700 km mark, 15 orbital planes are equipped with 27 satellites each, leading to a total of 405 satellites at a 51.9-degree inclination. Lastly, at 800 km, there are 5 orbital planes, and each has 45 satellites, amounting to a total of 225 satellites at an inclination of 59.3 degrees. The constellation are require to launch and operate 50 percent of its satellites no later than July 30, 2000, and must launch the remaining space stations necessary to complete its authorized service constellation, place them in their assigned orbits, and operate each of them in accordance with the authorization no later than July 30, 2020. This satelllites will have an operational lifetime of five years orbitting in its designated plane.',\n",
              "  'qas': [{'id': '00001',\n",
              "    'is_impossible': False,\n",
              "    'question': \"What's the name of the satellite constellation the company seeks to deploy or operate?\",\n",
              "    'answers': [{'text': 'Ligado Networks LLC', 'answer_start': 120}]},\n",
              "   {'id': '00002',\n",
              "    'is_impossible': False,\n",
              "    'question': 'On which date was the document released?',\n",
              "    'answers': [{'text': 'October 29, 1995', 'answer_start': 14}]},\n",
              "   {'id': '00003',\n",
              "    'is_impossible': False,\n",
              "    'question': 'By which date must the company launch and operate half of its satellites?',\n",
              "    'answers': [{'text': 'July 30, 2000', 'answer_start': 994}]},\n",
              "   {'id': '00004',\n",
              "    'is_impossible': False,\n",
              "    'question': 'By which date must the company complete the launch and operate its satellites?',\n",
              "    'answers': [{'text': 'July 30, 2020', 'answer_start': 1227}]},\n",
              "   {'id': '00005',\n",
              "    'is_impossible': True,\n",
              "    'question': 'How many satellites is the company authorized to deploy and operate for this constellation?',\n",
              "    'answers': [{'text': '2320', 'answer_start': 193}]},\n",
              "   {'id': '00006',\n",
              "    'is_impossible': False,\n",
              "    'question': 'At which authorized altitudes will the company deploy its satellites?',\n",
              "    'answers': [{'text': '500', 'answer_start': 225},\n",
              "     {'text': '600', 'answer_start': 260},\n",
              "     {'text': '700', 'answer_start': 265},\n",
              "     {'text': '800', 'answer_start': 273}]},\n",
              "   {'id': '00007',\n",
              "    'is_impossible': False,\n",
              "    'question': 'What are the authorized satellite inclinations with the corresponding altitudes?',\n",
              "    'answers': [{'text': '36.5', 'answer_start': 432},\n",
              "     {'text': '49', 'answer_start': 595},\n",
              "     {'text': '51.9', 'answer_start': 725},\n",
              "     {'text': '59.3', 'answer_start': 885}]},\n",
              "   {'id': '00008',\n",
              "    'is_impossible': False,\n",
              "    'question': 'How many orbital planes, corresponding to given altitudes and inclinations, has the company been authorized for?',\n",
              "    'answers': [{'text': '15', 'answer_start': 325},\n",
              "     {'text': '23', 'answer_start': 471},\n",
              "     {'text': '15', 'answer_start': 627},\n",
              "     {'text': '5', 'answer_start': 779}]},\n",
              "   {'id': '00009',\n",
              "    'is_impossible': False,\n",
              "    'question': 'How many satellites are allocated to each orbital plane?',\n",
              "    'answers': [{'text': '36', 'answer_start': 357},\n",
              "     {'text': '50', 'answer_start': 255},\n",
              "     {'text': '27', 'answer_start': 663},\n",
              "     {'text': '45', 'answer_start': 810}]},\n",
              "   {'id': '00010',\n",
              "    'is_impossible': False,\n",
              "    'question': 'How many satellites, for each altitude and inclination, are there across all matching orbital planes?',\n",
              "    'answers': [{'text': '540', 'answer_start': 396},\n",
              "     {'text': '1150', 'answer_start': 558},\n",
              "     {'text': '405', 'answer_start': 705},\n",
              "     {'text': '225', 'answer_start': 849}]},\n",
              "   {'id': '00011',\n",
              "    'is_impossible': False,\n",
              "    'question': \"What is the satellite's expected operational lifetime in years?\",\n",
              "    'answers': [{'text': 'five', 'answer_start': 1296}]}]}]"
            ]
          },
          "metadata": {},
          "execution_count": 14
        }
      ],
      "source": [
        "#looking atthe validation dataset\n",
        "validation"
      ]
    },
    {
      "cell_type": "markdown",
      "metadata": {
        "id": "ToeQAFFFQTD4"
      },
      "source": [
        "## Preprocess the data"
      ]
    },
    {
      "cell_type": "markdown",
      "metadata": {
        "id": "Y6fbXtQQDBfl"
      },
      "source": [
        "Here we want to preprocess our data so that it will fit the BERT/RoBERTa model by tokenizing our train data. The tokenizer we use will be the same as above RobertaTokenizerFast"
      ]
    },
    {
      "cell_type": "code",
      "execution_count": 15,
      "metadata": {
        "colab": {
          "base_uri": "https://localhost:8080/"
        },
        "id": "xwgN7dj8YVAy",
        "outputId": "03b8872f-b6f3-451e-f36c-e45cd6cf4a80"
      },
      "outputs": [
        {
          "output_type": "stream",
          "name": "stdout",
          "text": [
            "Collecting datasets\n",
            "  Downloading datasets-2.14.4-py3-none-any.whl (519 kB)\n",
            "\u001b[2K     \u001b[90m━━━━━━━━━━━━━━━━━━━━━━━━━━━━━━━━━━━━━━━\u001b[0m \u001b[32m519.3/519.3 kB\u001b[0m \u001b[31m8.4 MB/s\u001b[0m eta \u001b[36m0:00:00\u001b[0m\n",
            "\u001b[?25hRequirement already satisfied: numpy>=1.17 in /usr/local/lib/python3.10/dist-packages (from datasets) (1.23.5)\n",
            "Requirement already satisfied: pyarrow>=8.0.0 in /usr/local/lib/python3.10/dist-packages (from datasets) (9.0.0)\n",
            "Collecting dill<0.3.8,>=0.3.0 (from datasets)\n",
            "  Downloading dill-0.3.7-py3-none-any.whl (115 kB)\n",
            "\u001b[2K     \u001b[90m━━━━━━━━━━━━━━━━━━━━━━━━━━━━━━━━━━━━━━\u001b[0m \u001b[32m115.3/115.3 kB\u001b[0m \u001b[31m15.1 MB/s\u001b[0m eta \u001b[36m0:00:00\u001b[0m\n",
            "\u001b[?25hRequirement already satisfied: pandas in /usr/local/lib/python3.10/dist-packages (from datasets) (1.5.3)\n",
            "Requirement already satisfied: requests>=2.19.0 in /usr/local/lib/python3.10/dist-packages (from datasets) (2.31.0)\n",
            "Requirement already satisfied: tqdm>=4.62.1 in /usr/local/lib/python3.10/dist-packages (from datasets) (4.66.1)\n",
            "Collecting xxhash (from datasets)\n",
            "  Downloading xxhash-3.3.0-cp310-cp310-manylinux_2_17_x86_64.manylinux2014_x86_64.whl (194 kB)\n",
            "\u001b[2K     \u001b[90m━━━━━━━━━━━━━━━━━━━━━━━━━━━━━━━━━━━━━━\u001b[0m \u001b[32m194.1/194.1 kB\u001b[0m \u001b[31m22.5 MB/s\u001b[0m eta \u001b[36m0:00:00\u001b[0m\n",
            "\u001b[?25hCollecting multiprocess (from datasets)\n",
            "  Downloading multiprocess-0.70.15-py310-none-any.whl (134 kB)\n",
            "\u001b[2K     \u001b[90m━━━━━━━━━━━━━━━━━━━━━━━━━━━━━━━━━━━━━━\u001b[0m \u001b[32m134.8/134.8 kB\u001b[0m \u001b[31m17.4 MB/s\u001b[0m eta \u001b[36m0:00:00\u001b[0m\n",
            "\u001b[?25hRequirement already satisfied: fsspec[http]>=2021.11.1 in /usr/local/lib/python3.10/dist-packages (from datasets) (2023.6.0)\n",
            "Requirement already satisfied: aiohttp in /usr/local/lib/python3.10/dist-packages (from datasets) (3.8.5)\n",
            "Requirement already satisfied: huggingface-hub<1.0.0,>=0.14.0 in /usr/local/lib/python3.10/dist-packages (from datasets) (0.16.4)\n",
            "Requirement already satisfied: packaging in /usr/local/lib/python3.10/dist-packages (from datasets) (23.1)\n",
            "Requirement already satisfied: pyyaml>=5.1 in /usr/local/lib/python3.10/dist-packages (from datasets) (6.0.1)\n",
            "Requirement already satisfied: attrs>=17.3.0 in /usr/local/lib/python3.10/dist-packages (from aiohttp->datasets) (23.1.0)\n",
            "Requirement already satisfied: charset-normalizer<4.0,>=2.0 in /usr/local/lib/python3.10/dist-packages (from aiohttp->datasets) (3.2.0)\n",
            "Requirement already satisfied: multidict<7.0,>=4.5 in /usr/local/lib/python3.10/dist-packages (from aiohttp->datasets) (6.0.4)\n",
            "Requirement already satisfied: async-timeout<5.0,>=4.0.0a3 in /usr/local/lib/python3.10/dist-packages (from aiohttp->datasets) (4.0.3)\n",
            "Requirement already satisfied: yarl<2.0,>=1.0 in /usr/local/lib/python3.10/dist-packages (from aiohttp->datasets) (1.9.2)\n",
            "Requirement already satisfied: frozenlist>=1.1.1 in /usr/local/lib/python3.10/dist-packages (from aiohttp->datasets) (1.4.0)\n",
            "Requirement already satisfied: aiosignal>=1.1.2 in /usr/local/lib/python3.10/dist-packages (from aiohttp->datasets) (1.3.1)\n",
            "Requirement already satisfied: filelock in /usr/local/lib/python3.10/dist-packages (from huggingface-hub<1.0.0,>=0.14.0->datasets) (3.12.2)\n",
            "Requirement already satisfied: typing-extensions>=3.7.4.3 in /usr/local/lib/python3.10/dist-packages (from huggingface-hub<1.0.0,>=0.14.0->datasets) (4.7.1)\n",
            "Requirement already satisfied: idna<4,>=2.5 in /usr/local/lib/python3.10/dist-packages (from requests>=2.19.0->datasets) (3.4)\n",
            "Requirement already satisfied: urllib3<3,>=1.21.1 in /usr/local/lib/python3.10/dist-packages (from requests>=2.19.0->datasets) (2.0.4)\n",
            "Requirement already satisfied: certifi>=2017.4.17 in /usr/local/lib/python3.10/dist-packages (from requests>=2.19.0->datasets) (2023.7.22)\n",
            "Requirement already satisfied: python-dateutil>=2.8.1 in /usr/local/lib/python3.10/dist-packages (from pandas->datasets) (2.8.2)\n",
            "Requirement already satisfied: pytz>=2020.1 in /usr/local/lib/python3.10/dist-packages (from pandas->datasets) (2023.3)\n",
            "Requirement already satisfied: six>=1.5 in /usr/local/lib/python3.10/dist-packages (from python-dateutil>=2.8.1->pandas->datasets) (1.16.0)\n",
            "Installing collected packages: xxhash, dill, multiprocess, datasets\n",
            "Successfully installed datasets-2.14.4 dill-0.3.7 multiprocess-0.70.15 xxhash-3.3.0\n"
          ]
        }
      ],
      "source": [
        "!pip install datasets"
      ]
    },
    {
      "cell_type": "code",
      "execution_count": 16,
      "metadata": {
        "id": "yF4JPX4_qFKj"
      },
      "outputs": [],
      "source": [
        "#we need to defined the tokenizer\n",
        "#from transformers import RobertaTokenizerFast\n",
        "#tokenizer = RobertaTokenizerFast.from_pretrained(model_name)\n",
        "# needed to use BertTokenizerFast/ RobertaTokenizerFast return_offset_mapping feature is not available when using Python tokenizers."
      ]
    },
    {
      "cell_type": "code",
      "execution_count": 17,
      "metadata": {
        "colab": {
          "base_uri": "https://localhost:8080/",
          "height": 81,
          "referenced_widgets": [
            "af2dd5f1e1d3447dac75e3e7e1464bd9",
            "e441bd6e5ba746a0a99ff69b7a87a88f",
            "7ed273e8cd354c8387ac89c6e1c0ee61",
            "28d98ef5f56b4678987ecdc03df67cde",
            "319bf8bd0d444acd87aac9ddc23b2257",
            "6ad87e2a1acd4ca5a591c3ccd51a788a",
            "92c96092e87443d38056d5651353a710",
            "22d3f5a12ad24c5999e389998bb875ef",
            "8016fecd37f1477eb689e704f749fc22",
            "6f322f87d4f448139fd6a5efc48b74f2",
            "8dc1ff0b8c4e41f691372b546438ee7e",
            "c16a35b0d2724c4ebe63e8e082472554",
            "2649422432c847d483605eee48479447",
            "71053d810e414319bfaea52a6c5577c6",
            "9c5e1eecf7d148cf93be8ecaf1603707",
            "10c4a31e72574cb986d6451042f1e71a",
            "8e21e0d32a014bcc88a59fbe33e9100f",
            "49312a2defff4c1a97d3cb329c2b8aef",
            "7401aa8a91d4428abe9dbc40859ddcd7",
            "7f36c5f5748f47fcbd95257d12b5371e",
            "257cf471e8794230836db7ad9e95139e",
            "2f0831a32cca4afe874826992e309895"
          ]
        },
        "id": "23GIl1VwQTD4",
        "outputId": "9240bf6f-19ac-4aea-b37a-380f4cef5ff4"
      },
      "outputs": [
        {
          "output_type": "display_data",
          "data": {
            "text/plain": [
              "Map:   0%|          | 0/13 [00:00<?, ? examples/s]"
            ],
            "application/vnd.jupyter.widget-view+json": {
              "version_major": 2,
              "version_minor": 0,
              "model_id": "af2dd5f1e1d3447dac75e3e7e1464bd9"
            }
          },
          "metadata": {}
        },
        {
          "output_type": "display_data",
          "data": {
            "text/plain": [
              "Map:   0%|          | 0/1 [00:00<?, ? examples/s]"
            ],
            "application/vnd.jupyter.widget-view+json": {
              "version_major": 2,
              "version_minor": 0,
              "model_id": "c16a35b0d2724c4ebe63e8e082472554"
            }
          },
          "metadata": {}
        }
      ],
      "source": [
        "import pandas as pd\n",
        "from datasets import Dataset\n",
        "\n",
        "def preprocess_function(examples):\n",
        "    questions = []\n",
        "    contexts = []\n",
        "    answers = []\n",
        "    ids = []\n",
        "\n",
        "    for i in range(len(examples['context'])):\n",
        "        context = examples['context'][i]\n",
        "        qas = examples['qas'][i]\n",
        "\n",
        "        for qa in qas:\n",
        "            questions.append(qa['question'].strip())\n",
        "            contexts.append(context)\n",
        "            ids.append(qa['id'])\n",
        "            if not qa['is_impossible']:\n",
        "                ans = qa['answers'][0]\n",
        "                answer_text = ans['text'] if ans['text'] else \"\"\n",
        "                answers.append({'answer_start': [ans['answer_start']], 'text': [answer_text]})\n",
        "            else:\n",
        "                answers.append({'answer_start': [None], 'text': [\"\"]})\n",
        "\n",
        "    inputs = tokenizer(\n",
        "        questions,\n",
        "        contexts,\n",
        "        max_length=384,\n",
        "        truncation=\"only_second\",\n",
        "        return_offsets_mapping=True,\n",
        "        padding=\"max_length\",\n",
        "    )\n",
        "\n",
        "    offset_mapping = inputs.pop(\"offset_mapping\")\n",
        "\n",
        "    start_positions = []\n",
        "    end_positions = []\n",
        "\n",
        "    for i, offset in enumerate(offset_mapping):\n",
        "        answer = answers[i]\n",
        "        start_char = answer['answer_start'][0]\n",
        "        end_char = start_char + len(answer['text'][0]) if answer['text'][0] else None\n",
        "        sequence_ids = inputs.sequence_ids(i)\n",
        "\n",
        "        if start_char is None or end_char is None:\n",
        "            start_positions.append(0)\n",
        "            end_positions.append(0)\n",
        "        else:\n",
        "            idx = 0\n",
        "            while sequence_ids[idx] != 1:\n",
        "                idx += 1\n",
        "            context_start = idx\n",
        "            while sequence_ids[idx] == 1:\n",
        "                idx += 1\n",
        "            context_end = idx - 1\n",
        "\n",
        "            if offset[context_start][0] > end_char or offset[context_end][1] < start_char:\n",
        "                start_positions.append(0)\n",
        "                end_positions.append(0)\n",
        "            else:\n",
        "                idx = context_start\n",
        "                while idx <= context_end and offset[idx][0] <= start_char:\n",
        "                    idx += 1\n",
        "                start_positions.append(idx - 1)\n",
        "\n",
        "                idx = context_end\n",
        "                while idx >= context_start and offset[idx][1] >= end_char:\n",
        "                    idx -= 1\n",
        "                end_positions.append(idx + 1)\n",
        "\n",
        "    inputs[\"start_positions\"] = start_positions\n",
        "    inputs[\"end_positions\"] = end_positions\n",
        "    inputs[\"answers\"] = answers\n",
        "    inputs[\"id\"] = ids\n",
        "\n",
        "    return inputs\n",
        "\n",
        "# Convert lists to Dataset objects\n",
        "train_dataset = Dataset.from_pandas(pd.DataFrame(train))\n",
        "validation_dataset = Dataset.from_pandas(pd.DataFrame(validation))\n",
        "\n",
        "# Apply preprocess_function\n",
        "tokenized_train = train_dataset.map(preprocess_function, batched=True, remove_columns=train_dataset.column_names)\n",
        "tokenized_validation = validation_dataset.map(preprocess_function, batched=True, remove_columns=validation_dataset.column_names)\n",
        "\n",
        "\n"
      ]
    },
    {
      "cell_type": "code",
      "execution_count": 18,
      "metadata": {
        "colab": {
          "base_uri": "https://localhost:8080/"
        },
        "id": "KYCmaOz4ojpU",
        "outputId": "ebfc3502-73fb-4bce-eda7-1a4ea338b8f2"
      },
      "outputs": [
        {
          "output_type": "execute_result",
          "data": {
            "text/plain": [
              "Dataset({\n",
              "    features: ['input_ids', 'attention_mask', 'start_positions', 'end_positions', 'answers', 'id'],\n",
              "    num_rows: 42\n",
              "})"
            ]
          },
          "metadata": {},
          "execution_count": 18
        }
      ],
      "source": [
        "tokenized_train"
      ]
    },
    {
      "cell_type": "code",
      "execution_count": 19,
      "metadata": {
        "colab": {
          "base_uri": "https://localhost:8080/"
        },
        "id": "2OBWD7eaopKk",
        "outputId": "c8f79d8c-2424-493e-c2d9-ba1774fdf434"
      },
      "outputs": [
        {
          "output_type": "execute_result",
          "data": {
            "text/plain": [
              "Dataset({\n",
              "    features: ['context', 'qas'],\n",
              "    num_rows: 13\n",
              "})"
            ]
          },
          "metadata": {},
          "execution_count": 19
        }
      ],
      "source": [
        "train_dataset"
      ]
    },
    {
      "cell_type": "markdown",
      "metadata": {
        "id": "AZYcbJZnZHAV"
      },
      "source": [
        "The DefaultDataCollator is a class from the transformers library that is used to collate samples into batches for training or evaluation. When you train a model, you usually don't pass the entire dataset at once, but rather use mini-batches of data. The data_collator is responsible for taking the individual samples and combining them into these mini-batches.\n",
        "\n",
        "The DefaultDataCollator will:\n",
        "\n",
        "Handle the padding of the input data (if necessary) to ensure that all samples in the batch have the same length.\n",
        "Convert the batch into PyTorch tensors."
      ]
    },
    {
      "cell_type": "code",
      "execution_count": 20,
      "metadata": {
        "id": "qfacp8LHfrS4"
      },
      "outputs": [],
      "source": [
        "from transformers import DefaultDataCollator\n",
        "\n",
        "data_collator = DefaultDataCollator()"
      ]
    },
    {
      "cell_type": "markdown",
      "metadata": {
        "id": "s_PFghoLfrS4"
      },
      "source": [
        "## Fine-tune the model"
      ]
    },
    {
      "cell_type": "code",
      "execution_count": 21,
      "metadata": {
        "id": "xSvspLvFfrS4"
      },
      "outputs": [],
      "source": [
        "from transformers import TrainingArguments, Trainer\n",
        "model = AutoModelForQuestionAnswering.from_pretrained(model_name)"
      ]
    },
    {
      "cell_type": "markdown",
      "metadata": {
        "id": "SNAQ5ldHm88T"
      },
      "source": [
        "metric = load_metric(\"squad\") loads the SQuAD (Stanford Question Answering Dataset) evaluation metric. This metric computes the Exact Match (EM) and F1 score, which are commonly used for evaluating question answering models.\n",
        "\n",
        "Exact Match (EM): This is the simplest metric. It measures the percentage of predictions that match any one of the ground truth answers exactly.\n",
        "F1 Score: This is a more complex metric that considers the overlap between the prediction and ground truth answer. It is the harmonic mean of precision and recall."
      ]
    },
    {
      "cell_type": "code",
      "execution_count": 22,
      "metadata": {
        "id": "ZAZoA65GfrS4"
      },
      "outputs": [],
      "source": [
        "#defining training argument\n",
        "training_args = TrainingArguments(\n",
        "    output_dir='./results',\n",
        "    num_train_epochs=20,\n",
        "    per_device_train_batch_size=8,\n",
        "    per_device_eval_batch_size=8,\n",
        "    warmup_steps=500,\n",
        "    weight_decay=0.01,\n",
        "    logging_dir='./logs',\n",
        ")\n"
      ]
    },
    {
      "cell_type": "code",
      "execution_count": 23,
      "metadata": {
        "colab": {
          "base_uri": "https://localhost:8080/",
          "height": 229,
          "referenced_widgets": [
            "33e363c0ea9e490fa72263acd8d2b2b3",
            "0a8e07ea278d475ca3d631804efdb9ab",
            "160172e6d1524db7bdb679c4ec99cc1e",
            "1a39564a9b3846b6b079090bbbf004ab",
            "2107e933c239464ea75748dad73482f4",
            "bfa58776e0b64106994dbca537d2d7a7",
            "809b11dad7e84918b0793fbd9ff0cbe4",
            "b7fa37fdd1184aaa90fbbb0a82c7db66",
            "2226758cb47f461eb40e45e386ca803c",
            "4c53c5de99a64b4a98294c167d86f036",
            "462f0990ef774f2d989db00ac8e72c30",
            "431a0d65db154c6891f18b2dcef50767",
            "893afbd5fafa4176889334d576d6db44",
            "fde2764bc1a6451f89c816ab1929e785",
            "d3ff11162e184a00afd7a5fd624ff484",
            "f08ed8102d434021b40cd4d0ff7df504",
            "cffee2ae805b4a25baf73b1faadd55f2",
            "5cc531a8f4b94257995ddec8e46cec80",
            "3e492838f7d64715838129587dc96dfb",
            "272dea8b0fdc4234945e81f3c43f3834",
            "a55d5a67fcc8497f81bd52d1d046e3ce",
            "e13366fbb8b34b2e9d4f030cb12340fe"
          ]
        },
        "id": "hfZ3oP87nNkB",
        "outputId": "7d789929-1228-48b4-dbf6-4345242d2bd6"
      },
      "outputs": [
        {
          "output_type": "stream",
          "name": "stderr",
          "text": [
            "<ipython-input-23-4dd1e8cd556b>:6: FutureWarning: load_metric is deprecated and will be removed in the next major version of datasets. Use 'evaluate.load' instead, from the new library 🤗 Evaluate: https://huggingface.co/docs/evaluate\n",
            "  metric = load_metric(\"squad\")\n"
          ]
        },
        {
          "output_type": "display_data",
          "data": {
            "text/plain": [
              "Downloading builder script:   0%|          | 0.00/1.72k [00:00<?, ?B/s]"
            ],
            "application/vnd.jupyter.widget-view+json": {
              "version_major": 2,
              "version_minor": 0,
              "model_id": "33e363c0ea9e490fa72263acd8d2b2b3"
            }
          },
          "metadata": {}
        },
        {
          "output_type": "display_data",
          "data": {
            "text/plain": [
              "Downloading extra modules:   0%|          | 0.00/1.11k [00:00<?, ?B/s]"
            ],
            "application/vnd.jupyter.widget-view+json": {
              "version_major": 2,
              "version_minor": 0,
              "model_id": "431a0d65db154c6891f18b2dcef50767"
            }
          },
          "metadata": {}
        },
        {
          "output_type": "display_data",
          "data": {
            "text/plain": [
              "<IPython.core.display.HTML object>"
            ],
            "text/html": [
              "\n",
              "    <div>\n",
              "      \n",
              "      <progress value='120' max='120' style='width:300px; height:20px; vertical-align: middle;'></progress>\n",
              "      [120/120 01:01, Epoch 20/20]\n",
              "    </div>\n",
              "    <table border=\"1\" class=\"dataframe\">\n",
              "  <thead>\n",
              " <tr style=\"text-align: left;\">\n",
              "      <th>Step</th>\n",
              "      <th>Training Loss</th>\n",
              "    </tr>\n",
              "  </thead>\n",
              "  <tbody>\n",
              "  </tbody>\n",
              "</table><p>"
            ]
          },
          "metadata": {}
        },
        {
          "output_type": "execute_result",
          "data": {
            "text/plain": [
              "TrainOutput(global_step=120, training_loss=0.7039108912150065, metrics={'train_runtime': 64.868, 'train_samples_per_second': 12.949, 'train_steps_per_second': 1.85, 'total_flos': 164616956743680.0, 'train_loss': 0.7039108912150065, 'epoch': 20.0})"
            ]
          },
          "metadata": {},
          "execution_count": 23
        }
      ],
      "source": [
        "from datasets import load_metric #from datasets in huggging face\n",
        "import numpy as np\n",
        "from transformers import EvalPrediction\n",
        "from typing import Dict\n",
        "\n",
        "metric = load_metric(\"squad\")\n",
        "\n",
        "def compute_metrics(p):\n",
        "    start_preds, end_preds = p.predictions\n",
        "    ids = tokenized_validation['id']\n",
        "    input_ids = tokenized_validation['input_ids']\n",
        "\n",
        "    # convert scores to actual positions\n",
        "    start_positions = np.argmax(start_preds, axis=1)\n",
        "    end_positions = np.argmax(end_preds, axis=1)\n",
        "\n",
        "    predictions = []\n",
        "    for id, input_id, start, end in zip(ids, input_ids, start_positions, end_positions):\n",
        "        prediction_text = tokenizer.decode(input_id[start:end+1], skip_special_tokens=True)\n",
        "        if not prediction_text:\n",
        "            prediction_text = \"\"\n",
        "        predictions.append({'id': id, 'prediction_text': prediction_text})\n",
        "\n",
        "    references = [{'id': id, 'answers': {'answer_start': [answer['answer_start'][0]], 'text': [answer['text'][0] if answer['text'][0] else \"\"]}} for id, answer in zip(ids, tokenized_validation['answers'])]\n",
        "    result = metric.compute(predictions=predictions, references=references)\n",
        "    return result\n",
        "\n",
        "\n",
        "\n",
        "trainer = Trainer(\n",
        "    model=model,\n",
        "    args=training_args,\n",
        "    train_dataset=tokenized_train,\n",
        "    eval_dataset=tokenized_validation,\n",
        "    compute_metrics=compute_metrics,\n",
        ")\n",
        "\n",
        "trainer.train()\n"
      ]
    },
    {
      "cell_type": "markdown",
      "metadata": {
        "id": "5k2177J8awbN"
      },
      "source": [
        "The TrainOutput object contains some information about the training process:\n"
      ]
    },
    {
      "cell_type": "markdown",
      "metadata": {
        "id": "qv6VWl8vGeiD"
      },
      "source": [
        "### Evaluation of the tuned model"
      ]
    },
    {
      "cell_type": "code",
      "execution_count": 24,
      "metadata": {
        "colab": {
          "base_uri": "https://localhost:8080/",
          "height": 74
        },
        "id": "Hp-FLBMsn2lP",
        "outputId": "e0a70177-bf23-4a2f-a378-f20c39f0b80b"
      },
      "outputs": [
        {
          "output_type": "display_data",
          "data": {
            "text/plain": [
              "<IPython.core.display.HTML object>"
            ],
            "text/html": [
              "\n",
              "    <div>\n",
              "      \n",
              "      <progress value='2' max='2' style='width:300px; height:20px; vertical-align: middle;'></progress>\n",
              "      [2/2 00:00]\n",
              "    </div>\n",
              "    "
            ]
          },
          "metadata": {}
        },
        {
          "output_type": "stream",
          "name": "stdout",
          "text": [
            "{'eval_loss': 3.194551944732666, 'eval_exact_match': 54.54545454545455, 'eval_f1': 53.29380764163374, 'eval_runtime': 0.2869, 'eval_samples_per_second': 38.339, 'eval_steps_per_second': 6.971, 'epoch': 20.0}\n"
          ]
        }
      ],
      "source": [
        "# Evaluate the model\n",
        "results = trainer.evaluate()\n",
        "\n",
        "print(results)"
      ]
    },
    {
      "cell_type": "code",
      "execution_count": 25,
      "metadata": {
        "colab": {
          "base_uri": "https://localhost:8080/"
        },
        "id": "W1RIOow1a3aF",
        "outputId": "6493edbc-e2f6-4237-fa4b-6796c47f2f1b"
      },
      "outputs": [
        {
          "output_type": "stream",
          "name": "stdout",
          "text": [
            "Mounted at /content/gdrive\n"
          ]
        },
        {
          "output_type": "execute_result",
          "data": {
            "text/plain": [
              "('/content/gdrive/MyDrive/tuned_model/tokenizer_config.json',\n",
              " '/content/gdrive/MyDrive/tuned_model/special_tokens_map.json',\n",
              " '/content/gdrive/MyDrive/tuned_model/vocab.json',\n",
              " '/content/gdrive/MyDrive/tuned_model/merges.txt',\n",
              " '/content/gdrive/MyDrive/tuned_model/added_tokens.json',\n",
              " '/content/gdrive/MyDrive/tuned_model/tokenizer.json')"
            ]
          },
          "metadata": {},
          "execution_count": 25
        }
      ],
      "source": [
        "# Mount Google Drive\n",
        "from google.colab import drive\n",
        "drive.mount('/content/gdrive')\n",
        "\n",
        "\n",
        "# Save model and tokenizer\n",
        "model.save_pretrained(\"/content/gdrive/MyDrive/tuned_model\")\n",
        "tokenizer.save_pretrained(\"/content/gdrive/MyDrive/tuned_model\")\n",
        "\n"
      ]
    },
    {
      "cell_type": "markdown",
      "metadata": {
        "id": "lV3jVGbAbsDN"
      },
      "source": [
        "## Using the tuned model"
      ]
    },
    {
      "cell_type": "code",
      "execution_count": 26,
      "metadata": {
        "colab": {
          "base_uri": "https://localhost:8080/"
        },
        "id": "8Ju2zkd9dgym",
        "outputId": "2ab0a532-2e9f-4602-f889-6f44e054d736"
      },
      "outputs": [
        {
          "output_type": "execute_result",
          "data": {
            "text/plain": [
              "['training_args.bin',\n",
              " 'config.json',\n",
              " 'pytorch_model.bin',\n",
              " 'special_tokens_map.json',\n",
              " 'merges.txt',\n",
              " 'vocab.json',\n",
              " 'tokenizer_config.json',\n",
              " 'tokenizer.json']"
            ]
          },
          "metadata": {},
          "execution_count": 26
        }
      ],
      "source": [
        "import os\n",
        "\n",
        "# List the contents of the directory\n",
        "os.listdir('/content/gdrive/MyDrive/tuned_model')\n"
      ]
    },
    {
      "cell_type": "code",
      "execution_count": 27,
      "metadata": {
        "colab": {
          "base_uri": "https://localhost:8080/"
        },
        "id": "2a-Wmm7Zdn9Y",
        "outputId": "ad0a0c49-0d10-4279-ace8-802d0d9db88e"
      },
      "outputs": [
        {
          "output_type": "stream",
          "name": "stdout",
          "text": [
            "/content/gdrive/MyDrive/tuned_model\n"
          ]
        }
      ],
      "source": [
        "print(os.path.abspath('/content/gdrive/MyDrive/tuned_model'))\n"
      ]
    },
    {
      "cell_type": "code",
      "execution_count": 28,
      "metadata": {
        "colab": {
          "base_uri": "https://localhost:8080/"
        },
        "id": "wQ_Tef9nbEwE",
        "outputId": "543b2993-17b3-4a9c-d0f2-892d0404e716"
      },
      "outputs": [
        {
          "output_type": "stream",
          "name": "stdout",
          "text": [
            "Question: What's the name of the satellite constellation the company seeks to deploy or operate?\n",
            "Answer:  NGSO <s> <s> <s>  Space Exploration Holdings  Starlink  SpaceX Gen2  SpaceX  Gen2 Starlink <s>  SpaceX   SpaceX  Starlink Gen2  SpaceX  Gen2 Starlink  Gen2 Starlink  SpaceX  SES Americom and O3b  Viasat T-AMD  SAT-AMD  DISH Network Corporation (DISH <s>  SpaceX  NGSO  SpaceX NGSO  SpaceX NGSO  SpaceX NGSO  Starlink  Starlink  Starlink  Starlink  Gen1 Starlink  Gen1 Starlink  Gen1 Starlink  SpaceX NGSO  Starlink  SpaceX tarlink  New Spectrum Satellite  NGSO  NGSO  Satellit  NGSO  New Spectrum Satellite   New Spectrum Satellite  Kepler ceX Gen2 Starlink  Gen2 Starlink  SpaceX  Gen2 Starlink  Kuiper Kuiper Kuiper  Viasat  Viasat  EchoStar  Kuiper  EchoStar Kuiper Eutelsat   SpaceX Gen2 Starlink  SpaceX  Gen2 Starlink  SpaceX  Gen1 Starlink  Gen2 Starlink SpaceX  Space Exploration Technologies Corp., to Marlene H. Dortch, Secretary, FCC, IBFS File Nos. SAT-LOA-20200526-00055 and SAT-AMD-20210818-00105, at 4 (dated Oct. 4, 2022) (SpaceX  SpaceX  SpaceX Gen2  Gen2 Starlink  Starlink  TT&C  Kuiper Kuiper  SpaceX  Gen2 Starlink  Starlink  Viasat 3b  Space Exploration Technologies Corp.,  Echostar  Echostar  WorldVu Satellites Limited   <s>  EchoStar epler Communications, Inc., IBFS File Nos. SAT-LOA-20200526-00055 and SAT-AMD-20210818-00105 (filed Mar. 8, 2022) (Kepler Reply); Reply of Kuiper Systems LLC, IBFS File Nos. SAT-LOA-20200526-00055 and SAT-AMD-20210818-00105 (filed Mar. 3, 2022) (Kuiper Reply); Reply of Viasat  WorldVu Satellites Limited  SAT-AMD-20210818-00105 (filed Mar. 8, 2022) (OneWeb Reply).  We note that OneWeb withdrew its reply along with its initial comments after reaching a coordination agreement with SpaceX   Space Exploration Technologies Corp., to Marlene H. Dortch, Secretary, FCC, IBFS File Nos. SAT-LOA-20200526-00055 and SAT-AMD-20210818-00105 (dated March 30, 2022) (SpaceX  Space Exploration Technologies Corp., to Marlene H. Dortch, Secretary, FCC, IBFS File Nos. SAT-LOA-20200526-00055 and SAT-AMD-20210818-00105 (dated Apr. 8, 2022) (SpaceX April 8, 2022 Letter); Letter from Jarrett S. Taubman, Vice President and Deputy Chief, Government Affairs, Viasat  Viasat Viasat   Kuiper  Viasat  Kuiper  SpaceX  Viasat   Kuiper  Viasat  Viasat   Viasat SpaceX  DISH Network Corporation DISH  SAT-LOA-20200526-00055 and SAT-AMD-20210818-00105 (dated Sept. 30, 2022) (Samantha Lawler September 30, 2022 Letter); Letter from Carrie Nugent, Associate Professor of Computational Physics and Planetary Science, Olin College of Engineering, to Marlene H. Dortch, Secretary, FCC, IBFS File Nos. SAT-LOA-20200526-00055 and SAT-AMD-20210818-00105 (dated Sept. 30, 2022) (Carrie Nugent September 30, 2022 Letter); Letter from Jarrett S. Taubman, Vice President and Deputy Chief, Government Affairs, Viasat  Viasat  SAT-AMD  Space Exploration Technologies Corp.,  Viasat  Echostar  SpaceX  SpaceX SpaceX SpaceX Viasat  Echostar  Echostar  Space Exploration Holdings  SpaceX Gen2 Starlink  SpaceX <s>   Starlink  SpaceX  Viasat  NGSO  Gen2 Starlink  Gen1 Starlink <s>  NGSO  Gen1  SpaceX  Starlink  Gen2 Starlink  Gen1 Starlink  Gen1 Starlink rlink  Viasat Petition at 19 (citing 47 CFR § 25.113(i)).\r\n",
            "  Viasat argues that SpaceX  Gen2 Starlink  Starlink  Gen2 Starlink  SpaceX  Gen1 Starlink  Gen1 Starlink  Gen2 Starlink  Kuiper June 24, 2022 Ex Parte at 1-2; Kuiper August 4, 2022 Ex Parte at 1.\r\n",
            "  Kuiper points out that many of the concerns with SpaceX  Gen2 Starlink  Gen1  Kuiper  Gen2 Starlink  Gen2 Starlink  Starlink  SpaceX  Gen2 Starlink  Gen2 Starlink  SpaceX  SpaceX  Gen2  Gen2 Starlink  Gen2 Starlink  Gen2 Starlink  Gen2 Starlink  Gen1 Starlink  Gen2 Starlink  Gen2 Starlink  Gen2 Starlink  Gen2 Starlink  Gen2 Starlink  Gen2 Starlink  Gen2 Starlink  Starlink  SpaceX  Gen2 Starlink  NGSO  Starlink  Gen2 Starlink  SpaceX  SpaceX  Northeast Cellular  Northeast Cellular  TT&C  SpaceX  SpaceX  NGSO  NGSO  NGSO FSS  Gen1 Starlink  NGSO  Gen2 Starlink System  SpaceX  SpaceX Gen2 ceX  SpaceX  <s>  NGSO <s> <s>   Viasat  SpaceX’s actual compliance with applicable single-entry EPFD limits See, e.g., Viasat  Viasat  Gen2 Starlink  SpaceX  Gen2 Starlink <s>  Gen2 Starlink <s> <s>  SpaceX  non-geostationary  geostationary  SpaceX eX <s>  NGSO  SpaceX  NGSO  Viasat  NGSO  NGSO  SpaceX <s>  Gen2 Starlink  Gen2 Starlink  SpaceX  Spac  Gen2 Starlink <s>  SpaceX <s>  Gen2 Starlink  Gen2 Starlink  SES/O3b  SES/O3b  Gen2 Starlink  Gen2 Starlink  Gen1 Starlink and Gen2 Starlink  Gen1 Starlink  SpaceX <s>  Starlink  SpaceX  Viasat  Viasat  Kuiper  Kuiper Systems, LLC, Order and Authorization, 35 FCC Rcd 8324, para. 26 (2020) (Kuiper NGSO Authorization).\r\n",
            "  \r\n",
            "33. SES/O3b requests that we condition any grant of Gen2 Starlink  NGSO  SpaceX  Viasat  Gen2  Gen2 Starlink  Viasat  Viasat  SpaceX <s>  SpaceX <s>  SpaceX  Viasat  Viasat <s>What's the name of the satellite constellation the company seeks to deploy or operate?</s></s>riate action.\r\n",
            "35. As to Viasat  Viasat  SES/O3b  SpaceX  SES/O3b  SES/O3b  Gen2 Starlink <s>  Gen1 Starlink  SpaceX  SpaceX <s>  Gen1 Starlink  Gen1 Starlink  Gen1 Starlink  Gen1 Starlink  Starlink  Gen1 Starlink  Gen1 Starlink  Gen1 Starlink  Gen2 Starlink <s>  Gen2 Starlink <s>  SpaceX  SpaceX  SpaceX Gen1 Starlink  Gen1 Starlink  SpaceX  <s>  Starlink  Gen2 Starlink  SpaceX <s> <s>  SpaceX  SpaceX  SpaceX  SpaceX  SpaceX  SpaceX  SpaceX  Gen1 Starlink  Gen1 Starlink  SpaceX   Gen2 Starlink <s>  Gen2 Starlink  SpaceX  GSO  Gen2 Starlink  Gen2 Starlink <s> <s>  SpaceX  SpaceX <s>  SpaceX  NGSO  NGSO <s> <s>  SpaceX  SpaceX  SpaceX  SpaceX  Gen2 Starlink  Gen2 Starlink  Gen2 Starlink  Gen2 Starlink  Tracking and Data Relay Satellite System  Gen2 Starlink  Starlink  SpaceX <s>  SpaceX <s>   SpaceX must complete coordination with federal systems for its space-to-Earth <s>  Starlink  SpaceX <s> X  Gen2 Starlink  Gen2 Starlink  Gen2 Starlink  Gen1 Starlink  NGSO  Gen2 Starlink  Viasat  Viasat <s>  Viasat <s>  Upper Microwave Flexible Use Service (UMFUS) operations, except for FSS operations associated with earth stations authorized pursuant to section 25.136 of our rules. See 47 CFR § 25.136.\r\n",
            "  Finally, SpaceX  NGSO  NGSO FSS  Kuiper  NGSO FSS Systems, Order and Notice of Proposed Rulemaking, FCC 21-1323 (rel. Dec. 15, 2021) (Section 25.261 NPRM).\r\n",
            "  \r\n",
            "61. In grant of an NGSO FSS license to Kuiper  Kuiper  Gen2 Starlink  Kuiper <s> <s> <s>  SpaceX  NGSO  Gen2 Starlink  Gen2 Starlink  SpaceX  Gen2 Starlink <s>  Gen2 Starlink  OneWeb <s>  SpaceX  Starlink  Starlink  Gen2 Starlink  Kuiper   Gen2 Starlink  Gen2 Starlink  Gen2 Starlink  SpaceX  SpaceX  SpaceX providing this information to help mitigate potential interference risks posed by SpaceX’s proposed constellation and to facilitate coordination at this stage.  Moreover, by our action today, we are further limiting any potential future issues by granting only 7,500 of the nearly 30,000 proposed satellites.  Therefore, we decline to impose Kuiper  SpaceX  SpaceX  SpaceX  SpaceX  SpaceX  Gen2 Starlink  SpaceX <s>  SpaceX  Gen2 Starlink  Gen1 Starlink  SpaceX <s>  Starlink  SpaceX  SpaceX  Viasat  SpaceX  Gen1 Starlink  SpaceX  Gen2 Starlink  SpaceX  <s>  SpaceX  Gen2 Starlink  SpaceX  SpaceX  Gen1 Starlink  Gen2 Starlink  Gen2 Starlink  SpaceX  Kepler  SpaceX  SpaceX  SpaceX  Viasat  Orbital Tolerances  SpaceX  Gen2 Starlink  Kuiper <s>  Gen2 Starlink  Starlink  Gen2 Starlink  Gen2 Starlink  Gen2 Starlink  Gen1 Starlink  Gen1 Starlink  SpaceX aceX  SpaceX Gen2  Gen2 Starlink  SpaceX <s> <s>  SpaceX  SpaceX  SpaceX  Starship  Gen2 Starlink  Falcon 9  SpaceX  SpaceX  Starlink  <s>  Gen2 Starlink <s>What's the name of the satellite constellation the company seeks to deploy or operate?</s></s>ion this grant on SpaceX coordinating with NASA.\r\n",
            "89. Lethal nontrackable debris and other risks.  Viasat  SpaceX <s> <s>  SpaceX  SpaceX  SpaceX  Starlink  Gen2 Starlink  STA  SpaceX  Gen1 Starlink  Gen2 Starlink  Gen2 Starlink  Gen2 Starlink  Gen2 Starlink  Gen2 Starlink  Gen2 Starlink  Gen2 Starlink  Gen2 Starlink  SpaceX  SpaceX  Sierra Solter Hunt  Gen2 Starlink  Gen2 Starlink rtificial  Gen1 Starlink space-to-Earth  Gen2 Starlink  NSF  Starlink  Starlink Darksat  SpaceX  Starlink  Gen2 Starlink  Starlink Gen2  SpaceX <s> <s>  SpaceX  Gen2 Starlink  Gen2 Starlink  SpaceX ceX  Gen2 Starlink  SpaceX <s>  SpaceX   SpaceX  SpaceX  SpaceX  SpaceX  Gen2 Starlink  Gen2 Starlink <s>  Gen2 Starlink  Gen2 Starlink  Starlink rlink <s>  SpaceX  SpaceX  SpaceX <s>What's the name of the satellite constellation the company seeks to deploy or operate?</s></s>a. 86 (citing Reply of the American Astronomical Society, IBFS File No. SAT-MOD-20200417-00037, at 1 (filed Jan. 7, 2021)); see also Viasat Petition at 67.\r\n",
            "  The restriction in this Order requiring SpaceX  SpaceX  Gen2 Starlink   Gen2 Starlink  SpaceX Gen2 Starlink  Viasat  Gen2 Starlink  Gen2 Starlink  SpaceX  SpaceX  SpaceX  SpaceX <s> <s> <s> <s> <s>  Viasat  Gen1 Starlink  SpaceX  Viasat  BBILAN <s>  Viasat <s> <s> <s>  SpaceX  Viasat <s>  SpaceX  Viasat  SpaceX  SpaceX  SpaceX <s>  SpaceX  SpaceX  Gen2 Starlink  Gen2 Starlink  Viasat  Viasat  Gen2 Starlink  SpaceX  Gen1 Starlink  Starlink  Gen1 Starlink  Gen2 Starlink  Gen2 Starlink  Gen2 Starlink <s>What's the name of the satellite constellation the company seeks to deploy or operate?</s></s>ting chemicals and inject particles into the stratosphere which absorb and reflect solar energy, warming the stratosphere and cooling the surface of the Earth (radiative forcing). See Viasat <s> <s>  Gen1 Starlink  Gen2 Starlink  SpaceX  Gen2 Starlink  SpaceX  SpaceX <s>  Gen2 Starlink  Starship  SpaceX  Gen2 Starlink  SpaceX  Gen2 Starlink <s> <s>  Viasat <s>What's the name of the satellite constellation the company seeks to deploy or operate?</s></s>ort, the GAO found that rocket launches presently have a small effect on total stratospheric ozone (much less than 0.1%).”  See SpaceX  SpaceX <s>  SpaceX spacex  Gen1 Starlink <s>  Gen2 Starlink  Gen2 Starlink  Gen2 Starlink  Gen1 Starlink <s>What's the name of the satellite constellation the company seeks to deploy or operate?</s></s>ublic statement in May 2022.  See Viasat June 7, 2022 Letter, at 4.  Professor Samantha Lawler calculates that 23 Starlink  Starlink  Starlink  Viasat  Starlink  SpaceX  Gen2 Starlink  Viasat  SpaceX  Gen2 Starlink <s> <s>  Viasat  Viasat October 13, 2022 Letter at 3, n.7 (citing GAO Technical Assessment at 12).  Viasat states, “Considering that the nearly 30,000 operating satellites in the ‘Gen2’ configuration would need to be replaced every five years (if not sooner), and that many of these satellites would be eight times more massive than the original Starlink  Starlink <s>  SpaceX  Viasat  Gen2 Starlink  SpaceX  Viasat  SpaceX  Starlink <s> <s>  Starlink  SpaceX <s> <s>  Gen2 Starlink  SpaceX  SpaceX  SpaceX  SpaceX  SpaceX <s>  SpaceX  Gen2 Starlink  Gen2 Starlink  SpaceX  Gen1 Starlink  LEO  SpaceX Starlink aceX Starlink  Gen2 Starlink <s>  SpaceX <s>  SpaceX  Gen2  SpaceX  SpaceX  SpaceX  SpaceX <s>  NSF  Viasat  SpaceX  NRDC/IDA <s>  SpaceX Gen2 Starlink  SpaceX Gen2 Starlink  SpaceX  Gen2 Starlink  Gen2 Starlink  Viasat argues that Gen2 Starlink  Gen2 Starlink  Gen2 Starlink  SpaceX  SpaceX  SpaceX  SpaceX  SpaceX Gen2 Starlink <s>  SpaceX  Viasat  SpaceX  Gen2 Starlink <s> <s> <s>  SpaceX Gen2 Starlink  SpaceX Gen2 Starlink  SpaceX Gen2 Starlink  SpaceX Gen2 Starlink  SpaceX  SpaceX  SpaceX Gen2 Starlink  SpaceX  SpaceX Gen2 Starlink  SpaceX Gen2 Starlink  SpaceX  Gen1 Starlink  Gen2 Starlink  SpaceX Gen2 Starlink  SpaceX Gen2 Starlink  Gen2 Starlink  Gen2 Starlink  SpaceX Gen2 Starlink  SpaceX Gen2 Starlink  Gen2 Starlink  SpaceX  SpaceX <s> <s> <s>  Gen2 Starlink <s>  Non-geostationary geostationary <s>  SpaceX  SpaceX  Space--to-Earth  SpaceX  Gen2 Starlink  Gen2 Starlink  Upper Microwave Flexible Use Service (UMFUS)  NGSO FSS  NGSO  Gen2 Starlink  NGSO  SpaceX  SpaceX  SpaceX  Gen2 Starlink  Starlink  Starlink <s>  Gen2 Starlink  SpaceX  SpaceX  SpaceX  SpaceX <s>  SpaceX  SpaceX  SpaceX  SpaceX   SpaceX   NGSO  SpaceX <s> <s> <s>  SES Americom and O3b  Viasat <s>What's the name of the satellite constellation the company seeks to deploy or operate?</s></s>Litigation, Motion for Consultation with Affected Agencies, Motion for Disclosure, Motion for Certification of Suitably Comprehensive Insurance Coverage, Motion for Certification of Indemnity, and Motion to Suspend or Revoke Licenses of The Balance Group is DISMISSED.\r\n",
            "149 <s>\n",
            "Score: 0.9995779150475528\n",
            "\n",
            "Question: On which date was the document released?\n",
            "Answer:  December 1, 2022  December 1, 2022 <s> <s> <s> <s>  May 26, 2020 <s> <s> <s> <s> <s> <s> <s> <s> <s> <s> <s> <s> <s>  Feb. 8, 2022  Mar. 10, 2022 <s> <s> <s>  Jan. 27, 2022 <s> <s> IB 2021 <s>  <s>   Aug. 3, 2022   May 27, 2021  Jul. 25, 2022  2018 <s>  Oct. 27, 2022 <s>  March 24, 2020  Jul. 15, 2016 <s> <s>On which date was the document released?</s></s>uly 26, 2017  Oct. 12, 2018 <s> <s> <s> <s>  January 7, 2022  Jan. 7, 2022 <s>  Aug. 25, 2021  Sept. 8, 2021  Sept. 10, 2021  Sept. 22, 2021  Sept. 22, 2021  Sept. 23, 2021   Oct. 12, 2021  Nov. 10, 2021  Dec. 1, 2021  December 23, 2021 Dec. 23, 2021  Dec. 23, 2021  <s> <s>  Aug. 19, 2022  Oct. 4, 2022 <s>  October 4, 2022  January 7, 2022 <s> <s> <s> <s>   January 13, 2022 <s>  Jan. 31, 2022  Feb. 1, 2022   Feb. 4, 2022  Jan. 24, 2021 <s>  Feb. 8, 2022 <s>On which date was the document released?</s></s>ne 13, 2022 <s> <s>  Mar. 8, 2022 <s>  Mar. 8, 2022  March 18, 2022  March 29, 2022  Apr. 7, 2022  Apr. 25, 2022  May 2, 2022  May 18, 2022  May 18, 2022  June 6, 2022  Jun. 24, 2022  Jun. 30, 2022  Jul. 13, 2022  Jul. 25, 2022 <s>  Aug. 24, 2022 Aug. 29, 2022  Sept. 7, 2022 <s>  Sept. 21, 2022  Sept. 23, 2022  Sept. 23, 2022  Sept. 30, 2022  Oct. 4, 2022  Oct. 5, 2022  Oct. 6, 2022 <s>  Oct. 13, 2022  Oct. 14, 2022  Oct. 17, 2022  Oct. 24, 2022  Oct. 27, 2022  Oct. 27, 2022  Nov. 7, 2022  Nov. 10, 2022  Nov. 17, 2022  Nov. 17, 2022 <s> <s> <s> <s> <s> <s>  September 23, 2022 <s> <s>  <s> 2003 <s> <s>  7-10 <s> <s> <s> <s> <s> <s>  October 4, 2022 <s> <s> <s> <s> <s>  June 24, 2022 August 4, 2022 <s> <s> <s> <s> <s> <s> <s>  October 27, 2022 <s> <s> <s>  <s>  April 7, 2022 <s>  May 16, 2022 <s>  May 16, 2022 <s> <s> <s> <s> <s> <s> <s>  May 18, 2022 <s> <s>  39-41 <s> <s> <s> <s> <s> <s> <s> 2000 <s> <s> <s> <s> <s>On which date was the document released?</s></s>ribed in Recommendation ITU-R SF.1483 <s> <s> <s> <s> <s> <s> <s> <s> <s> <s>  <s>  July 18, 2022 <s> <s> <s> <s> <s> <s> <s> <s>  2004 <s> <s>  October 17, 2022 <s> <s> <s>  23-24 <s> <s> <s>  September 19, 2022 <s>  August 24, 2022 <s>  July 18, 2022 <s> <s>On which date was the document released?</s></s>(DTH), and other GSO networks SpaceX seeks to compete with. Id. at 3, Technical Annex.\r\n",
            "  \r\n",
            "31   November 10, 2022 <s> <s> <s>  Nov. 28, 2022 <s> <s> <s>  <s> <s> <s> <s> <s> <s> <s> <s>  October 14, 2022 <s> <s> <s> <s> <s> <s>  November 4, 2022 <s> <s> <s> <s> <s> <s> <s>  <s> <s>  July 18, 2022 <s>  August 19, 2022  <s> <s> <s> <s> <s> <s> <s> <s> <s> <s> <s> <s>  September 19, 2022 <s>  February 2022 <s> <s> <s> <s>On which date was the document released?</s></s>ly at II, 9, 11.\r\n",
            "  Viasat argues that grant of the waiver would result in no regulatory body conducting meaningful review of SpaceX’s EPFD compliance, and so SpaceX’s argument that grant of the waiver would still leave adequate protections for GSO operators is a meritless defense. See Viasat Petition at 28-31; Viasat Reply at 20.\r\n",
            "  Viasat states that given the significant concerns raised on the record, the waiver should be denied. See Viasat Petition at 28-31; Viasat Reply at 20.\r\n",
            "\r\n",
            "40 <s> <s> <s> <s> <s> <s> <s>  11, n.17 <s>  6.\r\n",
            " <s>  August 19, 2022 <s>  January 7, 2022 <s> <s> <s> <s> <s> <s>  October 27, 2022 27, 2022  September 23, 2022  <s> <s> <s> <s> <s> <s> <s> <s> <s> <s> <s> <s>On which date was the document released?</s></s>lite networks in the fixed-satellite service operating in accordance with the Radio Regulations. Id.\r\n",
            "  Additionally, Footnote 5.441 <s> <s>  <s> <s>On which date was the document released?</s></s> ITU Radio Regulations.\r\n",
            "51 <s> <s> <s> <s> <s> <s> <s> <s> <s>  11.\r <s> <s> <s> <s> <s> <s> <s> <s>  12 <s> <s> <s> <s>  32-33 <s>  April 7, 2022  May 18, 2022 <s> <s> <s> <s> <s> <s> <s>  Dec. 15, 2021  15, 2021 <s> <s> <s> <s> <s> <s> <s> <s> IB 2017 <s> <s> <s> <s> <s> <s> <s> <s> <s> <s> <s> <s> <s> <s> <s> <s> <s> <s> <s>  <s>  October 4, 2022 <s> <s> <s> <s> 2022  April 7, 2022 <s>  January 7, 2022 <s>  October 4, 2022 <s>On which date was the document released?</s></s>on. See SpaceX Consolidated Opposition at 10; SpaceX October 4, 2022 <s>  October 4, 2022  19, 2022 <s> <s> <s>  March 10, 2022  March 10, 2022 <s> <s>  October 4, 2022 <s> <s>  April 8, 2022  August 19, 2022  <s> <s>  April 7, 2022 <s>  August 19, 2022   <s> <s>  August 19, 2022 <s> <s> <s> <s> <s> <s> <s> <s> <s> <s> <s>  July 13, 2022 <s> <s> <s> <s> <s>  September 23, 2022 <s>  January 7, 2022 <s> <s> <s> <s> <s> <s> <s> <s>  April 8, 2022   May 18, 2022 <s> <s> <s> <s>  October 4, 2022 <s> <s>On which date was the document released?</s></s> the constellation. See SpaceX Gen2 Application, Technical Attachment at 2 <s> <s> <s> <s> <s> <s> <s>  October 6, 2022  October 6, 2022 <s> <s> <s> <s> <s> <s> <s> <s> <s> <s> <s> <s> <s> <s>  September 23, 2022  September 30, 2022 <s> <s> <s> <s>  August 1, 2022 <s> <s>  August 1, 2022  2022  2022  August 1, 2022 <s>  August 1, 2022   8043 <s> <s> <s> <s> ocations.\r\n",
            "99  2020 <s> <s> <s>  August 1, 2022 <s> <s>  August 1, 2022 <s>  Jan. 7, 2021 <s>   November 10, 2022 <s>  1969 <s> <s> <s>  September 2022 <s> Sept 2022 <s> <s> <s> <s> <s> <s> <s> <s> <s>  2022 <s> <s> <s> <s> <s> <s> <s> <s> <s> <s>  Jan. 27, 1967 <s> <s> <s> <s> <s>  October 20, 2022 <s> <s> <s> <s> <s> <s> <s> <s>  <s> <s> <s> <s> <s> Nov. 25, 2011 Nov. 25, 2011 <s> Sep. 2021 <s> <s>  June 2022 <s> <s> <s> <s> <s>  July 2020  Dec. 2018 <s> <s> <s>  October 20, 2022 <s> <s>  June 2022  June 2022 <s> <s> <s> <s> <s>   May 2022   2021 <s> 2021 <s>  October 13, 2022 <s>  May 18, 2022 May 20, 2021 <s> <s>  October 13, 2022 <s> <s> Aug. 11, 2022 Sept. 21, 2021 <s>  1996 <s>On which date was the document released?</s></s>6), https://doi.org/10.1007/978-94-017-3354-0_13).\r\n",
            "  Additionally, SpaceX cites a study which found that alumina is not even created when meteoroids containing aluminum burn up in the atmosphere, and SpaceX argues this undermines Viasat’s entire premise. Id. at 4 (citing John M. C. Plane et al., Meteor-Ablated Aluminum in the Mesosphere-Lower Thermosphere, 126 J. of Geophysical Research: Space Physics 1 (2021 2021 <s> Aug. 11, 2022  October 27, 2022 <s> <s> <s> Aug. 11, 2022 <s> <s> <s> <s> <s>  2020  2020 <s> <s> <s> <s> <s> <s> <s>  2022  2022 <s> <s> <s>  October 13, 2022  October 24, 2022   October 24, 2022 <s> <s> <s> <s> <s> <s>   2013   September 23, 2022 <s> <s>  August 1, 2022 <s> <s> <s> <s> <s> <s> <s> <s> <s> <s> <s>  2022 <s> 10-119 <s> <s> <s> <s> <s> <s> <s> <s>  2020 <s> <s> <s> <s>  70-71  July 20, 2021 <s> <s> <s> <s> <s> <s> <s> <s> <s> <s> <s> <s> <s> <s> <s> <s>  Sept. 19, 2022 <s>  47 CFR § 2.106 <s> <s> <s> <s> <s> <s> <s> <s>  20-325 <s> IB 2017 <s> <s> <s> <s> <s> <s> <s> <s> <s> <s> <s> <s> <s> <s> <s> <s> <s> <s>  December 1, 2031 <s> <s> <s> <s> <s> <s> <s>On which date was the document released?</s></s>Litigation, Motion for Consultation with Affected Agencies, Motion for Disclosure, Motion for Certification of Suitably Comprehensive Insurance Coverage, Motion for Certification of Indemnity, and Motion to Suspend or Revoke Licenses of The Balance Group is DISMISSED.\r\n",
            "149 <s>\n",
            "Score: 0.9990525106833275\n",
            "\n",
            "Question: By which date must the company launch and operate half of its satellites?\n",
            "Answer: <s> <s> <s> <s> <s> <s> <s> <s> <s> <s> <s> <s> <s> <s> <s> <s> <s> <s> <s> <s> <s> <s> <s> <s> <s> <s> <s> <s> <s> <s> <s>  Jan. 17, 2020 <s> <s> <s> <s> <s> <s> <s> <s> <s> <s> <s> <s> <s> <s> <s> <s> <s> <s> <s> <s> <s> <s> <s> <s> <s> <s> <s> <s> <s> <s> <s> <s> <s> <s> <s> <s> <s> <s> <s> <s> <s> <s> <s> <s> <s> <s> <s> <s>By which date must the company launch and operate half of its satellites?</s></s>ension of the filing window, given that interested parties had already had months to review SpaceX’s application.  See SpaceX January 7, 2022 <s> <s> <s> <s> <s> <s> <s> <s> <s>  2022 <s> <s> <s> <s> <s> <s>  March 29, 2022 <s> <s> <s> <s> <s> <s> <s> <s> <s> <s> <s> <s> Aug. 29, 2022 <s> <s> <s> <s> <s> <s> <s> <s> <s> <s> <s> <s> <s>  October 27, 2022 <s> <s> <s> <s>  2022 <s> <s> <s> <s> <s> <s> <s> <s> <s> <s> <s> <s> <s> <s> <s> <s> <s> <s> <s> <s> <s> <s> <s> <s> <s> <s> <s> <s> <s> <s> <s> <s> <s> <s> <s> <s> <s> <s> <s> <s> <s>  <s> <s> <s> <s> <s> <s> <s> <s> <s> <s> <s> <s> <s>  2022 <s> <s> <s> <s> <s> <s> <s> <s> <s> <s> <s> <s> <s> <s> <s> <s> <s> <s> <s> <s> <s> <s> <s> <s> <s> <s>  2022 <s>  2022 <s> <s> <s> <s> <s> <s> <s> <s> <s> <s> <s> <s> <s> <s> <s> <s> <s> <s> <s> <s> <s> <s> <s> <s> <s> <s>  2022  November 10, 2022 <s> <s> <s> <s> <s> <s> <s> <s> <s> <s> <s> <s> <s> <s> <s> <s>  2020 <s> <s> <s> <s> <s> <s> <s> <s> <s> <s> <s> <s> <s> <s> <s> <s> <s> <s> <s> <s> <s> <s> <s> <s> <s> <s> <s> <s> <s> <s> <s> <s> <s> <s> <s> <s> <s> <s> <s> <s> <s> <s> <s> <s> <s> <s> <s> <s> <s> <s> <s> <s> <s> <s> <s> <s> <s> <s> <s> <s>  2022  2022 <s> <s> <s> <s> <s> <s> <s> <s> <s> <s> <s> <s> <s> <s> <s> <s> <s> <s> <s> <s> <s> <s> <s> <s> <s> <s> <s> <s> <s> <s> <s> <s> <s> <s> <s> <s> <s> <s> <s> <s> <s> <s> <s> <s> <s> <s> <s> <s> <s> <s> <s> <s> <s> <s> <s> <s> <s> <s> <s> <s> <s> <s> <s> <s> <s> <s> <s> <s> <s> <s> <s> <s> <s> <s> <s> <s> <s> <s> <s> <s> <s> <s> <s> <s> <s> <s> <s> <s> <s> <s> <s> <s> <s> <s>By which date must the company launch and operate half of its satellites?</s></s>00,000) as its trigger for collision avoidance maneuvers. See SpaceX January 7, 2022 <s> <s>  2022 <s>  2022 <s> <s> <s> <s> <s> <s> <s> <s> <s> <s> <s> <s>By which date must the company launch and operate half of its satellites?</s></s>ASA’s Conjunction and Risk Analysis program in connection with the Gen1 Starlink system, and the autonomous collision avoidance system is also relied on by NASA. See SpaceX Consolidated Opposition at III, 6, 7-8, 9.\r\n",
            "  SpaceX states it is continuing to work with NASA to address its concerns. Id. at 10; SpaceX April 8, 2022 <s> <s> <s> <s> <s> <s> <s> <s> <s> <s> <s> <s> <s> <s> <s> <s> <s> <s> <s> <s> <s> <s> <s> <s> <s> <s> <s> <s> <s> <s> <s> <s> <s> <s> <s> <s> <s> <s> <s> <s> <s> <s> <s> <s> <s> <s> <s> <s> <s> <s> <s> <s> <s> <s> <s> <s> <s>  2022 <s> <s> <s> <s> <s> <s> <s> <s> <s> <s> <s> <s> <s> <s> <s> <s> <s> <s> <s> <s> <s> <s> <s> <s>  2022  2022  2022  August 1, 2022 <s> <s> <s> <s> <s> <s> <s> <s> <s> <s> <s> <s> <s> <s> <s> <s> <s> <s> <s> <s> <s> <s> <s> <s> <s> <s> <s> <s> <s> <s> <s> <s> <s> <s> <s> <s> <s> <s> <s> <s> <s> <s> <s> <s> <s> <s> <s> <s> <s> <s> <s> <s> <s> <s> <s> <s>  2022 <s> <s> <s> <s> <s> <s> <s> <s> <s> <s> <s> <s> <s> <s> <s> <s> <s> <s> <s> <s> <s> <s> <s> <s> <s> <s> <s> <s> <s> <s> <s> <s> <s> <s> <s>  June 2022 <s> <s> <s> <s> <s> <s> <s>  2022 <s> <s> <s> <s> <s> <s> <s> <s> <s> <s> <s> <s> <s> <s> <s> <s> <s> <s> <s> <s> <s> <s> <s> <s> <s> <s> <s> <s> <s> <s> <s> <s> <s> <s> <s> <s> <s> <s> <s> <s> <s> <s> <s>By which date must the company launch and operate half of its satellites?</s></s>y 2, 2022 <s> <s> <s>  2022 <s> <s>By which date must the company launch and operate half of its satellites?</s></s>ions will be minimal.” See SpaceX October 24, 2022 <s> <s> <s> <s> <s> <s> <s> <s> <s> <s> <s> <s> <s> <s> <s> <s> <s> <s>By which date must the company launch and operate half of its satellites?</s></s>Hunt September 23, 2022 <s> <s> <s> <s> <s> <s> <s> <s> <s> <s> <s>  <s> <s> <s> <s> <s> <s> <s> <s> <s> <s> <s> <s> <s> <s> <s> <s> <s> <s> <s> <s> <s> <s> <s> <s> <s> <s> <s> <s> <s> <s> <s> <s> <s> <s> <s> <s> <s> <s> <s> <s> <s> <s> <s> <s> <s> <s> <s> <s> <s> <s> <s> <s> <s> <s> <s> <s> <s> <s> <s> <s>  December 1, 2028  within six years of grant <s> <s> <s> <s> <s> <s> <s> <s>\n",
            "Score: 0.9993289641815863\n",
            "\n",
            "Question: By which date is the company expected to have all its satellites operational?\n",
            "Answer: <s> <s> <s> <s> <s> <s> <s> <s> <s> <s> <s> <s> <s> <s> <s> <s> <s> <s> <s>  <s> <s> <s> <s> <s> <s> <s> <s> <s> <s> <s>  Jan. 17, 2020 <s> <s> <s> <s> <s> <s> <s> <s> <s> <s> <s> <s> <s> <s> <s> <s> <s> <s> <s> <s> <s> <s> <s>  Sept. 8, 2021  Sept. 10, 2021 <s> <s> <s> <s>By which date is the company expected to have all its satellites operational?</s></s>ember 29, 2021  Oct. 12, 2021 <s> <s> <s> <s> <s> <s> <s> <s> <s>  Oct. 4, 2022 <s> <s> <s> <s> <s> <s> <s> <s> <s> <s> <s>  <s> <s> <s> <s> <s>  2022 <s> <s> <s> <s> <s> <s>  March 29, 2022  Apr. 7, 2022  Apr. 25, 2022 <s> <s> <s>  June 6, 2022 <s>  <s> <s> <s>  Aug. 24, 2022 Aug. 29, 2022 <s> <s> <s>  Sept. 23, 2022 <s>  Sept. 30, 2022 <s>By which date is the company expected to have all its satellites operational?</s></s>er); Letter from Jarrett S. Taubman, Vice President and Deputy Chief, Government Affairs, Viasat, Inc., to Marlene H. Dortch, Secretary, FCC, IBFS File Nos. SAT-LOA-20200526-00055 and SAT-AMD-20210818-00105 (dated Oct. 4, 2022 <s>By which date is the company expected to have all its satellites operational?</s></s>-00055 and SAT-AMD-20210818-00105 (dated Oct. 5, 2022  Oct. 6, 2022 <s> <s>By which date is the company expected to have all its satellites operational?</s></s>SAT-AMD-20210818-00105 (dated Oct. 13, 2022  October 14, 2022 <s>By which date is the company expected to have all its satellites operational?</s></s>Marlene H. Dortch, Secretary, FCC, IBFS File Nos. SAT-LOA-20200526-00055 and SAT-AMD-20210818-00105 (dated Oct. 17, 2022  October 27, 2022  Oct. 27, 2022 <s>  Nov. 7, 2022  <s>By which date is the company expected to have all its satellites operational?</s></s>v. 16, 2022  <s> <s> <s> <s> <s> <s> <s> <s> <s> <s> <s> <s>  January 2022 <s> <s> <s> <s> <s> <s> <s> <s> <s>By which date is the company expected to have all its satellites operational?</s></s>mission.\r\n",
            "   \r\n",
            "16. SpaceX subsequently provided the physical characteristics and associated factual material such as sample logs from NASA’s Debris Assessment Software (DAS) for the current designs of its Gen2 Starlink satellites. See SpaceX October 4, 2022 <s> <s> <s> <s> <s> <s> <s> <s> <s> <s> <s> <s> <s> <s> <s> <s> <s> <s> <s> <s> <s> <s> <s> <s> <s> <s> <s> <s> <s> <s> <s> <s> <s>By which date is the company expected to have all its satellites operational?</s></s>e Viasat Petition at I-II, 4—10, 12.  \r\n",
            "  SpaceX argues that it has demonstrated in its application, as amended, that its Gen2 Starlink constellation will maintain safe space, protect other operators, and minimize its impact on the human environment. See SpaceX Consolidated Opposition at 39-43; SpaceX May 18, 2022 <s> <s> <s> <s> <s> <s> <s> <s> <s> <s> <s> <s> <s> <s> <s> <s> <s> <s> <s> <s> <s> <s> <s> <s> <s> <s>  2022 <s> <s> <s> <s> <s> <s> <s> <s> <s> <s> <s> <s> <s> <s> <s> <s> <s> <s> <s> <s> <s> <s> <s> <s> <s> <s> <s> <s> <s>  November 10, 2022 <s> <s> <s> <s> <s> <s> <s> <s> <s> <s> <s> <s> <s> <s> <s> <s>  2020 <s> <s> <s> <s> <s> <s> <s>By which date is the company expected to have all its satellites operational?</s></s>ee DISH November 4, 2022 <s> <s> <s> <s> <s> <s> <s> <s> <s> <s> <s> <s> <s> <s> <s> <s> <s> <s> <s> <s> <s> <s> <s> <s> <s> <s> <s> <s> <s> <s> <s> <s> <s> <s> <s> <s> <s> <s> <s> <s> <s> <s> <s> <s> <s>By which date is the company expected to have all its satellites operational?</s></s> PFD limits as well. Id. at 11, n.8.\r\n",
            "  SpaceX has clarified that it will observe a minimum elevation angle of 25 degrees for Ku-band communications with all satellites below 62 degrees latitude and will only operate with a minimum elevation of 5 degrees for user terminals in polar regions above 62 degrees latitude, consistent with its proposed operations in the Ka-band and E-band. See SpaceX August 19, 2022 <s> <s> <s> <s>  PFD limits <s> <s> <s>  October 27, 2022  2022 <s> <s> <s> <s> <s> <s> <s> <s> <s> <s> <s> <s> <s> <s> <s> <s> <s> <s> <s> <s> <s> <s> <s> <s> <s> <s> <s> <s> <s> <s> <s> <s> <s> <s> <s> <s> <s> <s> <s> <s> <s> <s> <s> <s> <s> <s> <s> <s> <s> <s> <s> <s> <s> <s> <s> <s> <s> <s> <s> <s> <s> <s> <s> <s> <s> <s> <s> <s> <s> <s> <s> <s> <s> <s> <s> <s> <s> <s> <s> <s> <s> <s> <s> <s> <s> <s> <s> <s> <s> <s> <s> <s>  <s>By which date is the company expected to have all its satellites operational?</s></s>00,000) as its trigger for collision avoidance maneuvers. See SpaceX January 7, 2022 <s> <s>  2022 <s>  2022 <s> <s> <s> <s> <s> <s> <s> <s> <s>By which date is the company expected to have all its satellites operational?</s></s>ct tracking and conjunction screening relied on by NASA and other operators. Id. at 2.  SpaceX has provided physical dimensions for all three satellite designs to be launched as part of its Gen2 Starlink constellation.  See SpaceX October 4, 2022 <s> <s>  April 8, 2022 <s> <s> <s> <s> <s> <s> <s> <s> <s> <s> <s> <s> <s> <s> <s> <s> <s> <s> <s> <s> <s> <s> <s> <s> <s> <s> <s> <s> <s> <s> <s> <s> <s> <s> <s> <s> <s> <s> <s> <s> <s> <s> <s> <s> <s> <s> <s> <s> <s> <s> <s>  2019 <s> <s> <s> <s> <s> <s> <s> <s> <s> <s> <s> <s> <s> <s> <s> <s> <s> <s> <s> <s> <s> <s> <s> <s> <s> <s> <s> <s> <s> <s>  2022  2022  2022 <s>By which date is the company expected to have all its satellites operational?</s></s>have included geometry changes, material specifications, and maneuvering operations to reduce satellite brightness and aim reflected sunlight away from the Earth, and SpaceX engineers have developed a satellite coating to mitigate diffuse reflectance. See SpaceX Consolidated Opposition at 53; SpaceX August 1, 2022 <s> <s> <s> <s> <s> <s> <s> <s> <s>By which date is the company expected to have all its satellites operational?</s></s>ocations.\r\n",
            "99 <s> <s> <s> <s> <s>By which date is the company expected to have all its satellites operational?</s></s>rlink satellites “are larger than its Gen1 Starlink satellites, SpaceX still expects the second-generation satellites to be darker than the first-generation satellites due to its brightness mitigation efforts.” See SpaceX August 1, 2022 <s> <s> <s>  August 1, 2022 <s> <s> <s> <s> <s> <s> <s> <s> <s> <s> <s> <s> <s> <s> <s> <s> <s> <s> <s> <s> <s> <s> <s> <s> <s> <s> <s> <s> <s> <s> <s> <s> <s> <s> <s> <s> <s> <s> <s> <s> <s> <s> <s> <s> <s> <s> <s> <s> <s> <s> <s> <s> <s> <s> <s> <s> <s> <s> <s> <s> <s> <s> <s> <s> <s> <s> <s> <s> <s> <s> <s> <s> <s> <s> <s>By which date is the company expected to have all its satellites operational?</s></s>3-54, June 2022 <s> <s> <s> <s> <s> <s> <s>  2022 <s> <s> <s> <s> <s> <s> <s> <s> <s> <s> <s> <s> <s> <s> <s> <s> <s> <s> <s> <s> <s> <s> <s> <s> <s> <s> <s> <s> <s> <s> <s> <s> <s> <s> <s> <s> <s> <s> <s> <s> <s> <s> <s> <s> <s> <s> <s> <s>By which date is the company expected to have all its satellites operational?</s></s>22 Letter at 3 (quoting GAO Technical Assessment at 1).  We discusseconcerns regarding SpaceX’s impact on radioastronomy in Section III.E above.\r\n",
            "  SpaceX argues that Viasat is mischaracterizing the results of the GAO Technical Assessment, which “far from being critical of SpaceX's efforts to mitigate any impact on astronomy, … demonstrates that any effect from the Gen2 satellites on astronomical observations will be minimal.” See SpaceX October 24, 2022 <s> <s>By which date is the company expected to have all its satellites operational?</s></s>ghtness of the sky . . . is expected to be minimal even as the number of satellites grows significantly.’”  SpaceX October 24, 2022 <s> <s> <s> <s> <s> <s> <s> <s> <s> <s> <s> <s> <s> <s> <s> <s> <s> <s> <s> <s> <s> <s> <s> <s> <s> <s> <s> <s> <s> <s> <s> <s> <s> <s> <s> <s> <s> <s> <s> <s> <s> <s> <s> <s> <s> <s> <s> <s> <s> <s> <s> <s> <s> <s> <s> <s> <s> <s> <s> <s> <s> <s> <s> <s> <s> <s> <s> <s> <s> <s> <s> <s> <s> <s> <s> <s> <s> <s> <s> <s> <s> <s> <s> <s> <s> <s> <s> <s> <s>  December 1, 2031 <s> <s> <s> <s> <s> <s> <s> <s> <s>\n",
            "Score: 0.9990322480196561\n",
            "\n",
            "Question: How many satellites is the company authorized to deploy and operate for this constellation?\n",
            "Answer: <s> <s> <s> <s> <s>  29,988  7,500  7,500 <s> <s> <s> <s>  7,500  7,500 <s> <s> <s> <s> <s> <s> <s> <s> <s> <s> <s>  4,425 <s>  34    <s>  Starlink  <s> <s>  3,500  7,518  4,408  7,518 <s> <s>  <s> <s> <s> <s> <s> <s>  30,000  29,988  29,996 <s> <s> <s> <s> <s> <s> <s> <s> <s> <s> <s> <s> <s>How many satellites is the company authorized to deploy and operate for this constellation?</s></s>LC, IBFS File Nos. SAT-LOA-20200526-00055 and SAT-AMD-20210818-00105 (filed Dec. 9, 2021) (Hughes December 9, 2021 Ex Parte); Ex Parte Presentation of Space Exploration Holdings, LLC, IBFS File Nos. SAT-LOA-20200526-00055 and SAT-AMD-20210818-00105 (filed Dec. 20, 2021) (SpaceX December 20, 2021 Ex Parte).\r\n",
            "\r\n",
            "7 <s>  29,988  29,988 <s> <s> <s> <s> <s> <s> <s> <s> <s> <s> <s> <s> <s> <s> <s> <s> <s>  Echostar <s>  <s> <s> <s> <s> <s> <s> <s> <s> <s> <s> <s> <s> <s> <s> <s> <s> <s> <s> <s> <s> <s> <s> <s> <s> SpaceX <s> <s> <s> <s> <s>  <s>  Echostar <s> <s> <s> <s> <s>   Echostar <s> <s> <s> <s> <s> <s> <s> <s> <s>  <s>  half  one <s> <s> <s> <s>  4,408 <s> <s> <s> <s> <s> <s> <s> <s> <s> <s> <s> <s>How many satellites is the company authorized to deploy and operate for this constellation?</s></s>nstellation in part and defer in part. See Kuiper June 24, 2022 Ex Parte at 1-2; Kuiper August 4, 2022 Ex Parte at 1.\r\n",
            "  Kuiper points out that many of the concerns with SpaceX’s application, as amended, stem from the sheer size of its proposed constellation, including the concerns about space safety, interference into other NGSO systems, and EPFD emissions. See Kuiper June 24, 2022 Ex Parte at 2 <s>  ten <s> <s>  7,500  7,500 <s> <s>  7,500 <s>  ten  ten <s> <s> <s> <s> <s> <s> <s> <s> <s> <s> <s> <s> <s> <s> <s> <s> <s> <s> <s> <s> <s> <s> <s> <s> <s> <s> <s> <s> <s>  840  33 <s> <s> <s> <s> <s> <s> <s> <s> <s> <s> <s> <s> <s> <s> <s> <s> <s> <s> <s> <s> <s> <s> <s> <s> <s> <s> <s> <s> <s> <s> <s> <s> <s> <s> <s> <s> <s> <s> <s> <s> <s> <s> <s> <s> <s> <s>  29,988  7,500 <s> <s> <s> <s>  Starlink <s> <s> <s> <s> <s> <s> <s> <s> <s> <s> <s> <s> <s> <s> <s> <s> <s> <s> <s> <s> <s> <s> <s> <s> <s> <s> <s> <s> <s> <s> <s> <s> <s> <s> <s> <s> <s> <s> <s> <s> <s> <s> <s> <s> <s> <s> <s>  7,500 <s> <s>  Starlink <s> <s> <s> <s> <s> <s> <s> <s> <s> <s> <s> <s>  three <s> <s> <s> <s> <s> <s> <s>  1 <s> <s>  7,500 <s> <s> <s> <s> <s> <s> <s> <s> <s> <s> <s> <s> <s> <s>   Gen2 Starlink <s>  Gen2 Starlink  Gen2 Starlink <s> <s> <s> <s> <s> <s> <s> <s> <s> <s>  thirty-two <s> <s> <s>  1 <s> <s> <s> <s> <s> <s> <s> <s> <s> <s>  2020 <s> <s> <s> <s> <s> <s> <s> <s> <s>How many satellites is the company authorized to deploy and operate for this constellation?</s></s>mphasized the importance of coordination among NGSO FSS operators, noting in particular that coordination provides the best opportunity for efficient spectrum sharing; and that the Commission might intervene if the coordination discussions were not being conducted in good faith. See, e.g., NGSO FSS Order, 32 FCC Rcd at 7825, para. 48; Kuiper <s> <s> <s> <s> <s> <s> <s> <s> <s>  30,000  30,000 <s>How many satellites is the company authorized to deploy and operate for this constellation?</s></s>r its entire coverage area, which is not how the satellites will operate in fact. Id.\r\n",
            "  Similarly, other operators will need to assume, incorrectly, that SpaceX’s earth stations could be transmitting or receiving from any of their in-view satellites. Id.\r\n",
            "  These inefficiencies are made worse by the sheer size of the proposed Gen2 Starlink constellation. Id.\r\n",
            "  \r\n",
            "65 <s> <s> <s> <s> <s> <s> <s>  7,500 <s> <s> <s> <s> <s>  7,500  7,500  7,500 <s> <s> <s> <s> <s> 4,396 <s> <s> <s> <s> <s> <s> <s> <s> <s> <s> <s>  three <s> <s> <s> <s>  7,500 <s> <s> <s> <s>  468 <s> <s> <s>  Gen2 <s> <s>  580 <s> <s> <s>  <s> <s> <s> <s> <s> <s> <s> <s> <s> <s> <s> <s> <s> <s> <s> <s> <s> <s> <s> <s> <s> <s> <s> <s> <s> <s> <s> <s> <s>How many satellites is the company authorized to deploy and operate for this constellation?</s></s>rational altitudes. See SpaceX January 7, 2022 Response to Satellite Division Information Request at 5 <s> <s>  eleven <s> <s>  7,500  7,500 <s> <s> <s> <s> <s> <s> <s>  3 <s> <s> <s> <s> <s> <s> <s> <s> <s> <s> <s> <s> <s>  30,000 <s> <s> <s> <s> <s> <s> <s> <s>  Gen2 Starlink <s> <s> <s> <s> <s> <s> <s> <s> <s> <s> <s> <s> <s> <s> <s> <s> <s> <s> <s> <s> <s> <s>  30  30,000 <s> <s> <s> <s> <s> <s> <s> <s> <s> <s> <s> <s> <s> <s> <s> <s> <s> <s> <s> <s> <s> <s> <s> <s> <s> <s> <s> <s> <s> <s> <s> <s> <s> <s> <s> <s> <s> <s> 30,000 <s>  4,408 7,518  7,500 <s> <s> <s> <s> <s> <s> <s>How many satellites is the company authorized to deploy and operate for this constellation?</s></s>tually Can Cooperate (Nov. 25, 2011), https://www.nrdc.org/experts/david-doniger/giving-thanks-montreal-protocol-proof-countries-actually-can-cooperate).\r\n",
            "  \r\n",
            "114  Gen2 Starlink <s> <s> <s> <s> <s> <s> <s> <s> <s> <s> <s> <s> <s> <s> <s> <s> <s> <s> <s> <s> <s> <s> <s> <s> <s> <s>  7,518 <s> <s> <s> <s> <s> <s> <s> <s> <s> <s> <s> <s> <s> <s> <s> <s> <s> <s> <s>  <s> <s> <s> <s> <s> <s> <s>  7,500  SpaceX <s> <s> <s> <s> <s> <s> <s> <s> <s> <s> <s> <s> <s> <s>  7720  468 <s> <s> <s> <s> <s> <s> <s> <s> <s> <s> <s> <s> <s> <s> <s> <s> <s> <s> <s> <s> <s> <s> <s> <s> <s> <s> <s> <s> <s>  7,500 <s> <s> <s> <s> <s> <s> <s> <s> <s> <s> <s> <s> <s> <s> <s> <s> <s> <s> <s> <s> <s> <s> <s> <s> <s> <s> <s> <s> <s> <s> <s> <s> <s> <s> <s> <s> <s> <s> <s> <s> <s> <s> <s> <s> <s> <s> <s> <s> <s> <s> <s> <s> <s> <s> <s> <s> <s> <s> <s> <s> <s> <s> <s> <s> <s> <s> <s> <s> <s> <s> <s> <s> <s> <s>\n",
            "Score: 0.9992780190009398\n",
            "\n",
            "Question: At which authorized altitudes will the company deploy its satellites?\n",
            "Answer: <s> <s> <s> <s> <s> <s> <s>  525, 530, and 535 <s> <s> <s> <s> <s>  certain <s> <s> <s>  580 <s> <s> <s> <s> <s> <s> <s>  Ka <s> <s>At which authorized altitudes will the company deploy its satellites?</s></s>m, Order and Authorization, 34  36 <s> <s> <s> <s>  53 <s> <s> <s> <s> <s> <s> <s> <s>  10.7-12.7 GHz, 12.75-13.25 GHz, 13.8-14.5 GHz, 17.7-18.6 GHz, 18.8-20.2 GHz, And 27.5-30 <s>   <s> <s> <s>  328 km to 614 km  340 km to 614 <s> <s> <s> <s> <s> <s> <s> <s> <s> <s> <s> <s> <s> <s> <s> <s>  340 <s> <s> <s>  4 <s> <s> <s> <s> <s> <s> <s> <s> <s> <s> <s> <s> <s> <s> <s> <s> <s> <s> <s> <s> <s> <s> <s> <s> <s> <s> <s> <s> <s> <s> <s> <s> <s> <s> <s> <s> <s> <s> <s> <s> <s> <s> <s> <s> <s> <s> <s> <s> <s> <s> <s> <s> <s> <s> <s> <s> <s> <s> <s> <s> <s> <s> <s> <s> <s> <s> <s> <s> <s> <s> <s> <s> <s> <s> <s> <s> <s> <s> <s> <s> <s> <s> <s> <s> <s>  1-2 <s>   580 <s> <s>  525 km, 530 km, and 535 <s> <s> <s> <s> <s> <s> <s> <s> <s> <s> <s> <s> <s> <s> <s> <s> <s> <s> <s> <s> <s> <s> <s> <s> <s> <s> <s>  1166 <s> <s> <s>  <s> <s> <s> <s>  <s>  <s> <s>  all  <s> <s> <s> <s> <s> <s> <s> <s> <s> <s> <s> <s> <s> <s> <s> <s> <s> <s> <s> <s> <s> <s> <s> <s> <s> <s> <s> <s> <s> <s> <s> <s> <s> <s>  <s> <s> <s> <s> <s> <s> <s> <s> <s> <s> <s> <s> <s> <s> <s> <s> <s> <s> <s> <s> <s> <s> <s> <s> <s> <s> <s> <s> <s> <s> <s> <s> <s> <s> <s>  1-2 <s> <s> <s> <s>  10.7-30 <s> <s> <s> <s> <s> <s> <s> <s> <s> <s> <s> <s> <s> <s> <s> <s> <s> <s> <s> <s> <s>   11.\r <s> <s> <s> <s>  62  62  62  10.7-11.7 <s>  12.2-12.7 <s> <s> <s> <s> <s> <s> <s> <s> <s>  <s> <s>  525 km to 535 <s> <s> <s>At which authorized altitudes will the company deploy its satellites?</s></s>ome necessary for “edge cases,” such as systems serving high-latitude areas.  RS Access Reply at 3-4.\r\n",
            "  Given that SpaceX has clarified it will observe a minimum elevation angle of 25 degrees outside of polar regions (i.e. below 62 degrees latitude), See SpaceX August 19, 2022 Letter at 6.\r\n",
            " we find RS Access’s concerns resolved.  We also note that this partial grant does not include authority for SpaceX to deploy its 604 and 614  62 <s> <s> <s> <s> <s> <s> <s> <s> <s> <s>   <s>  <s> <s> <s> <s> <s>  12.\r <s> <s> <s> <s> <s> <s> <s> <s> <s> <s> <s> <s> <s> <s>  29-30 <s>  27.5-28.6 GHz and 29.5-30.0 GHz <s> <s> <s>  8341 <s>  8341 <s> <s> <s> <s> <s> <s> <s> <s> <s> <s> <s> <s> <s> <s> <s> <s> <s> <s> <s> <s> <s> <s> <s> <s> <s> <s> <s> <s> <s> <s> <s> <s>  525  525 km to 535 km <s> <s> <s>  3.\r <s> <s>   10; SpaceX October 4, 2022 Letter at 3.\r <s> <s> <s> <s> <s> <s> <s> <s> <s> <s> <s> <s> <s> <s> <s>  above ISS <s> <s> <s> <s> <s>  360 <s>  525 km to 535  605 km  580  580  580  580  580  lower  580 <s> <s> <s>  <s> <s> <s> <s> <s> <s> <s> <s> <s> <s> <s> <s> <s> <s>  328 km and 360 <s> <s> <s> <s> <s> <s> <s> <s> <s> <s>  5.\r <s>  2 <s> <s> <s> <s> <s> <s> <s> <s> <s>  535 <s>  3 <s>  1 <s> <s> <s> <s> <s> <s> <s> <s> <s> <s> <s> <s> <s> <s> <s> <s> <s> <s> <s> <s>  52-53 <s> <s> <s> <s>  8043 <s> <s> <s> <s> <s> <s> <s> <s> <s> <s>  350  350 <s> <s> <s> <s> <s> <s>At which authorized altitudes will the company deploy its satellites?</s></s>s in the International Astronomical Union Report, RAS November 10, 2022 Letter at 2.\r\n",
            " we find that SpaceX’s collaboration with NSF and the scientific community should result in mitigations that benefit the professional and amateur astronomy communities in general, and we urge astronomers with specific concerns to work with SpaceX, as their colleagues have done, to address them.  In addition, we note the concerns in the record assume we will authorize SpaceX’s entire proposed constellation of nearly 30 <s> <s> <s> <s> <s> <s> <s> <s> <s> <s> <s> <s> <s> <s> <s> <s> <s> <s> <s> <s> <s> <s> <s> <s> <s> <s> <s> <s> <s> <s> <s> <s> <s> <s> <s> <s> <s> <s> <s> <s> <s> <s>  11440 <s> <s> <s> <s> <s> <s> <s> <s> <s> <s> <s> <s> <s> <s> <s> <s> <s> <s> <s> <s> <s> <s> <s> <s> <s> <s> <s> <s> <s> <s> <s> <s> <s> <s> <s>  <s> <s> <s> <s> <s> <s> <s> <s> <s> <s> <s> <s> <s> <s> <s> <s> <s> <s> <s> <s> <s> <s> <s> <s> <s> <s> <s> <s> <s> <s> <s> <s>  8040-41 <s> <s> <s> <s> <s> <s> <s> <s> <s> <s> <s>  600 <s> <s>At which authorized altitudes will the company deploy its satellites?</s></s>sat October 13, 2022 Letter at 3 <s> <s> <s> <s> <s>  580 <s> <s> <s> <s> <s> <s> <s> <s> <s> <s> <s> <s> <s> <s> <s> <s> <s> <s> <s> <s> <s> <s> <s> <s> <s> <s> <s> <s> <s> <s> <s> <s> <s> <s> <s> <s> <s> <s> <s> <s> <s> <s> <s> <s> <s> <s> <s>  10.7-11.7 <s>   12.2-12.7 <s> <s> <s> <s> <s> <s> <s> <s> <s> <s> <s> <s> <s> <s> <s> <s> <s> <s> <s> <s> <s> <s> <s> <s> <s> <s> <s> <s> <s> <s> <s> <s> <s> <s> <s> <s> <s> <s> <s> <s> <s> <s> <s> <s> <s>\n",
            "Score: 0.9992352394074473\n",
            "\n",
            "Question: What are the authorized satellite inclinations within the corresponding altitudes?\n",
            "Answer: <s> <s> <s> <s> <s> <s> <s>  53, 43, and 33 <s> <s> <s> <s> <s> <s> <s> <s> <s> <s> <s> <s> <s> <s> <s> <s> <s> <s> <s> <s> <s> <s> <s> <s> <s>  5 <s> <s> <s> <s> <s> <s> <s> <s>  27.5-30  29.5-30.0  <s> <s> <s> <s>  614  340 km to 614 <s> <s> <s> <s> <s> <s> <s> <s> <s> <s> <s> <s> <s> <s> <s> <s>  614 <s> <s> <s>  10.7-12.75 GHz, 17.8-18.6 GHz, 18.8-19.3 GHz, 19.7-20.2 <s> <s> <s> <s> <s> <s> <s> <s> <s> <s> <s> <s> <s> <s> <s> <s> <s> <s> <s> <s> <s> <s>  <s> <s> <s> <s> <s> <s> <s> <s> <s> <s> <s> <s> <s> <s> <s> <s> <s> <s> <s> <s> <s> <s> <s> <s> <s> <s> <s> <s> <s> <s> <s> <s> <s> <s> <s> <s> <s> <s> <s> <s> <s> <s> <s> <s> <s> <s> <s> <s> <s> <s> <s> <s> <s> <s> <s> <s> <s> <s> <s> <s> <s> <s>  1-2 <s> <s>  <s> <s>  525 km, 530 km, and 535 <s>What are the authorized satellite inclinations within the corresponding altitudes?</s></s>titudes of 525 km, 530 km, and 535 <s> <s> <s> <s> <s> <s> <s> <s> <s> <s> <s> <s> <s> <s> <s> <s> <s>  475 km to 684 <s> <s> <s> <s> <s> <s> <s> <s> <s> <s> <s> <s> <s> <s> <s> <s> <s>  33 <s> <s> <s> <s> <s>  <s> <s> <s> <s> <s> <s> <s> <s> <s> <s> <s> <s> <s> <s> <s> <s> <s> <s> <s> <s> <s> <s> <s> <s> <s> <s>  <s> <s>  12.2-12.7 <s>  7.6-11.8 <s> <s> <s> <s> <s> <s> <s> <s> <s> <s> <s> <s>  Ka-band satellites or authorized Ka-band <s> <s> <s> <s> <s> <s> <s> <s> <s> <s> <s> <s> <s> <s>What are the authorized satellite inclinations within the corresponding altitudes?</s></s>ee DISH November 4, 2022 Letter at 1 <s> <s> <s> <s> <s> <s> <s>  10 <s> <s> <s> <s> <s> <s> <s> <s>  10.7-30 <s>  10.7-30 <s> <s> <s> <s> <s> <s> <s> <s> <s> <s> <s> <s> <s> <s>What are the authorized satellite inclinations within the corresponding altitudes?</s></s>ly at II, 9, 11.\r\n",
            "  Viasat argues that grant of the waiver would result in no regulatory body conducting meaningful review of SpaceX’s EPFD compliance, and so SpaceX’s argument that grant of the waiver would still leave adequate protections for GSO operators is a meritless defense. See Viasat Petition at 28-31; Viasat Reply at 20.\r\n",
            "  Viasat states that given the significant concerns raised on the record, the waiver should be denied. See Viasat Petition at 28-31; Viasat Reply at 20.\r\n",
            "\r\n",
            "40 <s> <s> <s> <s> <s> <s> <s> <s>  -8.3 <s> <s> <s>  62  62 <s> <s>  PFD limits <s> <s> <s> <s> <s> <s> <s> <s> <s> <s> <s>  25  25 degrees, but DISH argues the exponential increase in the number of satellites negates these mitigation efforts. Id. at 6-7, 21-22 (citing SpaceX Gen2 Application, Technical Attachment at 17, 20).\r\n",
            "  We note that in this partial grant, we are authorizing 7,500 satellites that will operate at altitudes from 525 km to 535 km, well above 400 <s>  five <s>  25 <s> <s> <s> <s> <s>  EPFD limits of Article 22 of the ITU Radio Regulations.\r\n",
            "51 <s> <s> <s> <s> <s> <s>  144°51′22″  <s>  <s> <s> <s> <s> <s> <s> <s> <s> <s> <s> <s> <s> <s>  19.7-20.2 <s> <s> <s> <s>What are the authorized satellite inclinations within the corresponding altitudes?</s></s>onstration Viasat seeks. See SpaceX April 7, 2022 Letter at 2-3; SpaceX May 18, 2022 Ex Parte at 1, Exhibit B at 4.\r  <s>  29.5-30.0 <s> <s> <s> <s> <s> <s> <s> <s> <s> <s> <s> <s> <s> <s> <s> <s> <s> <s> <s> <s> <s> <s> <s> <s> <s> <s> <s> <s> <s> <s> <s> <s> <s> <s> <s> <s>  148.00-150.05 <s> <s>  525 km to 535 <s> <s> <s> <s> <s> <s> <s> <s>What are the authorized satellite inclinations within the corresponding altitudes?</s></s>on. See SpaceX Consolidated Opposition at 10; SpaceX October 4, 2022 Letter at 3.\r <s> <s>What are the authorized satellite inclinations within the corresponding altitudes?</s></s>n warnings. See SpaceX Consolidated Opposition at 11; SpaceX October 4, 2022 Letter at 3.\r  4 <s> <s> <s> <s> <s> <s> <s> <s> <s> <s> <s> <s> <s> <s> <s> <s> <s> <s>  360 <s>  70 kilometers above or 50  605  580 <s>  580 <s>  +45 to +55 <s> <s> <s> <s> <s> <s> <s> <s> <s> <s> <s> <s> <s> <s> <s> <s> <s> <s> <s> <s> <s>What are the authorized satellite inclinations within the corresponding altitudes?</s></s>nds, we retain discretion to address this matter further if necessary. \r\n",
            "88. Starlink’s impact on launch and reentry opportunities.  NASA raises concerns that the number of Gen2 Starlink satellites SpaceX proposes could cause the loss of launch and reentry opportunities for NASA missions to the ISS as well as planned planetary missions such as Europa Clipper. See NTIA Letter, NASA Letter at 4.  SpaceX proposes approximately twenty thousand satellites between 328 km and 360 <s>What are the authorized satellite inclinations within the corresponding altitudes?</s></s>poses approximately twenty thousand satellites between 328 km and 360 <s> <s>  5 <s> <s> <s> <s> <s> <s>  5.\r <s> <s> <s> <s> <s> <s> <s> <s> <s> <s> <s> <s> <s>  3 <s> <s> <s> <s> <s> <s> <s> <s> <s> <s> <s> <s>  <s> <s> <s> <s> <s> <s> <s> <s>  52-53 <s> <s> <s> <s> <s> <s> <s> <s> <s> <s> \r\n",
            "99 <s>  7 <s> <s> <s> <s> <s> <s> <s> <s> <s> <s> <s> <s> <s> <s> <s> <s> <s> <s> <s> <s> <s> <s> <s> <s> <s> <s> <s> <s> <s> <s> <s> <s> <s> <s> <s> <s> <s> <s> <s> <s> <s> <s> <s> <s> <s>  <s> <s> <s> <s> <s> <s> <s>  11440 <s> <s> <s> <s> <s> <s>  3 <s> <s> <s> <s> <s> <s> <s> <s> <s> <s> <s> <s> <s> <s> <s> <s> <s> <s> <s> <s> <s> <s> <s> <s>  <s> <s> <s> <s> <s> <s> <s> <s> <s> <s> <s> <s> <s> <s> <s> <s> <s> <s> <s> <s> <s> <s> <s> <s> <s> <s> <s> <s> <s> <s> <s> <s> <s> <s> <s> <s> <s> <s> <s> <s> <s> <s> <s> <s> <s> <s> <s> <s> <s> <s> <s> <s> <s> <s> <s> <s> <s> <s> <s> <s> <s> <s> <s> <s> <s> <s> <s> <s> <s> <s> <s> <s> <s> <s> <s> <s> <s> <s> <s> <s> <s> <s> <s> <s> <s> <s> <s> <s> <s> <s> <s> <s> <s> <s> <s> <s> <s> <s> <s> <s> <s> <s> <s> <s>  <s> <s>  12.2-12.7 <s> <s> <s> <s> <s> <s>  25 <s> <s> <s> <s>  <s> <s> <s> <s> <s> <s> <s> <s> <s> <s> <s> <s> <s> <s> <s> \n",
            "dd <s> <s> <s> <s> <s> <s> <s> <s> <s> <s> <s> <s> <s> <s> <s> <s> <s>\n",
            "Score: 0.9981702542093416\n",
            "\n",
            "Question: How many orbital planes, corresponding to given altitudes and inclinations, has the company been authorized for?\n",
            "Answer: <s> <s> <s> <s> <s> <s>  7,500 <s> <s> <s> <s> <s> <s> <s> <s> <s> <s> <s> <s> <s> <s> <s> <s> <s> <s> <s> <s> <s> <s> <s> <s> <s> <s> <s>How many orbital planes, corresponding to given altitudes and inclinations, has the company been authorized for?</s></s>p, IBFS File No. SAT-STA-20220516-00051 (granted Aug. 3, 2022) (authorizing SpaceX to reduce its earth station elevation angles to a minimum of 5 <s> <s> <s> <s> <s> <s> <s> <s> <s> <s> <s> <s> <s> <s> <s>  614 <s> <s> <s> <s> <s> <s> <s> <s> <s> <s> <s> <s> <s> <s> <s> <s> <s> <s> <s> <s> <s> <s> <s> <s> <s> <s> <s> <s> <s> <s> <s> <s> <s> <s> <s> <s> <s> <s> <s> <s> <s> <s> <s> <s> <s> <s> <s> <s> <s> <s> <s> <s> <s> <s> <s> <s> <s> <s> <s> <s> <s> <s> <s> <s> <s> <s> <s> <s> <s> <s> <s> <s> <s> <s> <s> <s> <s> <s> <s> <s> <s> <s> <s> <s> <s> <s> <s> <s> <s> <s> <s> <s> <s> <s> <s> <s> <s> <s> <s> <s> <s> <s> <s> <s> <s> <s> <s> <s> <s> <s> <s> <s> <s>  7,500 <s> <s> <s> <s>  ten  ten <s> <s> <s> <s> <s> <s> <s> <s> <s> <s> <s> <s> <s> <s> <s> <s> <s> <s> <s> <s> <s> <s> <s> <s> <s> <s> <s> <s> <s> <s> <s> <s> <s> <s> <s> <s> <s> <s> <s> <s> <s> <s> <s> <s> <s> <s> <s> <s> <s> <s> <s> <s> <s> <s> <s> <s> <s> <s> <s> <s> <s> <s> <s> <s> <s> <s> <s> <s> <s> <s> <s> <s> <s> <s> <s> <s> <s> <s> <s> <s> <s> <s> <s> <s> <s> <s> <s> <s> <s> <s> <s> <s> <s> <s> <s> <s> <s> <s> <s> <s> <s> <s> <s> <s> <s> <s> <s> <s> <s> <s> <s> <s> <s> <s> <s> <s> <s> <s> <s> <s> <s> <s> <s> <s> <s> <s> <s> <s> <s> <s> <s> <s> <s> <s> <s> <s> <s> <s> <s> <s> <s> <s> <s> <s> <s> <s> <s> <s> <s> <s> <s> <s> <s> <s> <s> <s> <s> <s> <s> <s> <s> <s> <s> <s> <s> <s> <s> <s> <s> <s> <s> <s> <s> <s> <s> <s> <s> <s> <s> <s> <s> <s> <s> <s> <s> <s> <s> <s> <s> <s> <s> <s> <s> <s> <s> <s> <s> <s> <s> <s> <s> <s> <s> <s> <s> <s> <s> <s> <s> <s> <s> <s> <s> <s> <s> <s> <s> <s> <s> <s> <s> <s> <s> <s> <s> <s> <s> <s> <s> <s> <s> <s> <s> <s> <s> <s> <s> <s> <s> <s> <s> <s> <s> <s> <s> <s> <s> <s> <s> <s>How many orbital planes, corresponding to given altitudes and inclinations, has the company been authorized for?</s></s>n warnings. See SpaceX Consolidated Opposition at 11; SpaceX October 4, 2022 Letter at 3.\r <s> <s> <s> <s> <s> <s> <s> <s> <s> <s> <s> <s> <s> <s> <s> <s> <s> <s> <s> <s> <s> <s> <s>  580 <s> <s> <s> <s> <s> <s> <s> <s> <s> <s> <s> <s> <s> <s> <s> <s> <s> <s> <s> <s> <s> <s> <s> <s> <s> <s> <s> <s> <s> <s> <s> <s> <s> <s> <s> <s> <s>  eleven <s> <s>  7,500 <s> <s> <s> <s> <s> <s> <s> <s> <s> <s> <s> <s> <s> <s> <s> <s> <s> <s> <s> <s> <s> <s> <s> <s> <s> <s> <s> <s> <s> <s> <s> <s> <s> <s> <s> <s> <s> <s> <s> <s> <s> <s> <s> <s> <s> <s> <s> <s> <s> <s> <s> <s> <s> <s>  30 <s> <s> <s> <s> <s> <s> <s> <s> <s> <s> <s> <s> <s> <s> <s> <s> <s> <s> <s> <s> <s> <s> <s> <s> <s> <s> <s> <s> <s> <s> <s> <s> <s> <s> <s> <s> <s> <s> <s> <s> <s> <s> <s> <s> <s> <s> <s> <s> <s> <s>How many orbital planes, corresponding to given altitudes and inclinations, has the company been authorized for?</s></s>r at 3 <s> <s> <s> <s> <s> <s> <s> <s> <s> <s> <s> <s> <s> <s> <s> <s> <s> <s> <s> <s> <s> <s> <s> <s> <s> <s> <s> <s> <s> <s> <s> <s> <s> <s> <s> <s> <s> <s> <s> <s> <s> <s> <s> <s> <s> <s> <s> <s> <s> <s> <s> <s> <s> <s> <s> <s> <s> <s> <s> <s> <s> <s> <s> <s> <s> <s> <s> <s> <s> <s> <s> <s> <s> <s> <s> <s> <s> <s> <s> <s> <s> <s> <s> <s> <s> <s> <s> <s> <s> <s> <s> <s> <s> <s> <s> <s> <s> <s> <s> <s> <s> <s> <s>  7,500 <s> <s> <s> <s> <s> <s> <s> <s> <s> <s> <s> <s> <s> <s> <s> <s> <s> <s> <s> <s> <s> <s> <s> <s> <s> <s> <s> <s> <s> <s> <s> <s> <s> <s> <s> <s> <s> <s> <s> <s> <s> <s> <s> <s> <s> <s> <s> <s> <s> <s> <s> <s> <s> <s> <s> <s> <s> <s> <s> <s> <s> <s> <s> <s> <s> <s> <s> <s> <s> <s> <s> <s> <s> <s>\n",
            "Score: 0.99866189260689\n",
            "\n",
            "Question: How many satellites are allocated to each orbital plane?\n",
            "Answer: <s> <s> <s> <s> <s> <s> <s> <s> <s> <s> <s> <s> <s> <s> <s> <s> <s> <s> <s> <s> <s> <s> <s> <s> <s> <s> <s> <s> <s> <s> <s> <s> <s> <s> <s> <s> <s> <s> <s> <s> <s> <s> <s> <s> <s> <s> <s> <s> <s> <s> <s> <s> <s> <s> <s> <s> <s> <s> <s> <s> <s> <s> <s> <s> <s> <s> <s> <s> <s> <s> <s> <s> <s> <s> <s> <s> <s> <s> <s> <s> <s> <s> <s> <s> <s> <s> <s> <s> <s> <s> <s> <s> <s> <s> <s> <s> <s> <s> <s> <s> <s> <s> <s> <s> <s> <s> <s> <s> <s> <s> <s> <s> <s> <s> <s> <s> <s> <s> <s> <s> <s> <s> <s> <s> <s> <s> <s> <s> <s> <s> <s> <s> <s> <s> <s> <s> <s> <s> <s> <s> <s> <s> <s> <s> <s> <s> <s> <s> <s> <s> <s> <s> <s> <s> <s> <s> <s> <s> <s> <s> <s> <s> <s> <s> <s> <s> <s> <s> <s> <s>How many satellites are allocated to each orbital plane?</s></s>)(granting SpaceX authority to deploy ten <s> <s> <s> <s> <s> <s> <s> <s> <s> <s> <s> <s> <s> <s> <s> <s> <s> <s> <s> <s> <s> <s> <s> <s> <s> <s> <s> <s> <s>  840 <s> <s> <s> <s> <s> <s> <s> <s> <s> <s> <s> <s> <s> <s> <s> <s> <s> <s> <s> <s> <s> <s> <s> <s> <s> <s> <s> <s> <s> <s> <s> <s> <s> <s> <s> <s> <s> <s> <s> <s> <s> <s> <s> <s> <s> <s> <s>  <s> <s> <s> <s> <s> <s> <s> <s> <s> <s> <s> <s> <s> <s> <s> <s> <s> <s> <s> <s> <s> <s> <s> <s> <s> <s> <s> <s> <s> <s> <s> <s> <s> <s> <s> <s> <s> <s> <s> <s> <s> <s> <s> <s> <s> <s> <s> <s> <s> <s> <s> <s> <s> <s> <s> <s> <s> <s> <s> <s> <s> <s> <s> <s> <s> <s> <s> <s> <s> <s> <s> <s> <s> <s> <s> <s> <s> <s> <s> <s> <s> <s> <s> <s> <s> <s> <s> <s> <s> <s> <s> <s> <s> <s> <s> <s> <s> <s> <s> <s> <s> <s> <s> <s> <s> <s> <s> <s> <s> <s>  <s> <s> <s> <s> <s> <s> <s> <s> <s> <s> <s> <s> <s> <s> <s> <s> <s> <s> <s> <s> <s> <s> <s> <s> <s> <s> <s> <s> <s> <s> <s> <s> <s> <s> <s> <s> <s> <s> <s> <s> <s> <s> <s> <s> <s> <s> <s> <s> <s>  7,500 <s> <s> <s> <s> <s> <s> <s> 4,396 <s> <s> <s> <s> <s> <s> <s> <s> <s> <s> <s> <s> <s> <s> <s> <s> <s> <s> <s> <s> <s> <s> <s> <s> <s> <s> <s> <s> <s> <s> <s> <s> <s> <s> <s> <s> <s> <s> <s> <s> <s> <s> <s> <s> <s> <s> <s> <s> <s> <s> <s> <s> <s> <s> <s> <s> <s> <s> <s> <s> <s> <s> <s> <s>  eleven <s> <s> <s> <s> <s> <s> <s> <s> <s> <s> <s> <s> <s> <s> <s> <s> <s> <s> <s> <s> <s> <s> <s> <s> <s> <s> <s> <s> <s> <s> <s> <s> <s> <s> <s> <s> <s> <s> <s> <s> <s> <s> <s> <s> <s> <s> <s> <s> <s> <s> <s> <s> <s> <s> <s> <s> <s> <s> <s> <s> <s> <s> <s> <s> <s> <s> <s> <s> <s> <s> <s> <s> <s> <s> <s> <s> <s> <s> <s> <s> <s> <s> <s> <s> <s> <s> <s> <s> <s> <s> <s> <s> <s> <s> <s> <s> <s> <s> <s> <s> <s> <s> <s> <s> <s> <s> <s> <s> <s> <s> <s> <s> <s> <s> <s> <s> <s> <s> <s> <s> <s> <s> <s> <s> <s> <s> <s> <s> <s> <s> <s> <s> <s> <s> <s> <s> <s> <s> <s> <s> <s> <s> <s> <s> <s> <s> <s> <s> <s> <s> <s> <s> <s> <s> <s> <s> <s> <s> <s> <s> <s> <s> <s> <s> <s> <s> <s> <s> <s> <s> <s> <s> <s> <s> <s> <s> <s> <s> <s> <s>  <s> <s> <s> <s> <s> <s> <s> <s> <s> <s> <s> <s> <s> <s> <s> <s> <s> <s> <s> <s> <s> <s> <s> <s> <s> <s> <s> <s> <s> <s> <s> <s> <s> <s> <s> <s> <s> <s> <s> <s> <s> <s> <s> <s> <s> <s> <s> <s> <s> <s> <s> <s> <s> <s> <s> <s> <s> <s> <s> <s> <s> <s> <s> <s> <s> <s> <s> <s> <s> <s> <s> <s> <s> <s> <s> <s> <s> <s> <s> <s> <s> <s> <s> <s> <s> <s> <s> <s> <s> <s> <s> <s> <s> <s> <s> <s> <s> <s> <s> <s> <s> <s> <s> <s> <s>\n",
            "Score: 0.9994247786685371\n",
            "\n",
            "Question: How many satellites, for each altitude and inclination, are there across all matching orbital planes?\n",
            "Answer: <s> <s> <s> <s> <s> <s>  7,500  7,500 <s> <s> <s> <s> <s> <s> <s> <s> <s> <s> <s> <s> <s> <s> <s> <s> <s> <s> <s> <s> <s> <s> <s> <s> <s> <s> <s> <s> <s> <s> <s> <s> <s> <s> <s> <s> <s> <s> <s> <s> <s> <s>  29,988 <s> <s> <s> <s> <s> <s> <s> <s> <s> <s> <s> <s> <s> <s> <s> <s> <s> <s> <s> <s> <s> <s> <s> <s> <s> <s> <s> <s> <s> <s> <s> <s> <s> <s> <s> <s> <s> <s> <s> <s> <s> <s> <s> <s> <s> <s> <s> <s> <s> <s> <s> <s> <s> <s> <s> <s> <s> <s> <s> <s> <s> <s> <s> <s> <s> <s> <s> <s> <s> <s> <s> <s> <s> <s> <s> <s> <s> <s> <s> <s> <s> <s> <s> <s> <s> <s> <s> <s> <s> <s> <s> <s> <s> <s> <s> <s> <s> <s> <s> <s> <s> <s> <s> <s> <s> <s> <s> <s> <s> <s> <s> <s> <s> <s> <s> <s> <s> <s> <s> <s> <s> <s> <s> <s> <s> <s> <s> <s> <s> <s> <s> <s> <s> <s> <s> <s> <s> <s> <s> <s> <s> <s> <s> <s> <s> <s> <s> <s> <s> <s> <s> <s> <s> <s> <s> <s> <s> <s> <s> <s> <s> <s> <s> <s> <s> <s> <s> <s> <s> <s> <s> <s> <s> <s> <s> <s> <s> <s> <s> <s> <s> <s> <s> <s> <s> <s> <s> <s> <s> <s> <s> <s> <s> <s> <s> <s>  29,988 <s> <s> <s> <s> <s> <s> <s> <s> <s> <s> <s> <s> <s> <s> <s> <s> <s> <s> <s> <s> <s> <s> <s> <s> <s> <s> <s> <s> <s> <s> <s> <s> <s> <s> <s> <s> <s> <s> <s> <s> <s> <s> <s> <s> <s> <s> <s> <s> <s> <s> <s> <s> <s> <s> <s> <s> <s> <s> <s> <s> <s> <s> <s> <s> <s> <s> <s> <s> <s> <s> <s> <s> <s> <s> <s> <s> <s> <s> <s> <s> <s> <s> <s> <s> <s> <s> <s> <s> <s> <s> <s> <s> <s> <s> <s> <s> <s> <s> <s> <s> <s> <s> <s> <s> <s> <s> <s> <s> <s> <s>  thirty-two <s> <s> <s> <s> <s> <s> <s> <s> <s> <s> <s> <s> <s> <s> <s> <s> <s> <s> <s> <s> <s> <s> <s> <s> <s> <s> <s> <s> <s> <s> <s> <s> <s> <s> <s> <s> <s> <s> <s> <s> <s> <s> <s> <s> <s> <s> <s> <s> <s>  7,500 <s> <s> <s> <s> <s> <s> <s> 4,396 <s> <s> <s>How many satellites, for each altitude and inclination, are there across all matching orbital planes?</s></s>n warnings. See SpaceX Consolidated Opposition at 11; SpaceX October 4, 2022 Letter at 3.\r <s> <s> <s> <s> <s> <s> <s> <s> <s> <s> <s> <s> <s>  7,500 <s> <s> <s> <s> <s> <s> <s> <s> <s> <s> <s>  580 <s> <s> <s> <s> <s> <s> <s> <s> <s> <s> <s> <s> <s> <s> <s> <s> <s> <s> <s> <s> <s> <s> <s> <s> <s> <s> <s> <s> <s> <s> <s> <s> <s> <s> <s> <s> <s> <s> <s> <s> <s> <s> <s> <s> <s> <s> <s> <s> <s> <s> <s> <s> <s> <s> <s> <s> <s> <s> <s> <s> <s> <s> <s> <s> <s> <s> <s> <s> <s> <s> <s> <s> <s> <s> <s> <s> <s> <s> <s> <s> <s> <s> <s> <s> <s> <s> <s> <s> <s> <s> <s> <s> <s> <s>How many satellites, for each altitude and inclination, are there across all matching orbital planes?</s></s>s in the International Astronomical Union Report, RAS November 10, 2022 Letter at 2.\r\n",
            " we find that SpaceX’s collaboration with NSF and the scientific community should result in mitigations that benefit the professional and amateur astronomy communities in general, and we urge astronomers with specific concerns to work with SpaceX, as their colleagues have done, to address them.  In addition, we note the concerns in the record assume we will authorize SpaceX’s entire proposed constellation of nearly 30 <s> <s> <s> <s> <s> <s> <s> <s> <s> <s> <s> <s> <s> <s> <s> <s> <s> <s> <s> <s> <s> <s> <s> <s> <s> <s> <s> <s> <s> <s> <s> <s> <s> <s> <s> <s> <s> <s> <s> <s> <s> <s> <s> <s> <s> <s> <s> <s> <s> <s> <s> <s> <s> <s> <s> <s> <s> <s> <s> <s> <s> <s> <s> <s> <s> <s> <s> <s> <s> <s> <s> <s> <s> <s> <s> <s> <s> <s> <s> <s> <s> <s> <s> <s> <s> <s> <s> <s> <s> <s> <s> <s> <s>How many satellites, for each altitude and inclination, are there across all matching orbital planes?</s></s>4 <s> <s> <s> <s> <s> <s> <s> <s> <s> <s> <s> <s> <s> <s> <s> <s> <s> <s> <s> <s> <s> <s> <s> <s> <s> <s> <s> <s> <s>  7720 <s> <s> <s> <s> <s> <s> <s> <s> <s> <s> <s> <s> <s> <s> <s> <s> <s> <s> <s> <s> <s> <s> <s> <s> <s> <s> <s> <s> <s> <s> <s> <s> <s> <s> <s> <s> <s> <s> <s> <s> <s> <s> <s> <s> <s> <s> <s> <s> <s> <s> <s> <s> <s> <s> <s> <s> <s> <s> <s> <s> <s> <s> <s> <s> <s> <s> <s> <s> <s> <s> <s> <s> <s> <s> <s> <s> <s> <s> <s> <s> <s> <s> <s> <s> <s> <s> <s> <s> <s> <s> <s> <s> <s> <s> <s> <s> <s> <s> <s> <s> <s> <s> <s> <s> <s>\n",
            "Score: 0.9992506080971353\n",
            "\n",
            "Question: What is the satellite's expected operational lifetime in years?\n",
            "Answer: <s> <s> <s> <s> <s> <s> <s> <s> <s> <s> <s> <s> <s> <s> <s> <s> <s> <s> <s> 2022 <s> <s> <s> <s> <s> <s> <s> <s> <s> <s> <s> <s> <s> <s> <s> <s> <s> <s> <s> <s> <s> <s> <s> <s> <s> <s> <s> <s> <s> <s> <s> <s> <s> <s> <s> <s> <s> <s> <s> <s> <s> <s> <s> <s> <s> <s>  29,988 <s> <s> <s> <s> <s> <s> <s> <s> <s> <s> <s> <s> <s> <s> <s> <s> <s> <s>  <s> <s> <s>  <s> <s> <s> <s> <s> <s> <s> <s> <s> <s> <s> <s>  <s> <s> <s> <s> <s> <s> <s> <s> <s> <s> <s> <s> <s> <s> <s> <s> <s>  2022 <s> <s> <s> <s> <s> <s> <s> <s> <s> <s> <s> <s> <s> <s> <s> <s> <s> <s> <s> <s> <s> <s> <s> <s> <s> <s> <s> <s> <s> <s> <s> <s> <s> <s> <s> <s> <s>  <s> <s> <s> <s> <s> <s> <s> <s> <s> <s> <s> \n",
            "20 <s> <s> <s> <s> <s> <s> <s> <s> <s> <s> <s> <s> <s> <s> <s> <s> <s> <s> <s> <s> <s> <s> <s> <s> <s> <s> <s> <s> <s> <s> <s> <s> <s> <s> <s> <s> <s> <s> <s> <s> <s> <s> <s> <s> <s> <s> <s> <s> <s> <s> <s> <s> <s> <s> <s> <s> <s> <s> <s> <s> <s> <s> <s> <s> <s> <s> <s> <s> <s> <s> <s> <s> <s> <s> <s> <s> <s> <s> <s> <s> <s> <s> <s> <s> <s> <s> <s>  2020 <s> <s> <s> <s> <s> <s>  2022 <s> <s> <s> <s> <s> <s> <s> <s> <s> <s> <s> <s> <s> <s> <s> <s> <s> <s> <s> <s> <s> <s> <s> <s> <s> <s> <s> <s> <s> <s> <s> <s> <s>What is the satellite's expected operational lifetime in years?</s></s>ly at II, 9, 11.\r\n",
            "  Viasat argues that grant of the waiver would result in no regulatory body conducting meaningful review of SpaceX’s EPFD compliance, and so SpaceX’s argument that grant of the waiver would still leave adequate protections for GSO operators is a meritless defense. See Viasat Petition at 28-31; Viasat Reply at 20.\r\n",
            "  Viasat states that given the significant concerns raised on the record, the waiver should be denied. See Viasat Petition at 28-31; Viasat Reply at 20.\r\n",
            "\r\n",
            "40 <s> <s> <s> <s> <s> <s> <s> <s> <s> <s> <s> <s> <s> <s> <s> <s>  PFD limits <s> <s> <s> <s> <s> <s> <s> <s> <s> <s> <s> <s> <s> <s> <s> <s> <s> <s> <s> <s> <s> <s>What is the satellite's expected operational lifetime in years?</s></s>Hz band, Public Notice, DA 22-974 (rel. Sept. 19, 2022).  On October 27, 2022, the Commission extended the temporary freeze pending the outcome of GN Docket No. 22-352.  Expanding Use of the 12.7-13.25 GHz Band for Mobile Broadband or Other Expanded Use, Notice of Inquiry and Order, GN Docket No. 22-352, FCC 22-80 (rel. Oct. 28, 2022).\r\n",
            "\r\n",
            "50 <s> <s> <s> <s> <s>  <s> <s> <s> <s> <s> <s> <s> <s> <s> <s> <s> <s> <s> <s> <s> <s> <s> <s> <s> <s> <s> <s> <s>What is the satellite's expected operational lifetime in years?</s></s>onstration Viasat seeks. See SpaceX April 7, 2022 Letter at 2-3; SpaceX May 18, 2022 Ex Parte at 1, Exhibit B at 4.\r  29-30 <s> <s> <s> <s> <s> <s> <s> <s> <s> <s> <s> <s> <s> <s> <s> <s> <s> <s> <s> <s> <s> <s> <s> <s> <s> <s> <s> <s> <s> <s> <s> <s> <s> <s> <s> <s> <s> <s> <s> <s> <s> <s> <s> <s> <s>  <s> <s> <s> <s>What is the satellite's expected operational lifetime in years?</s></s>on. See SpaceX Consolidated Opposition at 10; SpaceX October 4, 2022 Letter at 3.\r <s> <s>What is the satellite's expected operational lifetime in years?</s></s>n warnings. See SpaceX Consolidated Opposition at 11; SpaceX October 4, 2022 Letter at 3.\r <s> <s> <s> <s> <s> <s> <s> <s> <s> <s> <s> <s> <s> <s> <s> <s> <s> <s> <s>  360 <s> <s> <s> <s> <s> <s> <s> <s> <s> <s> <s> <s> <s> <s>  100  five <s>  100 <s> <s>  100 <s> <s> <s> <s> <s> <s> <s> <s> <s> <s> <s> <s> <s> <s> <s> <s> <s> <s>  five  five <s> <s> <s>What is the satellite's expected operational lifetime in years?</s></s>ellites on an ongoing basis without issue since 2019 <s> <s> <s> <s> <s> <s> <s> <s> <s> <s> <s> <s> <s> <s> <s> <s> <s> <s> <s> <s> <s> <s> <s> <s> <s> <s> <s> <s> <s> <s> <s> <s> <s> <s> <s> <s> <s> <s> <s> <s> <s> <s> \r\n",
            "99 <s> <s> <s> <s> <s> <s> <s> <s> <s> <s> <s> <s> <s> <s> <s> <s> <s> <s> <s> <s> <s> <s> <s> <s> <s> <s> <s> <s> <s> <s> <s> <s> <s> <s> <s> <s> <s> <s> <s> <s> <s> <s> <s> <s> <s> <s> <s> <s> <s> <s> <s> <s> <s> <s> <s> <s> <s> <s> <s> <s> <s> <s> <s> <s> <s> <s> <s> <s> <s> <s> <s> <s> <s>  2025 <s> <s> <s> <s> <s> <s> <s> <s> <s> <s> <s> <s> <s>  <s> <s> <s> <s> <s>  <s> <s> <s> <s> <s> <s> <s> <s> <s> <s>  15 <s> <s> <s> <s> <s> <s> <s> <s> <s> <s> <s> <s> <s> <s> <s> <s> <s> <s> <s> <s> <s> <s> <s> <s> <s> <s> <s> <s> <s> <s> <s> <s> <s> <s> <s> <s> <s> <s> <s> <s> <s> <s> <s> <s> <s> <s> <s> <s> <s> <s> <s> <s> <s> <s>What is the satellite's expected operational lifetime in years?</s></s>Hunt September 23, 2022 Letter at 1.  .  Professor Lawler and Professor Trotta also express concern regarding the increasing possibility of a runaway cascade of debris-generating collisions which could render LEO unusable for decades or up to a century <s> <s> <s> <s> <s> <s> <s> <s> <s> <s> <s> <s> <s> <s> <s> <s> <s> <s> <s> <s> <s> <s> <s> <s> <s> <s> <s> <s> <s> <s> <s> <s> <s> <s> <s> <s> <s> <s> <s> <s> <s> <s> <s> <s> <s> <s> <s> <s> <s> <s> <s> <s> <s> <s> <s> <s> <s> <s> <s> <s> <s> <s> <s> <s> <s> <s> <s> <s> <s> <s> <s> <s> <s>  nine <s> <s> <s> <s> <s> <s> <s>What is the satellite's expected operational lifetime in years?</s></s>Litigation, Motion for Consultation with Affected Agencies, Motion for Disclosure, Motion for Certification of Suitably Comprehensive Insurance Coverage, Motion for Certification of Indemnity, and Motion to Suspend or Revoke Licenses of The Balance Group is DISMISSED.\r\n",
            "149 <s>\n",
            "Score: 0.999371617567899\n",
            "\n"
          ]
        }
      ],
      "source": [
        "from transformers import RobertaTokenizer, RobertaTokenizerFast, RobertaForQuestionAnswering, AutoModelForQuestionAnswering\n",
        "import torch\n",
        "import requests\n",
        "import torch.nn.functional as F #to find the score of the answer\n",
        "\n",
        "# Load the saved model and tokenizer\n",
        "model = AutoModelForQuestionAnswering.from_pretrained(\"/content/gdrive/MyDrive/tuned_model\")\n",
        "tokenizer = RobertaTokenizerFast.from_pretrained(\"/content/gdrive/MyDrive/tuned_model\")\n",
        "\n",
        "# Read context from a .txt file\n",
        "url = \"https://raw.githubusercontent.com/AlinZohari/InformationExtraction/starlink_gen2/data/authorize_doc/StarlinkGen2_FCC-22-91A1.txt\"\n",
        "response = requests.get(url)\n",
        "context = response.text\n",
        "\n",
        "#define the questions\n",
        "questions = [\n",
        "    \"What's the name of the satellite constellation the company seeks to deploy or operate?\",\n",
        "    \"On which date was the document released?\",\n",
        "    \"By which date must the company launch and operate half of its satellites?\",\n",
        "    \"By which date is the company expected to have all its satellites operational?\",\n",
        "    \"How many satellites is the company authorized to deploy and operate for this constellation?\",\n",
        "    \"At which authorized altitudes will the company deploy its satellites?\",\n",
        "    \"What are the authorized satellite inclinations within the corresponding altitudes?\",\n",
        "    \"How many orbital planes, corresponding to given altitudes and inclinations, has the company been authorized for?\",\n",
        "    \"How many satellites are allocated to each orbital plane?\",\n",
        "    \"How many satellites, for each altitude and inclination, are there across all matching orbital planes?\",\n",
        "    \"What is the satellite's expected operational lifetime in years?\"\n",
        "]\n",
        "# Function to ask a single question\n",
        "def ask_question(question, context):\n",
        "    # Split the context into chunks of 512 tokens with an overlap of 100 tokens\n",
        "    chunk_size = 512 - tokenizer.num_special_tokens_to_add(pair=True)\n",
        "    overlap = 100\n",
        "    context_chunks = [context[i:i+chunk_size] for i in range(0, len(context), chunk_size - overlap)]\n",
        "\n",
        "    answers = []\n",
        "\n",
        "    for context_chunk in context_chunks:\n",
        "        inputs = tokenizer(question, context_chunk, return_tensors='pt')\n",
        "        outputs = model(**inputs)\n",
        "        start_logits = F.softmax(outputs.start_logits, dim=-1)\n",
        "        end_logits = F.softmax(outputs.end_logits, dim=-1)\n",
        "        answer_start = torch.argmax(start_logits)\n",
        "        answer_end = torch.argmax(end_logits)\n",
        "        answer_score = start_logits[0, answer_start].item() * end_logits[0, answer_end].item()\n",
        "        answer = tokenizer.convert_tokens_to_string(tokenizer.convert_ids_to_tokens(inputs['input_ids'][0][answer_start:answer_end+1]))\n",
        "        answers.append((answer, answer_score))\n",
        "\n",
        "    # Combine the answers from each chunk\n",
        "    full_answers = [answer for answer, _ in answers]\n",
        "    full_answer = ' '.join(full_answers)\n",
        "    # Combine the scores from each chunk\n",
        "    full_scores = [score for _, score in answers]\n",
        "    max_score = max(full_scores)\n",
        "    return full_answer, max_score\n",
        "\n",
        "# Ask each question\n",
        "answers_and_scores = [ask_question(question, context) for question in questions]\n",
        "\n",
        "# Print the answers and scores\n",
        "for question, (answer, score) in zip(questions, answers_and_scores):\n",
        "    print(f'Question: {question}')\n",
        "    print(f'Answer: {answer}')\n",
        "    print(f'Score: {score}\\n')\n"
      ]
    }
  ],
  "metadata": {
    "accelerator": "GPU",
    "colab": {
      "gpuType": "T4",
      "machine_shape": "hm",
      "provenance": [],
      "include_colab_link": true
    },
    "kernelspec": {
      "display_name": "Python 3",
      "name": "python3"
    },
    "language_info": {
      "codemirror_mode": {
        "name": "ipython",
        "version": 3
      },
      "file_extension": ".py",
      "mimetype": "text/x-python",
      "name": "python",
      "nbconvert_exporter": "python",
      "pygments_lexer": "ipython3",
      "version": "3.9.17"
    },
    "orig_nbformat": 4,
    "widgets": {
      "application/vnd.jupyter.widget-state+json": {
        "af2dd5f1e1d3447dac75e3e7e1464bd9": {
          "model_module": "@jupyter-widgets/controls",
          "model_name": "HBoxModel",
          "model_module_version": "1.5.0",
          "state": {
            "_dom_classes": [],
            "_model_module": "@jupyter-widgets/controls",
            "_model_module_version": "1.5.0",
            "_model_name": "HBoxModel",
            "_view_count": null,
            "_view_module": "@jupyter-widgets/controls",
            "_view_module_version": "1.5.0",
            "_view_name": "HBoxView",
            "box_style": "",
            "children": [
              "IPY_MODEL_e441bd6e5ba746a0a99ff69b7a87a88f",
              "IPY_MODEL_7ed273e8cd354c8387ac89c6e1c0ee61",
              "IPY_MODEL_28d98ef5f56b4678987ecdc03df67cde"
            ],
            "layout": "IPY_MODEL_319bf8bd0d444acd87aac9ddc23b2257"
          }
        },
        "e441bd6e5ba746a0a99ff69b7a87a88f": {
          "model_module": "@jupyter-widgets/controls",
          "model_name": "HTMLModel",
          "model_module_version": "1.5.0",
          "state": {
            "_dom_classes": [],
            "_model_module": "@jupyter-widgets/controls",
            "_model_module_version": "1.5.0",
            "_model_name": "HTMLModel",
            "_view_count": null,
            "_view_module": "@jupyter-widgets/controls",
            "_view_module_version": "1.5.0",
            "_view_name": "HTMLView",
            "description": "",
            "description_tooltip": null,
            "layout": "IPY_MODEL_6ad87e2a1acd4ca5a591c3ccd51a788a",
            "placeholder": "​",
            "style": "IPY_MODEL_92c96092e87443d38056d5651353a710",
            "value": "Map: 100%"
          }
        },
        "7ed273e8cd354c8387ac89c6e1c0ee61": {
          "model_module": "@jupyter-widgets/controls",
          "model_name": "FloatProgressModel",
          "model_module_version": "1.5.0",
          "state": {
            "_dom_classes": [],
            "_model_module": "@jupyter-widgets/controls",
            "_model_module_version": "1.5.0",
            "_model_name": "FloatProgressModel",
            "_view_count": null,
            "_view_module": "@jupyter-widgets/controls",
            "_view_module_version": "1.5.0",
            "_view_name": "ProgressView",
            "bar_style": "success",
            "description": "",
            "description_tooltip": null,
            "layout": "IPY_MODEL_22d3f5a12ad24c5999e389998bb875ef",
            "max": 13,
            "min": 0,
            "orientation": "horizontal",
            "style": "IPY_MODEL_8016fecd37f1477eb689e704f749fc22",
            "value": 13
          }
        },
        "28d98ef5f56b4678987ecdc03df67cde": {
          "model_module": "@jupyter-widgets/controls",
          "model_name": "HTMLModel",
          "model_module_version": "1.5.0",
          "state": {
            "_dom_classes": [],
            "_model_module": "@jupyter-widgets/controls",
            "_model_module_version": "1.5.0",
            "_model_name": "HTMLModel",
            "_view_count": null,
            "_view_module": "@jupyter-widgets/controls",
            "_view_module_version": "1.5.0",
            "_view_name": "HTMLView",
            "description": "",
            "description_tooltip": null,
            "layout": "IPY_MODEL_6f322f87d4f448139fd6a5efc48b74f2",
            "placeholder": "​",
            "style": "IPY_MODEL_8dc1ff0b8c4e41f691372b546438ee7e",
            "value": " 13/13 [00:00&lt;00:00, 142.49 examples/s]"
          }
        },
        "319bf8bd0d444acd87aac9ddc23b2257": {
          "model_module": "@jupyter-widgets/base",
          "model_name": "LayoutModel",
          "model_module_version": "1.2.0",
          "state": {
            "_model_module": "@jupyter-widgets/base",
            "_model_module_version": "1.2.0",
            "_model_name": "LayoutModel",
            "_view_count": null,
            "_view_module": "@jupyter-widgets/base",
            "_view_module_version": "1.2.0",
            "_view_name": "LayoutView",
            "align_content": null,
            "align_items": null,
            "align_self": null,
            "border": null,
            "bottom": null,
            "display": null,
            "flex": null,
            "flex_flow": null,
            "grid_area": null,
            "grid_auto_columns": null,
            "grid_auto_flow": null,
            "grid_auto_rows": null,
            "grid_column": null,
            "grid_gap": null,
            "grid_row": null,
            "grid_template_areas": null,
            "grid_template_columns": null,
            "grid_template_rows": null,
            "height": null,
            "justify_content": null,
            "justify_items": null,
            "left": null,
            "margin": null,
            "max_height": null,
            "max_width": null,
            "min_height": null,
            "min_width": null,
            "object_fit": null,
            "object_position": null,
            "order": null,
            "overflow": null,
            "overflow_x": null,
            "overflow_y": null,
            "padding": null,
            "right": null,
            "top": null,
            "visibility": null,
            "width": null
          }
        },
        "6ad87e2a1acd4ca5a591c3ccd51a788a": {
          "model_module": "@jupyter-widgets/base",
          "model_name": "LayoutModel",
          "model_module_version": "1.2.0",
          "state": {
            "_model_module": "@jupyter-widgets/base",
            "_model_module_version": "1.2.0",
            "_model_name": "LayoutModel",
            "_view_count": null,
            "_view_module": "@jupyter-widgets/base",
            "_view_module_version": "1.2.0",
            "_view_name": "LayoutView",
            "align_content": null,
            "align_items": null,
            "align_self": null,
            "border": null,
            "bottom": null,
            "display": null,
            "flex": null,
            "flex_flow": null,
            "grid_area": null,
            "grid_auto_columns": null,
            "grid_auto_flow": null,
            "grid_auto_rows": null,
            "grid_column": null,
            "grid_gap": null,
            "grid_row": null,
            "grid_template_areas": null,
            "grid_template_columns": null,
            "grid_template_rows": null,
            "height": null,
            "justify_content": null,
            "justify_items": null,
            "left": null,
            "margin": null,
            "max_height": null,
            "max_width": null,
            "min_height": null,
            "min_width": null,
            "object_fit": null,
            "object_position": null,
            "order": null,
            "overflow": null,
            "overflow_x": null,
            "overflow_y": null,
            "padding": null,
            "right": null,
            "top": null,
            "visibility": null,
            "width": null
          }
        },
        "92c96092e87443d38056d5651353a710": {
          "model_module": "@jupyter-widgets/controls",
          "model_name": "DescriptionStyleModel",
          "model_module_version": "1.5.0",
          "state": {
            "_model_module": "@jupyter-widgets/controls",
            "_model_module_version": "1.5.0",
            "_model_name": "DescriptionStyleModel",
            "_view_count": null,
            "_view_module": "@jupyter-widgets/base",
            "_view_module_version": "1.2.0",
            "_view_name": "StyleView",
            "description_width": ""
          }
        },
        "22d3f5a12ad24c5999e389998bb875ef": {
          "model_module": "@jupyter-widgets/base",
          "model_name": "LayoutModel",
          "model_module_version": "1.2.0",
          "state": {
            "_model_module": "@jupyter-widgets/base",
            "_model_module_version": "1.2.0",
            "_model_name": "LayoutModel",
            "_view_count": null,
            "_view_module": "@jupyter-widgets/base",
            "_view_module_version": "1.2.0",
            "_view_name": "LayoutView",
            "align_content": null,
            "align_items": null,
            "align_self": null,
            "border": null,
            "bottom": null,
            "display": null,
            "flex": null,
            "flex_flow": null,
            "grid_area": null,
            "grid_auto_columns": null,
            "grid_auto_flow": null,
            "grid_auto_rows": null,
            "grid_column": null,
            "grid_gap": null,
            "grid_row": null,
            "grid_template_areas": null,
            "grid_template_columns": null,
            "grid_template_rows": null,
            "height": null,
            "justify_content": null,
            "justify_items": null,
            "left": null,
            "margin": null,
            "max_height": null,
            "max_width": null,
            "min_height": null,
            "min_width": null,
            "object_fit": null,
            "object_position": null,
            "order": null,
            "overflow": null,
            "overflow_x": null,
            "overflow_y": null,
            "padding": null,
            "right": null,
            "top": null,
            "visibility": null,
            "width": null
          }
        },
        "8016fecd37f1477eb689e704f749fc22": {
          "model_module": "@jupyter-widgets/controls",
          "model_name": "ProgressStyleModel",
          "model_module_version": "1.5.0",
          "state": {
            "_model_module": "@jupyter-widgets/controls",
            "_model_module_version": "1.5.0",
            "_model_name": "ProgressStyleModel",
            "_view_count": null,
            "_view_module": "@jupyter-widgets/base",
            "_view_module_version": "1.2.0",
            "_view_name": "StyleView",
            "bar_color": null,
            "description_width": ""
          }
        },
        "6f322f87d4f448139fd6a5efc48b74f2": {
          "model_module": "@jupyter-widgets/base",
          "model_name": "LayoutModel",
          "model_module_version": "1.2.0",
          "state": {
            "_model_module": "@jupyter-widgets/base",
            "_model_module_version": "1.2.0",
            "_model_name": "LayoutModel",
            "_view_count": null,
            "_view_module": "@jupyter-widgets/base",
            "_view_module_version": "1.2.0",
            "_view_name": "LayoutView",
            "align_content": null,
            "align_items": null,
            "align_self": null,
            "border": null,
            "bottom": null,
            "display": null,
            "flex": null,
            "flex_flow": null,
            "grid_area": null,
            "grid_auto_columns": null,
            "grid_auto_flow": null,
            "grid_auto_rows": null,
            "grid_column": null,
            "grid_gap": null,
            "grid_row": null,
            "grid_template_areas": null,
            "grid_template_columns": null,
            "grid_template_rows": null,
            "height": null,
            "justify_content": null,
            "justify_items": null,
            "left": null,
            "margin": null,
            "max_height": null,
            "max_width": null,
            "min_height": null,
            "min_width": null,
            "object_fit": null,
            "object_position": null,
            "order": null,
            "overflow": null,
            "overflow_x": null,
            "overflow_y": null,
            "padding": null,
            "right": null,
            "top": null,
            "visibility": null,
            "width": null
          }
        },
        "8dc1ff0b8c4e41f691372b546438ee7e": {
          "model_module": "@jupyter-widgets/controls",
          "model_name": "DescriptionStyleModel",
          "model_module_version": "1.5.0",
          "state": {
            "_model_module": "@jupyter-widgets/controls",
            "_model_module_version": "1.5.0",
            "_model_name": "DescriptionStyleModel",
            "_view_count": null,
            "_view_module": "@jupyter-widgets/base",
            "_view_module_version": "1.2.0",
            "_view_name": "StyleView",
            "description_width": ""
          }
        },
        "c16a35b0d2724c4ebe63e8e082472554": {
          "model_module": "@jupyter-widgets/controls",
          "model_name": "HBoxModel",
          "model_module_version": "1.5.0",
          "state": {
            "_dom_classes": [],
            "_model_module": "@jupyter-widgets/controls",
            "_model_module_version": "1.5.0",
            "_model_name": "HBoxModel",
            "_view_count": null,
            "_view_module": "@jupyter-widgets/controls",
            "_view_module_version": "1.5.0",
            "_view_name": "HBoxView",
            "box_style": "",
            "children": [
              "IPY_MODEL_2649422432c847d483605eee48479447",
              "IPY_MODEL_71053d810e414319bfaea52a6c5577c6",
              "IPY_MODEL_9c5e1eecf7d148cf93be8ecaf1603707"
            ],
            "layout": "IPY_MODEL_10c4a31e72574cb986d6451042f1e71a"
          }
        },
        "2649422432c847d483605eee48479447": {
          "model_module": "@jupyter-widgets/controls",
          "model_name": "HTMLModel",
          "model_module_version": "1.5.0",
          "state": {
            "_dom_classes": [],
            "_model_module": "@jupyter-widgets/controls",
            "_model_module_version": "1.5.0",
            "_model_name": "HTMLModel",
            "_view_count": null,
            "_view_module": "@jupyter-widgets/controls",
            "_view_module_version": "1.5.0",
            "_view_name": "HTMLView",
            "description": "",
            "description_tooltip": null,
            "layout": "IPY_MODEL_8e21e0d32a014bcc88a59fbe33e9100f",
            "placeholder": "​",
            "style": "IPY_MODEL_49312a2defff4c1a97d3cb329c2b8aef",
            "value": "Map: 100%"
          }
        },
        "71053d810e414319bfaea52a6c5577c6": {
          "model_module": "@jupyter-widgets/controls",
          "model_name": "FloatProgressModel",
          "model_module_version": "1.5.0",
          "state": {
            "_dom_classes": [],
            "_model_module": "@jupyter-widgets/controls",
            "_model_module_version": "1.5.0",
            "_model_name": "FloatProgressModel",
            "_view_count": null,
            "_view_module": "@jupyter-widgets/controls",
            "_view_module_version": "1.5.0",
            "_view_name": "ProgressView",
            "bar_style": "success",
            "description": "",
            "description_tooltip": null,
            "layout": "IPY_MODEL_7401aa8a91d4428abe9dbc40859ddcd7",
            "max": 1,
            "min": 0,
            "orientation": "horizontal",
            "style": "IPY_MODEL_7f36c5f5748f47fcbd95257d12b5371e",
            "value": 1
          }
        },
        "9c5e1eecf7d148cf93be8ecaf1603707": {
          "model_module": "@jupyter-widgets/controls",
          "model_name": "HTMLModel",
          "model_module_version": "1.5.0",
          "state": {
            "_dom_classes": [],
            "_model_module": "@jupyter-widgets/controls",
            "_model_module_version": "1.5.0",
            "_model_name": "HTMLModel",
            "_view_count": null,
            "_view_module": "@jupyter-widgets/controls",
            "_view_module_version": "1.5.0",
            "_view_name": "HTMLView",
            "description": "",
            "description_tooltip": null,
            "layout": "IPY_MODEL_257cf471e8794230836db7ad9e95139e",
            "placeholder": "​",
            "style": "IPY_MODEL_2f0831a32cca4afe874826992e309895",
            "value": " 1/1 [00:00&lt;00:00, 34.41 examples/s]"
          }
        },
        "10c4a31e72574cb986d6451042f1e71a": {
          "model_module": "@jupyter-widgets/base",
          "model_name": "LayoutModel",
          "model_module_version": "1.2.0",
          "state": {
            "_model_module": "@jupyter-widgets/base",
            "_model_module_version": "1.2.0",
            "_model_name": "LayoutModel",
            "_view_count": null,
            "_view_module": "@jupyter-widgets/base",
            "_view_module_version": "1.2.0",
            "_view_name": "LayoutView",
            "align_content": null,
            "align_items": null,
            "align_self": null,
            "border": null,
            "bottom": null,
            "display": null,
            "flex": null,
            "flex_flow": null,
            "grid_area": null,
            "grid_auto_columns": null,
            "grid_auto_flow": null,
            "grid_auto_rows": null,
            "grid_column": null,
            "grid_gap": null,
            "grid_row": null,
            "grid_template_areas": null,
            "grid_template_columns": null,
            "grid_template_rows": null,
            "height": null,
            "justify_content": null,
            "justify_items": null,
            "left": null,
            "margin": null,
            "max_height": null,
            "max_width": null,
            "min_height": null,
            "min_width": null,
            "object_fit": null,
            "object_position": null,
            "order": null,
            "overflow": null,
            "overflow_x": null,
            "overflow_y": null,
            "padding": null,
            "right": null,
            "top": null,
            "visibility": null,
            "width": null
          }
        },
        "8e21e0d32a014bcc88a59fbe33e9100f": {
          "model_module": "@jupyter-widgets/base",
          "model_name": "LayoutModel",
          "model_module_version": "1.2.0",
          "state": {
            "_model_module": "@jupyter-widgets/base",
            "_model_module_version": "1.2.0",
            "_model_name": "LayoutModel",
            "_view_count": null,
            "_view_module": "@jupyter-widgets/base",
            "_view_module_version": "1.2.0",
            "_view_name": "LayoutView",
            "align_content": null,
            "align_items": null,
            "align_self": null,
            "border": null,
            "bottom": null,
            "display": null,
            "flex": null,
            "flex_flow": null,
            "grid_area": null,
            "grid_auto_columns": null,
            "grid_auto_flow": null,
            "grid_auto_rows": null,
            "grid_column": null,
            "grid_gap": null,
            "grid_row": null,
            "grid_template_areas": null,
            "grid_template_columns": null,
            "grid_template_rows": null,
            "height": null,
            "justify_content": null,
            "justify_items": null,
            "left": null,
            "margin": null,
            "max_height": null,
            "max_width": null,
            "min_height": null,
            "min_width": null,
            "object_fit": null,
            "object_position": null,
            "order": null,
            "overflow": null,
            "overflow_x": null,
            "overflow_y": null,
            "padding": null,
            "right": null,
            "top": null,
            "visibility": null,
            "width": null
          }
        },
        "49312a2defff4c1a97d3cb329c2b8aef": {
          "model_module": "@jupyter-widgets/controls",
          "model_name": "DescriptionStyleModel",
          "model_module_version": "1.5.0",
          "state": {
            "_model_module": "@jupyter-widgets/controls",
            "_model_module_version": "1.5.0",
            "_model_name": "DescriptionStyleModel",
            "_view_count": null,
            "_view_module": "@jupyter-widgets/base",
            "_view_module_version": "1.2.0",
            "_view_name": "StyleView",
            "description_width": ""
          }
        },
        "7401aa8a91d4428abe9dbc40859ddcd7": {
          "model_module": "@jupyter-widgets/base",
          "model_name": "LayoutModel",
          "model_module_version": "1.2.0",
          "state": {
            "_model_module": "@jupyter-widgets/base",
            "_model_module_version": "1.2.0",
            "_model_name": "LayoutModel",
            "_view_count": null,
            "_view_module": "@jupyter-widgets/base",
            "_view_module_version": "1.2.0",
            "_view_name": "LayoutView",
            "align_content": null,
            "align_items": null,
            "align_self": null,
            "border": null,
            "bottom": null,
            "display": null,
            "flex": null,
            "flex_flow": null,
            "grid_area": null,
            "grid_auto_columns": null,
            "grid_auto_flow": null,
            "grid_auto_rows": null,
            "grid_column": null,
            "grid_gap": null,
            "grid_row": null,
            "grid_template_areas": null,
            "grid_template_columns": null,
            "grid_template_rows": null,
            "height": null,
            "justify_content": null,
            "justify_items": null,
            "left": null,
            "margin": null,
            "max_height": null,
            "max_width": null,
            "min_height": null,
            "min_width": null,
            "object_fit": null,
            "object_position": null,
            "order": null,
            "overflow": null,
            "overflow_x": null,
            "overflow_y": null,
            "padding": null,
            "right": null,
            "top": null,
            "visibility": null,
            "width": null
          }
        },
        "7f36c5f5748f47fcbd95257d12b5371e": {
          "model_module": "@jupyter-widgets/controls",
          "model_name": "ProgressStyleModel",
          "model_module_version": "1.5.0",
          "state": {
            "_model_module": "@jupyter-widgets/controls",
            "_model_module_version": "1.5.0",
            "_model_name": "ProgressStyleModel",
            "_view_count": null,
            "_view_module": "@jupyter-widgets/base",
            "_view_module_version": "1.2.0",
            "_view_name": "StyleView",
            "bar_color": null,
            "description_width": ""
          }
        },
        "257cf471e8794230836db7ad9e95139e": {
          "model_module": "@jupyter-widgets/base",
          "model_name": "LayoutModel",
          "model_module_version": "1.2.0",
          "state": {
            "_model_module": "@jupyter-widgets/base",
            "_model_module_version": "1.2.0",
            "_model_name": "LayoutModel",
            "_view_count": null,
            "_view_module": "@jupyter-widgets/base",
            "_view_module_version": "1.2.0",
            "_view_name": "LayoutView",
            "align_content": null,
            "align_items": null,
            "align_self": null,
            "border": null,
            "bottom": null,
            "display": null,
            "flex": null,
            "flex_flow": null,
            "grid_area": null,
            "grid_auto_columns": null,
            "grid_auto_flow": null,
            "grid_auto_rows": null,
            "grid_column": null,
            "grid_gap": null,
            "grid_row": null,
            "grid_template_areas": null,
            "grid_template_columns": null,
            "grid_template_rows": null,
            "height": null,
            "justify_content": null,
            "justify_items": null,
            "left": null,
            "margin": null,
            "max_height": null,
            "max_width": null,
            "min_height": null,
            "min_width": null,
            "object_fit": null,
            "object_position": null,
            "order": null,
            "overflow": null,
            "overflow_x": null,
            "overflow_y": null,
            "padding": null,
            "right": null,
            "top": null,
            "visibility": null,
            "width": null
          }
        },
        "2f0831a32cca4afe874826992e309895": {
          "model_module": "@jupyter-widgets/controls",
          "model_name": "DescriptionStyleModel",
          "model_module_version": "1.5.0",
          "state": {
            "_model_module": "@jupyter-widgets/controls",
            "_model_module_version": "1.5.0",
            "_model_name": "DescriptionStyleModel",
            "_view_count": null,
            "_view_module": "@jupyter-widgets/base",
            "_view_module_version": "1.2.0",
            "_view_name": "StyleView",
            "description_width": ""
          }
        },
        "33e363c0ea9e490fa72263acd8d2b2b3": {
          "model_module": "@jupyter-widgets/controls",
          "model_name": "HBoxModel",
          "model_module_version": "1.5.0",
          "state": {
            "_dom_classes": [],
            "_model_module": "@jupyter-widgets/controls",
            "_model_module_version": "1.5.0",
            "_model_name": "HBoxModel",
            "_view_count": null,
            "_view_module": "@jupyter-widgets/controls",
            "_view_module_version": "1.5.0",
            "_view_name": "HBoxView",
            "box_style": "",
            "children": [
              "IPY_MODEL_0a8e07ea278d475ca3d631804efdb9ab",
              "IPY_MODEL_160172e6d1524db7bdb679c4ec99cc1e",
              "IPY_MODEL_1a39564a9b3846b6b079090bbbf004ab"
            ],
            "layout": "IPY_MODEL_2107e933c239464ea75748dad73482f4"
          }
        },
        "0a8e07ea278d475ca3d631804efdb9ab": {
          "model_module": "@jupyter-widgets/controls",
          "model_name": "HTMLModel",
          "model_module_version": "1.5.0",
          "state": {
            "_dom_classes": [],
            "_model_module": "@jupyter-widgets/controls",
            "_model_module_version": "1.5.0",
            "_model_name": "HTMLModel",
            "_view_count": null,
            "_view_module": "@jupyter-widgets/controls",
            "_view_module_version": "1.5.0",
            "_view_name": "HTMLView",
            "description": "",
            "description_tooltip": null,
            "layout": "IPY_MODEL_bfa58776e0b64106994dbca537d2d7a7",
            "placeholder": "​",
            "style": "IPY_MODEL_809b11dad7e84918b0793fbd9ff0cbe4",
            "value": "Downloading builder script: "
          }
        },
        "160172e6d1524db7bdb679c4ec99cc1e": {
          "model_module": "@jupyter-widgets/controls",
          "model_name": "FloatProgressModel",
          "model_module_version": "1.5.0",
          "state": {
            "_dom_classes": [],
            "_model_module": "@jupyter-widgets/controls",
            "_model_module_version": "1.5.0",
            "_model_name": "FloatProgressModel",
            "_view_count": null,
            "_view_module": "@jupyter-widgets/controls",
            "_view_module_version": "1.5.0",
            "_view_name": "ProgressView",
            "bar_style": "success",
            "description": "",
            "description_tooltip": null,
            "layout": "IPY_MODEL_b7fa37fdd1184aaa90fbbb0a82c7db66",
            "max": 1715,
            "min": 0,
            "orientation": "horizontal",
            "style": "IPY_MODEL_2226758cb47f461eb40e45e386ca803c",
            "value": 1715
          }
        },
        "1a39564a9b3846b6b079090bbbf004ab": {
          "model_module": "@jupyter-widgets/controls",
          "model_name": "HTMLModel",
          "model_module_version": "1.5.0",
          "state": {
            "_dom_classes": [],
            "_model_module": "@jupyter-widgets/controls",
            "_model_module_version": "1.5.0",
            "_model_name": "HTMLModel",
            "_view_count": null,
            "_view_module": "@jupyter-widgets/controls",
            "_view_module_version": "1.5.0",
            "_view_name": "HTMLView",
            "description": "",
            "description_tooltip": null,
            "layout": "IPY_MODEL_4c53c5de99a64b4a98294c167d86f036",
            "placeholder": "​",
            "style": "IPY_MODEL_462f0990ef774f2d989db00ac8e72c30",
            "value": " 4.50k/? [00:00&lt;00:00, 359kB/s]"
          }
        },
        "2107e933c239464ea75748dad73482f4": {
          "model_module": "@jupyter-widgets/base",
          "model_name": "LayoutModel",
          "model_module_version": "1.2.0",
          "state": {
            "_model_module": "@jupyter-widgets/base",
            "_model_module_version": "1.2.0",
            "_model_name": "LayoutModel",
            "_view_count": null,
            "_view_module": "@jupyter-widgets/base",
            "_view_module_version": "1.2.0",
            "_view_name": "LayoutView",
            "align_content": null,
            "align_items": null,
            "align_self": null,
            "border": null,
            "bottom": null,
            "display": null,
            "flex": null,
            "flex_flow": null,
            "grid_area": null,
            "grid_auto_columns": null,
            "grid_auto_flow": null,
            "grid_auto_rows": null,
            "grid_column": null,
            "grid_gap": null,
            "grid_row": null,
            "grid_template_areas": null,
            "grid_template_columns": null,
            "grid_template_rows": null,
            "height": null,
            "justify_content": null,
            "justify_items": null,
            "left": null,
            "margin": null,
            "max_height": null,
            "max_width": null,
            "min_height": null,
            "min_width": null,
            "object_fit": null,
            "object_position": null,
            "order": null,
            "overflow": null,
            "overflow_x": null,
            "overflow_y": null,
            "padding": null,
            "right": null,
            "top": null,
            "visibility": null,
            "width": null
          }
        },
        "bfa58776e0b64106994dbca537d2d7a7": {
          "model_module": "@jupyter-widgets/base",
          "model_name": "LayoutModel",
          "model_module_version": "1.2.0",
          "state": {
            "_model_module": "@jupyter-widgets/base",
            "_model_module_version": "1.2.0",
            "_model_name": "LayoutModel",
            "_view_count": null,
            "_view_module": "@jupyter-widgets/base",
            "_view_module_version": "1.2.0",
            "_view_name": "LayoutView",
            "align_content": null,
            "align_items": null,
            "align_self": null,
            "border": null,
            "bottom": null,
            "display": null,
            "flex": null,
            "flex_flow": null,
            "grid_area": null,
            "grid_auto_columns": null,
            "grid_auto_flow": null,
            "grid_auto_rows": null,
            "grid_column": null,
            "grid_gap": null,
            "grid_row": null,
            "grid_template_areas": null,
            "grid_template_columns": null,
            "grid_template_rows": null,
            "height": null,
            "justify_content": null,
            "justify_items": null,
            "left": null,
            "margin": null,
            "max_height": null,
            "max_width": null,
            "min_height": null,
            "min_width": null,
            "object_fit": null,
            "object_position": null,
            "order": null,
            "overflow": null,
            "overflow_x": null,
            "overflow_y": null,
            "padding": null,
            "right": null,
            "top": null,
            "visibility": null,
            "width": null
          }
        },
        "809b11dad7e84918b0793fbd9ff0cbe4": {
          "model_module": "@jupyter-widgets/controls",
          "model_name": "DescriptionStyleModel",
          "model_module_version": "1.5.0",
          "state": {
            "_model_module": "@jupyter-widgets/controls",
            "_model_module_version": "1.5.0",
            "_model_name": "DescriptionStyleModel",
            "_view_count": null,
            "_view_module": "@jupyter-widgets/base",
            "_view_module_version": "1.2.0",
            "_view_name": "StyleView",
            "description_width": ""
          }
        },
        "b7fa37fdd1184aaa90fbbb0a82c7db66": {
          "model_module": "@jupyter-widgets/base",
          "model_name": "LayoutModel",
          "model_module_version": "1.2.0",
          "state": {
            "_model_module": "@jupyter-widgets/base",
            "_model_module_version": "1.2.0",
            "_model_name": "LayoutModel",
            "_view_count": null,
            "_view_module": "@jupyter-widgets/base",
            "_view_module_version": "1.2.0",
            "_view_name": "LayoutView",
            "align_content": null,
            "align_items": null,
            "align_self": null,
            "border": null,
            "bottom": null,
            "display": null,
            "flex": null,
            "flex_flow": null,
            "grid_area": null,
            "grid_auto_columns": null,
            "grid_auto_flow": null,
            "grid_auto_rows": null,
            "grid_column": null,
            "grid_gap": null,
            "grid_row": null,
            "grid_template_areas": null,
            "grid_template_columns": null,
            "grid_template_rows": null,
            "height": null,
            "justify_content": null,
            "justify_items": null,
            "left": null,
            "margin": null,
            "max_height": null,
            "max_width": null,
            "min_height": null,
            "min_width": null,
            "object_fit": null,
            "object_position": null,
            "order": null,
            "overflow": null,
            "overflow_x": null,
            "overflow_y": null,
            "padding": null,
            "right": null,
            "top": null,
            "visibility": null,
            "width": null
          }
        },
        "2226758cb47f461eb40e45e386ca803c": {
          "model_module": "@jupyter-widgets/controls",
          "model_name": "ProgressStyleModel",
          "model_module_version": "1.5.0",
          "state": {
            "_model_module": "@jupyter-widgets/controls",
            "_model_module_version": "1.5.0",
            "_model_name": "ProgressStyleModel",
            "_view_count": null,
            "_view_module": "@jupyter-widgets/base",
            "_view_module_version": "1.2.0",
            "_view_name": "StyleView",
            "bar_color": null,
            "description_width": ""
          }
        },
        "4c53c5de99a64b4a98294c167d86f036": {
          "model_module": "@jupyter-widgets/base",
          "model_name": "LayoutModel",
          "model_module_version": "1.2.0",
          "state": {
            "_model_module": "@jupyter-widgets/base",
            "_model_module_version": "1.2.0",
            "_model_name": "LayoutModel",
            "_view_count": null,
            "_view_module": "@jupyter-widgets/base",
            "_view_module_version": "1.2.0",
            "_view_name": "LayoutView",
            "align_content": null,
            "align_items": null,
            "align_self": null,
            "border": null,
            "bottom": null,
            "display": null,
            "flex": null,
            "flex_flow": null,
            "grid_area": null,
            "grid_auto_columns": null,
            "grid_auto_flow": null,
            "grid_auto_rows": null,
            "grid_column": null,
            "grid_gap": null,
            "grid_row": null,
            "grid_template_areas": null,
            "grid_template_columns": null,
            "grid_template_rows": null,
            "height": null,
            "justify_content": null,
            "justify_items": null,
            "left": null,
            "margin": null,
            "max_height": null,
            "max_width": null,
            "min_height": null,
            "min_width": null,
            "object_fit": null,
            "object_position": null,
            "order": null,
            "overflow": null,
            "overflow_x": null,
            "overflow_y": null,
            "padding": null,
            "right": null,
            "top": null,
            "visibility": null,
            "width": null
          }
        },
        "462f0990ef774f2d989db00ac8e72c30": {
          "model_module": "@jupyter-widgets/controls",
          "model_name": "DescriptionStyleModel",
          "model_module_version": "1.5.0",
          "state": {
            "_model_module": "@jupyter-widgets/controls",
            "_model_module_version": "1.5.0",
            "_model_name": "DescriptionStyleModel",
            "_view_count": null,
            "_view_module": "@jupyter-widgets/base",
            "_view_module_version": "1.2.0",
            "_view_name": "StyleView",
            "description_width": ""
          }
        },
        "431a0d65db154c6891f18b2dcef50767": {
          "model_module": "@jupyter-widgets/controls",
          "model_name": "HBoxModel",
          "model_module_version": "1.5.0",
          "state": {
            "_dom_classes": [],
            "_model_module": "@jupyter-widgets/controls",
            "_model_module_version": "1.5.0",
            "_model_name": "HBoxModel",
            "_view_count": null,
            "_view_module": "@jupyter-widgets/controls",
            "_view_module_version": "1.5.0",
            "_view_name": "HBoxView",
            "box_style": "",
            "children": [
              "IPY_MODEL_893afbd5fafa4176889334d576d6db44",
              "IPY_MODEL_fde2764bc1a6451f89c816ab1929e785",
              "IPY_MODEL_d3ff11162e184a00afd7a5fd624ff484"
            ],
            "layout": "IPY_MODEL_f08ed8102d434021b40cd4d0ff7df504"
          }
        },
        "893afbd5fafa4176889334d576d6db44": {
          "model_module": "@jupyter-widgets/controls",
          "model_name": "HTMLModel",
          "model_module_version": "1.5.0",
          "state": {
            "_dom_classes": [],
            "_model_module": "@jupyter-widgets/controls",
            "_model_module_version": "1.5.0",
            "_model_name": "HTMLModel",
            "_view_count": null,
            "_view_module": "@jupyter-widgets/controls",
            "_view_module_version": "1.5.0",
            "_view_name": "HTMLView",
            "description": "",
            "description_tooltip": null,
            "layout": "IPY_MODEL_cffee2ae805b4a25baf73b1faadd55f2",
            "placeholder": "​",
            "style": "IPY_MODEL_5cc531a8f4b94257995ddec8e46cec80",
            "value": "Downloading extra modules: "
          }
        },
        "fde2764bc1a6451f89c816ab1929e785": {
          "model_module": "@jupyter-widgets/controls",
          "model_name": "FloatProgressModel",
          "model_module_version": "1.5.0",
          "state": {
            "_dom_classes": [],
            "_model_module": "@jupyter-widgets/controls",
            "_model_module_version": "1.5.0",
            "_model_name": "FloatProgressModel",
            "_view_count": null,
            "_view_module": "@jupyter-widgets/controls",
            "_view_module_version": "1.5.0",
            "_view_name": "ProgressView",
            "bar_style": "success",
            "description": "",
            "description_tooltip": null,
            "layout": "IPY_MODEL_3e492838f7d64715838129587dc96dfb",
            "max": 1109,
            "min": 0,
            "orientation": "horizontal",
            "style": "IPY_MODEL_272dea8b0fdc4234945e81f3c43f3834",
            "value": 1109
          }
        },
        "d3ff11162e184a00afd7a5fd624ff484": {
          "model_module": "@jupyter-widgets/controls",
          "model_name": "HTMLModel",
          "model_module_version": "1.5.0",
          "state": {
            "_dom_classes": [],
            "_model_module": "@jupyter-widgets/controls",
            "_model_module_version": "1.5.0",
            "_model_name": "HTMLModel",
            "_view_count": null,
            "_view_module": "@jupyter-widgets/controls",
            "_view_module_version": "1.5.0",
            "_view_name": "HTMLView",
            "description": "",
            "description_tooltip": null,
            "layout": "IPY_MODEL_a55d5a67fcc8497f81bd52d1d046e3ce",
            "placeholder": "​",
            "style": "IPY_MODEL_e13366fbb8b34b2e9d4f030cb12340fe",
            "value": " 3.30k/? [00:00&lt;00:00, 267kB/s]"
          }
        },
        "f08ed8102d434021b40cd4d0ff7df504": {
          "model_module": "@jupyter-widgets/base",
          "model_name": "LayoutModel",
          "model_module_version": "1.2.0",
          "state": {
            "_model_module": "@jupyter-widgets/base",
            "_model_module_version": "1.2.0",
            "_model_name": "LayoutModel",
            "_view_count": null,
            "_view_module": "@jupyter-widgets/base",
            "_view_module_version": "1.2.0",
            "_view_name": "LayoutView",
            "align_content": null,
            "align_items": null,
            "align_self": null,
            "border": null,
            "bottom": null,
            "display": null,
            "flex": null,
            "flex_flow": null,
            "grid_area": null,
            "grid_auto_columns": null,
            "grid_auto_flow": null,
            "grid_auto_rows": null,
            "grid_column": null,
            "grid_gap": null,
            "grid_row": null,
            "grid_template_areas": null,
            "grid_template_columns": null,
            "grid_template_rows": null,
            "height": null,
            "justify_content": null,
            "justify_items": null,
            "left": null,
            "margin": null,
            "max_height": null,
            "max_width": null,
            "min_height": null,
            "min_width": null,
            "object_fit": null,
            "object_position": null,
            "order": null,
            "overflow": null,
            "overflow_x": null,
            "overflow_y": null,
            "padding": null,
            "right": null,
            "top": null,
            "visibility": null,
            "width": null
          }
        },
        "cffee2ae805b4a25baf73b1faadd55f2": {
          "model_module": "@jupyter-widgets/base",
          "model_name": "LayoutModel",
          "model_module_version": "1.2.0",
          "state": {
            "_model_module": "@jupyter-widgets/base",
            "_model_module_version": "1.2.0",
            "_model_name": "LayoutModel",
            "_view_count": null,
            "_view_module": "@jupyter-widgets/base",
            "_view_module_version": "1.2.0",
            "_view_name": "LayoutView",
            "align_content": null,
            "align_items": null,
            "align_self": null,
            "border": null,
            "bottom": null,
            "display": null,
            "flex": null,
            "flex_flow": null,
            "grid_area": null,
            "grid_auto_columns": null,
            "grid_auto_flow": null,
            "grid_auto_rows": null,
            "grid_column": null,
            "grid_gap": null,
            "grid_row": null,
            "grid_template_areas": null,
            "grid_template_columns": null,
            "grid_template_rows": null,
            "height": null,
            "justify_content": null,
            "justify_items": null,
            "left": null,
            "margin": null,
            "max_height": null,
            "max_width": null,
            "min_height": null,
            "min_width": null,
            "object_fit": null,
            "object_position": null,
            "order": null,
            "overflow": null,
            "overflow_x": null,
            "overflow_y": null,
            "padding": null,
            "right": null,
            "top": null,
            "visibility": null,
            "width": null
          }
        },
        "5cc531a8f4b94257995ddec8e46cec80": {
          "model_module": "@jupyter-widgets/controls",
          "model_name": "DescriptionStyleModel",
          "model_module_version": "1.5.0",
          "state": {
            "_model_module": "@jupyter-widgets/controls",
            "_model_module_version": "1.5.0",
            "_model_name": "DescriptionStyleModel",
            "_view_count": null,
            "_view_module": "@jupyter-widgets/base",
            "_view_module_version": "1.2.0",
            "_view_name": "StyleView",
            "description_width": ""
          }
        },
        "3e492838f7d64715838129587dc96dfb": {
          "model_module": "@jupyter-widgets/base",
          "model_name": "LayoutModel",
          "model_module_version": "1.2.0",
          "state": {
            "_model_module": "@jupyter-widgets/base",
            "_model_module_version": "1.2.0",
            "_model_name": "LayoutModel",
            "_view_count": null,
            "_view_module": "@jupyter-widgets/base",
            "_view_module_version": "1.2.0",
            "_view_name": "LayoutView",
            "align_content": null,
            "align_items": null,
            "align_self": null,
            "border": null,
            "bottom": null,
            "display": null,
            "flex": null,
            "flex_flow": null,
            "grid_area": null,
            "grid_auto_columns": null,
            "grid_auto_flow": null,
            "grid_auto_rows": null,
            "grid_column": null,
            "grid_gap": null,
            "grid_row": null,
            "grid_template_areas": null,
            "grid_template_columns": null,
            "grid_template_rows": null,
            "height": null,
            "justify_content": null,
            "justify_items": null,
            "left": null,
            "margin": null,
            "max_height": null,
            "max_width": null,
            "min_height": null,
            "min_width": null,
            "object_fit": null,
            "object_position": null,
            "order": null,
            "overflow": null,
            "overflow_x": null,
            "overflow_y": null,
            "padding": null,
            "right": null,
            "top": null,
            "visibility": null,
            "width": null
          }
        },
        "272dea8b0fdc4234945e81f3c43f3834": {
          "model_module": "@jupyter-widgets/controls",
          "model_name": "ProgressStyleModel",
          "model_module_version": "1.5.0",
          "state": {
            "_model_module": "@jupyter-widgets/controls",
            "_model_module_version": "1.5.0",
            "_model_name": "ProgressStyleModel",
            "_view_count": null,
            "_view_module": "@jupyter-widgets/base",
            "_view_module_version": "1.2.0",
            "_view_name": "StyleView",
            "bar_color": null,
            "description_width": ""
          }
        },
        "a55d5a67fcc8497f81bd52d1d046e3ce": {
          "model_module": "@jupyter-widgets/base",
          "model_name": "LayoutModel",
          "model_module_version": "1.2.0",
          "state": {
            "_model_module": "@jupyter-widgets/base",
            "_model_module_version": "1.2.0",
            "_model_name": "LayoutModel",
            "_view_count": null,
            "_view_module": "@jupyter-widgets/base",
            "_view_module_version": "1.2.0",
            "_view_name": "LayoutView",
            "align_content": null,
            "align_items": null,
            "align_self": null,
            "border": null,
            "bottom": null,
            "display": null,
            "flex": null,
            "flex_flow": null,
            "grid_area": null,
            "grid_auto_columns": null,
            "grid_auto_flow": null,
            "grid_auto_rows": null,
            "grid_column": null,
            "grid_gap": null,
            "grid_row": null,
            "grid_template_areas": null,
            "grid_template_columns": null,
            "grid_template_rows": null,
            "height": null,
            "justify_content": null,
            "justify_items": null,
            "left": null,
            "margin": null,
            "max_height": null,
            "max_width": null,
            "min_height": null,
            "min_width": null,
            "object_fit": null,
            "object_position": null,
            "order": null,
            "overflow": null,
            "overflow_x": null,
            "overflow_y": null,
            "padding": null,
            "right": null,
            "top": null,
            "visibility": null,
            "width": null
          }
        },
        "e13366fbb8b34b2e9d4f030cb12340fe": {
          "model_module": "@jupyter-widgets/controls",
          "model_name": "DescriptionStyleModel",
          "model_module_version": "1.5.0",
          "state": {
            "_model_module": "@jupyter-widgets/controls",
            "_model_module_version": "1.5.0",
            "_model_name": "DescriptionStyleModel",
            "_view_count": null,
            "_view_module": "@jupyter-widgets/base",
            "_view_module_version": "1.2.0",
            "_view_name": "StyleView",
            "description_width": ""
          }
        }
      }
    }
  },
  "nbformat": 4,
  "nbformat_minor": 0
}
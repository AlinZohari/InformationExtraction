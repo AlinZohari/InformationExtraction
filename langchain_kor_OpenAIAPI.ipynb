{
 "cells": [
  {
   "cell_type": "markdown",
   "metadata": {},
   "source": [
    "## Import Langchain, Kor, OpenAI"
   ]
  },
  {
   "cell_type": "code",
   "execution_count": null,
   "metadata": {},
   "outputs": [],
   "source": []
  },
  {
   "cell_type": "code",
   "execution_count": null,
   "metadata": {},
   "outputs": [],
   "source": [
    "#importing openai and secret key\n",
    "import os\n",
    "from dotenv import load_dotenv\n",
    "\n",
    "# Load environment variables from .env\n",
    "load_dotenv()\n",
    "\n",
    "openai_key = os.getenv[\"OPEN_API_KEY\"]\n"
   ]
  },
  {
   "cell_type": "code",
   "execution_count": null,
   "metadata": {},
   "outputs": [],
   "source": [
    "#importing module for langchain and kor\n",
    "import openai\n",
    "from typing import List, Optional\n",
    "\n",
    "from langchain.callbacks import get_openai_callback\n",
    "from langchain.chat_models import ChatOpenAI\n",
    "\n",
    "from kor.extraction import create_extraction_chain\n",
    "from kor.nodes import Object, Text, Number\n",
    "\n",
    "import pandas as pd\n",
    "from pydantic import BaseModel, Field, validator\n",
    "from kor import extract_from_documents, from_pydantic, create_extraction_chain\n",
    "\n",
    "\n",
    "from langchain.schema import Document\n",
    "from langchain.text_splitter import RecursiveCharacterTextSplitter"
   ]
  },
  {
   "cell_type": "code",
   "execution_count": null,
   "metadata": {},
   "outputs": [],
   "source": [
    "#importing llm model\n",
    "\n",
    "#from langchain.llms import OpenAI\n",
    "\n",
    "llm = ChatOpenAI(\n",
    "    model_name=\"gpt-3.5-turbo\",\n",
    "    temperature=0,#dont be creative and make up answer\n",
    "    openai_api_key= openai_key\n",
    ")\n"
   ]
  },
  {
   "cell_type": "markdown",
   "metadata": {},
   "source": [
    "## Building Schema (Example)"
   ]
  },
  {
   "cell_type": "code",
   "execution_count": null,
   "metadata": {},
   "outputs": [],
   "source": [
    "schema = Object(\n",
    "    id=\"personal_info\",\n",
    "    description=\"Personal information about a given person.\",\n",
    "    attributes=[\n",
    "        Text(\n",
    "            id=\"first_name\",\n",
    "            description=\"The first name of the person\",\n",
    "            examples=[(\"John Smith went to the store\", \"John\")],\n",
    "        ),\n",
    "        Text(\n",
    "            id=\"last_name\",\n",
    "            description=\"The last name of the person\",\n",
    "            examples=[(\"John Smith went to the store\", \"Smith\")],\n",
    "        ),\n",
    "        Number(\n",
    "            id=\"age\",\n",
    "            description=\"The age of the person in years.\",\n",
    "            examples=[(\"23 years old\", \"23\"), (\"I turned three on sunday\", \"3\")],\n",
    "        ),\n",
    "    ],\n",
    "    examples=[\n",
    "        (\n",
    "            \"John Smith was 23 years old. He was very tall. He knew Jane Doe. She was 5 years old.\",\n",
    "            [\n",
    "                {\"first_name\": \"John\", \"last_name\": \"Smith\", \"age\": 23},\n",
    "                {\"first_name\": \"Jane\", \"last_name\": \"Doe\", \"age\": 5},\n",
    "            ],\n",
    "        )\n",
    "    ],\n",
    "    many=True,\n",
    ")\n"
   ]
  },
  {
   "cell_type": "code",
   "execution_count": null,
   "metadata": {},
   "outputs": [],
   "source": [
    "#creating the chain - default CSVEncoder\n",
    "chain = create_extraction_chain(llm, schema)\n",
    "\n",
    "#for creating chain - JSONEncoder\n",
    "#chain = create_extraction_chain(llm, schema, encoder_or_encoder_class=\"json\", input_formatter=None)"
   ]
  },
  {
   "cell_type": "code",
   "execution_count": null,
   "metadata": {},
   "outputs": [],
   "source": [
    "#printing the actual prompt that being sent to the LLM\n",
    "\n",
    "print(chain.prompt.format_prompt(text=\"[user input]\").to_string())"
   ]
  },
  {
   "cell_type": "markdown",
   "metadata": {},
   "source": [
    "ways on seing the raw data "
   ]
  },
  {
   "cell_type": "code",
   "execution_count": null,
   "metadata": {},
   "outputs": [],
   "source": [
    "chain.run((\"David Jones was 34 years old a long time ago.\"))"
   ]
  },
  {
   "cell_type": "code",
   "execution_count": null,
   "metadata": {},
   "outputs": [],
   "source": [
    "#finding what kind of data it contains\n",
    "result = chain.predict(text=\"David Jones was 34 years old a long time ago.\")\n",
    "print(result)\n"
   ]
  },
  {
   "cell_type": "code",
   "execution_count": null,
   "metadata": {},
   "outputs": [],
   "source": [
    "result = chain.predict(text=\"David Jones was 34 years old a long time ago.\")\n",
    "parsed_data = result[\"data\"][\"personal_info\"]\n",
    "print(parsed_data)\n"
   ]
  },
  {
   "cell_type": "markdown",
   "metadata": {},
   "source": [
    "## Load Document"
   ]
  },
  {
   "cell_type": "code",
   "execution_count": null,
   "metadata": {},
   "outputs": [],
   "source": [
    "def import_document(filename):\n",
    "    try:\n",
    "        with open(filename, 'r', encoding='utf-8') as file:\n",
    "            document_text = file.read()\n",
    "        return document_text\n",
    "    except FileNotFoundError:\n",
    "        print(f\"Error: File '{file_path}' not found.\")\n",
    "        return None\n",
    "    except Exception as e:\n",
    "        print(f\"Error occurred while importing the document: {e}\")\n",
    "        return None\n",
    "\n",
    "\n",
    "filename = \"data/Kuiper_FCC-20-102A1.txt\"\n",
    "document = import_document(filename)\n",
    "if document is not None:\n",
    "    print(\"Document content:\")\n",
    "    print(document)"
   ]
  },
  {
   "cell_type": "markdown",
   "metadata": {},
   "source": [
    "## Exploring Document"
   ]
  },
  {
   "cell_type": "code",
   "execution_count": null,
   "metadata": {},
   "outputs": [],
   "source": [
    "len(document)"
   ]
  },
  {
   "cell_type": "code",
   "execution_count": null,
   "metadata": {},
   "outputs": [],
   "source": [
    "import textacy\n",
    "doc = textacy.make_spacy_doc(document, lang=\"en_core_web_sm\")\n",
    "print(doc._.preview)"
   ]
  },
  {
   "cell_type": "code",
   "execution_count": null,
   "metadata": {},
   "outputs": [],
   "source": [
    "from textacy import text_stats as ts\n",
    "\n",
    "# Number of words and number of unique words\n",
    "print(\"Number of words: \", ts.n_words(doc))\n",
    "print(\"Number of unique words: \", ts.n_unique_words(doc))\n",
    "\n",
    "# Entropy of words in the document- measures how much informations produced on the average of the word\n",
    "print(\"Entropy: \", ts.entropy(doc))\n",
    "\n",
    "# Compute the Type-Token Ratio (TTR) of doc_or_token,a direct ratio of the number of unique words (types) of all words (token)\n",
    "print(\"Diversity: \", ts.diversity.ttr(doc))\n",
    "\n",
    "# Flesch Kincaid grade level: readability tests designed to indicate how difficult a passage is\n",
    "print(\"Flesch Kincaid: \",ts.flesch_kincaid_grade_level(doc))\n"
   ]
  },
  {
   "cell_type": "markdown",
   "metadata": {},
   "source": [
    "## Splitting Document"
   ]
  },
  {
   "cell_type": "code",
   "execution_count": null,
   "metadata": {},
   "outputs": [],
   "source": [
    "doc = Document(page_content = document)\n",
    "split_docs = RecursiveCharacterTextSplitter().split_documents([doc])"
   ]
  },
  {
   "cell_type": "code",
   "execution_count": null,
   "metadata": {},
   "outputs": [],
   "source": [
    "# TEMPLATE - building regular expression to split the document to its section of\n",
    "\"\"\" I. INTRODUCTION\n",
    "II. BACKGROUND\n",
    "III. DISCUSSION\n",
    "IV. ORDERING CLAUSES\n",
    "\n",
    "\n",
    "import re\n",
    "from langchain.document import Document\n",
    "from langchain.splitter import RecursiveCharacterTextSplitter\n",
    "\n",
    "def section_level_split_with_titles(text):\n",
    "    # Define a regular expression to match section titles with Roman numerals\n",
    "    section_pattern = r'^([IVXLCDM]+)\\. ([A-Z\\s]+)$'\n",
    "    sections = []\n",
    "\n",
    "    # Find all matches for section titles and their corresponding content\n",
    "    for match in re.finditer(section_pattern, text, re.MULTILINE):\n",
    "        section_title = match.group(0)\n",
    "        section_content_start = match.end()\n",
    "        next_match = re.search(section_pattern, text[match.end():], re.MULTILINE)\n",
    "        section_content_end = next_match.start() if next_match else None\n",
    "        section_content = text[section_content_start:section_content_end].strip()\n",
    "        sections.append((section_title, section_content))\n",
    "\n",
    "    return sections\n",
    "\n",
    "# Example usage:\n",
    "file_path = \"path/to/your/document.txt\"\n",
    "with open(file_path, 'r', encoding='utf-8') as file:\n",
    "    document_text = file.read()\n",
    "\n",
    "sections = section_level_split_with_titles(document_text)\n",
    "\n",
    "# Create the main content by combining all section contents\n",
    "main_content = \"\\n\\n\".join(section_text for _, section_text in sections)\n",
    "\n",
    "doc = Document(page_content=main_content)\n",
    "split_docs = RecursiveCharacterTextSplitter().split_documents([doc])\n",
    "\n",
    "# Now you have the split documents in the split_docs list\n",
    "# You can process each split document further as needed \"\"\"\n"
   ]
  },
  {
   "cell_type": "markdown",
   "metadata": {},
   "source": [
    "## Building Schema - Orbital Environment"
   ]
  },
  {
   "cell_type": "markdown",
   "metadata": {},
   "source": [
    "need to specify object and gave example to get good extracting. giving either object description and example or just the example can be done but the resut produce is not as good"
   ]
  },
  {
   "cell_type": "code",
   "execution_count": null,
   "metadata": {},
   "outputs": [],
   "source": [
    "schema = Object(\n",
    "    id=\"orbital_environment\",\n",
    "    description=\"Orbital Environment of satellite constellation authorized by Federal Communications Commission (FCC)\",\n",
    "    attributes=[\n",
    "        Text(\n",
    "            id=\"company_name\",\n",
    "            description=\"The name of the company that sent the application to deploy or operate the satellite constellation\",\n",
    "            examples=[(\"In this Order and Declaratory Ruling, we grant the request of ViaSat, Inc.\", \"ViaSat, Inc.\")],\n",
    "        ),\n",
    "        Text(\n",
    "            id=\"orbit_type\",\n",
    "            description=\"The orbit type into which the satellites will be launched\",\n",
    "            examples=[(\"For the proposed of non-geostationary orbit (NGSO) satellite system.\", \"non-geostationary orbit (NGSO)\")],\n",
    "        ),\n",
    "        Text(\n",
    "            id=\"application\",\n",
    "            description=\"The application or services that the satellites would provide\",\n",
    "            examples=[(\"The satellites constellation as amended will provide fixed-satellite service (FSS).\", \"fixed-satellite service (FSS)\"),\n",
    "                      (\"We authorize them to continue and enhance its provision of mobile-satellite service (MSS)\", \"mobile-satellite service (MSS)\")],\n",
    "        ),\n",
    "        Text(\n",
    "            id=\"date_50\",\n",
    "            description=\"Date on which the company was ordered to launch and operate 50 percent of its satellites\",\n",
    "            examples=[(\"They must launch 50 percent of the maximum number of proposed space stations in accordane with the authorization no later than November 2, 2027.\", \"2 November 2027\")],\n",
    "        ),\n",
    "        Text(\n",
    "            id=\"date_100\",\n",
    "            description=\"Date on which the company was ordered to launch and operate the remaining (100 percent) of its satellites\",\n",
    "            examples=[(\"They also must launch the remaining space stations no later than November 2, 2030.\", \"2 November 2030\")],\n",
    "        ),\n",
    "        Number(\n",
    "            id=\"total_sat_const\",\n",
    "            description=\"TThe concluding total number of satellites that the company has been authorized to deploy and operate for the constellation\",\n",
    "            examples=[(\"As modified, the constellation will operate with four fewer satellites of 716 satellites\", \"716\")],\n",
    "        ),\n",
    "        Number(\n",
    "            id=\"altitude\",\n",
    "            description=\"The granted altitudes of the satellites that the company has been authorized to deploy\",\n",
    "            examples=[(\"These satellites will be placed at an altitudes of 590 kilometers\", \"590\")],\n",
    "        ),\n",
    "        Number(\n",
    "            id=\"inclination\",\n",
    "            description=\"The granted inclination of the satellites that the company has been authorized to deploy, respective to the altitudes\",\n",
    "            examples=[(\"The proposed orbital planes is at an 87.9 degree inclination\", \"87.9\")],\n",
    "        ),\n",
    "        Number(\n",
    "            id=\"number_orb_plane\",\n",
    "            description=\"The number of orbital planes, respective to the altitudes and inclination, that the company has been authorized to deploy\",\n",
    "            examples=[(\"The constellation would have 42 orbital planes\", \"42\")],\n",
    "        ),\n",
    "        Number(\n",
    "            id=\"total_sat_per_orb_plane\",\n",
    "            description=\"The specific count of satellites located in each individual orbital plane. This count refers to the total number of satellites within one orbital plane, and it can vary from plane to plane based on the altitude and inclination, and if not mentioned in text, 'total_sat_per_alt_incl' divide by 'number_orb_plane' will give this value\",\n",
    "            examples=[(\"Each orbital plane would have 36 satellites per plane\", \"36\")],\n",
    "        ),\n",
    "        Number(\n",
    "            id=\"total_sat_per_alt_incl\",\n",
    "            description=\"The total number of satellites at a specific altitude and inclination across all orbital planes sharing these characteristics. This count represents the overall number of satellites with the specified altitude and inclination parameters, and if not mentioned in the text, the multiplication of 'number_orb_plane' and 'total_sat_per_orb_plane' will give this value\",\n",
    "            examples=[(\"A total of 560 satellites at inclination of 33 degree and altitude of 800km will be placed.\", \"560\")],\n",
    "        ),\n",
    "        Text(\n",
    "            id=\"orbit_shape\",\n",
    "            description=\"The shape of the orbital plane whether its circular, elliptical or are not mention in the document\",\n",
    "            examples=[(\"The constellation will consist of satellites in a circular orbit\", \"circular\")],\n",
    "        ),\n",
    "    ],\n",
    "    examples=[\n",
    "        (\n",
    "           \n",
    "            \"\"\"In this Order and Authorization, we grant, to the extent set forth below, the request of Kuiper Systems LLC (Kuiper or Amazon) to deploy a non-geostationary satellite orbit (NGSO) system to provide service using certain Fixed-Satellite Service (FSS).\n",
    "                Operating 3,372 satellites in 98 orbital planes at altitudes of 590 km, 610 km, and 630 km in a circular orbit.\n",
    "                At 590 km, Kuiper plans 30 orbital planes with 28 satellites per plane for a total of 840 satellites at inclination of 33 degree.\n",
    "                At 610 km, Kuiper plans 42 orbital planes with 36 satellites per plane for a total of 1512 satellites at inclination of 42 degree.\n",
    "                At 630 km, Kuiper plans 30 orbital planes with 34 satellites per plane for a total of 1020 satellite at inclination of 51.9 degree.\n",
    "                It requires Kuiper to launch and operate 50 percent of its satellites no later than July 30, 2026, and Kuiper must launch the remaining space stations necessary to complete its authorized service constellation, place them in their assigned orbits, and operate each of them in accordance with the authorization no later than July 30, 2029.\"\"\",\n",
    "                \n",
    "            [\n",
    "            {\"company_name\": \"Kuiper Systems LLC\", \"orbit_type\": \"non-geostationary satellite orbit (NGSO)\", \"application\": \"Fixed-Satellite Service (FSS)\", \"date_50\": \"30 July 2026\", \"date_100\": \"30 July 2029\", \"total_sat_const\": 3372, \"altitude\": 590, \"inclination\": 33, \"number_orb_plane\": 30, \"total_sat_per_orb_plane\": 28, \"total_sat_per_alt_incl\": 840, \"orbit_shape\": \"circular\"},\n",
    "            {\"company_name\": \"Kuiper Systems LLC\", \"orbit_type\": \"non-geostationary satellite orbit (NGSO)\", \"application\": \"Fixed-Satellite Service (FSS)\", \"date_50\": \"30 July 2026\", \"date_100\": \"30 July 2029\", \"total_sat_const\": 3372, \"altitude\": 610, \"inclination\": 42, \"number_orb_plane\": 42, \"total_sat_per_orb_plane\": 36, \"total_sat_per_alt_incl\": 1512,\"orbit_shape\": \"circular\"},\n",
    "            {\"company_name\": \"Kuiper Systems LLC\", \"orbit_type\": \"non-geostationary satellite orbit (NGSO)\", \"application\": \"Fixed-Satellite Service (FSS)\", \"date_50\": \"30 July 2026\", \"date_100\": \"30 July 2029\", \"total_sat_const\": 3372, \"altitude\": 630, \"inclination\": 51.9, \"number_orb_plane\": 30, \"total_sat_per_orb_plane\": 34, \"total_sat_per_alt_incl\": 1020, \"orbit_shape\": \"circular\"}\n",
    "            ]\n",
    "        )\n",
    "    ],\n",
    "    many=True,\n",
    ")"
   ]
  },
  {
   "cell_type": "markdown",
   "metadata": {},
   "source": [
    "elaborate why it is important to use many= True"
   ]
  },
  {
   "cell_type": "markdown",
   "metadata": {},
   "source": [
    "it is important to get the examples right and very specific to that paricular attributes. dont combine or mix it up with other attributes"
   ]
  },
  {
   "cell_type": "code",
   "execution_count": null,
   "metadata": {},
   "outputs": [],
   "source": [
    "chain = create_extraction_chain(llm, schema)"
   ]
  },
  {
   "cell_type": "code",
   "execution_count": null,
   "metadata": {},
   "outputs": [],
   "source": [
    "print(chain.prompt.format_prompt(text=\"[user input]\").to_string())"
   ]
  },
  {
   "cell_type": "code",
   "execution_count": null,
   "metadata": {},
   "outputs": [],
   "source": [
    "#testing the date\n",
    "chain.run((\"Boeing must launch 50 percent of the maximum number of proposed space stations, place them in the assigned orbits, and operate them in accordance with this grant no later than November 12 2028, and must launch the remaining space stations necessary to complete its authorized service constellation, place them in their assigned orbits, and operate them in accordance with the authorization no later than May 16 2030.\"))"
   ]
  },
  {
   "cell_type": "code",
   "execution_count": null,
   "metadata": {},
   "outputs": [],
   "source": [
    "#testing company_name, total number of satellites\n",
    "chain.run((\"In this Order and Declaratory Ruling, we grant in part and defer in part the petition for declaratory ruling of WorldVu Satellites Limited (OneWeb) for modification of its grant of U.S. market access for a 720-satellite constellation authorized by the United Kingdom. As modified, the constellation will operate with four fewer satellites, reduced from 720 to 716 satellites.\"))"
   ]
  },
  {
   "cell_type": "code",
   "execution_count": null,
   "metadata": {},
   "outputs": [],
   "source": [
    "#testing orbit_type, application\n",
    "chain.run((\"In April 2016, OneWeb sought Commission approval for a non-geostationary satellite orbit (NGSO), fixed-satellite service (FSS) system designed “to provide high-speed, affordable broadband connectivity to anyone, anywhere” in the United States.\"))"
   ]
  },
  {
   "cell_type": "code",
   "execution_count": null,
   "metadata": {},
   "outputs": [],
   "source": [
    "#testing altitude, inclination, number _orbital_plane, number_satellites_per_plane\n",
    "chain.run((\"The proposed Telesat system consists of a constellation of 117 satellites in 11 orbital planes. 59 of the satellites will be place at 6 orbital planes, which are inclined 99.5 degrees, satellites will be at an approximate altitude of 1,000 kilometers. 58 of the satellites will be at other 5 planes, which are inclined 37.4 degrees will be at an approximate altitude of 1,248km. All of the satellites will be in a circular orbit.\"))"
   ]
  },
  {
   "cell_type": "markdown",
   "metadata": {},
   "source": [
    "CSVEncoder is produce more robust extraction than JSONEncoder.However if we want to do a nested objects or nested lists need to use JSONEncoder"
   ]
  },
  {
   "cell_type": "markdown",
   "metadata": {},
   "source": [
    "## Spare Part"
   ]
  },
  {
   "cell_type": "markdown",
   "metadata": {},
   "source": [
    "this one have maneuverable ad spin_stabilized "
   ]
  },
  {
   "cell_type": "code",
   "execution_count": null,
   "metadata": {},
   "outputs": [],
   "source": [
    "class OrbitEnv(BaseModel):\n",
    "    company_name: str = Field(\n",
    "        description=\"The name of the company that sent the application to deploy or operate the satellite constellation\",\n",
    "    )\n",
    "    orbit_type: str = Field(\n",
    "        description=\"The orbit type into which the satellites will be launched\"\n",
    "    )\n",
    "    application: str = Field(\n",
    "        description=\"The application or services that the satellites would provide\"\n",
    "    )\n",
    "    date_50: str = Field(\n",
    "        description=\"Date on which the company was ordered to launch and operate 50 percent of its satellites.\"\n",
    "    )\n",
    "    date_100: str = Field(\n",
    "        description=\"Date on which the company was ordered to launch and operate the remaining (100 percent) of its satellites\"\n",
    "    )\n",
    "    total_sat_const: int = Field(\n",
    "        description=\"The concluding total number of satellites that the company has been authorized to deploy and operate for the constellation\"\n",
    "    )\n",
    "    altitude: Optional[List[float]]= Field(\n",
    "        description=\"The granted altitudes of the satellites that the company has been authorized to deploy\"\n",
    "    )\n",
    "    inclination: Optional[List[float]] = Field(\n",
    "        description=\"The granted inclination of the satellites that the company has been authorized to deploy, respective to the altitudes\"\n",
    "    )\n",
    "    number_orb_plane: Optional[List[int]] = Field(\n",
    "        description=\"The number of orbital planes, respective to the altitudes and inclination, that the company has been authorized to deploy\"\n",
    "    )\n",
    "    total_sat_per_orb_plane: Optional[List[int]]= Field(\n",
    "        description=\"The specific count of satellites located in each individual orbital plane. This count refers to the total number of satellites within one orbital plane, and it can vary from plane to plane based on the altitude and inclination, and if not mentioned in text, 'total_sat_per_alt_incl' divide by 'number_orb_plane' will give this value\"\n",
    "    )\n",
    "    total_sat_per_alt_incl: Optional[List[int]] = Field(\n",
    "        description=\"The total number of satellites at a specific altitude and inclination across all orbital planes sharing these characteristics. This count represents the overall number of satellites with the specified altitude and inclination parameters, and if not mentioned in the text, the multiplication of 'number_orb_plane' and 'total_sat_per_orb_plane' will give this value\"\n",
    "    )\n",
    "    orbit_shape: Optional[str] = Field(\n",
    "        description=\"The shape of the orbital plane whether its circular, elliptical or are not mention in the document\"\n",
    "    )\n",
    "    operational_lifetime : Optional[str] = Field(\n",
    "        description=\"The operational lifetime of the satellite in the constellation in years\"\n",
    "    )\n",
    "    maneuverable: Optional[str] = Field(\n",
    "        description=\"The satellite having propulsion or can be maneuver. Return 'y' only if the satellite authorized have propulsion or are maneuverable\"\n",
    "    )\n",
    "    spin_stabilized:  Optional[str] = Field(\n",
    "        description=\"The satellites are spin-stabilized. Return 'y' only if satellite authorized have spin-stabilizer\"\n",
    "    )\n",
    "\n",
    "\n",
    "    @validator(\"company_name\", \"orbit_type\", \"application\", \"maneuverable\", \"spin_stabilized\")\n",
    "    def validate_name(cls, v):\n",
    "        if not re.match(\"^[a-zA-Z\\s().,-]*$\", v):\n",
    "            raise ValueError(\"The field can only contain alphabetic characters, spaces, parentheses, periods, commas and hyphen.\")\n",
    "        return v\n",
    "    \n",
    "    @validator(\"total_sat_const\", \"number_orb_plane\", \"total_sat_per_orb_plane\", \"total_sat_per_alt_incl\", \"operational_lifetime\")\n",
    "    def validate_whole_number(cls, v):\n",
    "        if isinstance(v, list):\n",
    "            if not all(isinstance(i, int) for i in v):\n",
    "                raise ValueError(\"All elements of the list must be whole numbers.\")\n",
    "        elif v is not None and not isinstance(v, int):\n",
    "            raise ValueError(\"The field must be a whole number.\")\n",
    "        return v\n",
    "\n",
    "    @validator(\"altitude\", \"inclination\")\n",
    "    def validate_number(cls, v):\n",
    "        if isinstance(v, list):\n",
    "            if not all(isinstance(i, (int, float)) for i in v):\n",
    "                raise ValueError(\"All elements of the list must be numbers (integer or decimal).\")\n",
    "        elif v is not None and not isinstance(v, (int, float)):\n",
    "            raise ValueError(\"The field must be a number (integer or decimal).\")\n",
    "        return v\n",
    "\n",
    "    @validator(\"orbit_shape\")\n",
    "    def validate_orbit_shape(cls, v):\n",
    "        if not re.match(\"^[a-zA-Z\\s]*$\", v):\n",
    "            raise ValueError(\"orbit_shape can only contain alphabetic characters and spaces.\")\n",
    "        return v\n"
   ]
  },
  {
   "cell_type": "code",
   "execution_count": null,
   "metadata": {},
   "outputs": [],
   "source": [
    "\"\"\"     @validator(\"date_50\", \"date_100\")\n",
    "    def validate_date(cls, v):\n",
    "        if not re.match(\"^[A-Za-z]+\\s[0-3]?[0-9],?\\s[0-9]{4}$\", v):\n",
    "            raise ValueError(\"The field must be a date in the format 'Month DD YYYY' or 'Month DD, YYYY'\")\n",
    "        return v \"\"\""
   ]
  },
  {
   "cell_type": "code",
   "execution_count": null,
   "metadata": {},
   "outputs": [],
   "source": [
    "# this is an attempt to only choose the row that have validated data\n",
    "\n",
    "\"\"\" # Validate the extracted data\n",
    "valid_data = []\n",
    "for item in document_extraction_results:\n",
    "    if isinstance(item, dict) and 'data' in item and 'orbitenv' in item['data']:\n",
    "        for data in item['data']['orbitenv']:\n",
    "            try:\n",
    "                valid_data.append(OrbitEnv(**data))\n",
    "            except ValidationError:\n",
    "                pass\n",
    "\n",
    "valid_data\n",
    " \"\"\""
   ]
  }
 ],
 "metadata": {
  "kernelspec": {
   "display_name": "nlp",
   "language": "python",
   "name": "python3"
  },
  "language_info": {
   "codemirror_mode": {
    "name": "ipython",
    "version": 3
   },
   "file_extension": ".py",
   "mimetype": "text/x-python",
   "name": "python",
   "nbconvert_exporter": "python",
   "pygments_lexer": "ipython3",
   "version": "3.9.17"
  },
  "orig_nbformat": 4
 },
 "nbformat": 4,
 "nbformat_minor": 2
}

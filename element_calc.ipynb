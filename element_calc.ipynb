{
 "cells": [
  {
   "cell_type": "markdown",
   "metadata": {},
   "source": [
    "### AIM\n",
    "These are several aim to achieve in this notebook:\n",
    "\n",
    "- upload the json\n",
    "- matching the array in column in 'Altitude' through 'Total Number of Satellite (per alt/incl)' - for the column that are None you just need to put 0 for all\n",
    "- Doing calculation on the column that needed the altitude , no of orbital plane and object in orbital plane\n",
    "- to fill in all the FSP column\n",
    " "
   ]
  },
  {
   "cell_type": "code",
   "execution_count": null,
   "metadata": {},
   "outputs": [],
   "source": [
    "import json \n",
    "\n",
    "# Ask user to define the path of the JSON file\n",
    "file_path = \"output/Kuiper_gpt3.5_data.json\""
   ]
  },
  {
   "cell_type": "code",
   "execution_count": null,
   "metadata": {},
   "outputs": [],
   "source": [
    "# Load the JSON file\n",
    "with open(file_path, \"r\") as file:\n",
    "    data = json.load(file)\n"
   ]
  },
  {
   "cell_type": "code",
   "execution_count": null,
   "metadata": {},
   "outputs": [],
   "source": [
    "data"
   ]
  },
  {
   "cell_type": "markdown",
   "metadata": {},
   "source": [
    "### Describing FSP 29 Columns"
   ]
  },
  {
   "cell_type": "markdown",
   "metadata": {},
   "source": [
    "\n",
    "1. cospar_id : comprise of the launch year,  a three-digit incrementing launch number of that year, and by three-letter code representing the sequential identifier of a piece in a launch (A-Z and then AA,AB...). i.e.; 2022001A \n",
    "2. rso_name : Name of Company, number of satellite in the costellation i.e.; Starlink 1 - Starlink 4410 \n",
    "3. so_type: plat (for platform which mean its an active payload - can extract when it mention satellite or any automatically plat for this case)\n",
    "    PLAT = Platform\n",
    "    DEB = Debris\n",
    "    R/B(1) = Rocket body, first stage\n",
    "    R/B(2) = Rocket body, second stage\n",
    "    DEB = Debris\n",
    "4. operationalstatus: 1 (operational, can be automaticlly populate)\n",
    "5. orbit_type: LEO (can be populated by looking at the NGO and the range number of the altitude)\n",
    "    LEO = 300 km to 2,000 km\n",
    "    MEO = 2,000 km to 35,786 km\n",
    "    GEO = 35,786 km\n",
    "6. application: comms (anywhere mention FSS (Fixed Satellite Service) - defined as a radiocommunication service or Bradband)(can be automatically populated)\n",
    "7. owner: companyName\n",
    "8. orbit_info_status: EA0 = object is still orbiting around the Earth - (can be automatically populated because this is Future Space Population)\n",
    "9. launch_date: can be when the document is released - further - distribute the launch the total_sat_const by the date_50 and date_100\n",
    "10. 0 : place holder column\n",
    "11. operations_date: will be the same as launch date in this case\n",
    "12. decay_date: will be the operations_date + operatioalLifetime\n",
    "13. mass\n",
    "14. maneuverable: Boolean y or n\n",
    "15. spin-stabilized: Boolean y or n\n",
    "16. period (minutes) - the formula in below is in seconds\n",
    "    \n",
    "    $ T =2π√(r^3/GM) $\n",
    "    \n",
    "    where: <br>\n",
    "        T = orbital period (seconds) <br>\n",
    "        r = semi-major axis (m) <br>\n",
    "        G = universal gravitational costant (6.674 x 10^-11 m^3/kgs^2) <br>\n",
    "        M = mass of earth (5.9722 x 10^24 kg)\n",
    "\n",
    "17. apogee_alt (km): altitude since the eccentricity will be close to 0\n",
    "18. perigee_alt (km): altitude since the eccentricity will be close to 0\n",
    "19. radar_cs (m^2)\n",
    "20. area (m^2)\n",
    "21. length (m)\n",
    "22. propulsion: electromagnetic (can find more in schedule S)\n",
    "23. orbit_epoch: will be the same as the launch date in this case\n",
    "24. a (semi-major axis): altitude + 6367 (spherical approximation of the earth)\n",
    "    \n",
    "    $ 2(r_E+r_p )/3 $\n",
    "\n",
    "    where: <br>\n",
    "        rE = equatorial radius <br>\n",
    "        rp = polar radius\n",
    "\n",
    "25. e (eccentricity): will be 0 (almost 0) as most of communication LEO satellite constellation are circular\n",
    "26. rad_inc: inclination in radian\n",
    "27. omega, ω: 0 as there are no perigee\n",
    "28. Omega, Ω: Right Ascension of the Ascending node (RAAN)\n",
    "        \n",
    "    $ 360^0/x $\n",
    "\n",
    "    where: <br>\n",
    "            x = number of orbital plane respective to its altitude and inclination\n",
    "\n",
    "19. TRAN, v: True Anomaly\n",
    "        \n",
    "    $ 360^0/x $\n",
    "\n",
    "    where: <br>\n",
    "            x = number of satellites in a particular orbital plane\n"
   ]
  },
  {
   "cell_type": "markdown",
   "metadata": {},
   "source": [
    "### Creating the column"
   ]
  },
  {
   "cell_type": "code",
   "execution_count": null,
   "metadata": {},
   "outputs": [],
   "source": [
    "#Fixed column (7)\n",
    "\n",
    "so_type = 'plat'\n",
    "operationalstatus = 1 \n",
    "orbit_info_status = 'E0A'\n",
    "ten = 0\n",
    "mass = 0 #still unsure how to handle mass\n",
    "radar_cs = 0 #maybe look at gen1\n",
    "area = 0 #maybe look at cubesat?\n",
    "length = 0 #maybe look at cubesat?\n",
    "propulsion = 0 #if its mention something that can put there if not (None) just put 0\n",
    "maneuverable = 'y'#but this depend if it mention maneuverable or propulsion\n",
    "spin_stabilized = 'y' #this can always be y\n",
    "apogee_alt = data['altitudes']\n",
    "perigee_alt = data['altitudes']\n",
    "a = data['altitudes'] + 6367\n",
    "\n",
    "\n"
   ]
  },
  {
   "cell_type": "code",
   "execution_count": null,
   "metadata": {},
   "outputs": [],
   "source": [
    "#Easy  column taking from the content of the json and easy calculation\n",
    "owner = data['constellationName'] # can do a google search for who owns the companyName - ans also companyName should just change to name of the constellaitons- using google search api or wikipedia api, or add finding compa name based on LLC\n",
    "launch_date, operations_date, orbit_epoch = data['release_date'] # can do a year after the release date of the document start, cut of at the date_100\n",
    "decay_date = int (data['releaseDate']) + int (data['operationalLifetime']) #this is if the operational_lifetime column are available\n"
   ]
  },
  {
   "cell_type": "code",
   "execution_count": null,
   "metadata": {},
   "outputs": [],
   "source": [
    "#Other column\n",
    "rso_name = data['constellationName'] #depending to the number of rows start with  # make an try if there more than one mode choose the less character\n",
    "orbit_type = #from NGSO and range of the number of altitude LEO (IF FUNCTION)\n",
    "application = #whenever theres FSS in it or mentioning of comms (IF FUNCTION)\n",
    "e = #if function if it says circular in data['orbShape'] than 0 or if its says FSS in data['application']\n",
    "i = \n"
   ]
  },
  {
   "cell_type": "code",
   "execution_count": null,
   "metadata": {},
   "outputs": [],
   "source": [
    "#column thtat needed complex calculation\n",
    "period = "
   ]
  },
  {
   "cell_type": "code",
   "execution_count": null,
   "metadata": {},
   "outputs": [],
   "source": [
    "#exporting the variable into .txt\n",
    "\n",
    "\n",
    "def generate_txt_content(values, repeat_column_index):\n",
    "    \"\"\"\n",
    "    Generate content for the .txt file based on provided values.\n",
    "    \n",
    "    :param values: List of 29 values for the columns.\n",
    "    :param repeat_column_index: Index of the column which determines the number of rows.\n",
    "    :return: Generated content for the .txt file.\n",
    "    \"\"\"\n",
    "    \n",
    "    # Create a single row using the provided values and tab as the delimiter\n",
    "    row = '\\t'.join(map(str, values))\n",
    "    \n",
    "    # Determine the number of times the row should be repeated based on the value of the specified column\n",
    "    repeat_count = int(values[repeat_column_index])\n",
    "    \n",
    "    # Create the content by repeating the row\n",
    "    content = (row + '\\n') * repeat_count\n",
    "    \n",
    "    return content\n",
    "\n",
    "# Return the structure for demonstration\n",
    "generate_txt_content(list(range(1, 30)), 0)  # Using numbers 1 to 29 as sample values and repeating based on the first column's value\n"
   ]
  }
 ],
 "metadata": {
  "kernelspec": {
   "display_name": "nlp",
   "language": "python",
   "name": "python3"
  },
  "language_info": {
   "codemirror_mode": {
    "name": "ipython",
    "version": 3
   },
   "file_extension": ".py",
   "mimetype": "text/x-python",
   "name": "python",
   "nbconvert_exporter": "python",
   "pygments_lexer": "ipython3",
   "version": "3.9.17"
  },
  "orig_nbformat": 4
 },
 "nbformat": 4,
 "nbformat_minor": 2
}

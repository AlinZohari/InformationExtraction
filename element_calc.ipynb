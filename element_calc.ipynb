{
 "cells": [
  {
   "cell_type": "markdown",
   "metadata": {},
   "source": [
    "### AIM\n",
    "These are several aim to achieve in this notebook:\n",
    "\n",
    "- upload the json\n",
    "- matching the array in column in 'Altitude' through 'Total Number of Satellite (per alt/incl)' - for the column that are None you just need to put 0 for all\n",
    "- Doing calculation on the column that needed the altitude , no of orbital plane and object in orbital plane\n",
    "- to fill in all the FSP column\n",
    " "
   ]
  },
  {
   "cell_type": "code",
   "execution_count": 1,
   "metadata": {},
   "outputs": [],
   "source": [
    "import json\n",
    "\n",
    "# Define the path of the JSON file\n",
    "file_path = \"output/Kuiper_data.json\"\n",
    "\n",
    "# Load the JSON file\n",
    "with open(file_path, \"r\") as file:\n",
    "    data = json.load(file)\n",
    "\n",
    "# Access the \"Altitudes\" data\n",
    "altitudes = data[\"Altitudes\"]\n"
   ]
  }
 ],
 "metadata": {
  "kernelspec": {
   "display_name": "nlp",
   "language": "python",
   "name": "python3"
  },
  "language_info": {
   "codemirror_mode": {
    "name": "ipython",
    "version": 3
   },
   "file_extension": ".py",
   "mimetype": "text/x-python",
   "name": "python",
   "nbconvert_exporter": "python",
   "pygments_lexer": "ipython3",
   "version": "3.9.17"
  },
  "orig_nbformat": 4
 },
 "nbformat": 4,
 "nbformat_minor": 2
}
